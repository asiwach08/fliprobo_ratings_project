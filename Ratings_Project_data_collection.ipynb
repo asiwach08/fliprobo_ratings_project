{
 "cells": [
  {
   "cell_type": "markdown",
   "metadata": {},
   "source": [
    "### Importing Libraries"
   ]
  },
  {
   "cell_type": "code",
   "execution_count": 1,
   "metadata": {},
   "outputs": [],
   "source": [
    "import selenium\n",
    "from selenium import webdriver\n",
    "import time\n",
    "from selenium.webdriver.common.keys import Keys\n",
    "from selenium.common.exceptions import NoSuchElementException, ElementClickInterceptedException\n",
    "import pandas as pd\n",
    "from termcolor import colored as cl\n",
    "from tqdm import tqdm\n",
    "from tqdm.notebook import tqdm_notebook"
   ]
  },
  {
   "cell_type": "markdown",
   "metadata": {},
   "source": [
    "### Collecting data of smartphones reviews"
   ]
  },
  {
   "cell_type": "code",
   "execution_count": 2,
   "metadata": {},
   "outputs": [],
   "source": [
    "# Calling webdriver and going to the url\n",
    "driver = webdriver.Chrome('chromedriver.exe')\n",
    "\n",
    "driver.get('https://www.amazon.in/')"
   ]
  },
  {
   "cell_type": "code",
   "execution_count": 3,
   "metadata": {},
   "outputs": [],
   "source": [
    "# Using search bar for finding the desired data to scrape for smartphones\n",
    "driver.find_element_by_xpath(\"//input[@id='twotabsearchtextbox']\").send_keys('smartphones',Keys.ENTER)\n"
   ]
  },
  {
   "cell_type": "code",
   "execution_count": 4,
   "metadata": {},
   "outputs": [
    {
     "data": {
      "application/vnd.jupyter.widget-view+json": {
       "model_id": "c40b8f086eb84878bcaf8f0bb65f6711",
       "version_major": 2,
       "version_minor": 0
      },
      "text/plain": [
       "HBox(children=(FloatProgress(value=0.0, max=2.0), HTML(value='')))"
      ]
     },
     "metadata": {},
     "output_type": "display_data"
    },
    {
     "name": "stdout",
     "output_type": "stream",
     "text": [
      "\n"
     ]
    }
   ],
   "source": [
    "# Create empty list to store product urls and then append urls into it\n",
    "product_url = []\n",
    "for i in tqdm_notebook(range(0,2)):\n",
    "    URLS = driver.find_elements_by_xpath(\"//div[@class='a-section a-spacing-none']/div/h2/a\")\n",
    "    for u in URLS:\n",
    "        product_url.append(u.get_attribute(\"href\"))\n",
    "    \n",
    "    # Going to next page for more urls\n",
    "    try:driver.find_element_by_xpath(\"//*[@id='search']/div[1]/div/div[1]/div/span[3]/div[2]/div[28]/span/div/div/ul/li[7]/a\").click()\n",
    "    except NoSuchElementException:\n",
    "        pass"
   ]
  },
  {
   "cell_type": "code",
   "execution_count": 5,
   "metadata": {},
   "outputs": [
    {
     "data": {
      "text/plain": [
       "44"
      ]
     },
     "execution_count": 5,
     "metadata": {},
     "output_type": "execute_result"
    }
   ],
   "source": [
    "len(product_url)"
   ]
  },
  {
   "cell_type": "code",
   "execution_count": 6,
   "metadata": {},
   "outputs": [],
   "source": [
    "# Creating empty list to store data of reviews and ratings\n",
    "reviews = []\n",
    "ratings = []"
   ]
  },
  {
   "cell_type": "code",
   "execution_count": 10,
   "metadata": {},
   "outputs": [
    {
     "data": {
      "application/vnd.jupyter.widget-view+json": {
       "model_id": "af827787826e479aafbd63d548a97140",
       "version_major": 2,
       "version_minor": 0
      },
      "text/plain": [
       "HBox(children=(FloatProgress(value=0.0, max=44.0), HTML(value='')))"
      ]
     },
     "metadata": {},
     "output_type": "display_data"
    },
    {
     "data": {
      "application/vnd.jupyter.widget-view+json": {
       "model_id": "cdeb0eb0c3d548468ec803487975b471",
       "version_major": 2,
       "version_minor": 0
      },
      "text/plain": [
       "HBox(children=(FloatProgress(value=0.0, max=30.0), HTML(value='')))"
      ]
     },
     "metadata": {},
     "output_type": "display_data"
    },
    {
     "name": "stdout",
     "output_type": "stream",
     "text": [
      "Scraping page 1 \n",
      "Scraping page 2 \n",
      "Scraping page 3 \n",
      "Scraping page 4 \n",
      "Scraping page 5 \n",
      "Scraping page 6 \n",
      "Scraping page 7 \n",
      "Scraping page 8 \n",
      "Scraping page 9 \n",
      "Scraping page 10 \n",
      "Scraping page 11 \n",
      "Scraping page 12 \n",
      "Scraping page 13 \n",
      "Scraping page 14 \n",
      "Scraping page 15 \n",
      "Scraping page 16 \n",
      "Scraping page 17 \n",
      "Scraping page 18 \n",
      "Scraping page 19 \n",
      "Scraping page 20 \n",
      "Scraping page 21 \n",
      "Scraping page 22 \n",
      "Scraping page 23 \n",
      "Scraping page 24 \n",
      "Scraping page 25 \n",
      "Scraping page 26 \n",
      "Scraping page 27 \n",
      "Scraping page 28 \n",
      "No more reviews\n",
      "Scraping page 29 \n",
      "No more reviews\n",
      "Scraping page 30 \n",
      "No more reviews\n",
      "\n"
     ]
    },
    {
     "data": {
      "application/vnd.jupyter.widget-view+json": {
       "model_id": "ded75e3f8c8145a28f0c6bc75f76b33f",
       "version_major": 2,
       "version_minor": 0
      },
      "text/plain": [
       "HBox(children=(FloatProgress(value=0.0, max=30.0), HTML(value='')))"
      ]
     },
     "metadata": {},
     "output_type": "display_data"
    },
    {
     "name": "stdout",
     "output_type": "stream",
     "text": [
      "Scraping page 1 \n",
      "Scraping page 2 \n",
      "Scraping page 3 \n",
      "Scraping page 4 \n",
      "Scraping page 5 \n",
      "Scraping page 6 \n",
      "Scraping page 7 \n",
      "Scraping page 8 \n",
      "Scraping page 9 \n",
      "Scraping page 10 \n",
      "Scraping page 11 \n",
      "Scraping page 12 \n",
      "Scraping page 13 \n",
      "Scraping page 14 \n",
      "Scraping page 15 \n",
      "Scraping page 16 \n",
      "Scraping page 17 \n",
      "Scraping page 18 \n",
      "Scraping page 19 \n",
      "Scraping page 20 \n",
      "Scraping page 21 \n",
      "Scraping page 22 \n",
      "Scraping page 23 \n",
      "Scraping page 24 \n",
      "Scraping page 25 \n",
      "Scraping page 26 \n",
      "Scraping page 27 \n",
      "Scraping page 28 \n",
      "Scraping page 29 \n",
      "Scraping page 30 \n",
      "\n"
     ]
    },
    {
     "data": {
      "application/vnd.jupyter.widget-view+json": {
       "model_id": "badf8c7e60474912a066156c41f91ab2",
       "version_major": 2,
       "version_minor": 0
      },
      "text/plain": [
       "HBox(children=(FloatProgress(value=0.0, max=30.0), HTML(value='')))"
      ]
     },
     "metadata": {},
     "output_type": "display_data"
    },
    {
     "name": "stdout",
     "output_type": "stream",
     "text": [
      "Scraping page 1 \n",
      "Scraping page 2 \n",
      "Scraping page 3 \n",
      "Scraping page 4 \n",
      "Scraping page 5 \n",
      "Scraping page 6 \n",
      "Scraping page 7 \n",
      "Scraping page 8 \n",
      "Scraping page 9 \n",
      "Scraping page 10 \n",
      "Scraping page 11 \n",
      "Scraping page 12 \n",
      "Scraping page 13 \n",
      "Scraping page 14 \n",
      "Scraping page 15 \n",
      "Scraping page 16 \n",
      "Scraping page 17 \n",
      "Scraping page 18 \n",
      "Scraping page 19 \n",
      "Scraping page 20 \n",
      "Scraping page 21 \n",
      "Scraping page 22 \n",
      "Scraping page 23 \n",
      "Scraping page 24 \n",
      "Scraping page 25 \n",
      "Scraping page 26 \n",
      "Scraping page 27 \n",
      "Scraping page 28 \n",
      "Scraping page 29 \n",
      "Scraping page 30 \n",
      "\n"
     ]
    },
    {
     "data": {
      "application/vnd.jupyter.widget-view+json": {
       "model_id": "f8d59bca9af44f1da942958d03f401e6",
       "version_major": 2,
       "version_minor": 0
      },
      "text/plain": [
       "HBox(children=(FloatProgress(value=0.0, max=30.0), HTML(value='')))"
      ]
     },
     "metadata": {},
     "output_type": "display_data"
    },
    {
     "name": "stdout",
     "output_type": "stream",
     "text": [
      "Scraping page 1 \n",
      "Scraping page 2 \n",
      "Scraping page 3 \n",
      "Scraping page 4 \n",
      "Scraping page 5 \n",
      "Scraping page 6 \n",
      "Scraping page 7 \n",
      "Scraping page 8 \n",
      "Scraping page 9 \n",
      "Scraping page 10 \n",
      "Scraping page 11 \n",
      "Scraping page 12 \n",
      "Scraping page 13 \n",
      "Scraping page 14 \n",
      "Scraping page 15 \n",
      "Scraping page 16 \n",
      "Scraping page 17 \n",
      "Scraping page 18 \n",
      "Scraping page 19 \n",
      "Scraping page 20 \n",
      "Scraping page 21 \n",
      "Scraping page 22 \n",
      "Scraping page 23 \n",
      "Scraping page 24 \n",
      "Scraping page 25 \n",
      "Scraping page 26 \n",
      "Scraping page 27 \n",
      "Scraping page 28 \n",
      "Scraping page 29 \n",
      "Scraping page 30 \n",
      "\n"
     ]
    },
    {
     "data": {
      "application/vnd.jupyter.widget-view+json": {
       "model_id": "029606a4c75c40fcb6d0c6c1eabd2a51",
       "version_major": 2,
       "version_minor": 0
      },
      "text/plain": [
       "HBox(children=(FloatProgress(value=0.0, max=30.0), HTML(value='')))"
      ]
     },
     "metadata": {},
     "output_type": "display_data"
    },
    {
     "name": "stdout",
     "output_type": "stream",
     "text": [
      "Scraping page 1 \n",
      "Scraping page 2 \n",
      "Scraping page 3 \n",
      "Scraping page 4 \n",
      "Scraping page 5 \n",
      "Scraping page 6 \n",
      "Scraping page 7 \n",
      "Scraping page 8 \n",
      "Scraping page 9 \n",
      "Scraping page 10 \n",
      "Scraping page 11 \n",
      "Scraping page 12 \n",
      "Scraping page 13 \n",
      "Scraping page 14 \n",
      "Scraping page 15 \n",
      "Scraping page 16 \n",
      "Scraping page 17 \n",
      "Scraping page 18 \n",
      "Scraping page 19 \n",
      "Scraping page 20 \n",
      "Scraping page 21 \n",
      "Scraping page 22 \n",
      "Scraping page 23 \n",
      "Scraping page 24 \n",
      "Scraping page 25 \n",
      "Scraping page 26 \n",
      "Scraping page 27 \n",
      "Scraping page 28 \n",
      "Scraping page 29 \n",
      "Scraping page 30 \n",
      "\n"
     ]
    },
    {
     "data": {
      "application/vnd.jupyter.widget-view+json": {
       "model_id": "5a4d2b90801d4f1793662ef387001452",
       "version_major": 2,
       "version_minor": 0
      },
      "text/plain": [
       "HBox(children=(FloatProgress(value=0.0, max=30.0), HTML(value='')))"
      ]
     },
     "metadata": {},
     "output_type": "display_data"
    },
    {
     "name": "stdout",
     "output_type": "stream",
     "text": [
      "Scraping page 1 \n",
      "Scraping page 2 \n",
      "Scraping page 3 \n",
      "Scraping page 4 \n",
      "Scraping page 5 \n",
      "Scraping page 6 \n",
      "Scraping page 7 \n",
      "Scraping page 8 \n",
      "Scraping page 9 \n",
      "Scraping page 10 \n",
      "Scraping page 11 \n",
      "Scraping page 12 \n",
      "Scraping page 13 \n",
      "Scraping page 14 \n",
      "Scraping page 15 \n",
      "Scraping page 16 \n",
      "Scraping page 17 \n",
      "Scraping page 18 \n",
      "Scraping page 19 \n",
      "Scraping page 20 \n",
      "Scraping page 21 \n",
      "Scraping page 22 \n",
      "Scraping page 23 \n",
      "Scraping page 24 \n",
      "Scraping page 25 \n",
      "Scraping page 26 \n",
      "Scraping page 27 \n",
      "Scraping page 28 \n",
      "Scraping page 29 \n",
      "Scraping page 30 \n",
      "\n"
     ]
    },
    {
     "data": {
      "application/vnd.jupyter.widget-view+json": {
       "model_id": "f9d225fd68f74f84a0bd5727d77d6093",
       "version_major": 2,
       "version_minor": 0
      },
      "text/plain": [
       "HBox(children=(FloatProgress(value=0.0, max=30.0), HTML(value='')))"
      ]
     },
     "metadata": {},
     "output_type": "display_data"
    },
    {
     "name": "stdout",
     "output_type": "stream",
     "text": [
      "Scraping page 1 \n",
      "Scraping page 2 \n",
      "Scraping page 3 \n",
      "Scraping page 4 \n",
      "Scraping page 5 \n",
      "Scraping page 6 \n",
      "Scraping page 7 \n",
      "Scraping page 8 \n",
      "Scraping page 9 \n",
      "Scraping page 10 \n",
      "Scraping page 11 \n",
      "Scraping page 12 \n",
      "Scraping page 13 \n",
      "Scraping page 14 \n",
      "Scraping page 15 \n",
      "Scraping page 16 \n",
      "Scraping page 17 \n",
      "Scraping page 18 \n",
      "Scraping page 19 \n",
      "Scraping page 20 \n",
      "Scraping page 21 \n",
      "Scraping page 22 \n",
      "Scraping page 23 \n",
      "Scraping page 24 \n",
      "Scraping page 25 \n",
      "Scraping page 26 \n",
      "Scraping page 27 \n",
      "Scraping page 28 \n",
      "Scraping page 29 \n",
      "Scraping page 30 \n",
      "\n"
     ]
    },
    {
     "data": {
      "application/vnd.jupyter.widget-view+json": {
       "model_id": "eb1a43f69d11432eaa6c0d5be9f4e896",
       "version_major": 2,
       "version_minor": 0
      },
      "text/plain": [
       "HBox(children=(FloatProgress(value=0.0, max=30.0), HTML(value='')))"
      ]
     },
     "metadata": {},
     "output_type": "display_data"
    },
    {
     "name": "stdout",
     "output_type": "stream",
     "text": [
      "Scraping page 1 \n",
      "Scraping page 2 \n",
      "Scraping page 3 \n",
      "Scraping page 4 \n",
      "Scraping page 5 \n",
      "Scraping page 6 \n",
      "Scraping page 7 \n",
      "Scraping page 8 \n",
      "Scraping page 9 \n",
      "Scraping page 10 \n",
      "Scraping page 11 \n",
      "Scraping page 12 \n",
      "Scraping page 13 \n",
      "Scraping page 14 \n",
      "Scraping page 15 \n",
      "Scraping page 16 \n",
      "Scraping page 17 \n",
      "Scraping page 18 \n",
      "Scraping page 19 \n",
      "Scraping page 20 \n",
      "Scraping page 21 \n",
      "Scraping page 22 \n",
      "Scraping page 23 \n",
      "Scraping page 24 \n",
      "Scraping page 25 \n",
      "Scraping page 26 \n",
      "Scraping page 27 \n",
      "Scraping page 28 \n",
      "Scraping page 29 \n",
      "Scraping page 30 \n",
      "\n"
     ]
    },
    {
     "data": {
      "application/vnd.jupyter.widget-view+json": {
       "model_id": "44b336bab1f447bdb36f0b5c50851493",
       "version_major": 2,
       "version_minor": 0
      },
      "text/plain": [
       "HBox(children=(FloatProgress(value=0.0, max=30.0), HTML(value='')))"
      ]
     },
     "metadata": {},
     "output_type": "display_data"
    },
    {
     "name": "stdout",
     "output_type": "stream",
     "text": [
      "Scraping page 1 \n",
      "Scraping page 2 \n",
      "Scraping page 3 \n",
      "Scraping page 4 \n",
      "Scraping page 5 \n",
      "Scraping page 6 \n",
      "Scraping page 7 \n",
      "Scraping page 8 \n",
      "Scraping page 9 \n",
      "Scraping page 10 \n",
      "Scraping page 11 \n",
      "Scraping page 12 \n",
      "Scraping page 13 \n",
      "Scraping page 14 \n",
      "Scraping page 15 \n",
      "Scraping page 16 \n",
      "Scraping page 17 \n",
      "Scraping page 18 \n",
      "Scraping page 19 \n",
      "Scraping page 20 \n",
      "Scraping page 21 \n",
      "Scraping page 22 \n",
      "Scraping page 23 \n",
      "Scraping page 24 \n",
      "Scraping page 25 \n",
      "Scraping page 26 \n",
      "Scraping page 27 \n",
      "Scraping page 28 \n",
      "Scraping page 29 \n",
      "Scraping page 30 \n",
      "\n"
     ]
    },
    {
     "data": {
      "application/vnd.jupyter.widget-view+json": {
       "model_id": "2548803ee05a4f0cb6b6a3a896f591e1",
       "version_major": 2,
       "version_minor": 0
      },
      "text/plain": [
       "HBox(children=(FloatProgress(value=0.0, max=30.0), HTML(value='')))"
      ]
     },
     "metadata": {},
     "output_type": "display_data"
    },
    {
     "name": "stdout",
     "output_type": "stream",
     "text": [
      "Scraping page 1 \n",
      "Scraping page 2 \n",
      "Scraping page 3 \n",
      "Scraping page 4 \n",
      "Scraping page 5 \n",
      "Scraping page 6 \n",
      "Scraping page 7 \n",
      "Scraping page 8 \n",
      "Scraping page 9 \n",
      "Scraping page 10 \n",
      "Scraping page 11 \n",
      "Scraping page 12 \n",
      "Scraping page 13 \n",
      "Scraping page 14 \n",
      "Scraping page 15 \n",
      "Scraping page 16 \n",
      "Scraping page 17 \n",
      "Scraping page 18 \n",
      "Scraping page 19 \n",
      "Scraping page 20 \n",
      "Scraping page 21 \n",
      "Scraping page 22 \n",
      "Scraping page 23 \n",
      "Scraping page 24 \n",
      "Scraping page 25 \n",
      "Scraping page 26 \n",
      "Scraping page 27 \n",
      "Scraping page 28 \n",
      "Scraping page 29 \n",
      "Scraping page 30 \n",
      "\n"
     ]
    },
    {
     "data": {
      "application/vnd.jupyter.widget-view+json": {
       "model_id": "b966c0d2842245249d4d2a978109ab03",
       "version_major": 2,
       "version_minor": 0
      },
      "text/plain": [
       "HBox(children=(FloatProgress(value=0.0, max=30.0), HTML(value='')))"
      ]
     },
     "metadata": {},
     "output_type": "display_data"
    },
    {
     "name": "stdout",
     "output_type": "stream",
     "text": [
      "Scraping page 1 \n",
      "Scraping page 2 \n",
      "Scraping page 3 \n",
      "Scraping page 4 \n",
      "Scraping page 5 \n",
      "Scraping page 6 \n",
      "Scraping page 7 \n",
      "Scraping page 8 \n",
      "Scraping page 9 \n",
      "Scraping page 10 \n",
      "Scraping page 11 \n",
      "Scraping page 12 \n",
      "Scraping page 13 \n",
      "Scraping page 14 \n",
      "Scraping page 15 \n",
      "Scraping page 16 \n",
      "No more reviews\n",
      "Scraping page 17 \n",
      "No more reviews\n",
      "Scraping page 18 \n",
      "No more reviews\n",
      "Scraping page 19 \n",
      "No more reviews\n",
      "Scraping page 20 \n",
      "No more reviews\n",
      "Scraping page 21 \n",
      "No more reviews\n",
      "Scraping page 22 \n",
      "No more reviews\n",
      "Scraping page 23 \n",
      "No more reviews\n",
      "Scraping page 24 \n",
      "No more reviews\n",
      "Scraping page 25 \n",
      "No more reviews\n",
      "Scraping page 26 \n",
      "No more reviews\n",
      "Scraping page 27 \n",
      "No more reviews\n",
      "Scraping page 28 \n",
      "No more reviews\n",
      "Scraping page 29 \n",
      "No more reviews\n",
      "Scraping page 30 \n",
      "No more reviews\n",
      "\n",
      "\u001b[2m\u001b[34mNo ratings available\u001b[0m\n",
      "\u001b[2m\u001b[32mNo more reviews\u001b[0m\n"
     ]
    },
    {
     "data": {
      "application/vnd.jupyter.widget-view+json": {
       "model_id": "b5057ad9dcfa414dadf9e7c74fec0c72",
       "version_major": 2,
       "version_minor": 0
      },
      "text/plain": [
       "HBox(children=(FloatProgress(value=0.0, max=30.0), HTML(value='')))"
      ]
     },
     "metadata": {},
     "output_type": "display_data"
    },
    {
     "name": "stdout",
     "output_type": "stream",
     "text": [
      "Scraping page 1 \n",
      "No more reviews\n",
      "Scraping page 2 \n",
      "No more reviews\n",
      "Scraping page 3 \n",
      "No more reviews\n",
      "Scraping page 4 \n",
      "No more reviews\n",
      "Scraping page 5 \n",
      "No more reviews\n",
      "Scraping page 6 \n",
      "No more reviews\n",
      "Scraping page 7 \n",
      "No more reviews\n",
      "Scraping page 8 \n",
      "No more reviews\n",
      "Scraping page 9 \n",
      "No more reviews\n",
      "Scraping page 10 \n",
      "No more reviews\n",
      "Scraping page 11 \n",
      "No more reviews\n",
      "Scraping page 12 \n",
      "No more reviews\n",
      "Scraping page 13 \n",
      "No more reviews\n",
      "Scraping page 14 \n",
      "No more reviews\n",
      "Scraping page 15 \n",
      "No more reviews\n",
      "Scraping page 16 \n",
      "No more reviews\n",
      "Scraping page 17 \n",
      "No more reviews\n",
      "Scraping page 18 \n",
      "No more reviews\n",
      "Scraping page 19 \n",
      "No more reviews\n",
      "Scraping page 20 \n",
      "No more reviews\n",
      "Scraping page 21 \n",
      "No more reviews\n",
      "Scraping page 22 \n",
      "No more reviews\n",
      "Scraping page 23 \n",
      "No more reviews\n",
      "Scraping page 24 \n",
      "No more reviews\n",
      "Scraping page 25 \n",
      "No more reviews\n",
      "Scraping page 26 \n",
      "No more reviews\n",
      "Scraping page 27 \n",
      "No more reviews\n",
      "Scraping page 28 \n",
      "No more reviews\n",
      "Scraping page 29 \n",
      "No more reviews\n",
      "Scraping page 30 \n",
      "No more reviews\n",
      "\n"
     ]
    },
    {
     "data": {
      "application/vnd.jupyter.widget-view+json": {
       "model_id": "0bd1617e124e4ac9b9d31faebbc50456",
       "version_major": 2,
       "version_minor": 0
      },
      "text/plain": [
       "HBox(children=(FloatProgress(value=0.0, max=30.0), HTML(value='')))"
      ]
     },
     "metadata": {},
     "output_type": "display_data"
    },
    {
     "name": "stdout",
     "output_type": "stream",
     "text": [
      "Scraping page 1 \n",
      "Scraping page 2 \n",
      "Scraping page 3 \n",
      "Scraping page 4 \n",
      "Scraping page 5 \n",
      "Scraping page 6 \n",
      "Scraping page 7 \n",
      "Scraping page 8 \n",
      "Scraping page 9 \n",
      "Scraping page 10 \n",
      "Scraping page 11 \n",
      "Scraping page 12 \n",
      "Scraping page 13 \n",
      "Scraping page 14 \n",
      "Scraping page 15 \n",
      "Scraping page 16 \n",
      "Scraping page 17 \n",
      "Scraping page 18 \n",
      "Scraping page 19 \n",
      "Scraping page 20 \n",
      "Scraping page 21 \n",
      "Scraping page 22 \n",
      "Scraping page 23 \n",
      "Scraping page 24 \n",
      "Scraping page 25 \n",
      "Scraping page 26 \n",
      "Scraping page 27 \n",
      "Scraping page 28 \n",
      "Scraping page 29 \n",
      "Scraping page 30 \n",
      "\n"
     ]
    },
    {
     "data": {
      "application/vnd.jupyter.widget-view+json": {
       "model_id": "8d8dc494c4bc45f6981c394a52f7a1c2",
       "version_major": 2,
       "version_minor": 0
      },
      "text/plain": [
       "HBox(children=(FloatProgress(value=0.0, max=30.0), HTML(value='')))"
      ]
     },
     "metadata": {},
     "output_type": "display_data"
    },
    {
     "name": "stdout",
     "output_type": "stream",
     "text": [
      "Scraping page 1 \n",
      "Scraping page 2 \n",
      "Scraping page 3 \n",
      "Scraping page 4 \n",
      "Scraping page 5 \n",
      "Scraping page 6 \n",
      "Scraping page 7 \n",
      "Scraping page 8 \n",
      "Scraping page 9 \n",
      "Scraping page 10 \n",
      "Scraping page 11 \n",
      "Scraping page 12 \n",
      "Scraping page 13 \n",
      "Scraping page 14 \n",
      "Scraping page 15 \n",
      "Scraping page 16 \n",
      "Scraping page 17 \n",
      "Scraping page 18 \n",
      "Scraping page 19 \n",
      "Scraping page 20 \n",
      "Scraping page 21 \n",
      "Scraping page 22 \n",
      "Scraping page 23 \n",
      "Scraping page 24 \n",
      "Scraping page 25 \n",
      "Scraping page 26 \n",
      "Scraping page 27 \n",
      "Scraping page 28 \n",
      "Scraping page 29 \n",
      "Scraping page 30 \n",
      "\n"
     ]
    },
    {
     "data": {
      "application/vnd.jupyter.widget-view+json": {
       "model_id": "5f878501323245658703be7d62b99378",
       "version_major": 2,
       "version_minor": 0
      },
      "text/plain": [
       "HBox(children=(FloatProgress(value=0.0, max=30.0), HTML(value='')))"
      ]
     },
     "metadata": {},
     "output_type": "display_data"
    },
    {
     "name": "stdout",
     "output_type": "stream",
     "text": [
      "Scraping page 1 \n",
      "Scraping page 2 \n",
      "Scraping page 3 \n",
      "Scraping page 4 \n",
      "Scraping page 5 \n",
      "Scraping page 6 \n",
      "Scraping page 7 \n",
      "Scraping page 8 \n",
      "Scraping page 9 \n",
      "Scraping page 10 \n",
      "Scraping page 11 \n",
      "Scraping page 12 \n",
      "Scraping page 13 \n",
      "Scraping page 14 \n",
      "Scraping page 15 \n",
      "Scraping page 16 \n",
      "Scraping page 17 \n",
      "Scraping page 18 \n",
      "Scraping page 19 \n",
      "Scraping page 20 \n",
      "Scraping page 21 \n",
      "Scraping page 22 \n",
      "Scraping page 23 \n",
      "Scraping page 24 \n",
      "Scraping page 25 \n",
      "Scraping page 26 \n",
      "Scraping page 27 \n",
      "Scraping page 28 \n",
      "Scraping page 29 \n",
      "Scraping page 30 \n",
      "\n"
     ]
    },
    {
     "data": {
      "application/vnd.jupyter.widget-view+json": {
       "model_id": "c3d8741b6bde4f80a68e808a93f744aa",
       "version_major": 2,
       "version_minor": 0
      },
      "text/plain": [
       "HBox(children=(FloatProgress(value=0.0, max=30.0), HTML(value='')))"
      ]
     },
     "metadata": {},
     "output_type": "display_data"
    },
    {
     "name": "stdout",
     "output_type": "stream",
     "text": [
      "Scraping page 1 \n",
      "Scraping page 2 \n",
      "Scraping page 3 \n",
      "Scraping page 4 \n",
      "Scraping page 5 \n",
      "Scraping page 6 \n",
      "Scraping page 7 \n",
      "Scraping page 8 \n",
      "Scraping page 9 \n",
      "Scraping page 10 \n",
      "Scraping page 11 \n",
      "Scraping page 12 \n",
      "Scraping page 13 \n",
      "Scraping page 14 \n",
      "Scraping page 15 \n",
      "Scraping page 16 \n",
      "Scraping page 17 \n",
      "Scraping page 18 \n",
      "Scraping page 19 \n",
      "Scraping page 20 \n",
      "Scraping page 21 \n",
      "Scraping page 22 \n",
      "Scraping page 23 \n",
      "Scraping page 24 \n",
      "Scraping page 25 \n",
      "Scraping page 26 \n",
      "Scraping page 27 \n",
      "Scraping page 28 \n",
      "Scraping page 29 \n",
      "Scraping page 30 \n",
      "\n"
     ]
    },
    {
     "data": {
      "application/vnd.jupyter.widget-view+json": {
       "model_id": "2db3fc7e2bf84fdcb88923244265ef6d",
       "version_major": 2,
       "version_minor": 0
      },
      "text/plain": [
       "HBox(children=(FloatProgress(value=0.0, max=30.0), HTML(value='')))"
      ]
     },
     "metadata": {},
     "output_type": "display_data"
    },
    {
     "name": "stdout",
     "output_type": "stream",
     "text": [
      "Scraping page 1 \n",
      "Scraping page 2 \n",
      "Scraping page 3 \n",
      "Scraping page 4 \n",
      "Scraping page 5 \n",
      "Scraping page 6 \n",
      "Scraping page 7 \n",
      "Scraping page 8 \n",
      "Scraping page 9 \n",
      "Scraping page 10 \n",
      "Scraping page 11 \n",
      "Scraping page 12 \n",
      "Scraping page 13 \n",
      "Scraping page 14 \n",
      "Scraping page 15 \n",
      "Scraping page 16 \n",
      "Scraping page 17 \n",
      "Scraping page 18 \n",
      "Scraping page 19 \n",
      "Scraping page 20 \n",
      "Scraping page 21 \n",
      "Scraping page 22 \n",
      "Scraping page 23 \n",
      "Scraping page 24 \n",
      "Scraping page 25 \n",
      "Scraping page 26 \n",
      "Scraping page 27 \n",
      "Scraping page 28 \n",
      "Scraping page 29 \n",
      "Scraping page 30 \n",
      "\n"
     ]
    },
    {
     "data": {
      "application/vnd.jupyter.widget-view+json": {
       "model_id": "0994ebe7409043dab22438e41168a4f3",
       "version_major": 2,
       "version_minor": 0
      },
      "text/plain": [
       "HBox(children=(FloatProgress(value=0.0, max=30.0), HTML(value='')))"
      ]
     },
     "metadata": {},
     "output_type": "display_data"
    },
    {
     "name": "stdout",
     "output_type": "stream",
     "text": [
      "Scraping page 1 \n",
      "Scraping page 2 \n",
      "Scraping page 3 \n",
      "Scraping page 4 \n",
      "Scraping page 5 \n",
      "Scraping page 6 \n",
      "Scraping page 7 \n",
      "Scraping page 8 \n",
      "Scraping page 9 \n",
      "Scraping page 10 \n",
      "Scraping page 11 \n",
      "Scraping page 12 \n",
      "Scraping page 13 \n",
      "Scraping page 14 \n",
      "Scraping page 15 \n",
      "Scraping page 16 \n",
      "Scraping page 17 \n",
      "Scraping page 18 \n",
      "Scraping page 19 \n",
      "Scraping page 20 \n",
      "Scraping page 21 \n",
      "Scraping page 22 \n",
      "Scraping page 23 \n",
      "Scraping page 24 \n",
      "Scraping page 25 \n",
      "Scraping page 26 \n",
      "Scraping page 27 \n",
      "Scraping page 28 \n",
      "Scraping page 29 \n",
      "Scraping page 30 \n",
      "\n"
     ]
    },
    {
     "data": {
      "application/vnd.jupyter.widget-view+json": {
       "model_id": "689d9d17717f4340b1a08d737a0b718c",
       "version_major": 2,
       "version_minor": 0
      },
      "text/plain": [
       "HBox(children=(FloatProgress(value=0.0, max=30.0), HTML(value='')))"
      ]
     },
     "metadata": {},
     "output_type": "display_data"
    },
    {
     "name": "stdout",
     "output_type": "stream",
     "text": [
      "Scraping page 1 \n",
      "No more reviews\n",
      "Scraping page 2 \n",
      "No more reviews\n",
      "Scraping page 3 \n",
      "No more reviews\n",
      "Scraping page 4 \n",
      "No more reviews\n",
      "Scraping page 5 \n",
      "No more reviews\n",
      "Scraping page 6 \n",
      "No more reviews\n",
      "Scraping page 7 \n",
      "No more reviews\n",
      "Scraping page 8 \n",
      "No more reviews\n",
      "Scraping page 9 \n",
      "No more reviews\n",
      "Scraping page 10 \n",
      "No more reviews\n",
      "Scraping page 11 \n",
      "No more reviews\n",
      "Scraping page 12 \n",
      "No more reviews\n",
      "Scraping page 13 \n",
      "No more reviews\n",
      "Scraping page 14 \n",
      "No more reviews\n",
      "Scraping page 15 \n",
      "No more reviews\n",
      "Scraping page 16 \n",
      "No more reviews\n",
      "Scraping page 17 \n",
      "No more reviews\n",
      "Scraping page 18 \n",
      "No more reviews\n",
      "Scraping page 19 \n",
      "No more reviews\n",
      "Scraping page 20 \n",
      "No more reviews\n",
      "Scraping page 21 \n",
      "No more reviews\n",
      "Scraping page 22 \n",
      "No more reviews\n",
      "Scraping page 23 \n",
      "No more reviews\n",
      "Scraping page 24 \n",
      "No more reviews\n",
      "Scraping page 25 \n",
      "No more reviews\n",
      "Scraping page 26 \n",
      "No more reviews\n",
      "Scraping page 27 \n",
      "No more reviews\n",
      "Scraping page 28 \n",
      "No more reviews\n",
      "Scraping page 29 \n",
      "No more reviews\n",
      "Scraping page 30 \n",
      "No more reviews\n",
      "\n",
      "\u001b[2m\u001b[34mNo ratings available\u001b[0m\n",
      "\u001b[2m\u001b[32mNo more reviews\u001b[0m\n"
     ]
    },
    {
     "data": {
      "application/vnd.jupyter.widget-view+json": {
       "model_id": "30b07547a7474159982879106ce1c7e9",
       "version_major": 2,
       "version_minor": 0
      },
      "text/plain": [
       "HBox(children=(FloatProgress(value=0.0, max=30.0), HTML(value='')))"
      ]
     },
     "metadata": {},
     "output_type": "display_data"
    },
    {
     "name": "stdout",
     "output_type": "stream",
     "text": [
      "Scraping page 1 \n",
      "No more reviews\n",
      "Scraping page 2 \n",
      "No more reviews\n",
      "Scraping page 3 \n",
      "No more reviews\n",
      "Scraping page 4 \n",
      "No more reviews\n",
      "Scraping page 5 \n",
      "No more reviews\n",
      "Scraping page 6 \n",
      "No more reviews\n",
      "Scraping page 7 \n",
      "No more reviews\n",
      "Scraping page 8 \n",
      "No more reviews\n",
      "Scraping page 9 \n",
      "No more reviews\n",
      "Scraping page 10 \n",
      "No more reviews\n",
      "Scraping page 11 \n",
      "No more reviews\n",
      "Scraping page 12 \n",
      "No more reviews\n",
      "Scraping page 13 \n",
      "No more reviews\n",
      "Scraping page 14 \n",
      "No more reviews\n",
      "Scraping page 15 \n",
      "No more reviews\n",
      "Scraping page 16 \n",
      "No more reviews\n",
      "Scraping page 17 \n",
      "No more reviews\n",
      "Scraping page 18 \n",
      "No more reviews\n",
      "Scraping page 19 \n",
      "No more reviews\n",
      "Scraping page 20 \n",
      "No more reviews\n",
      "Scraping page 21 \n",
      "No more reviews\n",
      "Scraping page 22 \n",
      "No more reviews\n",
      "Scraping page 23 \n",
      "No more reviews\n",
      "Scraping page 24 \n",
      "No more reviews\n",
      "Scraping page 25 \n",
      "No more reviews\n",
      "Scraping page 26 \n",
      "No more reviews\n",
      "Scraping page 27 \n",
      "No more reviews\n",
      "Scraping page 28 \n",
      "No more reviews\n",
      "Scraping page 29 \n",
      "No more reviews\n",
      "Scraping page 30 \n",
      "No more reviews\n",
      "\n"
     ]
    },
    {
     "data": {
      "application/vnd.jupyter.widget-view+json": {
       "model_id": "3f5bd974a5a34adf9af0066a9045efc5",
       "version_major": 2,
       "version_minor": 0
      },
      "text/plain": [
       "HBox(children=(FloatProgress(value=0.0, max=30.0), HTML(value='')))"
      ]
     },
     "metadata": {},
     "output_type": "display_data"
    },
    {
     "name": "stdout",
     "output_type": "stream",
     "text": [
      "Scraping page 1 \n",
      "Scraping page 2 \n",
      "Scraping page 3 \n",
      "Scraping page 4 \n",
      "Scraping page 5 \n",
      "Scraping page 6 \n",
      "Scraping page 7 \n",
      "Scraping page 8 \n",
      "Scraping page 9 \n",
      "Scraping page 10 \n",
      "Scraping page 11 \n",
      "Scraping page 12 \n",
      "Scraping page 13 \n",
      "Scraping page 14 \n",
      "Scraping page 15 \n",
      "Scraping page 16 \n",
      "Scraping page 17 \n",
      "Scraping page 18 \n",
      "Scraping page 19 \n",
      "Scraping page 20 \n",
      "Scraping page 21 \n",
      "Scraping page 22 \n",
      "Scraping page 23 \n",
      "Scraping page 24 \n",
      "Scraping page 25 \n",
      "Scraping page 26 \n",
      "Scraping page 27 \n",
      "Scraping page 28 \n",
      "Scraping page 29 \n",
      "Scraping page 30 \n",
      "\n",
      "\u001b[2m\u001b[34mNo ratings available\u001b[0m\n",
      "\u001b[2m\u001b[32mNo more reviews\u001b[0m\n"
     ]
    },
    {
     "data": {
      "application/vnd.jupyter.widget-view+json": {
       "model_id": "d8776efbf2ca4c32b99eefe0ebd44394",
       "version_major": 2,
       "version_minor": 0
      },
      "text/plain": [
       "HBox(children=(FloatProgress(value=0.0, max=30.0), HTML(value='')))"
      ]
     },
     "metadata": {},
     "output_type": "display_data"
    },
    {
     "name": "stdout",
     "output_type": "stream",
     "text": [
      "Scraping page 1 \n",
      "No more reviews\n",
      "Scraping page 2 \n",
      "No more reviews\n",
      "Scraping page 3 \n",
      "No more reviews\n",
      "Scraping page 4 \n",
      "No more reviews\n",
      "Scraping page 5 \n",
      "No more reviews\n",
      "Scraping page 6 \n",
      "No more reviews\n",
      "Scraping page 7 \n",
      "No more reviews\n",
      "Scraping page 8 \n",
      "No more reviews\n",
      "Scraping page 9 \n",
      "No more reviews\n",
      "Scraping page 10 \n",
      "No more reviews\n",
      "Scraping page 11 \n",
      "No more reviews\n",
      "Scraping page 12 \n",
      "No more reviews\n",
      "Scraping page 13 \n",
      "No more reviews\n",
      "Scraping page 14 \n",
      "No more reviews\n",
      "Scraping page 15 \n",
      "No more reviews\n",
      "Scraping page 16 \n",
      "No more reviews\n",
      "Scraping page 17 \n",
      "No more reviews\n",
      "Scraping page 18 \n",
      "No more reviews\n",
      "Scraping page 19 \n",
      "No more reviews\n",
      "Scraping page 20 \n",
      "No more reviews\n",
      "Scraping page 21 \n",
      "No more reviews\n",
      "Scraping page 22 \n",
      "No more reviews\n",
      "Scraping page 23 \n",
      "No more reviews\n",
      "Scraping page 24 \n",
      "No more reviews\n",
      "Scraping page 25 \n",
      "No more reviews\n",
      "Scraping page 26 \n",
      "No more reviews\n",
      "Scraping page 27 \n",
      "No more reviews\n",
      "Scraping page 28 \n",
      "No more reviews\n",
      "Scraping page 29 \n",
      "No more reviews\n",
      "Scraping page 30 \n",
      "No more reviews\n",
      "\n"
     ]
    },
    {
     "data": {
      "application/vnd.jupyter.widget-view+json": {
       "model_id": "1abfd30ef3644be7a83743d290a062ba",
       "version_major": 2,
       "version_minor": 0
      },
      "text/plain": [
       "HBox(children=(FloatProgress(value=0.0, max=30.0), HTML(value='')))"
      ]
     },
     "metadata": {},
     "output_type": "display_data"
    },
    {
     "name": "stdout",
     "output_type": "stream",
     "text": [
      "Scraping page 1 \n",
      "Scraping page 2 \n",
      "Scraping page 3 \n",
      "Scraping page 4 \n",
      "Scraping page 5 \n",
      "Scraping page 6 \n",
      "Scraping page 7 \n",
      "Scraping page 8 \n",
      "Scraping page 9 \n",
      "Scraping page 10 \n",
      "Scraping page 11 \n",
      "Scraping page 12 \n",
      "Scraping page 13 \n",
      "Scraping page 14 \n",
      "Scraping page 15 \n",
      "Scraping page 16 \n",
      "Scraping page 17 \n",
      "Scraping page 18 \n",
      "Scraping page 19 \n",
      "Scraping page 20 \n",
      "Scraping page 21 \n",
      "Scraping page 22 \n",
      "Scraping page 23 \n",
      "Scraping page 24 \n",
      "Scraping page 25 \n",
      "Scraping page 26 \n",
      "Scraping page 27 \n",
      "Scraping page 28 \n",
      "No more reviews\n",
      "Scraping page 29 \n",
      "No more reviews\n",
      "Scraping page 30 \n",
      "No more reviews\n",
      "\n"
     ]
    },
    {
     "data": {
      "application/vnd.jupyter.widget-view+json": {
       "model_id": "0fed6c4c753e44e48f4163bf43e8dbb4",
       "version_major": 2,
       "version_minor": 0
      },
      "text/plain": [
       "HBox(children=(FloatProgress(value=0.0, max=30.0), HTML(value='')))"
      ]
     },
     "metadata": {},
     "output_type": "display_data"
    },
    {
     "name": "stdout",
     "output_type": "stream",
     "text": [
      "Scraping page 1 \n",
      "Scraping page 2 \n",
      "Scraping page 3 \n",
      "Scraping page 4 \n",
      "Scraping page 5 \n",
      "Scraping page 6 \n",
      "Scraping page 7 \n",
      "Scraping page 8 \n",
      "Scraping page 9 \n",
      "Scraping page 10 \n",
      "Scraping page 11 \n",
      "Scraping page 12 \n",
      "Scraping page 13 \n",
      "Scraping page 14 \n",
      "Scraping page 15 \n",
      "Scraping page 16 \n",
      "Scraping page 17 \n",
      "Scraping page 18 \n",
      "Scraping page 19 \n",
      "Scraping page 20 \n",
      "Scraping page 21 \n",
      "Scraping page 22 \n",
      "Scraping page 23 \n",
      "Scraping page 24 \n",
      "Scraping page 25 \n",
      "Scraping page 26 \n",
      "Scraping page 27 \n",
      "Scraping page 28 \n",
      "Scraping page 29 \n",
      "Scraping page 30 \n",
      "\n"
     ]
    },
    {
     "data": {
      "application/vnd.jupyter.widget-view+json": {
       "model_id": "4b8a2621667b4a68a0ba15e762fab0d4",
       "version_major": 2,
       "version_minor": 0
      },
      "text/plain": [
       "HBox(children=(FloatProgress(value=0.0, max=30.0), HTML(value='')))"
      ]
     },
     "metadata": {},
     "output_type": "display_data"
    },
    {
     "name": "stdout",
     "output_type": "stream",
     "text": [
      "Scraping page 1 \n",
      "Scraping page 2 \n",
      "Scraping page 3 \n",
      "Scraping page 4 \n",
      "Scraping page 5 \n",
      "Scraping page 6 \n",
      "Scraping page 7 \n",
      "Scraping page 8 \n",
      "Scraping page 9 \n",
      "Scraping page 10 \n",
      "Scraping page 11 \n",
      "Scraping page 12 \n",
      "Scraping page 13 \n",
      "Scraping page 14 \n",
      "Scraping page 15 \n",
      "Scraping page 16 \n",
      "Scraping page 17 \n",
      "Scraping page 18 \n",
      "Scraping page 19 \n",
      "Scraping page 20 \n",
      "Scraping page 21 \n",
      "Scraping page 22 \n",
      "Scraping page 23 \n",
      "Scraping page 24 \n",
      "Scraping page 25 \n",
      "Scraping page 26 \n",
      "Scraping page 27 \n",
      "Scraping page 28 \n",
      "Scraping page 29 \n",
      "Scraping page 30 \n",
      "\n"
     ]
    },
    {
     "data": {
      "application/vnd.jupyter.widget-view+json": {
       "model_id": "a7ab0b9770874e51a9fd8fa560961653",
       "version_major": 2,
       "version_minor": 0
      },
      "text/plain": [
       "HBox(children=(FloatProgress(value=0.0, max=30.0), HTML(value='')))"
      ]
     },
     "metadata": {},
     "output_type": "display_data"
    },
    {
     "name": "stdout",
     "output_type": "stream",
     "text": [
      "Scraping page 1 \n",
      "Scraping page 2 \n",
      "Scraping page 3 \n",
      "Scraping page 4 \n",
      "Scraping page 5 \n",
      "Scraping page 6 \n",
      "Scraping page 7 \n",
      "Scraping page 8 \n",
      "Scraping page 9 \n",
      "Scraping page 10 \n",
      "Scraping page 11 \n",
      "Scraping page 12 \n",
      "Scraping page 13 \n",
      "Scraping page 14 \n",
      "Scraping page 15 \n",
      "Scraping page 16 \n",
      "Scraping page 17 \n",
      "Scraping page 18 \n",
      "Scraping page 19 \n",
      "Scraping page 20 \n",
      "Scraping page 21 \n",
      "Scraping page 22 \n",
      "Scraping page 23 \n",
      "Scraping page 24 \n",
      "Scraping page 25 \n",
      "Scraping page 26 \n",
      "Scraping page 27 \n",
      "Scraping page 28 \n",
      "Scraping page 29 \n",
      "Scraping page 30 \n",
      "\n"
     ]
    },
    {
     "data": {
      "application/vnd.jupyter.widget-view+json": {
       "model_id": "5decb94fa1734d7b8150d6637219adda",
       "version_major": 2,
       "version_minor": 0
      },
      "text/plain": [
       "HBox(children=(FloatProgress(value=0.0, max=30.0), HTML(value='')))"
      ]
     },
     "metadata": {},
     "output_type": "display_data"
    },
    {
     "name": "stdout",
     "output_type": "stream",
     "text": [
      "Scraping page 1 \n",
      "Scraping page 2 \n",
      "Scraping page 3 \n",
      "Scraping page 4 \n",
      "Scraping page 5 \n",
      "Scraping page 6 \n",
      "Scraping page 7 \n",
      "Scraping page 8 \n",
      "Scraping page 9 \n",
      "Scraping page 10 \n",
      "Scraping page 11 \n",
      "Scraping page 12 \n",
      "Scraping page 13 \n",
      "Scraping page 14 \n",
      "Scraping page 15 \n",
      "Scraping page 16 \n",
      "Scraping page 17 \n",
      "Scraping page 18 \n",
      "Scraping page 19 \n",
      "Scraping page 20 \n",
      "Scraping page 21 \n",
      "Scraping page 22 \n",
      "Scraping page 23 \n",
      "Scraping page 24 \n",
      "Scraping page 25 \n",
      "Scraping page 26 \n",
      "Scraping page 27 \n",
      "Scraping page 28 \n",
      "Scraping page 29 \n",
      "Scraping page 30 \n",
      "\n"
     ]
    },
    {
     "data": {
      "application/vnd.jupyter.widget-view+json": {
       "model_id": "f372ce1492374a1cb646cbe88a19f653",
       "version_major": 2,
       "version_minor": 0
      },
      "text/plain": [
       "HBox(children=(FloatProgress(value=0.0, max=30.0), HTML(value='')))"
      ]
     },
     "metadata": {},
     "output_type": "display_data"
    },
    {
     "name": "stdout",
     "output_type": "stream",
     "text": [
      "Scraping page 1 \n",
      "Scraping page 2 \n",
      "Scraping page 3 \n",
      "Scraping page 4 \n",
      "Scraping page 5 \n",
      "Scraping page 6 \n",
      "Scraping page 7 \n",
      "Scraping page 8 \n",
      "Scraping page 9 \n",
      "Scraping page 10 \n",
      "Scraping page 11 \n",
      "Scraping page 12 \n",
      "Scraping page 13 \n",
      "Scraping page 14 \n",
      "Scraping page 15 \n",
      "Scraping page 16 \n",
      "Scraping page 17 \n",
      "Scraping page 18 \n",
      "Scraping page 19 \n",
      "Scraping page 20 \n",
      "Scraping page 21 \n",
      "Scraping page 22 \n",
      "Scraping page 23 \n",
      "Scraping page 24 \n",
      "Scraping page 25 \n",
      "Scraping page 26 \n",
      "Scraping page 27 \n",
      "Scraping page 28 \n",
      "Scraping page 29 \n",
      "Scraping page 30 \n",
      "\n"
     ]
    },
    {
     "data": {
      "application/vnd.jupyter.widget-view+json": {
       "model_id": "8229559e682641b7b25f68bff7402d50",
       "version_major": 2,
       "version_minor": 0
      },
      "text/plain": [
       "HBox(children=(FloatProgress(value=0.0, max=30.0), HTML(value='')))"
      ]
     },
     "metadata": {},
     "output_type": "display_data"
    },
    {
     "name": "stdout",
     "output_type": "stream",
     "text": [
      "Scraping page 1 \n",
      "Scraping page 2 \n",
      "Scraping page 3 \n",
      "Scraping page 4 \n",
      "Scraping page 5 \n",
      "Scraping page 6 \n",
      "Scraping page 7 \n",
      "Scraping page 8 \n",
      "Scraping page 9 \n",
      "Scraping page 10 \n",
      "Scraping page 11 \n",
      "Scraping page 12 \n",
      "Scraping page 13 \n",
      "Scraping page 14 \n",
      "Scraping page 15 \n",
      "Scraping page 16 \n",
      "Scraping page 17 \n",
      "Scraping page 18 \n",
      "Scraping page 19 \n",
      "Scraping page 20 \n",
      "Scraping page 21 \n",
      "Scraping page 22 \n",
      "Scraping page 23 \n",
      "Scraping page 24 \n",
      "Scraping page 25 \n",
      "Scraping page 26 \n",
      "Scraping page 27 \n",
      "Scraping page 28 \n",
      "Scraping page 29 \n",
      "Scraping page 30 \n",
      "\n"
     ]
    },
    {
     "data": {
      "application/vnd.jupyter.widget-view+json": {
       "model_id": "25a5065de9e340db93e0bb9ab0562cf3",
       "version_major": 2,
       "version_minor": 0
      },
      "text/plain": [
       "HBox(children=(FloatProgress(value=0.0, max=30.0), HTML(value='')))"
      ]
     },
     "metadata": {},
     "output_type": "display_data"
    },
    {
     "name": "stdout",
     "output_type": "stream",
     "text": [
      "Scraping page 1 \n",
      "Scraping page 2 \n",
      "Scraping page 3 \n",
      "Scraping page 4 \n",
      "Scraping page 5 \n",
      "Scraping page 6 \n",
      "Scraping page 7 \n",
      "Scraping page 8 \n",
      "Scraping page 9 \n",
      "Scraping page 10 \n",
      "Scraping page 11 \n",
      "Scraping page 12 \n",
      "Scraping page 13 \n",
      "Scraping page 14 \n",
      "Scraping page 15 \n",
      "Scraping page 16 \n",
      "Scraping page 17 \n",
      "Scraping page 18 \n",
      "Scraping page 19 \n",
      "Scraping page 20 \n",
      "Scraping page 21 \n",
      "Scraping page 22 \n",
      "Scraping page 23 \n",
      "Scraping page 24 \n",
      "Scraping page 25 \n",
      "Scraping page 26 \n",
      "Scraping page 27 \n",
      "Scraping page 28 \n",
      "Scraping page 29 \n",
      "Scraping page 30 \n",
      "\n"
     ]
    },
    {
     "data": {
      "application/vnd.jupyter.widget-view+json": {
       "model_id": "86a0889b513940c481eb35668aa8bb58",
       "version_major": 2,
       "version_minor": 0
      },
      "text/plain": [
       "HBox(children=(FloatProgress(value=0.0, max=30.0), HTML(value='')))"
      ]
     },
     "metadata": {},
     "output_type": "display_data"
    },
    {
     "name": "stdout",
     "output_type": "stream",
     "text": [
      "Scraping page 1 \n",
      "Scraping page 2 \n",
      "Scraping page 3 \n",
      "Scraping page 4 \n",
      "Scraping page 5 \n",
      "Scraping page 6 \n",
      "Scraping page 7 \n",
      "Scraping page 8 \n",
      "Scraping page 9 \n",
      "Scraping page 10 \n",
      "Scraping page 11 \n",
      "Scraping page 12 \n",
      "Scraping page 13 \n",
      "Scraping page 14 \n",
      "Scraping page 15 \n",
      "Scraping page 16 \n",
      "Scraping page 17 \n",
      "Scraping page 18 \n",
      "Scraping page 19 \n",
      "Scraping page 20 \n",
      "Scraping page 21 \n",
      "Scraping page 22 \n",
      "Scraping page 23 \n",
      "Scraping page 24 \n",
      "Scraping page 25 \n",
      "Scraping page 26 \n",
      "Scraping page 27 \n",
      "Scraping page 28 \n",
      "Scraping page 29 \n",
      "Scraping page 30 \n",
      "\n"
     ]
    },
    {
     "data": {
      "application/vnd.jupyter.widget-view+json": {
       "model_id": "a50b07fd97fc4f8fa74112d9528ee199",
       "version_major": 2,
       "version_minor": 0
      },
      "text/plain": [
       "HBox(children=(FloatProgress(value=0.0, max=30.0), HTML(value='')))"
      ]
     },
     "metadata": {},
     "output_type": "display_data"
    },
    {
     "name": "stdout",
     "output_type": "stream",
     "text": [
      "Scraping page 1 \n",
      "Scraping page 2 \n",
      "Scraping page 3 \n",
      "Scraping page 4 \n",
      "Scraping page 5 \n",
      "Scraping page 6 \n",
      "Scraping page 7 \n",
      "Scraping page 8 \n",
      "Scraping page 9 \n",
      "Scraping page 10 \n",
      "Scraping page 11 \n",
      "Scraping page 12 \n",
      "Scraping page 13 \n",
      "Scraping page 14 \n",
      "Scraping page 15 \n",
      "Scraping page 16 \n",
      "Scraping page 17 \n",
      "Scraping page 18 \n",
      "Scraping page 19 \n",
      "Scraping page 20 \n",
      "Scraping page 21 \n",
      "Scraping page 22 \n",
      "Scraping page 23 \n",
      "Scraping page 24 \n",
      "Scraping page 25 \n",
      "Scraping page 26 \n",
      "Scraping page 27 \n",
      "Scraping page 28 \n",
      "Scraping page 29 \n",
      "Scraping page 30 \n",
      "\n"
     ]
    },
    {
     "data": {
      "application/vnd.jupyter.widget-view+json": {
       "model_id": "5e599ebf3d8f481cb41e39262c00faea",
       "version_major": 2,
       "version_minor": 0
      },
      "text/plain": [
       "HBox(children=(FloatProgress(value=0.0, max=30.0), HTML(value='')))"
      ]
     },
     "metadata": {},
     "output_type": "display_data"
    },
    {
     "name": "stdout",
     "output_type": "stream",
     "text": [
      "Scraping page 1 \n",
      "Scraping page 2 \n",
      "Scraping page 3 \n",
      "Scraping page 4 \n",
      "Scraping page 5 \n",
      "Scraping page 6 \n",
      "Scraping page 7 \n",
      "Scraping page 8 \n",
      "Scraping page 9 \n",
      "Scraping page 10 \n",
      "Scraping page 11 \n",
      "Scraping page 12 \n",
      "Scraping page 13 \n",
      "Scraping page 14 \n",
      "Scraping page 15 \n",
      "Scraping page 16 \n",
      "No more reviews\n",
      "Scraping page 17 \n",
      "No more reviews\n",
      "Scraping page 18 \n",
      "No more reviews\n",
      "Scraping page 19 \n",
      "No more reviews\n",
      "Scraping page 20 \n",
      "No more reviews\n",
      "Scraping page 21 \n",
      "No more reviews\n",
      "Scraping page 22 \n",
      "No more reviews\n",
      "Scraping page 23 \n",
      "No more reviews\n",
      "Scraping page 24 \n",
      "No more reviews\n",
      "Scraping page 25 \n",
      "No more reviews\n",
      "Scraping page 26 \n",
      "No more reviews\n",
      "Scraping page 27 \n",
      "No more reviews\n",
      "Scraping page 28 \n",
      "No more reviews\n",
      "Scraping page 29 \n",
      "No more reviews\n",
      "Scraping page 30 \n",
      "No more reviews\n",
      "\n",
      "\u001b[2m\u001b[34mNo ratings available\u001b[0m\n",
      "\u001b[2m\u001b[32mNo more reviews\u001b[0m\n"
     ]
    },
    {
     "data": {
      "application/vnd.jupyter.widget-view+json": {
       "model_id": "56e93a5930794284b57d93ec3665567c",
       "version_major": 2,
       "version_minor": 0
      },
      "text/plain": [
       "HBox(children=(FloatProgress(value=0.0, max=30.0), HTML(value='')))"
      ]
     },
     "metadata": {},
     "output_type": "display_data"
    },
    {
     "name": "stdout",
     "output_type": "stream",
     "text": [
      "Scraping page 1 \n",
      "No more reviews\n",
      "Scraping page 2 \n",
      "No more reviews\n",
      "Scraping page 3 \n",
      "No more reviews\n",
      "Scraping page 4 \n",
      "No more reviews\n",
      "Scraping page 5 \n",
      "No more reviews\n",
      "Scraping page 6 \n",
      "No more reviews\n",
      "Scraping page 7 \n",
      "No more reviews\n",
      "Scraping page 8 \n",
      "No more reviews\n",
      "Scraping page 9 \n",
      "No more reviews\n",
      "Scraping page 10 \n",
      "No more reviews\n",
      "Scraping page 11 \n",
      "No more reviews\n",
      "Scraping page 12 \n",
      "No more reviews\n",
      "Scraping page 13 \n",
      "No more reviews\n",
      "Scraping page 14 \n",
      "No more reviews\n",
      "Scraping page 15 \n",
      "No more reviews\n",
      "Scraping page 16 \n",
      "No more reviews\n",
      "Scraping page 17 \n",
      "No more reviews\n",
      "Scraping page 18 \n",
      "No more reviews\n",
      "Scraping page 19 \n",
      "No more reviews\n",
      "Scraping page 20 \n",
      "No more reviews\n",
      "Scraping page 21 \n",
      "No more reviews\n",
      "Scraping page 22 \n",
      "No more reviews\n",
      "Scraping page 23 \n",
      "No more reviews\n",
      "Scraping page 24 \n",
      "No more reviews\n",
      "Scraping page 25 \n",
      "No more reviews\n",
      "Scraping page 26 \n",
      "No more reviews\n",
      "Scraping page 27 \n",
      "No more reviews\n",
      "Scraping page 28 \n",
      "No more reviews\n",
      "Scraping page 29 \n",
      "No more reviews\n",
      "Scraping page 30 \n",
      "No more reviews\n",
      "\n"
     ]
    },
    {
     "data": {
      "application/vnd.jupyter.widget-view+json": {
       "model_id": "decadc5ec2454cd5b353a982ad83f762",
       "version_major": 2,
       "version_minor": 0
      },
      "text/plain": [
       "HBox(children=(FloatProgress(value=0.0, max=30.0), HTML(value='')))"
      ]
     },
     "metadata": {},
     "output_type": "display_data"
    },
    {
     "name": "stdout",
     "output_type": "stream",
     "text": [
      "Scraping page 1 \n",
      "Scraping page 2 \n",
      "Scraping page 3 \n",
      "Scraping page 4 \n",
      "Scraping page 5 \n",
      "Scraping page 6 \n",
      "Scraping page 7 \n",
      "Scraping page 8 \n",
      "Scraping page 9 \n",
      "Scraping page 10 \n",
      "Scraping page 11 \n",
      "Scraping page 12 \n",
      "Scraping page 13 \n",
      "Scraping page 14 \n",
      "Scraping page 15 \n",
      "Scraping page 16 \n",
      "Scraping page 17 \n",
      "Scraping page 18 \n",
      "Scraping page 19 \n",
      "Scraping page 20 \n",
      "Scraping page 21 \n",
      "Scraping page 22 \n",
      "Scraping page 23 \n",
      "Scraping page 24 \n",
      "Scraping page 25 \n",
      "Scraping page 26 \n",
      "Scraping page 27 \n",
      "Scraping page 28 \n",
      "Scraping page 29 \n",
      "Scraping page 30 \n",
      "\n"
     ]
    },
    {
     "data": {
      "application/vnd.jupyter.widget-view+json": {
       "model_id": "3990a7ade2194fdcbaa9357cee0e1c9c",
       "version_major": 2,
       "version_minor": 0
      },
      "text/plain": [
       "HBox(children=(FloatProgress(value=0.0, max=30.0), HTML(value='')))"
      ]
     },
     "metadata": {},
     "output_type": "display_data"
    },
    {
     "name": "stdout",
     "output_type": "stream",
     "text": [
      "Scraping page 1 \n",
      "Scraping page 2 \n",
      "Scraping page 3 \n",
      "Scraping page 4 \n",
      "Scraping page 5 \n",
      "Scraping page 6 \n",
      "Scraping page 7 \n",
      "Scraping page 8 \n",
      "Scraping page 9 \n",
      "Scraping page 10 \n",
      "Scraping page 11 \n",
      "Scraping page 12 \n",
      "Scraping page 13 \n",
      "Scraping page 14 \n",
      "Scraping page 15 \n",
      "Scraping page 16 \n",
      "Scraping page 17 \n",
      "Scraping page 18 \n",
      "Scraping page 19 \n",
      "Scraping page 20 \n",
      "Scraping page 21 \n",
      "Scraping page 22 \n",
      "Scraping page 23 \n",
      "Scraping page 24 \n",
      "Scraping page 25 \n",
      "Scraping page 26 \n",
      "Scraping page 27 \n",
      "Scraping page 28 \n",
      "Scraping page 29 \n",
      "Scraping page 30 \n",
      "\n"
     ]
    },
    {
     "data": {
      "application/vnd.jupyter.widget-view+json": {
       "model_id": "58939d3443d94ed4959943011e6642b0",
       "version_major": 2,
       "version_minor": 0
      },
      "text/plain": [
       "HBox(children=(FloatProgress(value=0.0, max=30.0), HTML(value='')))"
      ]
     },
     "metadata": {},
     "output_type": "display_data"
    },
    {
     "name": "stdout",
     "output_type": "stream",
     "text": [
      "Scraping page 1 \n",
      "Scraping page 2 \n",
      "Scraping page 3 \n",
      "Scraping page 4 \n",
      "Scraping page 5 \n",
      "Scraping page 6 \n",
      "Scraping page 7 \n",
      "Scraping page 8 \n",
      "Scraping page 9 \n",
      "Scraping page 10 \n",
      "Scraping page 11 \n",
      "Scraping page 12 \n",
      "Scraping page 13 \n",
      "Scraping page 14 \n",
      "Scraping page 15 \n",
      "Scraping page 16 \n",
      "Scraping page 17 \n",
      "Scraping page 18 \n",
      "Scraping page 19 \n",
      "Scraping page 20 \n",
      "Scraping page 21 \n",
      "Scraping page 22 \n",
      "Scraping page 23 \n",
      "Scraping page 24 \n",
      "Scraping page 25 \n",
      "Scraping page 26 \n",
      "Scraping page 27 \n",
      "Scraping page 28 \n",
      "Scraping page 29 \n",
      "Scraping page 30 \n",
      "\n"
     ]
    },
    {
     "data": {
      "application/vnd.jupyter.widget-view+json": {
       "model_id": "01f4c7f0e2d34f94ba8f2a5355713549",
       "version_major": 2,
       "version_minor": 0
      },
      "text/plain": [
       "HBox(children=(FloatProgress(value=0.0, max=30.0), HTML(value='')))"
      ]
     },
     "metadata": {},
     "output_type": "display_data"
    },
    {
     "name": "stdout",
     "output_type": "stream",
     "text": [
      "Scraping page 1 \n",
      "Scraping page 2 \n",
      "Scraping page 3 \n",
      "Scraping page 4 \n",
      "Scraping page 5 \n",
      "Scraping page 6 \n",
      "Scraping page 7 \n",
      "Scraping page 8 \n",
      "Scraping page 9 \n",
      "Scraping page 10 \n",
      "Scraping page 11 \n",
      "Scraping page 12 \n",
      "Scraping page 13 \n",
      "Scraping page 14 \n",
      "Scraping page 15 \n",
      "Scraping page 16 \n",
      "Scraping page 17 \n",
      "Scraping page 18 \n",
      "Scraping page 19 \n",
      "Scraping page 20 \n",
      "Scraping page 21 \n",
      "Scraping page 22 \n",
      "Scraping page 23 \n",
      "Scraping page 24 \n",
      "Scraping page 25 \n",
      "Scraping page 26 \n",
      "Scraping page 27 \n",
      "Scraping page 28 \n",
      "Scraping page 29 \n",
      "Scraping page 30 \n",
      "\n"
     ]
    },
    {
     "data": {
      "application/vnd.jupyter.widget-view+json": {
       "model_id": "b9abdd9ca2a94bb98ddecc7b76774ff7",
       "version_major": 2,
       "version_minor": 0
      },
      "text/plain": [
       "HBox(children=(FloatProgress(value=0.0, max=30.0), HTML(value='')))"
      ]
     },
     "metadata": {},
     "output_type": "display_data"
    },
    {
     "name": "stdout",
     "output_type": "stream",
     "text": [
      "Scraping page 1 \n",
      "Scraping page 2 \n",
      "Scraping page 3 \n",
      "Scraping page 4 \n",
      "Scraping page 5 \n",
      "Scraping page 6 \n",
      "Scraping page 7 \n",
      "Scraping page 8 \n",
      "Scraping page 9 \n",
      "Scraping page 10 \n",
      "Scraping page 11 \n",
      "Scraping page 12 \n",
      "Scraping page 13 \n",
      "Scraping page 14 \n",
      "Scraping page 15 \n",
      "Scraping page 16 \n",
      "Scraping page 17 \n",
      "Scraping page 18 \n",
      "Scraping page 19 \n",
      "Scraping page 20 \n",
      "Scraping page 21 \n",
      "Scraping page 22 \n",
      "Scraping page 23 \n",
      "Scraping page 24 \n",
      "Scraping page 25 \n",
      "Scraping page 26 \n",
      "Scraping page 27 \n",
      "Scraping page 28 \n",
      "Scraping page 29 \n",
      "Scraping page 30 \n",
      "\n"
     ]
    },
    {
     "data": {
      "application/vnd.jupyter.widget-view+json": {
       "model_id": "656b74d331ed40dea4fbbb1c30b70a18",
       "version_major": 2,
       "version_minor": 0
      },
      "text/plain": [
       "HBox(children=(FloatProgress(value=0.0, max=30.0), HTML(value='')))"
      ]
     },
     "metadata": {},
     "output_type": "display_data"
    },
    {
     "name": "stdout",
     "output_type": "stream",
     "text": [
      "Scraping page 1 \n",
      "Scraping page 2 \n",
      "Scraping page 3 \n",
      "Scraping page 4 \n",
      "\n",
      "\n"
     ]
    },
    {
     "ename": "ElementClickInterceptedException",
     "evalue": "Message: element click intercepted: Element <a href=\"/Redmi-9A-Midnight-2GB-32GB/product-reviews/B08697N43G/ref=cm_cr_getr_d_paging_btm_4?ie=UTF8&amp;pageNumber=4&amp;reviewerType=all_reviews&amp;pageSize=10\">...</a> is not clickable at point (424, 445). Other element would receive the click: <div class=\"a-section cr-list-loading reviews-loading\"></div>\n  (Session info: chrome=92.0.4515.107)\n",
     "output_type": "error",
     "traceback": [
      "\u001b[1;31m---------------------------------------------------------------------------\u001b[0m",
      "\u001b[1;31mElementClickInterceptedException\u001b[0m          Traceback (most recent call last)",
      "\u001b[1;32m<ipython-input-10-0b95614ca061>\u001b[0m in \u001b[0;36m<module>\u001b[1;34m\u001b[0m\n\u001b[0;32m     37\u001b[0m         \u001b[0mprint\u001b[0m\u001b[1;33m(\u001b[0m\u001b[1;34m\"Scraping page {} \"\u001b[0m\u001b[1;33m.\u001b[0m\u001b[0mformat\u001b[0m\u001b[1;33m(\u001b[0m\u001b[0mi\u001b[0m\u001b[1;33m+\u001b[0m\u001b[1;36m1\u001b[0m\u001b[1;33m)\u001b[0m\u001b[1;33m)\u001b[0m\u001b[1;33m\u001b[0m\u001b[1;33m\u001b[0m\u001b[0m\n\u001b[0;32m     38\u001b[0m \u001b[1;33m\u001b[0m\u001b[0m\n\u001b[1;32m---> 39\u001b[1;33m         \u001b[1;32mtry\u001b[0m\u001b[1;33m:\u001b[0m\u001b[0mdriver\u001b[0m\u001b[1;33m.\u001b[0m\u001b[0mfind_element_by_xpath\u001b[0m\u001b[1;33m(\u001b[0m\u001b[1;34m'//*[@id=\"cm_cr-pagination_bar\"]/ul/li[2]/a'\u001b[0m\u001b[1;33m)\u001b[0m\u001b[1;33m.\u001b[0m\u001b[0mclick\u001b[0m\u001b[1;33m(\u001b[0m\u001b[1;33m)\u001b[0m\u001b[1;33m\u001b[0m\u001b[1;33m\u001b[0m\u001b[0m\n\u001b[0m\u001b[0;32m     40\u001b[0m \u001b[1;33m\u001b[0m\u001b[0m\n\u001b[0;32m     41\u001b[0m         \u001b[1;32mexcept\u001b[0m \u001b[0mNoSuchElementException\u001b[0m\u001b[1;33m:\u001b[0m\u001b[1;33m\u001b[0m\u001b[1;33m\u001b[0m\u001b[0m\n",
      "\u001b[1;32mC:\\ProgramData\\Anaconda3\\lib\\site-packages\\selenium\\webdriver\\remote\\webelement.py\u001b[0m in \u001b[0;36mclick\u001b[1;34m(self)\u001b[0m\n\u001b[0;32m     78\u001b[0m     \u001b[1;32mdef\u001b[0m \u001b[0mclick\u001b[0m\u001b[1;33m(\u001b[0m\u001b[0mself\u001b[0m\u001b[1;33m)\u001b[0m\u001b[1;33m:\u001b[0m\u001b[1;33m\u001b[0m\u001b[1;33m\u001b[0m\u001b[0m\n\u001b[0;32m     79\u001b[0m         \u001b[1;34m\"\"\"Clicks the element.\"\"\"\u001b[0m\u001b[1;33m\u001b[0m\u001b[1;33m\u001b[0m\u001b[0m\n\u001b[1;32m---> 80\u001b[1;33m         \u001b[0mself\u001b[0m\u001b[1;33m.\u001b[0m\u001b[0m_execute\u001b[0m\u001b[1;33m(\u001b[0m\u001b[0mCommand\u001b[0m\u001b[1;33m.\u001b[0m\u001b[0mCLICK_ELEMENT\u001b[0m\u001b[1;33m)\u001b[0m\u001b[1;33m\u001b[0m\u001b[1;33m\u001b[0m\u001b[0m\n\u001b[0m\u001b[0;32m     81\u001b[0m \u001b[1;33m\u001b[0m\u001b[0m\n\u001b[0;32m     82\u001b[0m     \u001b[1;32mdef\u001b[0m \u001b[0msubmit\u001b[0m\u001b[1;33m(\u001b[0m\u001b[0mself\u001b[0m\u001b[1;33m)\u001b[0m\u001b[1;33m:\u001b[0m\u001b[1;33m\u001b[0m\u001b[1;33m\u001b[0m\u001b[0m\n",
      "\u001b[1;32mC:\\ProgramData\\Anaconda3\\lib\\site-packages\\selenium\\webdriver\\remote\\webelement.py\u001b[0m in \u001b[0;36m_execute\u001b[1;34m(self, command, params)\u001b[0m\n\u001b[0;32m    631\u001b[0m             \u001b[0mparams\u001b[0m \u001b[1;33m=\u001b[0m \u001b[1;33m{\u001b[0m\u001b[1;33m}\u001b[0m\u001b[1;33m\u001b[0m\u001b[1;33m\u001b[0m\u001b[0m\n\u001b[0;32m    632\u001b[0m         \u001b[0mparams\u001b[0m\u001b[1;33m[\u001b[0m\u001b[1;34m'id'\u001b[0m\u001b[1;33m]\u001b[0m \u001b[1;33m=\u001b[0m \u001b[0mself\u001b[0m\u001b[1;33m.\u001b[0m\u001b[0m_id\u001b[0m\u001b[1;33m\u001b[0m\u001b[1;33m\u001b[0m\u001b[0m\n\u001b[1;32m--> 633\u001b[1;33m         \u001b[1;32mreturn\u001b[0m \u001b[0mself\u001b[0m\u001b[1;33m.\u001b[0m\u001b[0m_parent\u001b[0m\u001b[1;33m.\u001b[0m\u001b[0mexecute\u001b[0m\u001b[1;33m(\u001b[0m\u001b[0mcommand\u001b[0m\u001b[1;33m,\u001b[0m \u001b[0mparams\u001b[0m\u001b[1;33m)\u001b[0m\u001b[1;33m\u001b[0m\u001b[1;33m\u001b[0m\u001b[0m\n\u001b[0m\u001b[0;32m    634\u001b[0m \u001b[1;33m\u001b[0m\u001b[0m\n\u001b[0;32m    635\u001b[0m     \u001b[1;32mdef\u001b[0m \u001b[0mfind_element\u001b[0m\u001b[1;33m(\u001b[0m\u001b[0mself\u001b[0m\u001b[1;33m,\u001b[0m \u001b[0mby\u001b[0m\u001b[1;33m=\u001b[0m\u001b[0mBy\u001b[0m\u001b[1;33m.\u001b[0m\u001b[0mID\u001b[0m\u001b[1;33m,\u001b[0m \u001b[0mvalue\u001b[0m\u001b[1;33m=\u001b[0m\u001b[1;32mNone\u001b[0m\u001b[1;33m)\u001b[0m\u001b[1;33m:\u001b[0m\u001b[1;33m\u001b[0m\u001b[1;33m\u001b[0m\u001b[0m\n",
      "\u001b[1;32mC:\\ProgramData\\Anaconda3\\lib\\site-packages\\selenium\\webdriver\\remote\\webdriver.py\u001b[0m in \u001b[0;36mexecute\u001b[1;34m(self, driver_command, params)\u001b[0m\n\u001b[0;32m    319\u001b[0m         \u001b[0mresponse\u001b[0m \u001b[1;33m=\u001b[0m \u001b[0mself\u001b[0m\u001b[1;33m.\u001b[0m\u001b[0mcommand_executor\u001b[0m\u001b[1;33m.\u001b[0m\u001b[0mexecute\u001b[0m\u001b[1;33m(\u001b[0m\u001b[0mdriver_command\u001b[0m\u001b[1;33m,\u001b[0m \u001b[0mparams\u001b[0m\u001b[1;33m)\u001b[0m\u001b[1;33m\u001b[0m\u001b[1;33m\u001b[0m\u001b[0m\n\u001b[0;32m    320\u001b[0m         \u001b[1;32mif\u001b[0m \u001b[0mresponse\u001b[0m\u001b[1;33m:\u001b[0m\u001b[1;33m\u001b[0m\u001b[1;33m\u001b[0m\u001b[0m\n\u001b[1;32m--> 321\u001b[1;33m             \u001b[0mself\u001b[0m\u001b[1;33m.\u001b[0m\u001b[0merror_handler\u001b[0m\u001b[1;33m.\u001b[0m\u001b[0mcheck_response\u001b[0m\u001b[1;33m(\u001b[0m\u001b[0mresponse\u001b[0m\u001b[1;33m)\u001b[0m\u001b[1;33m\u001b[0m\u001b[1;33m\u001b[0m\u001b[0m\n\u001b[0m\u001b[0;32m    322\u001b[0m             response['value'] = self._unwrap_value(\n\u001b[0;32m    323\u001b[0m                 response.get('value', None))\n",
      "\u001b[1;32mC:\\ProgramData\\Anaconda3\\lib\\site-packages\\selenium\\webdriver\\remote\\errorhandler.py\u001b[0m in \u001b[0;36mcheck_response\u001b[1;34m(self, response)\u001b[0m\n\u001b[0;32m    240\u001b[0m                 \u001b[0malert_text\u001b[0m \u001b[1;33m=\u001b[0m \u001b[0mvalue\u001b[0m\u001b[1;33m[\u001b[0m\u001b[1;34m'alert'\u001b[0m\u001b[1;33m]\u001b[0m\u001b[1;33m.\u001b[0m\u001b[0mget\u001b[0m\u001b[1;33m(\u001b[0m\u001b[1;34m'text'\u001b[0m\u001b[1;33m)\u001b[0m\u001b[1;33m\u001b[0m\u001b[1;33m\u001b[0m\u001b[0m\n\u001b[0;32m    241\u001b[0m             \u001b[1;32mraise\u001b[0m \u001b[0mexception_class\u001b[0m\u001b[1;33m(\u001b[0m\u001b[0mmessage\u001b[0m\u001b[1;33m,\u001b[0m \u001b[0mscreen\u001b[0m\u001b[1;33m,\u001b[0m \u001b[0mstacktrace\u001b[0m\u001b[1;33m,\u001b[0m \u001b[0malert_text\u001b[0m\u001b[1;33m)\u001b[0m\u001b[1;33m\u001b[0m\u001b[1;33m\u001b[0m\u001b[0m\n\u001b[1;32m--> 242\u001b[1;33m         \u001b[1;32mraise\u001b[0m \u001b[0mexception_class\u001b[0m\u001b[1;33m(\u001b[0m\u001b[0mmessage\u001b[0m\u001b[1;33m,\u001b[0m \u001b[0mscreen\u001b[0m\u001b[1;33m,\u001b[0m \u001b[0mstacktrace\u001b[0m\u001b[1;33m)\u001b[0m\u001b[1;33m\u001b[0m\u001b[1;33m\u001b[0m\u001b[0m\n\u001b[0m\u001b[0;32m    243\u001b[0m \u001b[1;33m\u001b[0m\u001b[0m\n\u001b[0;32m    244\u001b[0m     \u001b[1;32mdef\u001b[0m \u001b[0m_value_or_default\u001b[0m\u001b[1;33m(\u001b[0m\u001b[0mself\u001b[0m\u001b[1;33m,\u001b[0m \u001b[0mobj\u001b[0m\u001b[1;33m,\u001b[0m \u001b[0mkey\u001b[0m\u001b[1;33m,\u001b[0m \u001b[0mdefault\u001b[0m\u001b[1;33m)\u001b[0m\u001b[1;33m:\u001b[0m\u001b[1;33m\u001b[0m\u001b[1;33m\u001b[0m\u001b[0m\n",
      "\u001b[1;31mElementClickInterceptedException\u001b[0m: Message: element click intercepted: Element <a href=\"/Redmi-9A-Midnight-2GB-32GB/product-reviews/B08697N43G/ref=cm_cr_getr_d_paging_btm_4?ie=UTF8&amp;pageNumber=4&amp;reviewerType=all_reviews&amp;pageSize=10\">...</a> is not clickable at point (424, 445). Other element would receive the click: <div class=\"a-section cr-list-loading reviews-loading\"></div>\n  (Session info: chrome=92.0.4515.107)\n"
     ]
    }
   ],
   "source": [
    "# Using forloop to scrape the data from each product url\n",
    "for url in tqdm_notebook(product_url):\n",
    "    driver.get(url)\n",
    "    time.sleep(1.5)\n",
    "    \n",
    "    # going to ratings page\n",
    "    try:driver.find_element_by_xpath(\"//*[@id='acrCustomerReviewLink']\").click()\n",
    "    except NoSuchElementException:\n",
    "        print(cl(\"No ratings available\",color='blue',attrs=['dark']))\n",
    "        pass\n",
    "\n",
    "    # Click to see all reviews of product\n",
    "    try:driver.find_element_by_xpath('//*[@id=\"reviews-medley-footer\"]/div[2]/a').click()\n",
    "    except NoSuchElementException :\n",
    "        print(cl(\"No more reviews\",color='green',attrs=['dark']))\n",
    "        pass\n",
    "        \n",
    "    time.sleep(1.5)\n",
    "    for i in tqdm_notebook(range(0,30)):\n",
    "        time.sleep(1)\n",
    "        \n",
    "        # Fetch ratings of product from each review\n",
    "        try:\n",
    "            RATINGS = driver.find_elements_by_xpath('//div[@class=\"a-section celwidget\"]/div[2]/a[1]')\n",
    "            for r in RATINGS:\n",
    "                driver.implicitly_wait(2)\n",
    "                rate=r.get_attribute('title')\n",
    "                ratings.append(rate[:3])\n",
    "        except NoSuchElementException:\n",
    "            ratings.append(\"Not Availabel\")\n",
    "\n",
    "        # fetching reviews of product        \n",
    "        try:\n",
    "            REVIEWS = driver.find_elements_by_xpath('//div[@class=\"a-section celwidget\"]/div[4]')\n",
    "            for v in REVIEWS:\n",
    "                reviews.append(v.text.replace('\\n',''))\n",
    "        except NoSuchElementException:\n",
    "            reviews.append(\"Not Availabel\")\n",
    "        \n",
    "        #Printing the page scrapped\n",
    "        print(\"Scraping page {} \".format(i+1))\n",
    "        \n",
    "        # Going to next page of reviews\n",
    "        try:driver.find_element_by_xpath('//*[@id=\"cm_cr-pagination_bar\"]/ul/li[2]/a').click()\n",
    "       \n",
    "        except NoSuchElementException:\n",
    "            print(\"No more reviews\")\n",
    "            pass\n",
    "        "
   ]
  },
  {
   "cell_type": "code",
   "execution_count": 12,
   "metadata": {},
   "outputs": [
    {
     "data": {
      "text/plain": [
       "10566"
      ]
     },
     "execution_count": 12,
     "metadata": {},
     "output_type": "execute_result"
    }
   ],
   "source": [
    "len(reviews)"
   ]
  },
  {
   "cell_type": "code",
   "execution_count": 13,
   "metadata": {},
   "outputs": [],
   "source": [
    "# Storing smartphones scraped data into dataframe\n",
    "smartphones=pd.DataFrame({\"Reviews\":reviews,\"Ratings\":ratings})\n",
    "smartphones.to_csv(\"smartphones.csv\")"
   ]
  },
  {
   "cell_type": "markdown",
   "metadata": {},
   "source": [
    "### Collecting data of iphone12 reviews"
   ]
  },
  {
   "cell_type": "code",
   "execution_count": 15,
   "metadata": {},
   "outputs": [
    {
     "data": {
      "application/vnd.jupyter.widget-view+json": {
       "model_id": "9a9ad652da494591b81973a0fffd129c",
       "version_major": 2,
       "version_minor": 0
      },
      "text/plain": [
       "HBox(children=(FloatProgress(value=0.0, max=2.0), HTML(value='')))"
      ]
     },
     "metadata": {},
     "output_type": "display_data"
    },
    {
     "name": "stdout",
     "output_type": "stream",
     "text": [
      "\n"
     ]
    }
   ],
   "source": [
    "# CAlling webdrive\n",
    "driver = webdriver.Chrome('chromedriver.exe')\n",
    "# Sending url to open the webpage\n",
    "driver.get('https://www.amazon.in/')\n",
    "\n",
    "# Using search bar sending our input to search desired data\n",
    "driver.find_element_by_xpath(\"//input[@id='twotabsearchtextbox']\").send_keys('iphone12',Keys.ENTER)\n",
    "\n",
    "# Create empty list to store product url\n",
    "product_url = []\n",
    "for i in tqdm_notebook(range(0,2)):\n",
    "    URLS = driver.find_elements_by_xpath(\"//div[@class='a-section a-spacing-none']/div/h2/a\")\n",
    "    for u in URLS:\n",
    "        product_url.append(u.get_attribute(\"href\"))\n",
    "    \n",
    "    # Click the button to go to next page\n",
    "    try:driver.find_element_by_xpath(\"//*[@id='search']/div[1]/div/div[1]/div/span[3]/div[2]/div[28]/span/div/div/ul/li[7]/a\").click()\n",
    "    except NoSuchElementException:\n",
    "        pass\n",
    "# Creating empty list to store ratings and reviews\n",
    "reviews = []\n",
    "ratings = []"
   ]
  },
  {
   "cell_type": "code",
   "execution_count": 16,
   "metadata": {},
   "outputs": [
    {
     "data": {
      "application/vnd.jupyter.widget-view+json": {
       "model_id": "698134cc8948442e89b33616ff30bf84",
       "version_major": 2,
       "version_minor": 0
      },
      "text/plain": [
       "HBox(children=(FloatProgress(value=0.0, max=32.0), HTML(value='')))"
      ]
     },
     "metadata": {},
     "output_type": "display_data"
    },
    {
     "data": {
      "application/vnd.jupyter.widget-view+json": {
       "model_id": "581009477a2a499fb7616e08df0cc28b",
       "version_major": 2,
       "version_minor": 0
      },
      "text/plain": [
       "HBox(children=(FloatProgress(value=0.0, max=30.0), HTML(value='')))"
      ]
     },
     "metadata": {},
     "output_type": "display_data"
    },
    {
     "name": "stdout",
     "output_type": "stream",
     "text": [
      "Scraping page 1 \n",
      "Scraping page 2 \n",
      "Scraping page 3 \n",
      "Scraping page 4 \n",
      "Scraping page 5 \n",
      "Scraping page 6 \n",
      "Scraping page 7 \n",
      "Scraping page 8 \n",
      "Scraping page 9 \n",
      "Scraping page 10 \n",
      "Scraping page 11 \n",
      "Scraping page 12 \n",
      "Scraping page 13 \n",
      "Scraping page 14 \n",
      "Scraping page 15 \n",
      "Scraping page 16 \n",
      "Scraping page 17 \n",
      "Scraping page 18 \n",
      "Scraping page 19 \n",
      "Scraping page 20 \n",
      "Scraping page 21 \n",
      "Scraping page 22 \n",
      "Scraping page 23 \n",
      "Scraping page 24 \n",
      "Scraping page 25 \n",
      "Scraping page 26 \n",
      "Scraping page 27 \n",
      "Scraping page 28 \n",
      "Scraping page 29 \n",
      "Scraping page 30 \n",
      "\n"
     ]
    },
    {
     "data": {
      "application/vnd.jupyter.widget-view+json": {
       "model_id": "1a9dd35def3c46f8b3d723d6ca7188ae",
       "version_major": 2,
       "version_minor": 0
      },
      "text/plain": [
       "HBox(children=(FloatProgress(value=0.0, max=30.0), HTML(value='')))"
      ]
     },
     "metadata": {},
     "output_type": "display_data"
    },
    {
     "name": "stdout",
     "output_type": "stream",
     "text": [
      "Scraping page 1 \n",
      "Scraping page 2 \n",
      "Scraping page 3 \n",
      "Scraping page 4 \n",
      "Scraping page 5 \n",
      "Scraping page 6 \n",
      "Scraping page 7 \n",
      "Scraping page 8 \n",
      "Scraping page 9 \n",
      "Scraping page 10 \n",
      "Scraping page 11 \n",
      "Scraping page 12 \n",
      "Scraping page 13 \n",
      "Scraping page 14 \n",
      "Scraping page 15 \n",
      "Scraping page 16 \n",
      "Scraping page 17 \n",
      "Scraping page 18 \n",
      "Scraping page 19 \n",
      "Scraping page 20 \n",
      "Scraping page 21 \n",
      "Scraping page 22 \n",
      "Scraping page 23 \n",
      "Scraping page 24 \n",
      "Scraping page 25 \n",
      "Scraping page 26 \n",
      "Scraping page 27 \n",
      "Scraping page 28 \n",
      "Scraping page 29 \n",
      "Scraping page 30 \n",
      "\n"
     ]
    },
    {
     "data": {
      "application/vnd.jupyter.widget-view+json": {
       "model_id": "670296dab3b74fcda55f2401e50f2dad",
       "version_major": 2,
       "version_minor": 0
      },
      "text/plain": [
       "HBox(children=(FloatProgress(value=0.0, max=30.0), HTML(value='')))"
      ]
     },
     "metadata": {},
     "output_type": "display_data"
    },
    {
     "name": "stdout",
     "output_type": "stream",
     "text": [
      "Scraping page 1 \n",
      "Scraping page 2 \n",
      "Scraping page 3 \n",
      "Scraping page 4 \n",
      "Scraping page 5 \n",
      "Scraping page 6 \n",
      "Scraping page 7 \n",
      "Scraping page 8 \n",
      "Scraping page 9 \n",
      "Scraping page 10 \n",
      "Scraping page 11 \n",
      "Scraping page 12 \n",
      "Scraping page 13 \n",
      "Scraping page 14 \n",
      "Scraping page 15 \n",
      "Scraping page 16 \n",
      "Scraping page 17 \n",
      "Scraping page 18 \n",
      "Scraping page 19 \n",
      "Scraping page 20 \n",
      "Scraping page 21 \n",
      "Scraping page 22 \n",
      "Scraping page 23 \n",
      "Scraping page 24 \n",
      "Scraping page 25 \n",
      "Scraping page 26 \n",
      "Scraping page 27 \n",
      "Scraping page 28 \n",
      "Scraping page 29 \n",
      "Scraping page 30 \n",
      "\n"
     ]
    },
    {
     "data": {
      "application/vnd.jupyter.widget-view+json": {
       "model_id": "88a57e41e882463ca859967fb8503d95",
       "version_major": 2,
       "version_minor": 0
      },
      "text/plain": [
       "HBox(children=(FloatProgress(value=0.0, max=30.0), HTML(value='')))"
      ]
     },
     "metadata": {},
     "output_type": "display_data"
    },
    {
     "name": "stdout",
     "output_type": "stream",
     "text": [
      "Scraping page 1 \n",
      "Scraping page 2 \n",
      "Scraping page 3 \n",
      "Scraping page 4 \n",
      "Scraping page 5 \n",
      "Scraping page 6 \n",
      "Scraping page 7 \n",
      "Scraping page 8 \n",
      "Scraping page 9 \n",
      "Scraping page 10 \n",
      "Scraping page 11 \n",
      "Scraping page 12 \n",
      "Scraping page 13 \n",
      "Scraping page 14 \n",
      "Scraping page 15 \n",
      "Scraping page 16 \n",
      "Scraping page 17 \n",
      "Scraping page 18 \n",
      "Scraping page 19 \n",
      "Scraping page 20 \n",
      "Scraping page 21 \n",
      "Scraping page 22 \n",
      "Scraping page 23 \n",
      "Scraping page 24 \n",
      "Scraping page 25 \n",
      "Scraping page 26 \n",
      "Scraping page 27 \n",
      "Scraping page 28 \n",
      "Scraping page 29 \n",
      "Scraping page 30 \n",
      "\n"
     ]
    },
    {
     "data": {
      "application/vnd.jupyter.widget-view+json": {
       "model_id": "63e3c99c87d74b71a53fb2828428aa94",
       "version_major": 2,
       "version_minor": 0
      },
      "text/plain": [
       "HBox(children=(FloatProgress(value=0.0, max=30.0), HTML(value='')))"
      ]
     },
     "metadata": {},
     "output_type": "display_data"
    },
    {
     "name": "stdout",
     "output_type": "stream",
     "text": [
      "Scraping page 1 \n",
      "Scraping page 2 \n",
      "Scraping page 3 \n",
      "Scraping page 4 \n",
      "Scraping page 5 \n",
      "Scraping page 6 \n",
      "Scraping page 7 \n",
      "Scraping page 8 \n",
      "Scraping page 9 \n",
      "Scraping page 10 \n",
      "Scraping page 11 \n",
      "Scraping page 12 \n",
      "Scraping page 13 \n",
      "Scraping page 14 \n",
      "Scraping page 15 \n",
      "Scraping page 16 \n",
      "Scraping page 17 \n",
      "Scraping page 18 \n",
      "Scraping page 19 \n",
      "Scraping page 20 \n",
      "Scraping page 21 \n",
      "Scraping page 22 \n",
      "Scraping page 23 \n",
      "Scraping page 24 \n",
      "Scraping page 25 \n",
      "Scraping page 26 \n",
      "Scraping page 27 \n",
      "Scraping page 28 \n",
      "Scraping page 29 \n",
      "Scraping page 30 \n",
      "\n"
     ]
    },
    {
     "data": {
      "application/vnd.jupyter.widget-view+json": {
       "model_id": "191294bb137a4d1e803bb3bf07614f4b",
       "version_major": 2,
       "version_minor": 0
      },
      "text/plain": [
       "HBox(children=(FloatProgress(value=0.0, max=30.0), HTML(value='')))"
      ]
     },
     "metadata": {},
     "output_type": "display_data"
    },
    {
     "name": "stdout",
     "output_type": "stream",
     "text": [
      "Scraping page 1 \n",
      "Scraping page 2 \n",
      "Scraping page 3 \n",
      "Scraping page 4 \n",
      "Scraping page 5 \n",
      "Scraping page 6 \n",
      "Scraping page 7 \n",
      "Scraping page 8 \n",
      "Scraping page 9 \n",
      "Scraping page 10 \n",
      "Scraping page 11 \n",
      "Scraping page 12 \n",
      "Scraping page 13 \n",
      "Scraping page 14 \n",
      "Scraping page 15 \n",
      "Scraping page 16 \n",
      "Scraping page 17 \n",
      "Scraping page 18 \n",
      "Scraping page 19 \n",
      "Scraping page 20 \n",
      "Scraping page 21 \n",
      "Scraping page 22 \n",
      "Scraping page 23 \n",
      "Scraping page 24 \n",
      "Scraping page 25 \n",
      "Scraping page 26 \n",
      "Scraping page 27 \n",
      "Scraping page 28 \n",
      "Scraping page 29 \n",
      "Scraping page 30 \n",
      "\n"
     ]
    },
    {
     "data": {
      "application/vnd.jupyter.widget-view+json": {
       "model_id": "0c3d175fa6d746e5852c1bfd8f4913bc",
       "version_major": 2,
       "version_minor": 0
      },
      "text/plain": [
       "HBox(children=(FloatProgress(value=0.0, max=30.0), HTML(value='')))"
      ]
     },
     "metadata": {},
     "output_type": "display_data"
    },
    {
     "name": "stdout",
     "output_type": "stream",
     "text": [
      "Scraping page 1 \n",
      "Scraping page 2 \n",
      "Scraping page 3 \n",
      "Scraping page 4 \n",
      "Scraping page 5 \n",
      "Scraping page 6 \n",
      "Scraping page 7 \n",
      "Scraping page 8 \n",
      "Scraping page 9 \n",
      "Scraping page 10 \n",
      "Scraping page 11 \n",
      "Scraping page 12 \n",
      "Scraping page 13 \n",
      "Scraping page 14 \n",
      "Scraping page 15 \n",
      "Scraping page 16 \n",
      "Scraping page 17 \n",
      "Scraping page 18 \n",
      "Scraping page 19 \n",
      "Scraping page 20 \n",
      "Scraping page 21 \n",
      "Scraping page 22 \n",
      "Scraping page 23 \n",
      "Scraping page 24 \n",
      "Scraping page 25 \n",
      "Scraping page 26 \n",
      "Scraping page 27 \n",
      "Scraping page 28 \n",
      "Scraping page 29 \n",
      "Scraping page 30 \n",
      "\n"
     ]
    },
    {
     "data": {
      "application/vnd.jupyter.widget-view+json": {
       "model_id": "839b7005a418411da06b39475a960969",
       "version_major": 2,
       "version_minor": 0
      },
      "text/plain": [
       "HBox(children=(FloatProgress(value=0.0, max=30.0), HTML(value='')))"
      ]
     },
     "metadata": {},
     "output_type": "display_data"
    },
    {
     "name": "stdout",
     "output_type": "stream",
     "text": [
      "Scraping page 1 \n",
      "Scraping page 2 \n",
      "Scraping page 3 \n",
      "Scraping page 4 \n",
      "Scraping page 5 \n",
      "Scraping page 6 \n",
      "Scraping page 7 \n",
      "Scraping page 8 \n",
      "Scraping page 9 \n",
      "Scraping page 10 \n",
      "Scraping page 11 \n",
      "Scraping page 12 \n",
      "Scraping page 13 \n",
      "Scraping page 14 \n",
      "Scraping page 15 \n",
      "Scraping page 16 \n",
      "Scraping page 17 \n",
      "Scraping page 18 \n",
      "Scraping page 19 \n",
      "Scraping page 20 \n",
      "No more reviews\n",
      "Scraping page 21 \n",
      "No more reviews\n",
      "Scraping page 22 \n",
      "No more reviews\n",
      "Scraping page 23 \n",
      "No more reviews\n",
      "Scraping page 24 \n",
      "No more reviews\n",
      "Scraping page 25 \n",
      "No more reviews\n",
      "Scraping page 26 \n",
      "No more reviews\n",
      "Scraping page 27 \n",
      "No more reviews\n",
      "Scraping page 28 \n",
      "No more reviews\n",
      "Scraping page 29 \n",
      "No more reviews\n",
      "Scraping page 30 \n",
      "No more reviews\n",
      "\n"
     ]
    },
    {
     "data": {
      "application/vnd.jupyter.widget-view+json": {
       "model_id": "3187e436c30844228197f9e858ec32f5",
       "version_major": 2,
       "version_minor": 0
      },
      "text/plain": [
       "HBox(children=(FloatProgress(value=0.0, max=30.0), HTML(value='')))"
      ]
     },
     "metadata": {},
     "output_type": "display_data"
    },
    {
     "name": "stdout",
     "output_type": "stream",
     "text": [
      "Scraping page 1 \n",
      "Scraping page 2 \n",
      "Scraping page 3 \n",
      "Scraping page 4 \n",
      "Scraping page 5 \n",
      "Scraping page 6 \n",
      "Scraping page 7 \n",
      "Scraping page 8 \n",
      "Scraping page 9 \n",
      "Scraping page 10 \n",
      "Scraping page 11 \n",
      "Scraping page 12 \n",
      "Scraping page 13 \n",
      "Scraping page 14 \n",
      "Scraping page 15 \n",
      "Scraping page 16 \n",
      "Scraping page 17 \n",
      "Scraping page 18 \n",
      "Scraping page 19 \n",
      "Scraping page 20 \n",
      "Scraping page 21 \n",
      "Scraping page 22 \n",
      "Scraping page 23 \n",
      "Scraping page 24 \n",
      "Scraping page 25 \n",
      "Scraping page 26 \n",
      "Scraping page 27 \n",
      "Scraping page 28 \n",
      "Scraping page 29 \n",
      "Scraping page 30 \n",
      "\n"
     ]
    },
    {
     "data": {
      "application/vnd.jupyter.widget-view+json": {
       "model_id": "a5ff32aae48d4722b09ecf1a5c9fb956",
       "version_major": 2,
       "version_minor": 0
      },
      "text/plain": [
       "HBox(children=(FloatProgress(value=0.0, max=30.0), HTML(value='')))"
      ]
     },
     "metadata": {},
     "output_type": "display_data"
    },
    {
     "name": "stdout",
     "output_type": "stream",
     "text": [
      "Scraping page 1 \n",
      "Scraping page 2 \n",
      "Scraping page 3 \n",
      "Scraping page 4 \n",
      "Scraping page 5 \n",
      "Scraping page 6 \n",
      "Scraping page 7 \n",
      "Scraping page 8 \n",
      "Scraping page 9 \n",
      "Scraping page 10 \n",
      "Scraping page 11 \n",
      "Scraping page 12 \n",
      "Scraping page 13 \n",
      "Scraping page 14 \n",
      "Scraping page 15 \n",
      "Scraping page 16 \n",
      "Scraping page 17 \n",
      "Scraping page 18 \n",
      "Scraping page 19 \n",
      "Scraping page 20 \n",
      "Scraping page 21 \n",
      "Scraping page 22 \n",
      "Scraping page 23 \n",
      "Scraping page 24 \n",
      "Scraping page 25 \n",
      "Scraping page 26 \n",
      "Scraping page 27 \n",
      "Scraping page 28 \n",
      "Scraping page 29 \n",
      "Scraping page 30 \n",
      "\n"
     ]
    },
    {
     "data": {
      "application/vnd.jupyter.widget-view+json": {
       "model_id": "556f0ab9cfad4e5181640799b81aa5f0",
       "version_major": 2,
       "version_minor": 0
      },
      "text/plain": [
       "HBox(children=(FloatProgress(value=0.0, max=30.0), HTML(value='')))"
      ]
     },
     "metadata": {},
     "output_type": "display_data"
    },
    {
     "name": "stdout",
     "output_type": "stream",
     "text": [
      "Scraping page 1 \n",
      "Scraping page 2 \n",
      "Scraping page 3 \n",
      "Scraping page 4 \n",
      "Scraping page 5 \n",
      "Scraping page 6 \n",
      "Scraping page 7 \n",
      "Scraping page 8 \n",
      "Scraping page 9 \n",
      "Scraping page 10 \n",
      "Scraping page 11 \n",
      "Scraping page 12 \n",
      "Scraping page 13 \n",
      "Scraping page 14 \n",
      "Scraping page 15 \n",
      "Scraping page 16 \n",
      "Scraping page 17 \n",
      "Scraping page 18 \n",
      "Scraping page 19 \n",
      "Scraping page 20 \n",
      "Scraping page 21 \n",
      "Scraping page 22 \n",
      "Scraping page 23 \n",
      "Scraping page 24 \n",
      "Scraping page 25 \n",
      "Scraping page 26 \n",
      "Scraping page 27 \n",
      "Scraping page 28 \n",
      "Scraping page 29 \n",
      "Scraping page 30 \n",
      "\n"
     ]
    },
    {
     "data": {
      "application/vnd.jupyter.widget-view+json": {
       "model_id": "23f4bd29177644a79f222c83b9248b64",
       "version_major": 2,
       "version_minor": 0
      },
      "text/plain": [
       "HBox(children=(FloatProgress(value=0.0, max=30.0), HTML(value='')))"
      ]
     },
     "metadata": {},
     "output_type": "display_data"
    },
    {
     "name": "stdout",
     "output_type": "stream",
     "text": [
      "Scraping page 1 \n",
      "Scraping page 2 \n",
      "Scraping page 3 \n",
      "Scraping page 4 \n",
      "Scraping page 5 \n",
      "Scraping page 6 \n",
      "Scraping page 7 \n",
      "Scraping page 8 \n",
      "Scraping page 9 \n",
      "Scraping page 10 \n",
      "Scraping page 11 \n",
      "Scraping page 12 \n",
      "Scraping page 13 \n",
      "Scraping page 14 \n",
      "Scraping page 15 \n",
      "Scraping page 16 \n",
      "Scraping page 17 \n",
      "Scraping page 18 \n",
      "Scraping page 19 \n",
      "Scraping page 20 \n",
      "Scraping page 21 \n",
      "Scraping page 22 \n",
      "Scraping page 23 \n",
      "Scraping page 24 \n",
      "Scraping page 25 \n",
      "Scraping page 26 \n",
      "Scraping page 27 \n",
      "Scraping page 28 \n",
      "Scraping page 29 \n",
      "Scraping page 30 \n",
      "\n"
     ]
    },
    {
     "data": {
      "application/vnd.jupyter.widget-view+json": {
       "model_id": "30d0e4739a1649608552bc2ba0696e81",
       "version_major": 2,
       "version_minor": 0
      },
      "text/plain": [
       "HBox(children=(FloatProgress(value=0.0, max=30.0), HTML(value='')))"
      ]
     },
     "metadata": {},
     "output_type": "display_data"
    },
    {
     "name": "stdout",
     "output_type": "stream",
     "text": [
      "Scraping page 1 \n",
      "Scraping page 2 \n",
      "Scraping page 3 \n",
      "Scraping page 4 \n",
      "Scraping page 5 \n",
      "Scraping page 6 \n",
      "Scraping page 7 \n",
      "Scraping page 8 \n",
      "Scraping page 9 \n",
      "Scraping page 10 \n",
      "Scraping page 11 \n",
      "Scraping page 12 \n",
      "Scraping page 13 \n",
      "Scraping page 14 \n",
      "Scraping page 15 \n",
      "Scraping page 16 \n",
      "Scraping page 17 \n",
      "Scraping page 18 \n",
      "Scraping page 19 \n",
      "Scraping page 20 \n",
      "Scraping page 21 \n",
      "Scraping page 22 \n",
      "Scraping page 23 \n",
      "Scraping page 24 \n",
      "Scraping page 25 \n",
      "Scraping page 26 \n",
      "Scraping page 27 \n",
      "Scraping page 28 \n",
      "Scraping page 29 \n",
      "Scraping page 30 \n",
      "\n"
     ]
    },
    {
     "data": {
      "application/vnd.jupyter.widget-view+json": {
       "model_id": "f904de73c0dc4bb0b80fab8a781c48bc",
       "version_major": 2,
       "version_minor": 0
      },
      "text/plain": [
       "HBox(children=(FloatProgress(value=0.0, max=30.0), HTML(value='')))"
      ]
     },
     "metadata": {},
     "output_type": "display_data"
    },
    {
     "name": "stdout",
     "output_type": "stream",
     "text": [
      "Scraping page 1 \n",
      "Scraping page 2 \n",
      "Scraping page 3 \n",
      "Scraping page 4 \n",
      "Scraping page 5 \n",
      "Scraping page 6 \n",
      "Scraping page 7 \n",
      "Scraping page 8 \n",
      "Scraping page 9 \n",
      "Scraping page 10 \n",
      "Scraping page 11 \n",
      "Scraping page 12 \n",
      "Scraping page 13 \n",
      "Scraping page 14 \n",
      "Scraping page 15 \n",
      "Scraping page 16 \n",
      "Scraping page 17 \n",
      "Scraping page 18 \n",
      "Scraping page 19 \n",
      "Scraping page 20 \n",
      "Scraping page 21 \n",
      "Scraping page 22 \n",
      "Scraping page 23 \n",
      "Scraping page 24 \n",
      "Scraping page 25 \n",
      "Scraping page 26 \n",
      "Scraping page 27 \n",
      "Scraping page 28 \n",
      "Scraping page 29 \n",
      "Scraping page 30 \n",
      "\n"
     ]
    },
    {
     "data": {
      "application/vnd.jupyter.widget-view+json": {
       "model_id": "d27f26e237be4baaa5f87bc76a889da2",
       "version_major": 2,
       "version_minor": 0
      },
      "text/plain": [
       "HBox(children=(FloatProgress(value=0.0, max=30.0), HTML(value='')))"
      ]
     },
     "metadata": {},
     "output_type": "display_data"
    },
    {
     "name": "stdout",
     "output_type": "stream",
     "text": [
      "Scraping page 1 \n",
      "No more reviews\n",
      "Scraping page 2 \n",
      "No more reviews\n",
      "Scraping page 3 \n",
      "No more reviews\n",
      "Scraping page 4 \n",
      "No more reviews\n",
      "Scraping page 5 \n",
      "No more reviews\n",
      "Scraping page 6 \n",
      "No more reviews\n",
      "Scraping page 7 \n",
      "No more reviews\n",
      "Scraping page 8 \n",
      "No more reviews\n",
      "Scraping page 9 \n",
      "No more reviews\n",
      "Scraping page 10 \n",
      "No more reviews\n",
      "Scraping page 11 \n",
      "No more reviews\n",
      "Scraping page 12 \n",
      "No more reviews\n",
      "Scraping page 13 \n",
      "No more reviews\n",
      "Scraping page 14 \n",
      "No more reviews\n",
      "Scraping page 15 \n",
      "No more reviews\n",
      "Scraping page 16 \n",
      "No more reviews\n",
      "Scraping page 17 \n",
      "No more reviews\n",
      "Scraping page 18 \n",
      "No more reviews\n",
      "Scraping page 19 \n",
      "No more reviews\n",
      "Scraping page 20 \n",
      "No more reviews\n",
      "Scraping page 21 \n",
      "No more reviews\n",
      "Scraping page 22 \n",
      "No more reviews\n",
      "Scraping page 23 \n",
      "No more reviews\n",
      "Scraping page 24 \n",
      "No more reviews\n",
      "Scraping page 25 \n",
      "No more reviews\n",
      "Scraping page 26 \n",
      "No more reviews\n",
      "Scraping page 27 \n",
      "No more reviews\n",
      "Scraping page 28 \n",
      "No more reviews\n",
      "Scraping page 29 \n",
      "No more reviews\n",
      "Scraping page 30 \n",
      "No more reviews\n",
      "\n"
     ]
    },
    {
     "data": {
      "application/vnd.jupyter.widget-view+json": {
       "model_id": "2a1f3e23c5f64853a66bbfd1742727f2",
       "version_major": 2,
       "version_minor": 0
      },
      "text/plain": [
       "HBox(children=(FloatProgress(value=0.0, max=30.0), HTML(value='')))"
      ]
     },
     "metadata": {},
     "output_type": "display_data"
    },
    {
     "name": "stdout",
     "output_type": "stream",
     "text": [
      "Scraping page 1 \n",
      "Scraping page 2 \n",
      "Scraping page 3 \n",
      "Scraping page 4 \n",
      "Scraping page 5 \n",
      "Scraping page 6 \n",
      "Scraping page 7 \n",
      "Scraping page 8 \n",
      "Scraping page 9 \n",
      "Scraping page 10 \n",
      "Scraping page 11 \n",
      "Scraping page 12 \n",
      "Scraping page 13 \n",
      "Scraping page 14 \n",
      "Scraping page 15 \n",
      "Scraping page 16 \n",
      "Scraping page 17 \n",
      "Scraping page 18 \n",
      "Scraping page 19 \n",
      "Scraping page 20 \n",
      "Scraping page 21 \n",
      "Scraping page 22 \n",
      "Scraping page 23 \n",
      "Scraping page 24 \n",
      "Scraping page 25 \n",
      "Scraping page 26 \n",
      "Scraping page 27 \n",
      "Scraping page 28 \n",
      "Scraping page 29 \n",
      "Scraping page 30 \n",
      "\n"
     ]
    },
    {
     "data": {
      "application/vnd.jupyter.widget-view+json": {
       "model_id": "c2aff318325a40ce915eaa2b568338e5",
       "version_major": 2,
       "version_minor": 0
      },
      "text/plain": [
       "HBox(children=(FloatProgress(value=0.0, max=30.0), HTML(value='')))"
      ]
     },
     "metadata": {},
     "output_type": "display_data"
    },
    {
     "name": "stdout",
     "output_type": "stream",
     "text": [
      "Scraping page 1 \n",
      "Scraping page 2 \n",
      "Scraping page 3 \n",
      "Scraping page 4 \n",
      "Scraping page 5 \n",
      "Scraping page 6 \n",
      "Scraping page 7 \n",
      "Scraping page 8 \n",
      "Scraping page 9 \n",
      "Scraping page 10 \n",
      "Scraping page 11 \n",
      "Scraping page 12 \n",
      "Scraping page 13 \n",
      "Scraping page 14 \n",
      "Scraping page 15 \n",
      "Scraping page 16 \n",
      "Scraping page 17 \n",
      "Scraping page 18 \n",
      "Scraping page 19 \n",
      "Scraping page 20 \n",
      "Scraping page 21 \n",
      "Scraping page 22 \n",
      "Scraping page 23 \n",
      "Scraping page 24 \n",
      "Scraping page 25 \n",
      "Scraping page 26 \n",
      "Scraping page 27 \n",
      "Scraping page 28 \n",
      "Scraping page 29 \n",
      "Scraping page 30 \n",
      "\n"
     ]
    },
    {
     "data": {
      "application/vnd.jupyter.widget-view+json": {
       "model_id": "cdd28c10b9d84ff184d5e1892a21b8b1",
       "version_major": 2,
       "version_minor": 0
      },
      "text/plain": [
       "HBox(children=(FloatProgress(value=0.0, max=30.0), HTML(value='')))"
      ]
     },
     "metadata": {},
     "output_type": "display_data"
    },
    {
     "name": "stdout",
     "output_type": "stream",
     "text": [
      "Scraping page 1 \n",
      "Scraping page 2 \n",
      "Scraping page 3 \n",
      "Scraping page 4 \n",
      "Scraping page 5 \n",
      "Scraping page 6 \n",
      "Scraping page 7 \n",
      "Scraping page 8 \n",
      "Scraping page 9 \n",
      "Scraping page 10 \n",
      "Scraping page 11 \n",
      "Scraping page 12 \n",
      "Scraping page 13 \n",
      "Scraping page 14 \n",
      "Scraping page 15 \n",
      "Scraping page 16 \n",
      "Scraping page 17 \n",
      "Scraping page 18 \n",
      "Scraping page 19 \n",
      "Scraping page 20 \n",
      "Scraping page 21 \n",
      "Scraping page 22 \n",
      "Scraping page 23 \n",
      "Scraping page 24 \n",
      "Scraping page 25 \n",
      "Scraping page 26 \n",
      "Scraping page 27 \n",
      "Scraping page 28 \n",
      "Scraping page 29 \n",
      "Scraping page 30 \n",
      "\n"
     ]
    },
    {
     "data": {
      "application/vnd.jupyter.widget-view+json": {
       "model_id": "ff90927f846047339378527ae9670090",
       "version_major": 2,
       "version_minor": 0
      },
      "text/plain": [
       "HBox(children=(FloatProgress(value=0.0, max=30.0), HTML(value='')))"
      ]
     },
     "metadata": {},
     "output_type": "display_data"
    },
    {
     "name": "stdout",
     "output_type": "stream",
     "text": [
      "Scraping page 1 \n",
      "Scraping page 2 \n",
      "Scraping page 3 \n",
      "Scraping page 4 \n",
      "Scraping page 5 \n",
      "Scraping page 6 \n",
      "Scraping page 7 \n",
      "Scraping page 8 \n",
      "Scraping page 9 \n",
      "Scraping page 10 \n",
      "Scraping page 11 \n",
      "Scraping page 12 \n",
      "Scraping page 13 \n",
      "Scraping page 14 \n",
      "Scraping page 15 \n",
      "Scraping page 16 \n",
      "Scraping page 17 \n",
      "Scraping page 18 \n",
      "Scraping page 19 \n",
      "Scraping page 20 \n",
      "Scraping page 21 \n",
      "Scraping page 22 \n",
      "Scraping page 23 \n",
      "Scraping page 24 \n",
      "Scraping page 25 \n",
      "Scraping page 26 \n",
      "Scraping page 27 \n",
      "Scraping page 28 \n",
      "Scraping page 29 \n",
      "Scraping page 30 \n",
      "\n"
     ]
    },
    {
     "data": {
      "application/vnd.jupyter.widget-view+json": {
       "model_id": "f9c8e028b20e4c51a88af879b79206ef",
       "version_major": 2,
       "version_minor": 0
      },
      "text/plain": [
       "HBox(children=(FloatProgress(value=0.0, max=30.0), HTML(value='')))"
      ]
     },
     "metadata": {},
     "output_type": "display_data"
    },
    {
     "name": "stdout",
     "output_type": "stream",
     "text": [
      "Scraping page 1 \n",
      "Scraping page 2 \n",
      "Scraping page 3 \n",
      "Scraping page 4 \n",
      "Scraping page 5 \n",
      "Scraping page 6 \n",
      "Scraping page 7 \n",
      "Scraping page 8 \n",
      "Scraping page 9 \n",
      "Scraping page 10 \n",
      "Scraping page 11 \n",
      "Scraping page 12 \n",
      "Scraping page 13 \n",
      "Scraping page 14 \n",
      "Scraping page 15 \n",
      "Scraping page 16 \n",
      "Scraping page 17 \n",
      "Scraping page 18 \n",
      "Scraping page 19 \n",
      "Scraping page 20 \n",
      "Scraping page 21 \n",
      "Scraping page 22 \n",
      "Scraping page 23 \n",
      "Scraping page 24 \n",
      "Scraping page 25 \n",
      "Scraping page 26 \n",
      "Scraping page 27 \n",
      "Scraping page 28 \n",
      "Scraping page 29 \n",
      "Scraping page 30 \n",
      "\n"
     ]
    },
    {
     "data": {
      "application/vnd.jupyter.widget-view+json": {
       "model_id": "c83a5e5129bf493c989ac0444c5bf474",
       "version_major": 2,
       "version_minor": 0
      },
      "text/plain": [
       "HBox(children=(FloatProgress(value=0.0, max=30.0), HTML(value='')))"
      ]
     },
     "metadata": {},
     "output_type": "display_data"
    },
    {
     "name": "stdout",
     "output_type": "stream",
     "text": [
      "Scraping page 1 \n",
      "Scraping page 2 \n",
      "Scraping page 3 \n",
      "Scraping page 4 \n",
      "Scraping page 5 \n",
      "Scraping page 6 \n",
      "Scraping page 7 \n",
      "Scraping page 8 \n",
      "Scraping page 9 \n",
      "Scraping page 10 \n",
      "Scraping page 11 \n",
      "Scraping page 12 \n",
      "Scraping page 13 \n",
      "Scraping page 14 \n",
      "Scraping page 15 \n",
      "Scraping page 16 \n",
      "Scraping page 17 \n",
      "Scraping page 18 \n",
      "Scraping page 19 \n",
      "Scraping page 20 \n",
      "Scraping page 21 \n",
      "Scraping page 22 \n",
      "Scraping page 23 \n",
      "Scraping page 24 \n",
      "Scraping page 25 \n",
      "Scraping page 26 \n",
      "Scraping page 27 \n",
      "Scraping page 28 \n",
      "Scraping page 29 \n",
      "Scraping page 30 \n",
      "\n"
     ]
    },
    {
     "data": {
      "application/vnd.jupyter.widget-view+json": {
       "model_id": "e7d9179c13f347e08c1cb75ff8da58db",
       "version_major": 2,
       "version_minor": 0
      },
      "text/plain": [
       "HBox(children=(FloatProgress(value=0.0, max=30.0), HTML(value='')))"
      ]
     },
     "metadata": {},
     "output_type": "display_data"
    },
    {
     "name": "stdout",
     "output_type": "stream",
     "text": [
      "Scraping page 1 \n",
      "Scraping page 2 \n",
      "Scraping page 3 \n",
      "Scraping page 4 \n",
      "Scraping page 5 \n",
      "Scraping page 6 \n",
      "Scraping page 7 \n",
      "Scraping page 8 \n",
      "Scraping page 9 \n",
      "Scraping page 10 \n",
      "Scraping page 11 \n",
      "Scraping page 12 \n",
      "Scraping page 13 \n",
      "Scraping page 14 \n",
      "Scraping page 15 \n",
      "Scraping page 16 \n",
      "Scraping page 17 \n",
      "Scraping page 18 \n",
      "Scraping page 19 \n",
      "Scraping page 20 \n",
      "Scraping page 21 \n",
      "Scraping page 22 \n",
      "Scraping page 23 \n",
      "Scraping page 24 \n",
      "Scraping page 25 \n",
      "Scraping page 26 \n",
      "Scraping page 27 \n",
      "Scraping page 28 \n",
      "Scraping page 29 \n",
      "Scraping page 30 \n",
      "\n"
     ]
    },
    {
     "data": {
      "application/vnd.jupyter.widget-view+json": {
       "model_id": "7e23abe6f92c4bf2a2a90ecdc20ed2c7",
       "version_major": 2,
       "version_minor": 0
      },
      "text/plain": [
       "HBox(children=(FloatProgress(value=0.0, max=30.0), HTML(value='')))"
      ]
     },
     "metadata": {},
     "output_type": "display_data"
    },
    {
     "name": "stdout",
     "output_type": "stream",
     "text": [
      "Scraping page 1 \n",
      "Scraping page 2 \n",
      "Scraping page 3 \n",
      "Scraping page 4 \n",
      "Scraping page 5 \n",
      "Scraping page 6 \n",
      "Scraping page 7 \n",
      "Scraping page 8 \n",
      "Scraping page 9 \n",
      "Scraping page 10 \n",
      "Scraping page 11 \n",
      "Scraping page 12 \n",
      "Scraping page 13 \n",
      "Scraping page 14 \n",
      "Scraping page 15 \n",
      "Scraping page 16 \n",
      "Scraping page 17 \n",
      "Scraping page 18 \n",
      "Scraping page 19 \n",
      "Scraping page 20 \n",
      "Scraping page 21 \n",
      "Scraping page 22 \n",
      "Scraping page 23 \n",
      "Scraping page 24 \n",
      "Scraping page 25 \n",
      "Scraping page 26 \n",
      "Scraping page 27 \n",
      "Scraping page 28 \n",
      "Scraping page 29 \n",
      "Scraping page 30 \n",
      "\n"
     ]
    },
    {
     "data": {
      "application/vnd.jupyter.widget-view+json": {
       "model_id": "8e4303e2e8124b80ae4b4b60137c6b5b",
       "version_major": 2,
       "version_minor": 0
      },
      "text/plain": [
       "HBox(children=(FloatProgress(value=0.0, max=30.0), HTML(value='')))"
      ]
     },
     "metadata": {},
     "output_type": "display_data"
    },
    {
     "name": "stdout",
     "output_type": "stream",
     "text": [
      "Scraping page 1 \n",
      "Scraping page 2 \n",
      "Scraping page 3 \n",
      "Scraping page 4 \n",
      "Scraping page 5 \n",
      "Scraping page 6 \n",
      "Scraping page 7 \n",
      "Scraping page 8 \n",
      "Scraping page 9 \n",
      "Scraping page 10 \n",
      "Scraping page 11 \n",
      "Scraping page 12 \n",
      "Scraping page 13 \n",
      "Scraping page 14 \n",
      "Scraping page 15 \n",
      "Scraping page 16 \n",
      "Scraping page 17 \n",
      "Scraping page 18 \n",
      "Scraping page 19 \n",
      "Scraping page 20 \n",
      "No more reviews\n",
      "Scraping page 21 \n",
      "No more reviews\n",
      "Scraping page 22 \n",
      "No more reviews\n",
      "Scraping page 23 \n",
      "No more reviews\n",
      "Scraping page 24 \n",
      "No more reviews\n",
      "Scraping page 25 \n",
      "No more reviews\n",
      "Scraping page 26 \n",
      "No more reviews\n",
      "Scraping page 27 \n",
      "No more reviews\n",
      "Scraping page 28 \n",
      "No more reviews\n",
      "Scraping page 29 \n",
      "No more reviews\n",
      "Scraping page 30 \n",
      "No more reviews\n",
      "\n"
     ]
    },
    {
     "data": {
      "application/vnd.jupyter.widget-view+json": {
       "model_id": "e538364cef73404ea5ababc421187e0e",
       "version_major": 2,
       "version_minor": 0
      },
      "text/plain": [
       "HBox(children=(FloatProgress(value=0.0, max=30.0), HTML(value='')))"
      ]
     },
     "metadata": {},
     "output_type": "display_data"
    },
    {
     "name": "stdout",
     "output_type": "stream",
     "text": [
      "Scraping page 1 \n",
      "Scraping page 2 \n",
      "Scraping page 3 \n",
      "Scraping page 4 \n",
      "Scraping page 5 \n",
      "Scraping page 6 \n",
      "Scraping page 7 \n",
      "Scraping page 8 \n",
      "Scraping page 9 \n",
      "Scraping page 10 \n",
      "Scraping page 11 \n",
      "Scraping page 12 \n",
      "Scraping page 13 \n",
      "Scraping page 14 \n",
      "Scraping page 15 \n",
      "Scraping page 16 \n",
      "Scraping page 17 \n",
      "Scraping page 18 \n",
      "Scraping page 19 \n",
      "Scraping page 20 \n",
      "Scraping page 21 \n",
      "Scraping page 22 \n",
      "Scraping page 23 \n",
      "Scraping page 24 \n",
      "Scraping page 25 \n",
      "Scraping page 26 \n",
      "Scraping page 27 \n",
      "Scraping page 28 \n",
      "Scraping page 29 \n",
      "Scraping page 30 \n",
      "\n"
     ]
    },
    {
     "data": {
      "application/vnd.jupyter.widget-view+json": {
       "model_id": "43e145dbe0b549aea083141019ed00b8",
       "version_major": 2,
       "version_minor": 0
      },
      "text/plain": [
       "HBox(children=(FloatProgress(value=0.0, max=30.0), HTML(value='')))"
      ]
     },
     "metadata": {},
     "output_type": "display_data"
    },
    {
     "name": "stdout",
     "output_type": "stream",
     "text": [
      "Scraping page 1 \n",
      "Scraping page 2 \n",
      "Scraping page 3 \n",
      "Scraping page 4 \n",
      "Scraping page 5 \n",
      "Scraping page 6 \n",
      "Scraping page 7 \n",
      "Scraping page 8 \n",
      "Scraping page 9 \n",
      "Scraping page 10 \n",
      "Scraping page 11 \n",
      "Scraping page 12 \n",
      "Scraping page 13 \n",
      "Scraping page 14 \n",
      "Scraping page 15 \n",
      "Scraping page 16 \n",
      "Scraping page 17 \n",
      "Scraping page 18 \n",
      "Scraping page 19 \n",
      "Scraping page 20 \n",
      "Scraping page 21 \n",
      "Scraping page 22 \n",
      "Scraping page 23 \n",
      "Scraping page 24 \n",
      "Scraping page 25 \n",
      "Scraping page 26 \n",
      "Scraping page 27 \n",
      "Scraping page 28 \n",
      "Scraping page 29 \n",
      "Scraping page 30 \n",
      "\n"
     ]
    },
    {
     "data": {
      "application/vnd.jupyter.widget-view+json": {
       "model_id": "477e2e46d1bb47aeaa2a47ea2907805c",
       "version_major": 2,
       "version_minor": 0
      },
      "text/plain": [
       "HBox(children=(FloatProgress(value=0.0, max=30.0), HTML(value='')))"
      ]
     },
     "metadata": {},
     "output_type": "display_data"
    },
    {
     "name": "stdout",
     "output_type": "stream",
     "text": [
      "Scraping page 1 \n",
      "Scraping page 2 \n",
      "Scraping page 3 \n",
      "Scraping page 4 \n",
      "Scraping page 5 \n",
      "Scraping page 6 \n",
      "Scraping page 7 \n",
      "Scraping page 8 \n",
      "Scraping page 9 \n",
      "Scraping page 10 \n",
      "Scraping page 11 \n",
      "Scraping page 12 \n",
      "Scraping page 13 \n",
      "Scraping page 14 \n",
      "Scraping page 15 \n",
      "Scraping page 16 \n",
      "Scraping page 17 \n",
      "Scraping page 18 \n",
      "Scraping page 19 \n",
      "Scraping page 20 \n",
      "Scraping page 21 \n",
      "Scraping page 22 \n",
      "Scraping page 23 \n",
      "Scraping page 24 \n",
      "Scraping page 25 \n",
      "Scraping page 26 \n",
      "Scraping page 27 \n",
      "Scraping page 28 \n",
      "Scraping page 29 \n",
      "Scraping page 30 \n",
      "\n"
     ]
    },
    {
     "data": {
      "application/vnd.jupyter.widget-view+json": {
       "model_id": "d3b638e238c04edbabdf0de738485f3a",
       "version_major": 2,
       "version_minor": 0
      },
      "text/plain": [
       "HBox(children=(FloatProgress(value=0.0, max=30.0), HTML(value='')))"
      ]
     },
     "metadata": {},
     "output_type": "display_data"
    },
    {
     "name": "stdout",
     "output_type": "stream",
     "text": [
      "Scraping page 1 \n",
      "Scraping page 2 \n",
      "Scraping page 3 \n",
      "Scraping page 4 \n",
      "Scraping page 5 \n",
      "Scraping page 6 \n",
      "Scraping page 7 \n",
      "Scraping page 8 \n",
      "Scraping page 9 \n",
      "Scraping page 10 \n",
      "Scraping page 11 \n",
      "Scraping page 12 \n",
      "Scraping page 13 \n",
      "Scraping page 14 \n",
      "Scraping page 15 \n",
      "Scraping page 16 \n",
      "Scraping page 17 \n",
      "Scraping page 18 \n",
      "Scraping page 19 \n",
      "Scraping page 20 \n",
      "Scraping page 21 \n",
      "Scraping page 22 \n",
      "Scraping page 23 \n",
      "Scraping page 24 \n",
      "Scraping page 25 \n",
      "Scraping page 26 \n",
      "Scraping page 27 \n",
      "Scraping page 28 \n",
      "Scraping page 29 \n",
      "Scraping page 30 \n",
      "\n"
     ]
    },
    {
     "data": {
      "application/vnd.jupyter.widget-view+json": {
       "model_id": "cc7fc046dab747febf3aa7390cb58d2f",
       "version_major": 2,
       "version_minor": 0
      },
      "text/plain": [
       "HBox(children=(FloatProgress(value=0.0, max=30.0), HTML(value='')))"
      ]
     },
     "metadata": {},
     "output_type": "display_data"
    },
    {
     "name": "stdout",
     "output_type": "stream",
     "text": [
      "Scraping page 1 \n",
      "Scraping page 2 \n",
      "Scraping page 3 \n",
      "Scraping page 4 \n",
      "Scraping page 5 \n",
      "Scraping page 6 \n",
      "Scraping page 7 \n",
      "Scraping page 8 \n",
      "Scraping page 9 \n",
      "Scraping page 10 \n",
      "Scraping page 11 \n",
      "Scraping page 12 \n",
      "Scraping page 13 \n",
      "Scraping page 14 \n",
      "Scraping page 15 \n",
      "Scraping page 16 \n",
      "Scraping page 17 \n",
      "Scraping page 18 \n",
      "Scraping page 19 \n",
      "Scraping page 20 \n",
      "Scraping page 21 \n",
      "Scraping page 22 \n",
      "Scraping page 23 \n",
      "Scraping page 24 \n",
      "Scraping page 25 \n",
      "Scraping page 26 \n",
      "Scraping page 27 \n",
      "Scraping page 28 \n",
      "Scraping page 29 \n",
      "Scraping page 30 \n",
      "\n"
     ]
    },
    {
     "data": {
      "application/vnd.jupyter.widget-view+json": {
       "model_id": "291213388b5a41b8b4f56a38d626c0e0",
       "version_major": 2,
       "version_minor": 0
      },
      "text/plain": [
       "HBox(children=(FloatProgress(value=0.0, max=30.0), HTML(value='')))"
      ]
     },
     "metadata": {},
     "output_type": "display_data"
    },
    {
     "name": "stdout",
     "output_type": "stream",
     "text": [
      "Scraping page 1 \n",
      "Scraping page 2 \n",
      "Scraping page 3 \n",
      "Scraping page 4 \n",
      "Scraping page 5 \n",
      "Scraping page 6 \n",
      "Scraping page 7 \n",
      "Scraping page 8 \n",
      "Scraping page 9 \n",
      "Scraping page 10 \n",
      "Scraping page 11 \n",
      "Scraping page 12 \n",
      "Scraping page 13 \n",
      "Scraping page 14 \n",
      "Scraping page 15 \n",
      "Scraping page 16 \n",
      "Scraping page 17 \n",
      "Scraping page 18 \n",
      "Scraping page 19 \n",
      "Scraping page 20 \n",
      "Scraping page 21 \n",
      "Scraping page 22 \n",
      "Scraping page 23 \n",
      "Scraping page 24 \n",
      "Scraping page 25 \n",
      "Scraping page 26 \n",
      "Scraping page 27 \n",
      "Scraping page 28 \n",
      "Scraping page 29 \n",
      "Scraping page 30 \n",
      "\n"
     ]
    },
    {
     "data": {
      "application/vnd.jupyter.widget-view+json": {
       "model_id": "1b1abe6420e149fd8b0b26f1fe08a5d5",
       "version_major": 2,
       "version_minor": 0
      },
      "text/plain": [
       "HBox(children=(FloatProgress(value=0.0, max=30.0), HTML(value='')))"
      ]
     },
     "metadata": {},
     "output_type": "display_data"
    },
    {
     "name": "stdout",
     "output_type": "stream",
     "text": [
      "Scraping page 1 \n",
      "No more reviews\n",
      "Scraping page 2 \n",
      "No more reviews\n",
      "Scraping page 3 \n",
      "No more reviews\n",
      "Scraping page 4 \n",
      "No more reviews\n",
      "Scraping page 5 \n",
      "No more reviews\n",
      "Scraping page 6 \n",
      "No more reviews\n",
      "Scraping page 7 \n",
      "No more reviews\n",
      "Scraping page 8 \n",
      "No more reviews\n",
      "Scraping page 9 \n",
      "No more reviews\n",
      "Scraping page 10 \n",
      "No more reviews\n",
      "Scraping page 11 \n",
      "No more reviews\n",
      "Scraping page 12 \n",
      "No more reviews\n",
      "Scraping page 13 \n",
      "No more reviews\n",
      "Scraping page 14 \n",
      "No more reviews\n",
      "Scraping page 15 \n",
      "No more reviews\n",
      "Scraping page 16 \n",
      "No more reviews\n",
      "Scraping page 17 \n",
      "No more reviews\n",
      "Scraping page 18 \n",
      "No more reviews\n",
      "Scraping page 19 \n",
      "No more reviews\n",
      "Scraping page 20 \n",
      "No more reviews\n",
      "Scraping page 21 \n",
      "No more reviews\n",
      "Scraping page 22 \n",
      "No more reviews\n",
      "Scraping page 23 \n",
      "No more reviews\n",
      "Scraping page 24 \n",
      "No more reviews\n",
      "Scraping page 25 \n",
      "No more reviews\n",
      "Scraping page 26 \n",
      "No more reviews\n",
      "Scraping page 27 \n",
      "No more reviews\n",
      "Scraping page 28 \n",
      "No more reviews\n",
      "Scraping page 29 \n",
      "No more reviews\n",
      "Scraping page 30 \n",
      "No more reviews\n",
      "\n"
     ]
    },
    {
     "data": {
      "application/vnd.jupyter.widget-view+json": {
       "model_id": "277b9abc07024062ab50f7b060c7472b",
       "version_major": 2,
       "version_minor": 0
      },
      "text/plain": [
       "HBox(children=(FloatProgress(value=0.0, max=30.0), HTML(value='')))"
      ]
     },
     "metadata": {},
     "output_type": "display_data"
    },
    {
     "name": "stdout",
     "output_type": "stream",
     "text": [
      "Scraping page 1 \n",
      "Scraping page 2 \n",
      "Scraping page 3 \n",
      "Scraping page 4 \n",
      "Scraping page 5 \n",
      "Scraping page 6 \n",
      "Scraping page 7 \n",
      "Scraping page 8 \n",
      "Scraping page 9 \n",
      "Scraping page 10 \n",
      "Scraping page 11 \n",
      "Scraping page 12 \n",
      "Scraping page 13 \n",
      "Scraping page 14 \n",
      "Scraping page 15 \n",
      "Scraping page 16 \n",
      "Scraping page 17 \n",
      "Scraping page 18 \n",
      "Scraping page 19 \n",
      "Scraping page 20 \n",
      "Scraping page 21 \n",
      "Scraping page 22 \n",
      "Scraping page 23 \n",
      "Scraping page 24 \n",
      "Scraping page 25 \n",
      "Scraping page 26 \n",
      "Scraping page 27 \n",
      "Scraping page 28 \n",
      "Scraping page 29 \n",
      "Scraping page 30 \n",
      "\n",
      "\n"
     ]
    }
   ],
   "source": [
    "# Using forloop to scrape the data from each product url\n",
    "for url in tqdm_notebook(product_url):\n",
    "    driver.get(url)\n",
    "    time.sleep(1.5)\n",
    "    \n",
    "    # going to ratings page\n",
    "    try:driver.find_element_by_xpath(\"//*[@id='acrCustomerReviewLink']\").click()\n",
    "    except NoSuchElementException:\n",
    "        print(cl(\"No ratings available\",color='blue',attrs=['dark']))\n",
    "        pass\n",
    "\n",
    "    # Click to see all reviews of product\n",
    "    try:driver.find_element_by_xpath('//*[@id=\"reviews-medley-footer\"]/div[2]/a').click()\n",
    "    except NoSuchElementException :\n",
    "        print(cl(\"No more reviews\",color='green',attrs=['dark']))\n",
    "        pass\n",
    "        \n",
    "    time.sleep(1.5)\n",
    "    for i in tqdm_notebook(range(0,30)):\n",
    "        time.sleep(1)\n",
    "        \n",
    "        # Fetch ratings of product from each review\n",
    "        try:\n",
    "            RATINGS = driver.find_elements_by_xpath('//div[@class=\"a-section celwidget\"]/div[2]/a[1]')\n",
    "            for r in RATINGS:\n",
    "                driver.implicitly_wait(2)\n",
    "                rate=r.get_attribute('title')\n",
    "                ratings.append(rate[:3])\n",
    "        except NoSuchElementException:\n",
    "            ratings.append(\"Not Availabel\")\n",
    "\n",
    "        # fetching reviews of product        \n",
    "        try:\n",
    "            REVIEWS = driver.find_elements_by_xpath('//div[@class=\"a-section celwidget\"]/div[4]')\n",
    "            for v in REVIEWS:\n",
    "                reviews.append(v.text.replace('\\n',''))\n",
    "        except NoSuchElementException:\n",
    "            reviews.append(\"Not Availabel\")\n",
    "        \n",
    "        #Printing the page scrapped\n",
    "        print(\"Scraping page {} \".format(i+1))\n",
    "        \n",
    "        # Going to next page of reviews\n",
    "        try:driver.find_element_by_xpath('//*[@id=\"cm_cr-pagination_bar\"]/ul/li[2]/a').click()\n",
    "       \n",
    "        except NoSuchElementException:\n",
    "            print(\"No more reviews\")\n",
    "            pass\n",
    "        "
   ]
  },
  {
   "cell_type": "code",
   "execution_count": 18,
   "metadata": {},
   "outputs": [
    {
     "data": {
      "text/plain": [
       "9158"
      ]
     },
     "execution_count": 18,
     "metadata": {},
     "output_type": "execute_result"
    }
   ],
   "source": [
    "len(reviews)"
   ]
  },
  {
   "cell_type": "code",
   "execution_count": 20,
   "metadata": {},
   "outputs": [],
   "source": [
    "# Storing data into pandas dataframe\n",
    "iphone11=pd.DataFrame({\"Reviews\":reviews,\"Ratings\":ratings})\n",
    "iphone11.to_csv(\"iphone11.csv\")"
   ]
  },
  {
   "cell_type": "markdown",
   "metadata": {},
   "source": [
    "### Collecting  reviews data of laptops"
   ]
  },
  {
   "cell_type": "code",
   "execution_count": 21,
   "metadata": {},
   "outputs": [
    {
     "data": {
      "application/vnd.jupyter.widget-view+json": {
       "model_id": "b63bc73b179a494cb066bb5afcfe9ad4",
       "version_major": 2,
       "version_minor": 0
      },
      "text/plain": [
       "HBox(children=(FloatProgress(value=0.0, max=2.0), HTML(value='')))"
      ]
     },
     "metadata": {},
     "output_type": "display_data"
    },
    {
     "name": "stdout",
     "output_type": "stream",
     "text": [
      "\n"
     ]
    }
   ],
   "source": [
    "# CAlling webdrive\n",
    "driver = webdriver.Chrome('chromedriver.exe')\n",
    "# Sending url to open the webpage\n",
    "driver.get('https://www.amazon.in/')\n",
    "\n",
    "# Using search bar sending our input to search desired data\n",
    "driver.find_element_by_xpath(\"//input[@id='twotabsearchtextbox']\").send_keys('laptops',Keys.ENTER)\n",
    "\n",
    "# Create empty list to store product url\n",
    "product_url = []\n",
    "for i in tqdm_notebook(range(0,2)):\n",
    "    URLS = driver.find_elements_by_xpath(\"//div[@class='a-section a-spacing-none']/div/h2/a\")\n",
    "    for u in URLS:\n",
    "        product_url.append(u.get_attribute(\"href\"))\n",
    "    \n",
    "    # Click the button to go to next page\n",
    "    try:driver.find_element_by_xpath(\"//*[@id='search']/div[1]/div/div[1]/div/span[3]/div[2]/div[28]/span/div/div/ul/li[7]/a\").click()\n",
    "    except NoSuchElementException:\n",
    "        pass\n",
    "# Creating empty list to store ratings and reviews\n",
    "reviews = []\n",
    "ratings = []"
   ]
  },
  {
   "cell_type": "code",
   "execution_count": 22,
   "metadata": {},
   "outputs": [
    {
     "data": {
      "application/vnd.jupyter.widget-view+json": {
       "model_id": "9536a39389ab4560ac6e644341807f7e",
       "version_major": 2,
       "version_minor": 0
      },
      "text/plain": [
       "HBox(children=(FloatProgress(value=0.0, max=44.0), HTML(value='')))"
      ]
     },
     "metadata": {},
     "output_type": "display_data"
    },
    {
     "data": {
      "application/vnd.jupyter.widget-view+json": {
       "model_id": "3beb241d18f1425ab5487b2137aa60f8",
       "version_major": 2,
       "version_minor": 0
      },
      "text/plain": [
       "HBox(children=(FloatProgress(value=0.0, max=30.0), HTML(value='')))"
      ]
     },
     "metadata": {},
     "output_type": "display_data"
    },
    {
     "name": "stdout",
     "output_type": "stream",
     "text": [
      "Scraping page 1 \n",
      "No more reviews\n",
      "Scraping page 2 \n",
      "No more reviews\n",
      "Scraping page 3 \n",
      "No more reviews\n",
      "Scraping page 4 \n",
      "No more reviews\n",
      "Scraping page 5 \n",
      "No more reviews\n",
      "Scraping page 6 \n",
      "No more reviews\n",
      "Scraping page 7 \n",
      "No more reviews\n",
      "Scraping page 8 \n",
      "No more reviews\n",
      "Scraping page 9 \n",
      "No more reviews\n",
      "Scraping page 10 \n",
      "No more reviews\n",
      "Scraping page 11 \n",
      "No more reviews\n",
      "Scraping page 12 \n",
      "No more reviews\n",
      "Scraping page 13 \n",
      "No more reviews\n",
      "Scraping page 14 \n",
      "No more reviews\n",
      "Scraping page 15 \n",
      "No more reviews\n",
      "Scraping page 16 \n",
      "No more reviews\n",
      "Scraping page 17 \n",
      "No more reviews\n",
      "Scraping page 18 \n",
      "No more reviews\n",
      "Scraping page 19 \n",
      "No more reviews\n",
      "Scraping page 20 \n",
      "No more reviews\n",
      "Scraping page 21 \n",
      "No more reviews\n",
      "Scraping page 22 \n",
      "No more reviews\n",
      "Scraping page 23 \n",
      "No more reviews\n",
      "Scraping page 24 \n",
      "No more reviews\n",
      "Scraping page 25 \n",
      "No more reviews\n",
      "Scraping page 26 \n",
      "No more reviews\n",
      "Scraping page 27 \n",
      "No more reviews\n",
      "Scraping page 28 \n",
      "No more reviews\n",
      "Scraping page 29 \n",
      "No more reviews\n",
      "Scraping page 30 \n",
      "No more reviews\n",
      "\n"
     ]
    },
    {
     "data": {
      "application/vnd.jupyter.widget-view+json": {
       "model_id": "1c823fa234da4ecea2a28c3474e8366f",
       "version_major": 2,
       "version_minor": 0
      },
      "text/plain": [
       "HBox(children=(FloatProgress(value=0.0, max=30.0), HTML(value='')))"
      ]
     },
     "metadata": {},
     "output_type": "display_data"
    },
    {
     "name": "stdout",
     "output_type": "stream",
     "text": [
      "Scraping page 1 \n",
      "Scraping page 2 \n",
      "Scraping page 3 \n",
      "Scraping page 4 \n",
      "Scraping page 5 \n",
      "Scraping page 6 \n",
      "Scraping page 7 \n",
      "No more reviews\n",
      "Scraping page 8 \n",
      "No more reviews\n",
      "Scraping page 9 \n",
      "No more reviews\n",
      "Scraping page 10 \n",
      "No more reviews\n",
      "Scraping page 11 \n",
      "No more reviews\n",
      "Scraping page 12 \n",
      "No more reviews\n",
      "Scraping page 13 \n",
      "No more reviews\n",
      "Scraping page 14 \n",
      "No more reviews\n",
      "Scraping page 15 \n",
      "No more reviews\n",
      "Scraping page 16 \n",
      "No more reviews\n",
      "Scraping page 17 \n",
      "No more reviews\n",
      "Scraping page 18 \n",
      "No more reviews\n",
      "Scraping page 19 \n",
      "No more reviews\n",
      "Scraping page 20 \n",
      "No more reviews\n",
      "Scraping page 21 \n",
      "No more reviews\n",
      "Scraping page 22 \n",
      "No more reviews\n",
      "Scraping page 23 \n",
      "No more reviews\n",
      "Scraping page 24 \n",
      "No more reviews\n",
      "Scraping page 25 \n",
      "No more reviews\n",
      "Scraping page 26 \n",
      "No more reviews\n",
      "Scraping page 27 \n",
      "No more reviews\n",
      "Scraping page 28 \n",
      "No more reviews\n",
      "Scraping page 29 \n",
      "No more reviews\n",
      "Scraping page 30 \n",
      "No more reviews\n",
      "\n"
     ]
    },
    {
     "data": {
      "application/vnd.jupyter.widget-view+json": {
       "model_id": "e43ed6976cec47d899c4fa9f4c7d22e5",
       "version_major": 2,
       "version_minor": 0
      },
      "text/plain": [
       "HBox(children=(FloatProgress(value=0.0, max=30.0), HTML(value='')))"
      ]
     },
     "metadata": {},
     "output_type": "display_data"
    },
    {
     "name": "stdout",
     "output_type": "stream",
     "text": [
      "Scraping page 1 \n",
      "Scraping page 2 \n",
      "Scraping page 3 \n",
      "Scraping page 4 \n",
      "Scraping page 5 \n",
      "Scraping page 6 \n",
      "Scraping page 7 \n",
      "No more reviews\n",
      "Scraping page 8 \n",
      "No more reviews\n",
      "Scraping page 9 \n",
      "No more reviews\n",
      "Scraping page 10 \n",
      "No more reviews\n",
      "Scraping page 11 \n",
      "No more reviews\n",
      "Scraping page 12 \n",
      "No more reviews\n",
      "Scraping page 13 \n",
      "No more reviews\n",
      "Scraping page 14 \n",
      "No more reviews\n",
      "Scraping page 15 \n",
      "No more reviews\n",
      "Scraping page 16 \n",
      "No more reviews\n",
      "Scraping page 17 \n",
      "No more reviews\n",
      "Scraping page 18 \n",
      "No more reviews\n",
      "Scraping page 19 \n",
      "No more reviews\n",
      "Scraping page 20 \n",
      "No more reviews\n",
      "Scraping page 21 \n",
      "No more reviews\n",
      "Scraping page 22 \n",
      "No more reviews\n",
      "Scraping page 23 \n",
      "No more reviews\n",
      "Scraping page 24 \n",
      "No more reviews\n",
      "Scraping page 25 \n",
      "No more reviews\n",
      "Scraping page 26 \n",
      "No more reviews\n",
      "Scraping page 27 \n",
      "No more reviews\n",
      "Scraping page 28 \n",
      "No more reviews\n",
      "Scraping page 29 \n",
      "No more reviews\n",
      "Scraping page 30 \n",
      "No more reviews\n",
      "\n"
     ]
    },
    {
     "data": {
      "application/vnd.jupyter.widget-view+json": {
       "model_id": "a6596567be894bac8c4d49b92f00836c",
       "version_major": 2,
       "version_minor": 0
      },
      "text/plain": [
       "HBox(children=(FloatProgress(value=0.0, max=30.0), HTML(value='')))"
      ]
     },
     "metadata": {},
     "output_type": "display_data"
    },
    {
     "name": "stdout",
     "output_type": "stream",
     "text": [
      "Scraping page 1 \n",
      "Scraping page 2 \n",
      "Scraping page 3 \n",
      "Scraping page 4 \n",
      "Scraping page 5 \n",
      "Scraping page 6 \n",
      "Scraping page 7 \n",
      "Scraping page 8 \n",
      "Scraping page 9 \n",
      "Scraping page 10 \n",
      "Scraping page 11 \n",
      "Scraping page 12 \n",
      "Scraping page 13 \n",
      "Scraping page 14 \n",
      "Scraping page 15 \n",
      "Scraping page 16 \n",
      "Scraping page 17 \n",
      "Scraping page 18 \n",
      "No more reviews\n",
      "Scraping page 19 \n",
      "No more reviews\n",
      "Scraping page 20 \n",
      "No more reviews\n",
      "Scraping page 21 \n",
      "No more reviews\n",
      "Scraping page 22 \n",
      "No more reviews\n",
      "Scraping page 23 \n",
      "No more reviews\n",
      "Scraping page 24 \n",
      "No more reviews\n",
      "Scraping page 25 \n",
      "No more reviews\n",
      "Scraping page 26 \n",
      "No more reviews\n",
      "Scraping page 27 \n",
      "No more reviews\n",
      "Scraping page 28 \n",
      "No more reviews\n",
      "Scraping page 29 \n",
      "No more reviews\n",
      "Scraping page 30 \n",
      "No more reviews\n",
      "\n"
     ]
    },
    {
     "data": {
      "application/vnd.jupyter.widget-view+json": {
       "model_id": "9b10de736dd640daa74f54ce1f9b7222",
       "version_major": 2,
       "version_minor": 0
      },
      "text/plain": [
       "HBox(children=(FloatProgress(value=0.0, max=30.0), HTML(value='')))"
      ]
     },
     "metadata": {},
     "output_type": "display_data"
    },
    {
     "name": "stdout",
     "output_type": "stream",
     "text": [
      "Scraping page 1 \n",
      "Scraping page 2 \n",
      "Scraping page 3 \n",
      "Scraping page 4 \n",
      "Scraping page 5 \n",
      "Scraping page 6 \n",
      "Scraping page 7 \n",
      "Scraping page 8 \n",
      "Scraping page 9 \n",
      "Scraping page 10 \n",
      "Scraping page 11 \n",
      "Scraping page 12 \n",
      "Scraping page 13 \n",
      "Scraping page 14 \n",
      "Scraping page 15 \n",
      "Scraping page 16 \n",
      "Scraping page 17 \n",
      "Scraping page 18 \n",
      "Scraping page 19 \n",
      "Scraping page 20 \n",
      "Scraping page 21 \n",
      "Scraping page 22 \n",
      "Scraping page 23 \n",
      "Scraping page 24 \n",
      "Scraping page 25 \n",
      "Scraping page 26 \n",
      "Scraping page 27 \n",
      "Scraping page 28 \n",
      "Scraping page 29 \n",
      "Scraping page 30 \n",
      "\n"
     ]
    },
    {
     "data": {
      "application/vnd.jupyter.widget-view+json": {
       "model_id": "ce706b3c0a7a464d9e82cfe46ac22621",
       "version_major": 2,
       "version_minor": 0
      },
      "text/plain": [
       "HBox(children=(FloatProgress(value=0.0, max=30.0), HTML(value='')))"
      ]
     },
     "metadata": {},
     "output_type": "display_data"
    },
    {
     "name": "stdout",
     "output_type": "stream",
     "text": [
      "Scraping page 1 \n",
      "No more reviews\n",
      "Scraping page 2 \n",
      "No more reviews\n",
      "Scraping page 3 \n",
      "No more reviews\n",
      "Scraping page 4 \n",
      "No more reviews\n",
      "Scraping page 5 \n",
      "No more reviews\n",
      "Scraping page 6 \n",
      "No more reviews\n",
      "Scraping page 7 \n",
      "No more reviews\n",
      "Scraping page 8 \n",
      "No more reviews\n",
      "Scraping page 9 \n",
      "No more reviews\n",
      "Scraping page 10 \n",
      "No more reviews\n",
      "Scraping page 11 \n",
      "No more reviews\n",
      "Scraping page 12 \n",
      "No more reviews\n",
      "Scraping page 13 \n",
      "No more reviews\n",
      "Scraping page 14 \n",
      "No more reviews\n",
      "Scraping page 15 \n",
      "No more reviews\n",
      "Scraping page 16 \n",
      "No more reviews\n",
      "Scraping page 17 \n",
      "No more reviews\n",
      "Scraping page 18 \n",
      "No more reviews\n",
      "Scraping page 19 \n",
      "No more reviews\n",
      "Scraping page 20 \n",
      "No more reviews\n",
      "Scraping page 21 \n",
      "No more reviews\n",
      "Scraping page 22 \n",
      "No more reviews\n",
      "Scraping page 23 \n",
      "No more reviews\n",
      "Scraping page 24 \n",
      "No more reviews\n",
      "Scraping page 25 \n",
      "No more reviews\n",
      "Scraping page 26 \n",
      "No more reviews\n",
      "Scraping page 27 \n",
      "No more reviews\n",
      "Scraping page 28 \n",
      "No more reviews\n",
      "Scraping page 29 \n",
      "No more reviews\n",
      "Scraping page 30 \n",
      "No more reviews\n",
      "\n"
     ]
    },
    {
     "data": {
      "application/vnd.jupyter.widget-view+json": {
       "model_id": "07b51a37a18f4282bc8ce938765ddc3b",
       "version_major": 2,
       "version_minor": 0
      },
      "text/plain": [
       "HBox(children=(FloatProgress(value=0.0, max=30.0), HTML(value='')))"
      ]
     },
     "metadata": {},
     "output_type": "display_data"
    },
    {
     "name": "stdout",
     "output_type": "stream",
     "text": [
      "Scraping page 1 \n",
      "Scraping page 2 \n",
      "No more reviews\n",
      "Scraping page 3 \n",
      "No more reviews\n",
      "Scraping page 4 \n",
      "No more reviews\n",
      "Scraping page 5 \n",
      "No more reviews\n",
      "Scraping page 6 \n",
      "No more reviews\n",
      "Scraping page 7 \n",
      "No more reviews\n",
      "Scraping page 8 \n",
      "No more reviews\n",
      "Scraping page 9 \n",
      "No more reviews\n",
      "Scraping page 10 \n",
      "No more reviews\n",
      "Scraping page 11 \n",
      "No more reviews\n",
      "Scraping page 12 \n",
      "No more reviews\n",
      "Scraping page 13 \n",
      "No more reviews\n",
      "Scraping page 14 \n",
      "No more reviews\n",
      "Scraping page 15 \n",
      "No more reviews\n",
      "Scraping page 16 \n",
      "No more reviews\n",
      "Scraping page 17 \n",
      "No more reviews\n",
      "Scraping page 18 \n",
      "No more reviews\n",
      "Scraping page 19 \n",
      "No more reviews\n",
      "Scraping page 20 \n",
      "No more reviews\n",
      "Scraping page 21 \n",
      "No more reviews\n",
      "Scraping page 22 \n",
      "No more reviews\n",
      "Scraping page 23 \n",
      "No more reviews\n",
      "Scraping page 24 \n",
      "No more reviews\n",
      "Scraping page 25 \n",
      "No more reviews\n",
      "Scraping page 26 \n",
      "No more reviews\n",
      "Scraping page 27 \n",
      "No more reviews\n",
      "Scraping page 28 \n",
      "No more reviews\n",
      "Scraping page 29 \n",
      "No more reviews\n",
      "Scraping page 30 \n",
      "No more reviews\n",
      "\n",
      "\u001b[2m\u001b[34mNo ratings available\u001b[0m\n",
      "\u001b[2m\u001b[32mNo more reviews\u001b[0m\n"
     ]
    },
    {
     "data": {
      "application/vnd.jupyter.widget-view+json": {
       "model_id": "77b790dc12164dc29f9ad8cd2c351b55",
       "version_major": 2,
       "version_minor": 0
      },
      "text/plain": [
       "HBox(children=(FloatProgress(value=0.0, max=30.0), HTML(value='')))"
      ]
     },
     "metadata": {},
     "output_type": "display_data"
    },
    {
     "name": "stdout",
     "output_type": "stream",
     "text": [
      "Scraping page 1 \n",
      "No more reviews\n",
      "Scraping page 2 \n",
      "No more reviews\n",
      "Scraping page 3 \n",
      "No more reviews\n",
      "Scraping page 4 \n",
      "No more reviews\n",
      "Scraping page 5 \n",
      "No more reviews\n",
      "Scraping page 6 \n",
      "No more reviews\n",
      "Scraping page 7 \n",
      "No more reviews\n",
      "Scraping page 8 \n",
      "No more reviews\n",
      "Scraping page 9 \n",
      "No more reviews\n",
      "Scraping page 10 \n",
      "No more reviews\n",
      "Scraping page 11 \n",
      "No more reviews\n",
      "Scraping page 12 \n",
      "No more reviews\n",
      "Scraping page 13 \n",
      "No more reviews\n",
      "Scraping page 14 \n",
      "No more reviews\n",
      "Scraping page 15 \n",
      "No more reviews\n",
      "Scraping page 16 \n",
      "No more reviews\n",
      "Scraping page 17 \n",
      "No more reviews\n",
      "Scraping page 18 \n",
      "No more reviews\n",
      "Scraping page 19 \n",
      "No more reviews\n",
      "Scraping page 20 \n",
      "No more reviews\n",
      "Scraping page 21 \n",
      "No more reviews\n",
      "Scraping page 22 \n",
      "No more reviews\n",
      "Scraping page 23 \n",
      "No more reviews\n",
      "Scraping page 24 \n",
      "No more reviews\n",
      "Scraping page 25 \n",
      "No more reviews\n",
      "Scraping page 26 \n",
      "No more reviews\n",
      "Scraping page 27 \n",
      "No more reviews\n",
      "Scraping page 28 \n",
      "No more reviews\n",
      "Scraping page 29 \n",
      "No more reviews\n",
      "Scraping page 30 \n",
      "No more reviews\n",
      "\n"
     ]
    },
    {
     "data": {
      "application/vnd.jupyter.widget-view+json": {
       "model_id": "24ec6a98e2b340e48f63b245539c7ec3",
       "version_major": 2,
       "version_minor": 0
      },
      "text/plain": [
       "HBox(children=(FloatProgress(value=0.0, max=30.0), HTML(value='')))"
      ]
     },
     "metadata": {},
     "output_type": "display_data"
    },
    {
     "name": "stdout",
     "output_type": "stream",
     "text": [
      "Scraping page 1 \n",
      "Scraping page 2 \n",
      "Scraping page 3 \n",
      "Scraping page 4 \n",
      "Scraping page 5 \n",
      "Scraping page 6 \n",
      "Scraping page 7 \n",
      "Scraping page 8 \n",
      "Scraping page 9 \n",
      "Scraping page 10 \n",
      "Scraping page 11 \n",
      "Scraping page 12 \n",
      "Scraping page 13 \n",
      "Scraping page 14 \n",
      "Scraping page 15 \n",
      "Scraping page 16 \n",
      "Scraping page 17 \n",
      "No more reviews\n",
      "Scraping page 18 \n",
      "No more reviews\n",
      "Scraping page 19 \n",
      "No more reviews\n",
      "Scraping page 20 \n",
      "No more reviews\n",
      "Scraping page 21 \n",
      "No more reviews\n",
      "Scraping page 22 \n",
      "No more reviews\n",
      "Scraping page 23 \n",
      "No more reviews\n",
      "Scraping page 24 \n",
      "No more reviews\n",
      "Scraping page 25 \n",
      "No more reviews\n",
      "Scraping page 26 \n",
      "No more reviews\n",
      "Scraping page 27 \n",
      "No more reviews\n",
      "Scraping page 28 \n",
      "No more reviews\n",
      "Scraping page 29 \n",
      "No more reviews\n",
      "Scraping page 30 \n",
      "No more reviews\n",
      "\n"
     ]
    },
    {
     "data": {
      "application/vnd.jupyter.widget-view+json": {
       "model_id": "b194b695480e4f2d80624fd80490c9c0",
       "version_major": 2,
       "version_minor": 0
      },
      "text/plain": [
       "HBox(children=(FloatProgress(value=0.0, max=30.0), HTML(value='')))"
      ]
     },
     "metadata": {},
     "output_type": "display_data"
    },
    {
     "name": "stdout",
     "output_type": "stream",
     "text": [
      "Scraping page 1 \n",
      "Scraping page 2 \n",
      "Scraping page 3 \n",
      "Scraping page 4 \n",
      "Scraping page 5 \n",
      "Scraping page 6 \n",
      "Scraping page 7 \n",
      "Scraping page 8 \n",
      "Scraping page 9 \n",
      "Scraping page 10 \n",
      "Scraping page 11 \n",
      "Scraping page 12 \n",
      "Scraping page 13 \n",
      "Scraping page 14 \n",
      "Scraping page 15 \n",
      "Scraping page 16 \n",
      "Scraping page 17 \n",
      "Scraping page 18 \n",
      "Scraping page 19 \n",
      "Scraping page 20 \n",
      "Scraping page 21 \n",
      "Scraping page 22 \n",
      "Scraping page 23 \n",
      "Scraping page 24 \n",
      "Scraping page 25 \n",
      "Scraping page 26 \n",
      "Scraping page 27 \n",
      "Scraping page 28 \n",
      "Scraping page 29 \n",
      "No more reviews\n",
      "Scraping page 30 \n",
      "No more reviews\n",
      "\n"
     ]
    },
    {
     "data": {
      "application/vnd.jupyter.widget-view+json": {
       "model_id": "e8b2533ea6d14895bb3dc8b167f99986",
       "version_major": 2,
       "version_minor": 0
      },
      "text/plain": [
       "HBox(children=(FloatProgress(value=0.0, max=30.0), HTML(value='')))"
      ]
     },
     "metadata": {},
     "output_type": "display_data"
    },
    {
     "name": "stdout",
     "output_type": "stream",
     "text": [
      "Scraping page 1 \n",
      "No more reviews\n",
      "Scraping page 2 \n",
      "No more reviews\n",
      "Scraping page 3 \n",
      "No more reviews\n",
      "Scraping page 4 \n",
      "No more reviews\n",
      "Scraping page 5 \n",
      "No more reviews\n",
      "Scraping page 6 \n",
      "No more reviews\n",
      "Scraping page 7 \n",
      "No more reviews\n",
      "Scraping page 8 \n",
      "No more reviews\n",
      "Scraping page 9 \n",
      "No more reviews\n",
      "Scraping page 10 \n",
      "No more reviews\n",
      "Scraping page 11 \n",
      "No more reviews\n",
      "Scraping page 12 \n",
      "No more reviews\n",
      "Scraping page 13 \n",
      "No more reviews\n",
      "Scraping page 14 \n",
      "No more reviews\n",
      "Scraping page 15 \n",
      "No more reviews\n",
      "Scraping page 16 \n",
      "No more reviews\n",
      "Scraping page 17 \n",
      "No more reviews\n",
      "Scraping page 18 \n",
      "No more reviews\n",
      "Scraping page 19 \n",
      "No more reviews\n",
      "Scraping page 20 \n",
      "No more reviews\n",
      "Scraping page 21 \n",
      "No more reviews\n",
      "Scraping page 22 \n",
      "No more reviews\n",
      "Scraping page 23 \n",
      "No more reviews\n",
      "Scraping page 24 \n",
      "No more reviews\n",
      "Scraping page 25 \n",
      "No more reviews\n",
      "Scraping page 26 \n",
      "No more reviews\n",
      "Scraping page 27 \n",
      "No more reviews\n",
      "Scraping page 28 \n",
      "No more reviews\n",
      "Scraping page 29 \n",
      "No more reviews\n",
      "Scraping page 30 \n",
      "No more reviews\n",
      "\n"
     ]
    },
    {
     "data": {
      "application/vnd.jupyter.widget-view+json": {
       "model_id": "cbc102222459450788714916f3a86cf2",
       "version_major": 2,
       "version_minor": 0
      },
      "text/plain": [
       "HBox(children=(FloatProgress(value=0.0, max=30.0), HTML(value='')))"
      ]
     },
     "metadata": {},
     "output_type": "display_data"
    },
    {
     "name": "stdout",
     "output_type": "stream",
     "text": [
      "Scraping page 1 \n",
      "Scraping page 2 \n",
      "Scraping page 3 \n",
      "Scraping page 4 \n",
      "Scraping page 5 \n",
      "Scraping page 6 \n",
      "Scraping page 7 \n",
      "Scraping page 8 \n",
      "Scraping page 9 \n",
      "Scraping page 10 \n",
      "Scraping page 11 \n",
      "Scraping page 12 \n",
      "Scraping page 13 \n",
      "Scraping page 14 \n",
      "Scraping page 15 \n",
      "Scraping page 16 \n",
      "Scraping page 17 \n",
      "Scraping page 18 \n",
      "Scraping page 19 \n",
      "Scraping page 20 \n",
      "Scraping page 21 \n",
      "Scraping page 22 \n",
      "Scraping page 23 \n",
      "Scraping page 24 \n",
      "Scraping page 25 \n",
      "Scraping page 26 \n",
      "Scraping page 27 \n",
      "No more reviews\n",
      "Scraping page 28 \n",
      "No more reviews\n",
      "Scraping page 29 \n",
      "No more reviews\n",
      "Scraping page 30 \n",
      "No more reviews\n",
      "\n"
     ]
    },
    {
     "data": {
      "application/vnd.jupyter.widget-view+json": {
       "model_id": "bd10259570604e84bd81abe3a57fca65",
       "version_major": 2,
       "version_minor": 0
      },
      "text/plain": [
       "HBox(children=(FloatProgress(value=0.0, max=30.0), HTML(value='')))"
      ]
     },
     "metadata": {},
     "output_type": "display_data"
    },
    {
     "name": "stdout",
     "output_type": "stream",
     "text": [
      "Scraping page 1 \n",
      "No more reviews\n",
      "Scraping page 2 \n",
      "No more reviews\n",
      "Scraping page 3 \n",
      "No more reviews\n",
      "Scraping page 4 \n",
      "No more reviews\n",
      "Scraping page 5 \n",
      "No more reviews\n",
      "Scraping page 6 \n",
      "No more reviews\n",
      "Scraping page 7 \n",
      "No more reviews\n",
      "Scraping page 8 \n",
      "No more reviews\n",
      "Scraping page 9 \n",
      "No more reviews\n",
      "Scraping page 10 \n",
      "No more reviews\n",
      "Scraping page 11 \n",
      "No more reviews\n",
      "Scraping page 12 \n",
      "No more reviews\n",
      "Scraping page 13 \n",
      "No more reviews\n",
      "Scraping page 14 \n",
      "No more reviews\n",
      "Scraping page 15 \n",
      "No more reviews\n",
      "Scraping page 16 \n",
      "No more reviews\n",
      "Scraping page 17 \n",
      "No more reviews\n",
      "Scraping page 18 \n",
      "No more reviews\n",
      "Scraping page 19 \n",
      "No more reviews\n",
      "Scraping page 20 \n",
      "No more reviews\n",
      "Scraping page 21 \n",
      "No more reviews\n",
      "Scraping page 22 \n",
      "No more reviews\n",
      "Scraping page 23 \n",
      "No more reviews\n",
      "Scraping page 24 \n",
      "No more reviews\n",
      "Scraping page 25 \n",
      "No more reviews\n",
      "Scraping page 26 \n",
      "No more reviews\n",
      "Scraping page 27 \n",
      "No more reviews\n",
      "Scraping page 28 \n",
      "No more reviews\n",
      "Scraping page 29 \n",
      "No more reviews\n",
      "Scraping page 30 \n",
      "No more reviews\n",
      "\n"
     ]
    },
    {
     "data": {
      "application/vnd.jupyter.widget-view+json": {
       "model_id": "e4d85ba27b1b44d49f60e42475f00ccf",
       "version_major": 2,
       "version_minor": 0
      },
      "text/plain": [
       "HBox(children=(FloatProgress(value=0.0, max=30.0), HTML(value='')))"
      ]
     },
     "metadata": {},
     "output_type": "display_data"
    },
    {
     "name": "stdout",
     "output_type": "stream",
     "text": [
      "Scraping page 1 \n",
      "Scraping page 2 \n",
      "Scraping page 3 \n",
      "Scraping page 4 \n",
      "Scraping page 5 \n",
      "Scraping page 6 \n",
      "Scraping page 7 \n",
      "Scraping page 8 \n",
      "Scraping page 9 \n",
      "Scraping page 10 \n",
      "Scraping page 11 \n",
      "Scraping page 12 \n",
      "No more reviews\n",
      "Scraping page 13 \n",
      "No more reviews\n",
      "Scraping page 14 \n",
      "No more reviews\n",
      "Scraping page 15 \n",
      "No more reviews\n",
      "Scraping page 16 \n",
      "No more reviews\n",
      "Scraping page 17 \n",
      "No more reviews\n",
      "Scraping page 18 \n",
      "No more reviews\n",
      "Scraping page 19 \n",
      "No more reviews\n",
      "Scraping page 20 \n",
      "No more reviews\n",
      "Scraping page 21 \n",
      "No more reviews\n",
      "Scraping page 22 \n",
      "No more reviews\n",
      "Scraping page 23 \n",
      "No more reviews\n",
      "Scraping page 24 \n",
      "No more reviews\n",
      "Scraping page 25 \n",
      "No more reviews\n",
      "Scraping page 26 \n",
      "No more reviews\n",
      "Scraping page 27 \n",
      "No more reviews\n",
      "Scraping page 28 \n",
      "No more reviews\n",
      "Scraping page 29 \n",
      "No more reviews\n",
      "Scraping page 30 \n",
      "No more reviews\n",
      "\n"
     ]
    },
    {
     "data": {
      "application/vnd.jupyter.widget-view+json": {
       "model_id": "35dceb552f5646a79ebe9e79ad2d0539",
       "version_major": 2,
       "version_minor": 0
      },
      "text/plain": [
       "HBox(children=(FloatProgress(value=0.0, max=30.0), HTML(value='')))"
      ]
     },
     "metadata": {},
     "output_type": "display_data"
    },
    {
     "name": "stdout",
     "output_type": "stream",
     "text": [
      "Scraping page 1 \n",
      "Scraping page 2 \n",
      "Scraping page 3 \n",
      "Scraping page 4 \n",
      "Scraping page 5 \n",
      "Scraping page 6 \n",
      "Scraping page 7 \n",
      "Scraping page 8 \n",
      "Scraping page 9 \n",
      "Scraping page 10 \n",
      "Scraping page 11 \n",
      "Scraping page 12 \n",
      "Scraping page 13 \n",
      "Scraping page 14 \n",
      "Scraping page 15 \n",
      "No more reviews\n",
      "Scraping page 16 \n",
      "No more reviews\n",
      "Scraping page 17 \n",
      "No more reviews\n",
      "Scraping page 18 \n",
      "No more reviews\n",
      "Scraping page 19 \n",
      "No more reviews\n",
      "Scraping page 20 \n",
      "No more reviews\n",
      "Scraping page 21 \n",
      "No more reviews\n",
      "Scraping page 22 \n",
      "No more reviews\n",
      "Scraping page 23 \n",
      "No more reviews\n",
      "Scraping page 24 \n",
      "No more reviews\n",
      "Scraping page 25 \n",
      "No more reviews\n",
      "Scraping page 26 \n",
      "No more reviews\n",
      "Scraping page 27 \n",
      "No more reviews\n",
      "Scraping page 28 \n",
      "No more reviews\n",
      "Scraping page 29 \n",
      "No more reviews\n",
      "Scraping page 30 \n",
      "No more reviews\n",
      "\n"
     ]
    },
    {
     "data": {
      "application/vnd.jupyter.widget-view+json": {
       "model_id": "73c800ad466e4ed4a8a5a44c8c04058b",
       "version_major": 2,
       "version_minor": 0
      },
      "text/plain": [
       "HBox(children=(FloatProgress(value=0.0, max=30.0), HTML(value='')))"
      ]
     },
     "metadata": {},
     "output_type": "display_data"
    },
    {
     "name": "stdout",
     "output_type": "stream",
     "text": [
      "Scraping page 1 \n",
      "No more reviews\n",
      "Scraping page 2 \n",
      "No more reviews\n",
      "Scraping page 3 \n",
      "No more reviews\n",
      "Scraping page 4 \n",
      "No more reviews\n",
      "Scraping page 5 \n",
      "No more reviews\n",
      "Scraping page 6 \n",
      "No more reviews\n",
      "Scraping page 7 \n",
      "No more reviews\n",
      "Scraping page 8 \n",
      "No more reviews\n",
      "Scraping page 9 \n",
      "No more reviews\n",
      "Scraping page 10 \n",
      "No more reviews\n",
      "Scraping page 11 \n",
      "No more reviews\n",
      "Scraping page 12 \n",
      "No more reviews\n",
      "Scraping page 13 \n",
      "No more reviews\n",
      "Scraping page 14 \n",
      "No more reviews\n",
      "Scraping page 15 \n",
      "No more reviews\n",
      "Scraping page 16 \n",
      "No more reviews\n",
      "Scraping page 17 \n",
      "No more reviews\n",
      "Scraping page 18 \n",
      "No more reviews\n",
      "Scraping page 19 \n",
      "No more reviews\n",
      "Scraping page 20 \n",
      "No more reviews\n",
      "Scraping page 21 \n",
      "No more reviews\n",
      "Scraping page 22 \n",
      "No more reviews\n",
      "Scraping page 23 \n",
      "No more reviews\n",
      "Scraping page 24 \n",
      "No more reviews\n",
      "Scraping page 25 \n",
      "No more reviews\n",
      "Scraping page 26 \n",
      "No more reviews\n",
      "Scraping page 27 \n",
      "No more reviews\n",
      "Scraping page 28 \n",
      "No more reviews\n",
      "Scraping page 29 \n",
      "No more reviews\n",
      "Scraping page 30 \n",
      "No more reviews\n",
      "\n"
     ]
    },
    {
     "data": {
      "application/vnd.jupyter.widget-view+json": {
       "model_id": "eaab47c9846a4cd59807ecb0711c7326",
       "version_major": 2,
       "version_minor": 0
      },
      "text/plain": [
       "HBox(children=(FloatProgress(value=0.0, max=30.0), HTML(value='')))"
      ]
     },
     "metadata": {},
     "output_type": "display_data"
    },
    {
     "name": "stdout",
     "output_type": "stream",
     "text": [
      "Scraping page 1 \n",
      "Scraping page 2 \n",
      "Scraping page 3 \n",
      "Scraping page 4 \n",
      "Scraping page 5 \n",
      "Scraping page 6 \n",
      "Scraping page 7 \n",
      "Scraping page 8 \n",
      "Scraping page 9 \n",
      "Scraping page 10 \n",
      "Scraping page 11 \n",
      "Scraping page 12 \n",
      "Scraping page 13 \n",
      "Scraping page 14 \n",
      "Scraping page 15 \n",
      "Scraping page 16 \n",
      "Scraping page 17 \n",
      "Scraping page 18 \n",
      "Scraping page 19 \n",
      "No more reviews\n",
      "Scraping page 20 \n",
      "No more reviews\n",
      "Scraping page 21 \n",
      "No more reviews\n",
      "Scraping page 22 \n",
      "No more reviews\n",
      "Scraping page 23 \n",
      "No more reviews\n",
      "Scraping page 24 \n",
      "No more reviews\n",
      "Scraping page 25 \n",
      "No more reviews\n",
      "Scraping page 26 \n",
      "No more reviews\n",
      "Scraping page 27 \n",
      "No more reviews\n",
      "Scraping page 28 \n",
      "No more reviews\n",
      "Scraping page 29 \n",
      "No more reviews\n",
      "Scraping page 30 \n",
      "No more reviews\n",
      "\n",
      "\u001b[2m\u001b[34mNo ratings available\u001b[0m\n",
      "\u001b[2m\u001b[32mNo more reviews\u001b[0m\n"
     ]
    },
    {
     "data": {
      "application/vnd.jupyter.widget-view+json": {
       "model_id": "3c3392d9ae184035b1aee10cb2cd7a94",
       "version_major": 2,
       "version_minor": 0
      },
      "text/plain": [
       "HBox(children=(FloatProgress(value=0.0, max=30.0), HTML(value='')))"
      ]
     },
     "metadata": {},
     "output_type": "display_data"
    },
    {
     "name": "stdout",
     "output_type": "stream",
     "text": [
      "Scraping page 1 \n",
      "No more reviews\n",
      "Scraping page 2 \n",
      "No more reviews\n",
      "Scraping page 3 \n",
      "No more reviews\n",
      "Scraping page 4 \n",
      "No more reviews\n",
      "Scraping page 5 \n",
      "No more reviews\n",
      "Scraping page 6 \n",
      "No more reviews\n",
      "Scraping page 7 \n",
      "No more reviews\n",
      "Scraping page 8 \n",
      "No more reviews\n",
      "Scraping page 9 \n",
      "No more reviews\n",
      "Scraping page 10 \n",
      "No more reviews\n",
      "Scraping page 11 \n",
      "No more reviews\n",
      "Scraping page 12 \n",
      "No more reviews\n",
      "Scraping page 13 \n",
      "No more reviews\n",
      "Scraping page 14 \n",
      "No more reviews\n",
      "Scraping page 15 \n",
      "No more reviews\n",
      "Scraping page 16 \n",
      "No more reviews\n",
      "Scraping page 17 \n",
      "No more reviews\n",
      "Scraping page 18 \n",
      "No more reviews\n",
      "Scraping page 19 \n",
      "No more reviews\n",
      "Scraping page 20 \n",
      "No more reviews\n",
      "Scraping page 21 \n",
      "No more reviews\n",
      "Scraping page 22 \n",
      "No more reviews\n",
      "Scraping page 23 \n",
      "No more reviews\n",
      "Scraping page 24 \n",
      "No more reviews\n",
      "Scraping page 25 \n",
      "No more reviews\n",
      "Scraping page 26 \n",
      "No more reviews\n",
      "Scraping page 27 \n",
      "No more reviews\n",
      "Scraping page 28 \n",
      "No more reviews\n",
      "Scraping page 29 \n",
      "No more reviews\n",
      "Scraping page 30 \n",
      "No more reviews\n",
      "\n",
      "\u001b[2m\u001b[34mNo ratings available\u001b[0m\n",
      "\u001b[2m\u001b[32mNo more reviews\u001b[0m\n"
     ]
    },
    {
     "data": {
      "application/vnd.jupyter.widget-view+json": {
       "model_id": "09a6c2685b8f4a97ab0d8c259e2bc13c",
       "version_major": 2,
       "version_minor": 0
      },
      "text/plain": [
       "HBox(children=(FloatProgress(value=0.0, max=30.0), HTML(value='')))"
      ]
     },
     "metadata": {},
     "output_type": "display_data"
    },
    {
     "name": "stdout",
     "output_type": "stream",
     "text": [
      "Scraping page 1 \n",
      "No more reviews\n",
      "Scraping page 2 \n",
      "No more reviews\n",
      "Scraping page 3 \n",
      "No more reviews\n",
      "Scraping page 4 \n",
      "No more reviews\n",
      "Scraping page 5 \n",
      "No more reviews\n",
      "Scraping page 6 \n",
      "No more reviews\n",
      "Scraping page 7 \n",
      "No more reviews\n",
      "Scraping page 8 \n",
      "No more reviews\n",
      "Scraping page 9 \n",
      "No more reviews\n",
      "Scraping page 10 \n",
      "No more reviews\n",
      "Scraping page 11 \n",
      "No more reviews\n",
      "Scraping page 12 \n",
      "No more reviews\n",
      "Scraping page 13 \n",
      "No more reviews\n",
      "Scraping page 14 \n",
      "No more reviews\n",
      "Scraping page 15 \n",
      "No more reviews\n",
      "Scraping page 16 \n",
      "No more reviews\n",
      "Scraping page 17 \n",
      "No more reviews\n",
      "Scraping page 18 \n",
      "No more reviews\n",
      "Scraping page 19 \n",
      "No more reviews\n",
      "Scraping page 20 \n",
      "No more reviews\n",
      "Scraping page 21 \n",
      "No more reviews\n",
      "Scraping page 22 \n",
      "No more reviews\n",
      "Scraping page 23 \n",
      "No more reviews\n",
      "Scraping page 24 \n",
      "No more reviews\n",
      "Scraping page 25 \n",
      "No more reviews\n",
      "Scraping page 26 \n",
      "No more reviews\n",
      "Scraping page 27 \n",
      "No more reviews\n",
      "Scraping page 28 \n",
      "No more reviews\n",
      "Scraping page 29 \n",
      "No more reviews\n",
      "Scraping page 30 \n",
      "No more reviews\n",
      "\n"
     ]
    },
    {
     "data": {
      "application/vnd.jupyter.widget-view+json": {
       "model_id": "afa1b7a6397244fa97be408a7bd6ada2",
       "version_major": 2,
       "version_minor": 0
      },
      "text/plain": [
       "HBox(children=(FloatProgress(value=0.0, max=30.0), HTML(value='')))"
      ]
     },
     "metadata": {},
     "output_type": "display_data"
    },
    {
     "name": "stdout",
     "output_type": "stream",
     "text": [
      "Scraping page 1 \n",
      "No more reviews\n",
      "Scraping page 2 \n",
      "No more reviews\n",
      "Scraping page 3 \n",
      "No more reviews\n",
      "Scraping page 4 \n",
      "No more reviews\n",
      "Scraping page 5 \n",
      "No more reviews\n",
      "Scraping page 6 \n",
      "No more reviews\n",
      "Scraping page 7 \n",
      "No more reviews\n",
      "Scraping page 8 \n",
      "No more reviews\n",
      "Scraping page 9 \n",
      "No more reviews\n",
      "Scraping page 10 \n",
      "No more reviews\n",
      "Scraping page 11 \n",
      "No more reviews\n",
      "Scraping page 12 \n",
      "No more reviews\n",
      "Scraping page 13 \n",
      "No more reviews\n",
      "Scraping page 14 \n",
      "No more reviews\n",
      "Scraping page 15 \n",
      "No more reviews\n",
      "Scraping page 16 \n",
      "No more reviews\n",
      "Scraping page 17 \n",
      "No more reviews\n",
      "Scraping page 18 \n",
      "No more reviews\n",
      "Scraping page 19 \n",
      "No more reviews\n",
      "Scraping page 20 \n",
      "No more reviews\n",
      "Scraping page 21 \n",
      "No more reviews\n",
      "Scraping page 22 \n",
      "No more reviews\n",
      "Scraping page 23 \n",
      "No more reviews\n",
      "Scraping page 24 \n",
      "No more reviews\n",
      "Scraping page 25 \n",
      "No more reviews\n",
      "Scraping page 26 \n",
      "No more reviews\n",
      "Scraping page 27 \n",
      "No more reviews\n",
      "Scraping page 28 \n",
      "No more reviews\n",
      "Scraping page 29 \n",
      "No more reviews\n",
      "Scraping page 30 \n",
      "No more reviews\n",
      "\n"
     ]
    },
    {
     "data": {
      "application/vnd.jupyter.widget-view+json": {
       "model_id": "0dba96b2286d4ea8b0ceff890d181b5a",
       "version_major": 2,
       "version_minor": 0
      },
      "text/plain": [
       "HBox(children=(FloatProgress(value=0.0, max=30.0), HTML(value='')))"
      ]
     },
     "metadata": {},
     "output_type": "display_data"
    },
    {
     "name": "stdout",
     "output_type": "stream",
     "text": [
      "Scraping page 1 \n",
      "Scraping page 2 \n",
      "Scraping page 3 \n",
      "Scraping page 4 \n",
      "Scraping page 5 \n",
      "Scraping page 6 \n",
      "Scraping page 7 \n",
      "Scraping page 8 \n",
      "Scraping page 9 \n",
      "Scraping page 10 \n",
      "Scraping page 11 \n",
      "Scraping page 12 \n",
      "Scraping page 13 \n",
      "Scraping page 14 \n",
      "Scraping page 15 \n",
      "Scraping page 16 \n",
      "Scraping page 17 \n",
      "Scraping page 18 \n",
      "Scraping page 19 \n",
      "Scraping page 20 \n",
      "Scraping page 21 \n",
      "Scraping page 22 \n",
      "Scraping page 23 \n",
      "Scraping page 24 \n",
      "Scraping page 25 \n",
      "Scraping page 26 \n",
      "Scraping page 27 \n",
      "Scraping page 28 \n",
      "Scraping page 29 \n",
      "Scraping page 30 \n",
      "No more reviews\n",
      "\n"
     ]
    },
    {
     "data": {
      "application/vnd.jupyter.widget-view+json": {
       "model_id": "f507b28ad27240d5b68411e0e9248d7d",
       "version_major": 2,
       "version_minor": 0
      },
      "text/plain": [
       "HBox(children=(FloatProgress(value=0.0, max=30.0), HTML(value='')))"
      ]
     },
     "metadata": {},
     "output_type": "display_data"
    },
    {
     "name": "stdout",
     "output_type": "stream",
     "text": [
      "Scraping page 1 \n",
      "No more reviews\n",
      "Scraping page 2 \n",
      "No more reviews\n",
      "Scraping page 3 \n",
      "No more reviews\n",
      "Scraping page 4 \n",
      "No more reviews\n",
      "Scraping page 5 \n",
      "No more reviews\n",
      "Scraping page 6 \n",
      "No more reviews\n",
      "Scraping page 7 \n",
      "No more reviews\n",
      "Scraping page 8 \n",
      "No more reviews\n",
      "Scraping page 9 \n",
      "No more reviews\n",
      "Scraping page 10 \n",
      "No more reviews\n",
      "Scraping page 11 \n",
      "No more reviews\n",
      "Scraping page 12 \n",
      "No more reviews\n",
      "Scraping page 13 \n",
      "No more reviews\n",
      "Scraping page 14 \n",
      "No more reviews\n",
      "Scraping page 15 \n",
      "No more reviews\n",
      "Scraping page 16 \n",
      "No more reviews\n",
      "Scraping page 17 \n",
      "No more reviews\n",
      "Scraping page 18 \n",
      "No more reviews\n",
      "Scraping page 19 \n",
      "No more reviews\n",
      "Scraping page 20 \n",
      "No more reviews\n",
      "Scraping page 21 \n",
      "No more reviews\n",
      "Scraping page 22 \n",
      "No more reviews\n",
      "Scraping page 23 \n",
      "No more reviews\n",
      "Scraping page 24 \n",
      "No more reviews\n",
      "Scraping page 25 \n",
      "No more reviews\n",
      "Scraping page 26 \n",
      "No more reviews\n",
      "Scraping page 27 \n",
      "No more reviews\n",
      "Scraping page 28 \n",
      "No more reviews\n",
      "Scraping page 29 \n",
      "No more reviews\n",
      "Scraping page 30 \n",
      "No more reviews\n",
      "\n"
     ]
    },
    {
     "data": {
      "application/vnd.jupyter.widget-view+json": {
       "model_id": "10cbab00de414c55b9c8d2835af4ff97",
       "version_major": 2,
       "version_minor": 0
      },
      "text/plain": [
       "HBox(children=(FloatProgress(value=0.0, max=30.0), HTML(value='')))"
      ]
     },
     "metadata": {},
     "output_type": "display_data"
    },
    {
     "name": "stdout",
     "output_type": "stream",
     "text": [
      "Scraping page 1 \n",
      "No more reviews\n",
      "Scraping page 2 \n",
      "No more reviews\n",
      "Scraping page 3 \n",
      "No more reviews\n",
      "Scraping page 4 \n",
      "No more reviews\n",
      "Scraping page 5 \n",
      "No more reviews\n",
      "Scraping page 6 \n",
      "No more reviews\n",
      "Scraping page 7 \n",
      "No more reviews\n",
      "Scraping page 8 \n",
      "No more reviews\n",
      "Scraping page 9 \n",
      "No more reviews\n",
      "Scraping page 10 \n",
      "No more reviews\n",
      "Scraping page 11 \n",
      "No more reviews\n",
      "Scraping page 12 \n",
      "No more reviews\n",
      "Scraping page 13 \n",
      "No more reviews\n",
      "Scraping page 14 \n",
      "No more reviews\n",
      "Scraping page 15 \n",
      "No more reviews\n",
      "Scraping page 16 \n",
      "No more reviews\n",
      "Scraping page 17 \n",
      "No more reviews\n",
      "Scraping page 18 \n",
      "No more reviews\n",
      "Scraping page 19 \n",
      "No more reviews\n",
      "Scraping page 20 \n",
      "No more reviews\n",
      "Scraping page 21 \n",
      "No more reviews\n",
      "Scraping page 22 \n",
      "No more reviews\n",
      "Scraping page 23 \n",
      "No more reviews\n",
      "Scraping page 24 \n",
      "No more reviews\n",
      "Scraping page 25 \n",
      "No more reviews\n",
      "Scraping page 26 \n",
      "No more reviews\n",
      "Scraping page 27 \n",
      "No more reviews\n",
      "Scraping page 28 \n",
      "No more reviews\n",
      "Scraping page 29 \n",
      "No more reviews\n",
      "Scraping page 30 \n",
      "No more reviews\n",
      "\n"
     ]
    },
    {
     "data": {
      "application/vnd.jupyter.widget-view+json": {
       "model_id": "a8e85006e5d5465d9434f25eee28e735",
       "version_major": 2,
       "version_minor": 0
      },
      "text/plain": [
       "HBox(children=(FloatProgress(value=0.0, max=30.0), HTML(value='')))"
      ]
     },
     "metadata": {},
     "output_type": "display_data"
    },
    {
     "name": "stdout",
     "output_type": "stream",
     "text": [
      "Scraping page 1 \n",
      "Scraping page 2 \n",
      "Scraping page 3 \n",
      "Scraping page 4 \n",
      "Scraping page 5 \n",
      "Scraping page 6 \n",
      "Scraping page 7 \n",
      "No more reviews\n",
      "Scraping page 8 \n",
      "No more reviews\n",
      "Scraping page 9 \n",
      "No more reviews\n",
      "Scraping page 10 \n",
      "No more reviews\n",
      "Scraping page 11 \n",
      "No more reviews\n",
      "Scraping page 12 \n",
      "No more reviews\n",
      "Scraping page 13 \n",
      "No more reviews\n",
      "Scraping page 14 \n",
      "No more reviews\n",
      "Scraping page 15 \n",
      "No more reviews\n",
      "Scraping page 16 \n",
      "No more reviews\n",
      "Scraping page 17 \n",
      "No more reviews\n",
      "Scraping page 18 \n",
      "No more reviews\n",
      "Scraping page 19 \n",
      "No more reviews\n",
      "Scraping page 20 \n",
      "No more reviews\n",
      "Scraping page 21 \n",
      "No more reviews\n",
      "Scraping page 22 \n",
      "No more reviews\n",
      "Scraping page 23 \n",
      "No more reviews\n",
      "Scraping page 24 \n",
      "No more reviews\n",
      "Scraping page 25 \n",
      "No more reviews\n",
      "Scraping page 26 \n",
      "No more reviews\n",
      "Scraping page 27 \n",
      "No more reviews\n",
      "Scraping page 28 \n",
      "No more reviews\n",
      "Scraping page 29 \n",
      "No more reviews\n",
      "Scraping page 30 \n",
      "No more reviews\n",
      "\n"
     ]
    },
    {
     "data": {
      "application/vnd.jupyter.widget-view+json": {
       "model_id": "a3fff737ad7841a8ba08db718907b6cc",
       "version_major": 2,
       "version_minor": 0
      },
      "text/plain": [
       "HBox(children=(FloatProgress(value=0.0, max=30.0), HTML(value='')))"
      ]
     },
     "metadata": {},
     "output_type": "display_data"
    },
    {
     "name": "stdout",
     "output_type": "stream",
     "text": [
      "Scraping page 1 \n",
      "Scraping page 2 \n",
      "Scraping page 3 \n",
      "Scraping page 4 \n",
      "Scraping page 5 \n",
      "Scraping page 6 \n",
      "Scraping page 7 \n",
      "No more reviews\n",
      "Scraping page 8 \n",
      "No more reviews\n",
      "Scraping page 9 \n",
      "No more reviews\n",
      "Scraping page 10 \n",
      "No more reviews\n",
      "Scraping page 11 \n",
      "No more reviews\n",
      "Scraping page 12 \n",
      "No more reviews\n",
      "Scraping page 13 \n",
      "No more reviews\n",
      "Scraping page 14 \n",
      "No more reviews\n",
      "Scraping page 15 \n",
      "No more reviews\n",
      "Scraping page 16 \n",
      "No more reviews\n",
      "Scraping page 17 \n",
      "No more reviews\n",
      "Scraping page 18 \n",
      "No more reviews\n",
      "Scraping page 19 \n",
      "No more reviews\n",
      "Scraping page 20 \n",
      "No more reviews\n",
      "Scraping page 21 \n",
      "No more reviews\n",
      "Scraping page 22 \n",
      "No more reviews\n",
      "Scraping page 23 \n",
      "No more reviews\n",
      "Scraping page 24 \n",
      "No more reviews\n",
      "Scraping page 25 \n",
      "No more reviews\n",
      "Scraping page 26 \n",
      "No more reviews\n",
      "Scraping page 27 \n",
      "No more reviews\n",
      "Scraping page 28 \n",
      "No more reviews\n",
      "Scraping page 29 \n",
      "No more reviews\n",
      "Scraping page 30 \n",
      "No more reviews\n",
      "\n"
     ]
    },
    {
     "data": {
      "application/vnd.jupyter.widget-view+json": {
       "model_id": "313acc09d13c4a23815e58a9bd87f8b0",
       "version_major": 2,
       "version_minor": 0
      },
      "text/plain": [
       "HBox(children=(FloatProgress(value=0.0, max=30.0), HTML(value='')))"
      ]
     },
     "metadata": {},
     "output_type": "display_data"
    },
    {
     "name": "stdout",
     "output_type": "stream",
     "text": [
      "Scraping page 1 \n",
      "Scraping page 2 \n",
      "Scraping page 3 \n",
      "Scraping page 4 \n",
      "Scraping page 5 \n",
      "Scraping page 6 \n",
      "Scraping page 7 \n",
      "Scraping page 8 \n",
      "Scraping page 9 \n",
      "Scraping page 10 \n",
      "Scraping page 11 \n",
      "Scraping page 12 \n",
      "Scraping page 13 \n",
      "Scraping page 14 \n",
      "Scraping page 15 \n",
      "Scraping page 16 \n",
      "Scraping page 17 \n",
      "Scraping page 18 \n",
      "No more reviews\n",
      "Scraping page 19 \n",
      "No more reviews\n",
      "Scraping page 20 \n",
      "No more reviews\n",
      "Scraping page 21 \n",
      "No more reviews\n",
      "Scraping page 22 \n",
      "No more reviews\n",
      "Scraping page 23 \n",
      "No more reviews\n",
      "Scraping page 24 \n",
      "No more reviews\n",
      "Scraping page 25 \n",
      "No more reviews\n",
      "Scraping page 26 \n",
      "No more reviews\n",
      "Scraping page 27 \n",
      "No more reviews\n",
      "Scraping page 28 \n",
      "No more reviews\n",
      "Scraping page 29 \n",
      "No more reviews\n",
      "Scraping page 30 \n",
      "No more reviews\n",
      "\n"
     ]
    },
    {
     "data": {
      "application/vnd.jupyter.widget-view+json": {
       "model_id": "790b68bc4aba4b5080de519ada1c64ee",
       "version_major": 2,
       "version_minor": 0
      },
      "text/plain": [
       "HBox(children=(FloatProgress(value=0.0, max=30.0), HTML(value='')))"
      ]
     },
     "metadata": {},
     "output_type": "display_data"
    },
    {
     "name": "stdout",
     "output_type": "stream",
     "text": [
      "Scraping page 1 \n",
      "Scraping page 2 \n",
      "Scraping page 3 \n",
      "Scraping page 4 \n",
      "Scraping page 5 \n",
      "Scraping page 6 \n",
      "Scraping page 7 \n",
      "Scraping page 8 \n",
      "Scraping page 9 \n",
      "Scraping page 10 \n",
      "Scraping page 11 \n",
      "Scraping page 12 \n",
      "Scraping page 13 \n",
      "Scraping page 14 \n",
      "Scraping page 15 \n",
      "Scraping page 16 \n",
      "Scraping page 17 \n",
      "Scraping page 18 \n",
      "Scraping page 19 \n",
      "Scraping page 20 \n",
      "Scraping page 21 \n",
      "Scraping page 22 \n",
      "Scraping page 23 \n",
      "Scraping page 24 \n",
      "Scraping page 25 \n",
      "Scraping page 26 \n",
      "Scraping page 27 \n",
      "Scraping page 28 \n",
      "Scraping page 29 \n",
      "Scraping page 30 \n",
      "\n"
     ]
    },
    {
     "data": {
      "application/vnd.jupyter.widget-view+json": {
       "model_id": "60633816ebb44326a07fb5126c7c3d57",
       "version_major": 2,
       "version_minor": 0
      },
      "text/plain": [
       "HBox(children=(FloatProgress(value=0.0, max=30.0), HTML(value='')))"
      ]
     },
     "metadata": {},
     "output_type": "display_data"
    },
    {
     "name": "stdout",
     "output_type": "stream",
     "text": [
      "Scraping page 1 \n",
      "No more reviews\n",
      "Scraping page 2 \n",
      "No more reviews\n",
      "Scraping page 3 \n",
      "No more reviews\n",
      "Scraping page 4 \n",
      "No more reviews\n",
      "Scraping page 5 \n",
      "No more reviews\n",
      "Scraping page 6 \n",
      "No more reviews\n",
      "Scraping page 7 \n",
      "No more reviews\n",
      "Scraping page 8 \n",
      "No more reviews\n",
      "Scraping page 9 \n",
      "No more reviews\n",
      "Scraping page 10 \n",
      "No more reviews\n",
      "Scraping page 11 \n",
      "No more reviews\n",
      "Scraping page 12 \n",
      "No more reviews\n",
      "Scraping page 13 \n",
      "No more reviews\n",
      "Scraping page 14 \n",
      "No more reviews\n",
      "Scraping page 15 \n",
      "No more reviews\n",
      "Scraping page 16 \n",
      "No more reviews\n",
      "Scraping page 17 \n",
      "No more reviews\n",
      "Scraping page 18 \n",
      "No more reviews\n",
      "Scraping page 19 \n",
      "No more reviews\n",
      "Scraping page 20 \n",
      "No more reviews\n",
      "Scraping page 21 \n",
      "No more reviews\n",
      "Scraping page 22 \n",
      "No more reviews\n",
      "Scraping page 23 \n",
      "No more reviews\n",
      "Scraping page 24 \n",
      "No more reviews\n",
      "Scraping page 25 \n",
      "No more reviews\n",
      "Scraping page 26 \n",
      "No more reviews\n",
      "Scraping page 27 \n",
      "No more reviews\n",
      "Scraping page 28 \n",
      "No more reviews\n",
      "Scraping page 29 \n",
      "No more reviews\n",
      "Scraping page 30 \n",
      "No more reviews\n",
      "\n"
     ]
    },
    {
     "data": {
      "application/vnd.jupyter.widget-view+json": {
       "model_id": "5e6efc65aefa4fb4a4f0f89b3dbbe779",
       "version_major": 2,
       "version_minor": 0
      },
      "text/plain": [
       "HBox(children=(FloatProgress(value=0.0, max=30.0), HTML(value='')))"
      ]
     },
     "metadata": {},
     "output_type": "display_data"
    },
    {
     "name": "stdout",
     "output_type": "stream",
     "text": [
      "Scraping page 1 \n",
      "Scraping page 2 \n",
      "No more reviews\n",
      "Scraping page 3 \n",
      "No more reviews\n",
      "Scraping page 4 \n",
      "No more reviews\n",
      "Scraping page 5 \n",
      "No more reviews\n",
      "Scraping page 6 \n",
      "No more reviews\n",
      "Scraping page 7 \n",
      "No more reviews\n",
      "Scraping page 8 \n",
      "No more reviews\n",
      "Scraping page 9 \n",
      "No more reviews\n",
      "Scraping page 10 \n",
      "No more reviews\n",
      "Scraping page 11 \n",
      "No more reviews\n",
      "Scraping page 12 \n",
      "No more reviews\n",
      "Scraping page 13 \n",
      "No more reviews\n",
      "Scraping page 14 \n",
      "No more reviews\n",
      "Scraping page 15 \n",
      "No more reviews\n",
      "Scraping page 16 \n",
      "No more reviews\n",
      "Scraping page 17 \n",
      "No more reviews\n",
      "Scraping page 18 \n",
      "No more reviews\n",
      "Scraping page 19 \n",
      "No more reviews\n",
      "Scraping page 20 \n",
      "No more reviews\n",
      "Scraping page 21 \n",
      "No more reviews\n",
      "Scraping page 22 \n",
      "No more reviews\n",
      "Scraping page 23 \n",
      "No more reviews\n",
      "Scraping page 24 \n",
      "No more reviews\n",
      "Scraping page 25 \n",
      "No more reviews\n",
      "Scraping page 26 \n",
      "No more reviews\n",
      "Scraping page 27 \n",
      "No more reviews\n",
      "Scraping page 28 \n",
      "No more reviews\n",
      "Scraping page 29 \n",
      "No more reviews\n",
      "Scraping page 30 \n",
      "No more reviews\n",
      "\n",
      "\u001b[2m\u001b[34mNo ratings available\u001b[0m\n",
      "\u001b[2m\u001b[32mNo more reviews\u001b[0m\n"
     ]
    },
    {
     "data": {
      "application/vnd.jupyter.widget-view+json": {
       "model_id": "c38ddbdbd4a44cd688681c128c5a3130",
       "version_major": 2,
       "version_minor": 0
      },
      "text/plain": [
       "HBox(children=(FloatProgress(value=0.0, max=30.0), HTML(value='')))"
      ]
     },
     "metadata": {},
     "output_type": "display_data"
    },
    {
     "name": "stdout",
     "output_type": "stream",
     "text": [
      "Scraping page 1 \n",
      "No more reviews\n",
      "Scraping page 2 \n",
      "No more reviews\n",
      "Scraping page 3 \n",
      "No more reviews\n",
      "Scraping page 4 \n",
      "No more reviews\n",
      "Scraping page 5 \n",
      "No more reviews\n",
      "Scraping page 6 \n",
      "No more reviews\n",
      "Scraping page 7 \n",
      "No more reviews\n",
      "Scraping page 8 \n",
      "No more reviews\n",
      "Scraping page 9 \n",
      "No more reviews\n",
      "Scraping page 10 \n",
      "No more reviews\n",
      "Scraping page 11 \n",
      "No more reviews\n",
      "Scraping page 12 \n",
      "No more reviews\n",
      "Scraping page 13 \n",
      "No more reviews\n",
      "Scraping page 14 \n",
      "No more reviews\n",
      "Scraping page 15 \n",
      "No more reviews\n",
      "Scraping page 16 \n",
      "No more reviews\n",
      "Scraping page 17 \n",
      "No more reviews\n",
      "Scraping page 18 \n",
      "No more reviews\n",
      "Scraping page 19 \n",
      "No more reviews\n",
      "Scraping page 20 \n",
      "No more reviews\n",
      "Scraping page 21 \n",
      "No more reviews\n",
      "Scraping page 22 \n",
      "No more reviews\n",
      "Scraping page 23 \n",
      "No more reviews\n",
      "Scraping page 24 \n",
      "No more reviews\n",
      "Scraping page 25 \n",
      "No more reviews\n",
      "Scraping page 26 \n",
      "No more reviews\n",
      "Scraping page 27 \n",
      "No more reviews\n",
      "Scraping page 28 \n",
      "No more reviews\n",
      "Scraping page 29 \n",
      "No more reviews\n",
      "Scraping page 30 \n",
      "No more reviews\n",
      "\n"
     ]
    },
    {
     "data": {
      "application/vnd.jupyter.widget-view+json": {
       "model_id": "6978abff513a4bc5aba115f26ae48e7b",
       "version_major": 2,
       "version_minor": 0
      },
      "text/plain": [
       "HBox(children=(FloatProgress(value=0.0, max=30.0), HTML(value='')))"
      ]
     },
     "metadata": {},
     "output_type": "display_data"
    },
    {
     "name": "stdout",
     "output_type": "stream",
     "text": [
      "Scraping page 1 \n",
      "Scraping page 2 \n",
      "Scraping page 3 \n",
      "Scraping page 4 \n",
      "Scraping page 5 \n",
      "Scraping page 6 \n",
      "Scraping page 7 \n",
      "Scraping page 8 \n",
      "Scraping page 9 \n",
      "Scraping page 10 \n",
      "Scraping page 11 \n",
      "Scraping page 12 \n",
      "Scraping page 13 \n",
      "Scraping page 14 \n",
      "Scraping page 15 \n",
      "Scraping page 16 \n",
      "Scraping page 17 \n",
      "No more reviews\n",
      "Scraping page 18 \n",
      "No more reviews\n",
      "Scraping page 19 \n",
      "No more reviews\n",
      "Scraping page 20 \n",
      "No more reviews\n",
      "Scraping page 21 \n",
      "No more reviews\n",
      "Scraping page 22 \n",
      "No more reviews\n",
      "Scraping page 23 \n",
      "No more reviews\n",
      "Scraping page 24 \n",
      "No more reviews\n",
      "Scraping page 25 \n",
      "No more reviews\n",
      "Scraping page 26 \n",
      "No more reviews\n",
      "Scraping page 27 \n",
      "No more reviews\n",
      "Scraping page 28 \n",
      "No more reviews\n",
      "Scraping page 29 \n",
      "No more reviews\n",
      "Scraping page 30 \n",
      "No more reviews\n",
      "\n"
     ]
    },
    {
     "data": {
      "application/vnd.jupyter.widget-view+json": {
       "model_id": "af5d4c742b6147ed9a128b228ef7d01d",
       "version_major": 2,
       "version_minor": 0
      },
      "text/plain": [
       "HBox(children=(FloatProgress(value=0.0, max=30.0), HTML(value='')))"
      ]
     },
     "metadata": {},
     "output_type": "display_data"
    },
    {
     "name": "stdout",
     "output_type": "stream",
     "text": [
      "Scraping page 1 \n",
      "Scraping page 2 \n",
      "Scraping page 3 \n",
      "Scraping page 4 \n",
      "Scraping page 5 \n",
      "Scraping page 6 \n",
      "Scraping page 7 \n",
      "Scraping page 8 \n",
      "Scraping page 9 \n",
      "Scraping page 10 \n",
      "Scraping page 11 \n",
      "Scraping page 12 \n",
      "Scraping page 13 \n",
      "Scraping page 14 \n",
      "Scraping page 15 \n",
      "Scraping page 16 \n",
      "Scraping page 17 \n",
      "Scraping page 18 \n",
      "Scraping page 19 \n",
      "Scraping page 20 \n",
      "Scraping page 21 \n",
      "Scraping page 22 \n",
      "Scraping page 23 \n",
      "Scraping page 24 \n",
      "Scraping page 25 \n",
      "Scraping page 26 \n",
      "Scraping page 27 \n",
      "Scraping page 28 \n",
      "Scraping page 29 \n",
      "No more reviews\n",
      "Scraping page 30 \n",
      "No more reviews\n",
      "\n"
     ]
    },
    {
     "data": {
      "application/vnd.jupyter.widget-view+json": {
       "model_id": "f511268644c94c489587b5da679cb339",
       "version_major": 2,
       "version_minor": 0
      },
      "text/plain": [
       "HBox(children=(FloatProgress(value=0.0, max=30.0), HTML(value='')))"
      ]
     },
     "metadata": {},
     "output_type": "display_data"
    },
    {
     "name": "stdout",
     "output_type": "stream",
     "text": [
      "Scraping page 1 \n",
      "No more reviews\n",
      "Scraping page 2 \n",
      "No more reviews\n",
      "Scraping page 3 \n",
      "No more reviews\n",
      "Scraping page 4 \n",
      "No more reviews\n",
      "Scraping page 5 \n",
      "No more reviews\n",
      "Scraping page 6 \n",
      "No more reviews\n",
      "Scraping page 7 \n",
      "No more reviews\n",
      "Scraping page 8 \n",
      "No more reviews\n",
      "Scraping page 9 \n",
      "No more reviews\n",
      "Scraping page 10 \n",
      "No more reviews\n",
      "Scraping page 11 \n",
      "No more reviews\n",
      "Scraping page 12 \n",
      "No more reviews\n",
      "Scraping page 13 \n",
      "No more reviews\n",
      "Scraping page 14 \n",
      "No more reviews\n",
      "Scraping page 15 \n",
      "No more reviews\n",
      "Scraping page 16 \n",
      "No more reviews\n",
      "Scraping page 17 \n",
      "No more reviews\n",
      "Scraping page 18 \n",
      "No more reviews\n",
      "Scraping page 19 \n",
      "No more reviews\n",
      "Scraping page 20 \n",
      "No more reviews\n",
      "Scraping page 21 \n",
      "No more reviews\n",
      "Scraping page 22 \n",
      "No more reviews\n",
      "Scraping page 23 \n",
      "No more reviews\n",
      "Scraping page 24 \n",
      "No more reviews\n",
      "Scraping page 25 \n",
      "No more reviews\n",
      "Scraping page 26 \n",
      "No more reviews\n",
      "Scraping page 27 \n",
      "No more reviews\n",
      "Scraping page 28 \n",
      "No more reviews\n",
      "Scraping page 29 \n",
      "No more reviews\n",
      "Scraping page 30 \n",
      "No more reviews\n",
      "\n"
     ]
    },
    {
     "data": {
      "application/vnd.jupyter.widget-view+json": {
       "model_id": "5426e4d49b1e4261b6091766906e3780",
       "version_major": 2,
       "version_minor": 0
      },
      "text/plain": [
       "HBox(children=(FloatProgress(value=0.0, max=30.0), HTML(value='')))"
      ]
     },
     "metadata": {},
     "output_type": "display_data"
    },
    {
     "name": "stdout",
     "output_type": "stream",
     "text": [
      "Scraping page 1 \n",
      "Scraping page 2 \n",
      "Scraping page 3 \n",
      "Scraping page 4 \n",
      "Scraping page 5 \n",
      "Scraping page 6 \n",
      "Scraping page 7 \n",
      "Scraping page 8 \n",
      "Scraping page 9 \n",
      "Scraping page 10 \n",
      "Scraping page 11 \n",
      "Scraping page 12 \n",
      "Scraping page 13 \n",
      "Scraping page 14 \n",
      "Scraping page 15 \n",
      "Scraping page 16 \n",
      "Scraping page 17 \n",
      "Scraping page 18 \n",
      "Scraping page 19 \n",
      "Scraping page 20 \n",
      "Scraping page 21 \n",
      "Scraping page 22 \n",
      "Scraping page 23 \n",
      "Scraping page 24 \n",
      "Scraping page 25 \n",
      "Scraping page 26 \n",
      "Scraping page 27 \n",
      "No more reviews\n",
      "Scraping page 28 \n",
      "No more reviews\n",
      "Scraping page 29 \n",
      "No more reviews\n",
      "Scraping page 30 \n",
      "No more reviews\n",
      "\n"
     ]
    },
    {
     "data": {
      "application/vnd.jupyter.widget-view+json": {
       "model_id": "6636c91bb4534d52ba664494cc9b0ee6",
       "version_major": 2,
       "version_minor": 0
      },
      "text/plain": [
       "HBox(children=(FloatProgress(value=0.0, max=30.0), HTML(value='')))"
      ]
     },
     "metadata": {},
     "output_type": "display_data"
    },
    {
     "name": "stdout",
     "output_type": "stream",
     "text": [
      "Scraping page 1 \n",
      "No more reviews\n",
      "Scraping page 2 \n",
      "No more reviews\n",
      "Scraping page 3 \n",
      "No more reviews\n",
      "Scraping page 4 \n",
      "No more reviews\n",
      "Scraping page 5 \n",
      "No more reviews\n",
      "Scraping page 6 \n",
      "No more reviews\n",
      "Scraping page 7 \n",
      "No more reviews\n",
      "Scraping page 8 \n",
      "No more reviews\n",
      "Scraping page 9 \n",
      "No more reviews\n",
      "Scraping page 10 \n",
      "No more reviews\n",
      "Scraping page 11 \n",
      "No more reviews\n",
      "Scraping page 12 \n",
      "No more reviews\n",
      "Scraping page 13 \n",
      "No more reviews\n",
      "Scraping page 14 \n",
      "No more reviews\n",
      "Scraping page 15 \n",
      "No more reviews\n",
      "Scraping page 16 \n",
      "No more reviews\n",
      "Scraping page 17 \n",
      "No more reviews\n",
      "Scraping page 18 \n",
      "No more reviews\n",
      "Scraping page 19 \n",
      "No more reviews\n",
      "Scraping page 20 \n",
      "No more reviews\n",
      "Scraping page 21 \n",
      "No more reviews\n",
      "Scraping page 22 \n",
      "No more reviews\n",
      "Scraping page 23 \n",
      "No more reviews\n",
      "Scraping page 24 \n",
      "No more reviews\n",
      "Scraping page 25 \n",
      "No more reviews\n",
      "Scraping page 26 \n",
      "No more reviews\n",
      "Scraping page 27 \n",
      "No more reviews\n",
      "Scraping page 28 \n",
      "No more reviews\n",
      "Scraping page 29 \n",
      "No more reviews\n",
      "Scraping page 30 \n",
      "No more reviews\n",
      "\n"
     ]
    },
    {
     "data": {
      "application/vnd.jupyter.widget-view+json": {
       "model_id": "753b1ccdc8fb4934aa216b833b5bffdd",
       "version_major": 2,
       "version_minor": 0
      },
      "text/plain": [
       "HBox(children=(FloatProgress(value=0.0, max=30.0), HTML(value='')))"
      ]
     },
     "metadata": {},
     "output_type": "display_data"
    },
    {
     "name": "stdout",
     "output_type": "stream",
     "text": [
      "Scraping page 1 \n",
      "Scraping page 2 \n",
      "Scraping page 3 \n",
      "Scraping page 4 \n",
      "Scraping page 5 \n",
      "Scraping page 6 \n",
      "Scraping page 7 \n",
      "Scraping page 8 \n",
      "Scraping page 9 \n",
      "Scraping page 10 \n",
      "Scraping page 11 \n",
      "Scraping page 12 \n",
      "No more reviews\n",
      "Scraping page 13 \n",
      "No more reviews\n",
      "Scraping page 14 \n",
      "No more reviews\n",
      "Scraping page 15 \n",
      "No more reviews\n",
      "Scraping page 16 \n",
      "No more reviews\n",
      "Scraping page 17 \n",
      "No more reviews\n",
      "Scraping page 18 \n",
      "No more reviews\n",
      "Scraping page 19 \n",
      "No more reviews\n",
      "Scraping page 20 \n",
      "No more reviews\n",
      "Scraping page 21 \n",
      "No more reviews\n",
      "Scraping page 22 \n",
      "No more reviews\n",
      "Scraping page 23 \n",
      "No more reviews\n",
      "Scraping page 24 \n",
      "No more reviews\n",
      "Scraping page 25 \n",
      "No more reviews\n",
      "Scraping page 26 \n",
      "No more reviews\n",
      "Scraping page 27 \n",
      "No more reviews\n",
      "Scraping page 28 \n",
      "No more reviews\n",
      "Scraping page 29 \n",
      "No more reviews\n",
      "Scraping page 30 \n",
      "No more reviews\n",
      "\n"
     ]
    },
    {
     "data": {
      "application/vnd.jupyter.widget-view+json": {
       "model_id": "1d6fc991411d41e2b41e97c267f7901e",
       "version_major": 2,
       "version_minor": 0
      },
      "text/plain": [
       "HBox(children=(FloatProgress(value=0.0, max=30.0), HTML(value='')))"
      ]
     },
     "metadata": {},
     "output_type": "display_data"
    },
    {
     "name": "stdout",
     "output_type": "stream",
     "text": [
      "Scraping page 1 \n",
      "Scraping page 2 \n",
      "Scraping page 3 \n",
      "Scraping page 4 \n",
      "Scraping page 5 \n",
      "Scraping page 6 \n",
      "Scraping page 7 \n",
      "Scraping page 8 \n",
      "Scraping page 9 \n",
      "Scraping page 10 \n",
      "Scraping page 11 \n",
      "Scraping page 12 \n",
      "Scraping page 13 \n",
      "Scraping page 14 \n",
      "Scraping page 15 \n",
      "No more reviews\n",
      "Scraping page 16 \n",
      "No more reviews\n",
      "Scraping page 17 \n",
      "No more reviews\n",
      "Scraping page 18 \n",
      "No more reviews\n",
      "Scraping page 19 \n",
      "No more reviews\n",
      "Scraping page 20 \n",
      "No more reviews\n",
      "Scraping page 21 \n",
      "No more reviews\n",
      "Scraping page 22 \n",
      "No more reviews\n",
      "Scraping page 23 \n",
      "No more reviews\n",
      "Scraping page 24 \n",
      "No more reviews\n",
      "Scraping page 25 \n",
      "No more reviews\n",
      "Scraping page 26 \n",
      "No more reviews\n",
      "Scraping page 27 \n",
      "No more reviews\n",
      "Scraping page 28 \n",
      "No more reviews\n",
      "Scraping page 29 \n",
      "No more reviews\n",
      "Scraping page 30 \n",
      "No more reviews\n",
      "\n"
     ]
    },
    {
     "data": {
      "application/vnd.jupyter.widget-view+json": {
       "model_id": "613d7683bcac4cebb971c7cd45fd9312",
       "version_major": 2,
       "version_minor": 0
      },
      "text/plain": [
       "HBox(children=(FloatProgress(value=0.0, max=30.0), HTML(value='')))"
      ]
     },
     "metadata": {},
     "output_type": "display_data"
    },
    {
     "name": "stdout",
     "output_type": "stream",
     "text": [
      "Scraping page 1 \n",
      "No more reviews\n",
      "Scraping page 2 \n",
      "No more reviews\n",
      "Scraping page 3 \n",
      "No more reviews\n",
      "Scraping page 4 \n",
      "No more reviews\n",
      "Scraping page 5 \n",
      "No more reviews\n",
      "Scraping page 6 \n",
      "No more reviews\n",
      "Scraping page 7 \n",
      "No more reviews\n",
      "Scraping page 8 \n",
      "No more reviews\n",
      "Scraping page 9 \n",
      "No more reviews\n",
      "Scraping page 10 \n",
      "No more reviews\n",
      "Scraping page 11 \n",
      "No more reviews\n",
      "Scraping page 12 \n",
      "No more reviews\n",
      "Scraping page 13 \n",
      "No more reviews\n",
      "Scraping page 14 \n",
      "No more reviews\n",
      "Scraping page 15 \n",
      "No more reviews\n",
      "Scraping page 16 \n",
      "No more reviews\n",
      "Scraping page 17 \n",
      "No more reviews\n",
      "Scraping page 18 \n",
      "No more reviews\n",
      "Scraping page 19 \n",
      "No more reviews\n",
      "Scraping page 20 \n",
      "No more reviews\n",
      "Scraping page 21 \n",
      "No more reviews\n",
      "Scraping page 22 \n",
      "No more reviews\n",
      "Scraping page 23 \n",
      "No more reviews\n",
      "Scraping page 24 \n",
      "No more reviews\n",
      "Scraping page 25 \n",
      "No more reviews\n",
      "Scraping page 26 \n",
      "No more reviews\n",
      "Scraping page 27 \n",
      "No more reviews\n",
      "Scraping page 28 \n",
      "No more reviews\n",
      "Scraping page 29 \n",
      "No more reviews\n",
      "Scraping page 30 \n",
      "No more reviews\n",
      "\n"
     ]
    },
    {
     "data": {
      "application/vnd.jupyter.widget-view+json": {
       "model_id": "3671c6f092b1426b95d06100868cc7e9",
       "version_major": 2,
       "version_minor": 0
      },
      "text/plain": [
       "HBox(children=(FloatProgress(value=0.0, max=30.0), HTML(value='')))"
      ]
     },
     "metadata": {},
     "output_type": "display_data"
    },
    {
     "name": "stdout",
     "output_type": "stream",
     "text": [
      "Scraping page 1 \n",
      "Scraping page 2 \n",
      "Scraping page 3 \n",
      "Scraping page 4 \n",
      "Scraping page 5 \n",
      "Scraping page 6 \n",
      "Scraping page 7 \n",
      "Scraping page 8 \n",
      "Scraping page 9 \n",
      "Scraping page 10 \n",
      "Scraping page 11 \n",
      "Scraping page 12 \n",
      "Scraping page 13 \n",
      "Scraping page 14 \n",
      "Scraping page 15 \n",
      "Scraping page 16 \n",
      "Scraping page 17 \n",
      "Scraping page 18 \n",
      "Scraping page 19 \n",
      "No more reviews\n",
      "Scraping page 20 \n",
      "No more reviews\n",
      "Scraping page 21 \n",
      "No more reviews\n",
      "Scraping page 22 \n",
      "No more reviews\n",
      "Scraping page 23 \n",
      "No more reviews\n",
      "Scraping page 24 \n",
      "No more reviews\n",
      "Scraping page 25 \n",
      "No more reviews\n",
      "Scraping page 26 \n",
      "No more reviews\n",
      "Scraping page 27 \n",
      "No more reviews\n",
      "Scraping page 28 \n",
      "No more reviews\n",
      "Scraping page 29 \n",
      "No more reviews\n",
      "Scraping page 30 \n",
      "No more reviews\n",
      "\n",
      "\u001b[2m\u001b[34mNo ratings available\u001b[0m\n",
      "\u001b[2m\u001b[32mNo more reviews\u001b[0m\n"
     ]
    },
    {
     "data": {
      "application/vnd.jupyter.widget-view+json": {
       "model_id": "87cec3f39d234c9ab9842a267335a77d",
       "version_major": 2,
       "version_minor": 0
      },
      "text/plain": [
       "HBox(children=(FloatProgress(value=0.0, max=30.0), HTML(value='')))"
      ]
     },
     "metadata": {},
     "output_type": "display_data"
    },
    {
     "name": "stdout",
     "output_type": "stream",
     "text": [
      "Scraping page 1 \n",
      "No more reviews\n",
      "Scraping page 2 \n",
      "No more reviews\n",
      "Scraping page 3 \n",
      "No more reviews\n",
      "Scraping page 4 \n",
      "No more reviews\n",
      "Scraping page 5 \n",
      "No more reviews\n",
      "Scraping page 6 \n",
      "No more reviews\n",
      "Scraping page 7 \n",
      "No more reviews\n",
      "Scraping page 8 \n",
      "No more reviews\n",
      "Scraping page 9 \n",
      "No more reviews\n",
      "Scraping page 10 \n",
      "No more reviews\n",
      "Scraping page 11 \n",
      "No more reviews\n",
      "Scraping page 12 \n",
      "No more reviews\n",
      "Scraping page 13 \n",
      "No more reviews\n",
      "Scraping page 14 \n",
      "No more reviews\n",
      "Scraping page 15 \n",
      "No more reviews\n",
      "Scraping page 16 \n",
      "No more reviews\n",
      "Scraping page 17 \n",
      "No more reviews\n",
      "Scraping page 18 \n",
      "No more reviews\n",
      "Scraping page 19 \n",
      "No more reviews\n",
      "Scraping page 20 \n",
      "No more reviews\n",
      "Scraping page 21 \n",
      "No more reviews\n",
      "Scraping page 22 \n",
      "No more reviews\n",
      "Scraping page 23 \n",
      "No more reviews\n",
      "Scraping page 24 \n",
      "No more reviews\n",
      "Scraping page 25 \n",
      "No more reviews\n",
      "Scraping page 26 \n",
      "No more reviews\n",
      "Scraping page 27 \n",
      "No more reviews\n",
      "Scraping page 28 \n",
      "\n",
      "\n"
     ]
    },
    {
     "ename": "WebDriverException",
     "evalue": "Message: disconnected: unable to send message to renderer\n  (Session info: chrome=92.0.4515.107)\n",
     "output_type": "error",
     "traceback": [
      "\u001b[1;31m---------------------------------------------------------------------------\u001b[0m",
      "\u001b[1;31mWebDriverException\u001b[0m                        Traceback (most recent call last)",
      "\u001b[1;32m<ipython-input-22-0b95614ca061>\u001b[0m in \u001b[0;36m<module>\u001b[1;34m\u001b[0m\n\u001b[0;32m     37\u001b[0m         \u001b[0mprint\u001b[0m\u001b[1;33m(\u001b[0m\u001b[1;34m\"Scraping page {} \"\u001b[0m\u001b[1;33m.\u001b[0m\u001b[0mformat\u001b[0m\u001b[1;33m(\u001b[0m\u001b[0mi\u001b[0m\u001b[1;33m+\u001b[0m\u001b[1;36m1\u001b[0m\u001b[1;33m)\u001b[0m\u001b[1;33m)\u001b[0m\u001b[1;33m\u001b[0m\u001b[1;33m\u001b[0m\u001b[0m\n\u001b[0;32m     38\u001b[0m \u001b[1;33m\u001b[0m\u001b[0m\n\u001b[1;32m---> 39\u001b[1;33m         \u001b[1;32mtry\u001b[0m\u001b[1;33m:\u001b[0m\u001b[0mdriver\u001b[0m\u001b[1;33m.\u001b[0m\u001b[0mfind_element_by_xpath\u001b[0m\u001b[1;33m(\u001b[0m\u001b[1;34m'//*[@id=\"cm_cr-pagination_bar\"]/ul/li[2]/a'\u001b[0m\u001b[1;33m)\u001b[0m\u001b[1;33m.\u001b[0m\u001b[0mclick\u001b[0m\u001b[1;33m(\u001b[0m\u001b[1;33m)\u001b[0m\u001b[1;33m\u001b[0m\u001b[1;33m\u001b[0m\u001b[0m\n\u001b[0m\u001b[0;32m     40\u001b[0m \u001b[1;33m\u001b[0m\u001b[0m\n\u001b[0;32m     41\u001b[0m         \u001b[1;32mexcept\u001b[0m \u001b[0mNoSuchElementException\u001b[0m\u001b[1;33m:\u001b[0m\u001b[1;33m\u001b[0m\u001b[1;33m\u001b[0m\u001b[0m\n",
      "\u001b[1;32mC:\\ProgramData\\Anaconda3\\lib\\site-packages\\selenium\\webdriver\\remote\\webdriver.py\u001b[0m in \u001b[0;36mfind_element_by_xpath\u001b[1;34m(self, xpath)\u001b[0m\n\u001b[0;32m    392\u001b[0m             \u001b[0melement\u001b[0m \u001b[1;33m=\u001b[0m \u001b[0mdriver\u001b[0m\u001b[1;33m.\u001b[0m\u001b[0mfind_element_by_xpath\u001b[0m\u001b[1;33m(\u001b[0m\u001b[1;34m'//div/td[1]'\u001b[0m\u001b[1;33m)\u001b[0m\u001b[1;33m\u001b[0m\u001b[1;33m\u001b[0m\u001b[0m\n\u001b[0;32m    393\u001b[0m         \"\"\"\n\u001b[1;32m--> 394\u001b[1;33m         \u001b[1;32mreturn\u001b[0m \u001b[0mself\u001b[0m\u001b[1;33m.\u001b[0m\u001b[0mfind_element\u001b[0m\u001b[1;33m(\u001b[0m\u001b[0mby\u001b[0m\u001b[1;33m=\u001b[0m\u001b[0mBy\u001b[0m\u001b[1;33m.\u001b[0m\u001b[0mXPATH\u001b[0m\u001b[1;33m,\u001b[0m \u001b[0mvalue\u001b[0m\u001b[1;33m=\u001b[0m\u001b[0mxpath\u001b[0m\u001b[1;33m)\u001b[0m\u001b[1;33m\u001b[0m\u001b[1;33m\u001b[0m\u001b[0m\n\u001b[0m\u001b[0;32m    395\u001b[0m \u001b[1;33m\u001b[0m\u001b[0m\n\u001b[0;32m    396\u001b[0m     \u001b[1;32mdef\u001b[0m \u001b[0mfind_elements_by_xpath\u001b[0m\u001b[1;33m(\u001b[0m\u001b[0mself\u001b[0m\u001b[1;33m,\u001b[0m \u001b[0mxpath\u001b[0m\u001b[1;33m)\u001b[0m\u001b[1;33m:\u001b[0m\u001b[1;33m\u001b[0m\u001b[1;33m\u001b[0m\u001b[0m\n",
      "\u001b[1;32mC:\\ProgramData\\Anaconda3\\lib\\site-packages\\selenium\\webdriver\\remote\\webdriver.py\u001b[0m in \u001b[0;36mfind_element\u001b[1;34m(self, by, value)\u001b[0m\n\u001b[0;32m    974\u001b[0m                 \u001b[0mby\u001b[0m \u001b[1;33m=\u001b[0m \u001b[0mBy\u001b[0m\u001b[1;33m.\u001b[0m\u001b[0mCSS_SELECTOR\u001b[0m\u001b[1;33m\u001b[0m\u001b[1;33m\u001b[0m\u001b[0m\n\u001b[0;32m    975\u001b[0m                 \u001b[0mvalue\u001b[0m \u001b[1;33m=\u001b[0m \u001b[1;34m'[name=\"%s\"]'\u001b[0m \u001b[1;33m%\u001b[0m \u001b[0mvalue\u001b[0m\u001b[1;33m\u001b[0m\u001b[1;33m\u001b[0m\u001b[0m\n\u001b[1;32m--> 976\u001b[1;33m         return self.execute(Command.FIND_ELEMENT, {\n\u001b[0m\u001b[0;32m    977\u001b[0m             \u001b[1;34m'using'\u001b[0m\u001b[1;33m:\u001b[0m \u001b[0mby\u001b[0m\u001b[1;33m,\u001b[0m\u001b[1;33m\u001b[0m\u001b[1;33m\u001b[0m\u001b[0m\n\u001b[0;32m    978\u001b[0m             'value': value})['value']\n",
      "\u001b[1;32mC:\\ProgramData\\Anaconda3\\lib\\site-packages\\selenium\\webdriver\\remote\\webdriver.py\u001b[0m in \u001b[0;36mexecute\u001b[1;34m(self, driver_command, params)\u001b[0m\n\u001b[0;32m    319\u001b[0m         \u001b[0mresponse\u001b[0m \u001b[1;33m=\u001b[0m \u001b[0mself\u001b[0m\u001b[1;33m.\u001b[0m\u001b[0mcommand_executor\u001b[0m\u001b[1;33m.\u001b[0m\u001b[0mexecute\u001b[0m\u001b[1;33m(\u001b[0m\u001b[0mdriver_command\u001b[0m\u001b[1;33m,\u001b[0m \u001b[0mparams\u001b[0m\u001b[1;33m)\u001b[0m\u001b[1;33m\u001b[0m\u001b[1;33m\u001b[0m\u001b[0m\n\u001b[0;32m    320\u001b[0m         \u001b[1;32mif\u001b[0m \u001b[0mresponse\u001b[0m\u001b[1;33m:\u001b[0m\u001b[1;33m\u001b[0m\u001b[1;33m\u001b[0m\u001b[0m\n\u001b[1;32m--> 321\u001b[1;33m             \u001b[0mself\u001b[0m\u001b[1;33m.\u001b[0m\u001b[0merror_handler\u001b[0m\u001b[1;33m.\u001b[0m\u001b[0mcheck_response\u001b[0m\u001b[1;33m(\u001b[0m\u001b[0mresponse\u001b[0m\u001b[1;33m)\u001b[0m\u001b[1;33m\u001b[0m\u001b[1;33m\u001b[0m\u001b[0m\n\u001b[0m\u001b[0;32m    322\u001b[0m             response['value'] = self._unwrap_value(\n\u001b[0;32m    323\u001b[0m                 response.get('value', None))\n",
      "\u001b[1;32mC:\\ProgramData\\Anaconda3\\lib\\site-packages\\selenium\\webdriver\\remote\\errorhandler.py\u001b[0m in \u001b[0;36mcheck_response\u001b[1;34m(self, response)\u001b[0m\n\u001b[0;32m    240\u001b[0m                 \u001b[0malert_text\u001b[0m \u001b[1;33m=\u001b[0m \u001b[0mvalue\u001b[0m\u001b[1;33m[\u001b[0m\u001b[1;34m'alert'\u001b[0m\u001b[1;33m]\u001b[0m\u001b[1;33m.\u001b[0m\u001b[0mget\u001b[0m\u001b[1;33m(\u001b[0m\u001b[1;34m'text'\u001b[0m\u001b[1;33m)\u001b[0m\u001b[1;33m\u001b[0m\u001b[1;33m\u001b[0m\u001b[0m\n\u001b[0;32m    241\u001b[0m             \u001b[1;32mraise\u001b[0m \u001b[0mexception_class\u001b[0m\u001b[1;33m(\u001b[0m\u001b[0mmessage\u001b[0m\u001b[1;33m,\u001b[0m \u001b[0mscreen\u001b[0m\u001b[1;33m,\u001b[0m \u001b[0mstacktrace\u001b[0m\u001b[1;33m,\u001b[0m \u001b[0malert_text\u001b[0m\u001b[1;33m)\u001b[0m\u001b[1;33m\u001b[0m\u001b[1;33m\u001b[0m\u001b[0m\n\u001b[1;32m--> 242\u001b[1;33m         \u001b[1;32mraise\u001b[0m \u001b[0mexception_class\u001b[0m\u001b[1;33m(\u001b[0m\u001b[0mmessage\u001b[0m\u001b[1;33m,\u001b[0m \u001b[0mscreen\u001b[0m\u001b[1;33m,\u001b[0m \u001b[0mstacktrace\u001b[0m\u001b[1;33m)\u001b[0m\u001b[1;33m\u001b[0m\u001b[1;33m\u001b[0m\u001b[0m\n\u001b[0m\u001b[0;32m    243\u001b[0m \u001b[1;33m\u001b[0m\u001b[0m\n\u001b[0;32m    244\u001b[0m     \u001b[1;32mdef\u001b[0m \u001b[0m_value_or_default\u001b[0m\u001b[1;33m(\u001b[0m\u001b[0mself\u001b[0m\u001b[1;33m,\u001b[0m \u001b[0mobj\u001b[0m\u001b[1;33m,\u001b[0m \u001b[0mkey\u001b[0m\u001b[1;33m,\u001b[0m \u001b[0mdefault\u001b[0m\u001b[1;33m)\u001b[0m\u001b[1;33m:\u001b[0m\u001b[1;33m\u001b[0m\u001b[1;33m\u001b[0m\u001b[0m\n",
      "\u001b[1;31mWebDriverException\u001b[0m: Message: disconnected: unable to send message to renderer\n  (Session info: chrome=92.0.4515.107)\n"
     ]
    }
   ],
   "source": [
    "# Using forloop to scrape the data from each product url\n",
    "for url in tqdm_notebook(product_url):\n",
    "    driver.get(url)\n",
    "    time.sleep(1.5)\n",
    "    \n",
    "    # going to ratings page\n",
    "    try:driver.find_element_by_xpath(\"//*[@id='acrCustomerReviewLink']\").click()\n",
    "    except NoSuchElementException:\n",
    "        print(cl(\"No ratings available\",color='blue',attrs=['dark']))\n",
    "        pass\n",
    "\n",
    "    # Click to see all reviews of product\n",
    "    try:driver.find_element_by_xpath('//*[@id=\"reviews-medley-footer\"]/div[2]/a').click()\n",
    "    except NoSuchElementException :\n",
    "        print(cl(\"No more reviews\",color='green',attrs=['dark']))\n",
    "        pass\n",
    "        \n",
    "    time.sleep(1.5)\n",
    "    for i in tqdm_notebook(range(0,30)):\n",
    "        time.sleep(1)\n",
    "        \n",
    "        # Fetch ratings of product from each review\n",
    "        try:\n",
    "            RATINGS = driver.find_elements_by_xpath('//div[@class=\"a-section celwidget\"]/div[2]/a[1]')\n",
    "            for r in RATINGS:\n",
    "                driver.implicitly_wait(2)\n",
    "                rate=r.get_attribute('title')\n",
    "                ratings.append(rate[:3])\n",
    "        except NoSuchElementException:\n",
    "            ratings.append(\"Not Availabel\")\n",
    "\n",
    "        # fetching reviews of product        \n",
    "        try:\n",
    "            REVIEWS = driver.find_elements_by_xpath('//div[@class=\"a-section celwidget\"]/div[4]')\n",
    "            for v in REVIEWS:\n",
    "                reviews.append(v.text.replace('\\n',''))\n",
    "        except NoSuchElementException:\n",
    "            reviews.append(\"Not Availabel\")\n",
    "        \n",
    "        #Printing the page scrapped\n",
    "        print(\"Scraping page {} \".format(i+1))\n",
    "        \n",
    "        # Going to next page of reviews\n",
    "        try:driver.find_element_by_xpath('//*[@id=\"cm_cr-pagination_bar\"]/ul/li[2]/a').click()\n",
    "       \n",
    "        except NoSuchElementException:\n",
    "            print(\"No more reviews\")\n",
    "            pass\n",
    "        "
   ]
  },
  {
   "cell_type": "code",
   "execution_count": 24,
   "metadata": {},
   "outputs": [
    {
     "data": {
      "text/plain": [
       "7327"
      ]
     },
     "execution_count": 24,
     "metadata": {},
     "output_type": "execute_result"
    }
   ],
   "source": [
    "len(ratings)"
   ]
  },
  {
   "cell_type": "code",
   "execution_count": 25,
   "metadata": {},
   "outputs": [],
   "source": [
    "# Storing scraped data of laptops into pandas dataframe \n",
    "laptops=pd.DataFrame({\"Reviews\":reviews,\"Ratings\":ratings})\n",
    "# Saving data into csv file\n",
    "laptops.to_csv(\"laptops.csv\")"
   ]
  },
  {
   "cell_type": "markdown",
   "metadata": {},
   "source": [
    "### Collecting reviews data of headphones"
   ]
  },
  {
   "cell_type": "code",
   "execution_count": 3,
   "metadata": {},
   "outputs": [
    {
     "data": {
      "application/vnd.jupyter.widget-view+json": {
       "model_id": "d86882c063d14d51b5f9835b0ef6c096",
       "version_major": 2,
       "version_minor": 0
      },
      "text/plain": [
       "HBox(children=(FloatProgress(value=0.0, max=2.0), HTML(value='')))"
      ]
     },
     "metadata": {},
     "output_type": "display_data"
    },
    {
     "name": "stdout",
     "output_type": "stream",
     "text": [
      "\n"
     ]
    }
   ],
   "source": [
    "# CAlling webdrive\n",
    "driver = webdriver.Chrome('chromedriver.exe')\n",
    "# Sending url to open the webpage\n",
    "driver.get('https://www.amazon.in/')\n",
    "\n",
    "# Using search bar sending our input to search desired data\n",
    "driver.find_element_by_xpath(\"//input[@id='twotabsearchtextbox']\").send_keys('headphones',Keys.ENTER)\n",
    "\n",
    "# Create empty list to store product url\n",
    "product_url = []\n",
    "for i in tqdm_notebook(range(0,2)):\n",
    "    URLS = driver.find_elements_by_xpath(\"//div[@class='a-section a-spacing-none']/div/h2/a\")\n",
    "    for u in URLS:\n",
    "        product_url.append(u.get_attribute(\"href\"))\n",
    "    \n",
    "    # Click the button to go to next page\n",
    "    try:driver.find_element_by_xpath(\"//*[@id='search']/div[1]/div/div[1]/div/span[3]/div[2]/div[28]/span/div/div/ul/li[7]/a\").click()\n",
    "    except NoSuchElementException:\n",
    "        pass\n",
    "# Creating empty list to store ratings and reviews\n",
    "reviews = []\n",
    "ratings = []"
   ]
  },
  {
   "cell_type": "code",
   "execution_count": 4,
   "metadata": {},
   "outputs": [
    {
     "data": {
      "application/vnd.jupyter.widget-view+json": {
       "model_id": "afc2c1aa699b495eab6af58206d26fcb",
       "version_major": 2,
       "version_minor": 0
      },
      "text/plain": [
       "HBox(children=(FloatProgress(value=0.0, max=52.0), HTML(value='')))"
      ]
     },
     "metadata": {},
     "output_type": "display_data"
    },
    {
     "data": {
      "application/vnd.jupyter.widget-view+json": {
       "model_id": "f9b8985baaa540c6ac8e20b8127def12",
       "version_major": 2,
       "version_minor": 0
      },
      "text/plain": [
       "HBox(children=(FloatProgress(value=0.0, max=30.0), HTML(value='')))"
      ]
     },
     "metadata": {},
     "output_type": "display_data"
    },
    {
     "name": "stdout",
     "output_type": "stream",
     "text": [
      "Scraping page 1 \n",
      "Scraping page 2 \n",
      "Scraping page 3 \n",
      "Scraping page 4 \n",
      "Scraping page 5 \n",
      "No more reviews\n",
      "Scraping page 6 \n",
      "No more reviews\n",
      "Scraping page 7 \n",
      "No more reviews\n",
      "Scraping page 8 \n",
      "No more reviews\n",
      "Scraping page 9 \n",
      "No more reviews\n",
      "Scraping page 10 \n",
      "No more reviews\n",
      "Scraping page 11 \n",
      "No more reviews\n",
      "Scraping page 12 \n",
      "No more reviews\n",
      "Scraping page 13 \n",
      "No more reviews\n",
      "Scraping page 14 \n",
      "No more reviews\n",
      "Scraping page 15 \n",
      "No more reviews\n",
      "Scraping page 16 \n",
      "No more reviews\n",
      "Scraping page 17 \n",
      "No more reviews\n",
      "Scraping page 18 \n",
      "No more reviews\n",
      "Scraping page 19 \n",
      "No more reviews\n",
      "Scraping page 20 \n",
      "No more reviews\n",
      "Scraping page 21 \n",
      "No more reviews\n",
      "Scraping page 22 \n",
      "No more reviews\n",
      "Scraping page 23 \n",
      "No more reviews\n",
      "Scraping page 24 \n",
      "No more reviews\n",
      "Scraping page 25 \n",
      "No more reviews\n",
      "Scraping page 26 \n",
      "No more reviews\n",
      "Scraping page 27 \n",
      "No more reviews\n",
      "Scraping page 28 \n",
      "No more reviews\n",
      "Scraping page 29 \n",
      "No more reviews\n",
      "Scraping page 30 \n",
      "No more reviews\n",
      "\n"
     ]
    },
    {
     "data": {
      "application/vnd.jupyter.widget-view+json": {
       "model_id": "75fe35e5c25643a2ab89fd5f592097ce",
       "version_major": 2,
       "version_minor": 0
      },
      "text/plain": [
       "HBox(children=(FloatProgress(value=0.0, max=30.0), HTML(value='')))"
      ]
     },
     "metadata": {},
     "output_type": "display_data"
    },
    {
     "name": "stdout",
     "output_type": "stream",
     "text": [
      "Scraping page 1 \n",
      "Scraping page 2 \n",
      "Scraping page 3 \n",
      "Scraping page 4 \n",
      "Scraping page 5 \n",
      "Scraping page 6 \n",
      "Scraping page 7 \n",
      "Scraping page 8 \n",
      "Scraping page 9 \n",
      "Scraping page 10 \n",
      "Scraping page 11 \n",
      "Scraping page 12 \n",
      "Scraping page 13 \n",
      "Scraping page 14 \n",
      "Scraping page 15 \n",
      "Scraping page 16 \n",
      "Scraping page 17 \n",
      "Scraping page 18 \n",
      "Scraping page 19 \n",
      "Scraping page 20 \n",
      "Scraping page 21 \n",
      "Scraping page 22 \n",
      "Scraping page 23 \n",
      "Scraping page 24 \n",
      "Scraping page 25 \n",
      "Scraping page 26 \n",
      "Scraping page 27 \n",
      "Scraping page 28 \n",
      "Scraping page 29 \n",
      "Scraping page 30 \n",
      "\n"
     ]
    },
    {
     "data": {
      "application/vnd.jupyter.widget-view+json": {
       "model_id": "5dfef76d05fd47a58f370dd6ba47ce0a",
       "version_major": 2,
       "version_minor": 0
      },
      "text/plain": [
       "HBox(children=(FloatProgress(value=0.0, max=30.0), HTML(value='')))"
      ]
     },
     "metadata": {},
     "output_type": "display_data"
    },
    {
     "name": "stdout",
     "output_type": "stream",
     "text": [
      "Scraping page 1 \n",
      "Scraping page 2 \n",
      "Scraping page 3 \n",
      "Scraping page 4 \n",
      "Scraping page 5 \n",
      "Scraping page 6 \n",
      "Scraping page 7 \n",
      "Scraping page 8 \n",
      "Scraping page 9 \n",
      "Scraping page 10 \n",
      "Scraping page 11 \n",
      "Scraping page 12 \n",
      "Scraping page 13 \n",
      "Scraping page 14 \n",
      "Scraping page 15 \n",
      "Scraping page 16 \n",
      "Scraping page 17 \n",
      "Scraping page 18 \n",
      "Scraping page 19 \n",
      "Scraping page 20 \n",
      "Scraping page 21 \n",
      "Scraping page 22 \n",
      "Scraping page 23 \n",
      "Scraping page 24 \n",
      "Scraping page 25 \n",
      "Scraping page 26 \n",
      "Scraping page 27 \n",
      "Scraping page 28 \n",
      "Scraping page 29 \n",
      "Scraping page 30 \n",
      "\n"
     ]
    },
    {
     "data": {
      "application/vnd.jupyter.widget-view+json": {
       "model_id": "6027a3b82a3f45f8b9a3e6b75638370d",
       "version_major": 2,
       "version_minor": 0
      },
      "text/plain": [
       "HBox(children=(FloatProgress(value=0.0, max=30.0), HTML(value='')))"
      ]
     },
     "metadata": {},
     "output_type": "display_data"
    },
    {
     "name": "stdout",
     "output_type": "stream",
     "text": [
      "Scraping page 1 \n",
      "Scraping page 2 \n",
      "Scraping page 3 \n",
      "Scraping page 4 \n",
      "Scraping page 5 \n",
      "Scraping page 6 \n",
      "Scraping page 7 \n",
      "Scraping page 8 \n",
      "Scraping page 9 \n",
      "Scraping page 10 \n",
      "Scraping page 11 \n",
      "Scraping page 12 \n",
      "Scraping page 13 \n",
      "Scraping page 14 \n",
      "Scraping page 15 \n",
      "Scraping page 16 \n",
      "Scraping page 17 \n",
      "Scraping page 18 \n",
      "Scraping page 19 \n",
      "Scraping page 20 \n",
      "Scraping page 21 \n",
      "Scraping page 22 \n",
      "Scraping page 23 \n",
      "Scraping page 24 \n",
      "Scraping page 25 \n",
      "Scraping page 26 \n",
      "Scraping page 27 \n",
      "Scraping page 28 \n",
      "Scraping page 29 \n",
      "Scraping page 30 \n",
      "\n"
     ]
    },
    {
     "data": {
      "application/vnd.jupyter.widget-view+json": {
       "model_id": "97877e545f0442df8b0e771446fdfe96",
       "version_major": 2,
       "version_minor": 0
      },
      "text/plain": [
       "HBox(children=(FloatProgress(value=0.0, max=30.0), HTML(value='')))"
      ]
     },
     "metadata": {},
     "output_type": "display_data"
    },
    {
     "name": "stdout",
     "output_type": "stream",
     "text": [
      "Scraping page 1 \n",
      "Scraping page 2 \n",
      "Scraping page 3 \n",
      "Scraping page 4 \n",
      "Scraping page 5 \n",
      "Scraping page 6 \n",
      "Scraping page 7 \n",
      "Scraping page 8 \n",
      "Scraping page 9 \n",
      "Scraping page 10 \n",
      "Scraping page 11 \n",
      "Scraping page 12 \n",
      "Scraping page 13 \n",
      "Scraping page 14 \n",
      "Scraping page 15 \n",
      "Scraping page 16 \n",
      "Scraping page 17 \n",
      "Scraping page 18 \n",
      "Scraping page 19 \n",
      "Scraping page 20 \n",
      "Scraping page 21 \n",
      "Scraping page 22 \n",
      "Scraping page 23 \n",
      "Scraping page 24 \n",
      "Scraping page 25 \n",
      "Scraping page 26 \n",
      "Scraping page 27 \n",
      "Scraping page 28 \n",
      "Scraping page 29 \n",
      "Scraping page 30 \n",
      "\n"
     ]
    },
    {
     "data": {
      "application/vnd.jupyter.widget-view+json": {
       "model_id": "e748554630564d18a658e207a66a770d",
       "version_major": 2,
       "version_minor": 0
      },
      "text/plain": [
       "HBox(children=(FloatProgress(value=0.0, max=30.0), HTML(value='')))"
      ]
     },
     "metadata": {},
     "output_type": "display_data"
    },
    {
     "name": "stdout",
     "output_type": "stream",
     "text": [
      "Scraping page 1 \n",
      "Scraping page 2 \n",
      "Scraping page 3 \n",
      "Scraping page 4 \n",
      "Scraping page 5 \n",
      "Scraping page 6 \n",
      "Scraping page 7 \n",
      "Scraping page 8 \n",
      "Scraping page 9 \n",
      "Scraping page 10 \n",
      "Scraping page 11 \n",
      "Scraping page 12 \n",
      "Scraping page 13 \n",
      "Scraping page 14 \n",
      "Scraping page 15 \n",
      "Scraping page 16 \n",
      "Scraping page 17 \n",
      "Scraping page 18 \n",
      "Scraping page 19 \n",
      "Scraping page 20 \n",
      "Scraping page 21 \n",
      "Scraping page 22 \n",
      "Scraping page 23 \n",
      "Scraping page 24 \n",
      "Scraping page 25 \n",
      "Scraping page 26 \n",
      "Scraping page 27 \n",
      "Scraping page 28 \n",
      "Scraping page 29 \n",
      "Scraping page 30 \n",
      "\n"
     ]
    },
    {
     "data": {
      "application/vnd.jupyter.widget-view+json": {
       "model_id": "67dbb7599d0341b3be09ead45fee66a5",
       "version_major": 2,
       "version_minor": 0
      },
      "text/plain": [
       "HBox(children=(FloatProgress(value=0.0, max=30.0), HTML(value='')))"
      ]
     },
     "metadata": {},
     "output_type": "display_data"
    },
    {
     "name": "stdout",
     "output_type": "stream",
     "text": [
      "Scraping page 1 \n",
      "Scraping page 2 \n",
      "Scraping page 3 \n",
      "Scraping page 4 \n",
      "Scraping page 5 \n",
      "Scraping page 6 \n",
      "Scraping page 7 \n",
      "Scraping page 8 \n",
      "Scraping page 9 \n",
      "Scraping page 10 \n",
      "Scraping page 11 \n",
      "Scraping page 12 \n",
      "Scraping page 13 \n",
      "Scraping page 14 \n",
      "Scraping page 15 \n",
      "Scraping page 16 \n",
      "Scraping page 17 \n",
      "Scraping page 18 \n",
      "Scraping page 19 \n",
      "Scraping page 20 \n",
      "Scraping page 21 \n",
      "Scraping page 22 \n",
      "Scraping page 23 \n",
      "Scraping page 24 \n",
      "Scraping page 25 \n",
      "Scraping page 26 \n",
      "Scraping page 27 \n",
      "Scraping page 28 \n",
      "Scraping page 29 \n",
      "Scraping page 30 \n",
      "\n"
     ]
    },
    {
     "data": {
      "application/vnd.jupyter.widget-view+json": {
       "model_id": "66ef1f08136b4e9386b7b59d068cd7a0",
       "version_major": 2,
       "version_minor": 0
      },
      "text/plain": [
       "HBox(children=(FloatProgress(value=0.0, max=30.0), HTML(value='')))"
      ]
     },
     "metadata": {},
     "output_type": "display_data"
    },
    {
     "name": "stdout",
     "output_type": "stream",
     "text": [
      "Scraping page 1 \n",
      "Scraping page 2 \n",
      "Scraping page 3 \n",
      "Scraping page 4 \n",
      "Scraping page 5 \n",
      "Scraping page 6 \n",
      "Scraping page 7 \n",
      "Scraping page 8 \n",
      "Scraping page 9 \n",
      "Scraping page 10 \n",
      "Scraping page 11 \n",
      "Scraping page 12 \n",
      "Scraping page 13 \n",
      "Scraping page 14 \n",
      "Scraping page 15 \n",
      "Scraping page 16 \n",
      "Scraping page 17 \n",
      "Scraping page 18 \n",
      "Scraping page 19 \n",
      "Scraping page 20 \n",
      "Scraping page 21 \n",
      "Scraping page 22 \n",
      "Scraping page 23 \n",
      "Scraping page 24 \n",
      "Scraping page 25 \n",
      "Scraping page 26 \n",
      "Scraping page 27 \n",
      "Scraping page 28 \n",
      "Scraping page 29 \n",
      "Scraping page 30 \n",
      "\n"
     ]
    },
    {
     "data": {
      "application/vnd.jupyter.widget-view+json": {
       "model_id": "bd19c170d1a447d590403cf70287bad1",
       "version_major": 2,
       "version_minor": 0
      },
      "text/plain": [
       "HBox(children=(FloatProgress(value=0.0, max=30.0), HTML(value='')))"
      ]
     },
     "metadata": {},
     "output_type": "display_data"
    },
    {
     "name": "stdout",
     "output_type": "stream",
     "text": [
      "Scraping page 1 \n",
      "Scraping page 2 \n",
      "Scraping page 3 \n",
      "Scraping page 4 \n",
      "Scraping page 5 \n",
      "Scraping page 6 \n",
      "Scraping page 7 \n",
      "Scraping page 8 \n",
      "Scraping page 9 \n",
      "Scraping page 10 \n",
      "Scraping page 11 \n",
      "Scraping page 12 \n",
      "Scraping page 13 \n",
      "Scraping page 14 \n",
      "Scraping page 15 \n",
      "Scraping page 16 \n",
      "Scraping page 17 \n",
      "Scraping page 18 \n",
      "Scraping page 19 \n",
      "Scraping page 20 \n",
      "Scraping page 21 \n",
      "Scraping page 22 \n",
      "Scraping page 23 \n",
      "Scraping page 24 \n",
      "Scraping page 25 \n",
      "Scraping page 26 \n",
      "Scraping page 27 \n",
      "Scraping page 28 \n",
      "Scraping page 29 \n",
      "Scraping page 30 \n",
      "\n"
     ]
    },
    {
     "data": {
      "application/vnd.jupyter.widget-view+json": {
       "model_id": "43ef4ee6c3a24b5f86996dbcaa61314c",
       "version_major": 2,
       "version_minor": 0
      },
      "text/plain": [
       "HBox(children=(FloatProgress(value=0.0, max=30.0), HTML(value='')))"
      ]
     },
     "metadata": {},
     "output_type": "display_data"
    },
    {
     "name": "stdout",
     "output_type": "stream",
     "text": [
      "Scraping page 1 \n",
      "Scraping page 2 \n",
      "Scraping page 3 \n",
      "Scraping page 4 \n",
      "Scraping page 5 \n",
      "Scraping page 6 \n",
      "Scraping page 7 \n",
      "Scraping page 8 \n",
      "Scraping page 9 \n",
      "Scraping page 10 \n",
      "Scraping page 11 \n",
      "Scraping page 12 \n",
      "Scraping page 13 \n",
      "Scraping page 14 \n",
      "Scraping page 15 \n",
      "Scraping page 16 \n",
      "Scraping page 17 \n",
      "Scraping page 18 \n",
      "Scraping page 19 \n",
      "Scraping page 20 \n",
      "Scraping page 21 \n",
      "Scraping page 22 \n",
      "Scraping page 23 \n",
      "Scraping page 24 \n",
      "Scraping page 25 \n",
      "Scraping page 26 \n",
      "Scraping page 27 \n",
      "Scraping page 28 \n",
      "Scraping page 29 \n",
      "Scraping page 30 \n",
      "\n"
     ]
    },
    {
     "data": {
      "application/vnd.jupyter.widget-view+json": {
       "model_id": "3024999ca74449e3924e4e37c4b74d39",
       "version_major": 2,
       "version_minor": 0
      },
      "text/plain": [
       "HBox(children=(FloatProgress(value=0.0, max=30.0), HTML(value='')))"
      ]
     },
     "metadata": {},
     "output_type": "display_data"
    },
    {
     "name": "stdout",
     "output_type": "stream",
     "text": [
      "Scraping page 1 \n",
      "Scraping page 2 \n",
      "Scraping page 3 \n",
      "Scraping page 4 \n",
      "Scraping page 5 \n",
      "Scraping page 6 \n",
      "Scraping page 7 \n",
      "Scraping page 8 \n",
      "Scraping page 9 \n",
      "Scraping page 10 \n",
      "Scraping page 11 \n",
      "Scraping page 12 \n",
      "Scraping page 13 \n",
      "Scraping page 14 \n",
      "Scraping page 15 \n",
      "Scraping page 16 \n",
      "Scraping page 17 \n",
      "Scraping page 18 \n",
      "Scraping page 19 \n",
      "Scraping page 20 \n",
      "Scraping page 21 \n",
      "Scraping page 22 \n",
      "Scraping page 23 \n",
      "Scraping page 24 \n",
      "Scraping page 25 \n",
      "Scraping page 26 \n",
      "Scraping page 27 \n",
      "Scraping page 28 \n",
      "Scraping page 29 \n",
      "Scraping page 30 \n",
      "\n"
     ]
    },
    {
     "data": {
      "application/vnd.jupyter.widget-view+json": {
       "model_id": "1a7189e84f9c45e0a31e03f911c549d7",
       "version_major": 2,
       "version_minor": 0
      },
      "text/plain": [
       "HBox(children=(FloatProgress(value=0.0, max=30.0), HTML(value='')))"
      ]
     },
     "metadata": {},
     "output_type": "display_data"
    },
    {
     "name": "stdout",
     "output_type": "stream",
     "text": [
      "Scraping page 1 \n",
      "Scraping page 2 \n",
      "Scraping page 3 \n",
      "Scraping page 4 \n",
      "Scraping page 5 \n",
      "Scraping page 6 \n",
      "Scraping page 7 \n",
      "Scraping page 8 \n",
      "Scraping page 9 \n",
      "Scraping page 10 \n",
      "Scraping page 11 \n",
      "Scraping page 12 \n",
      "Scraping page 13 \n",
      "Scraping page 14 \n",
      "Scraping page 15 \n",
      "Scraping page 16 \n",
      "Scraping page 17 \n",
      "Scraping page 18 \n",
      "Scraping page 19 \n",
      "Scraping page 20 \n",
      "Scraping page 21 \n",
      "Scraping page 22 \n",
      "Scraping page 23 \n",
      "Scraping page 24 \n",
      "Scraping page 25 \n",
      "Scraping page 26 \n",
      "Scraping page 27 \n",
      "Scraping page 28 \n",
      "Scraping page 29 \n",
      "Scraping page 30 \n",
      "\n"
     ]
    },
    {
     "data": {
      "application/vnd.jupyter.widget-view+json": {
       "model_id": "9083b8db4a024f53885d5e2facee69c3",
       "version_major": 2,
       "version_minor": 0
      },
      "text/plain": [
       "HBox(children=(FloatProgress(value=0.0, max=30.0), HTML(value='')))"
      ]
     },
     "metadata": {},
     "output_type": "display_data"
    },
    {
     "name": "stdout",
     "output_type": "stream",
     "text": [
      "Scraping page 1 \n",
      "Scraping page 2 \n",
      "Scraping page 3 \n",
      "Scraping page 4 \n",
      "Scraping page 5 \n",
      "Scraping page 6 \n",
      "Scraping page 7 \n",
      "Scraping page 8 \n",
      "Scraping page 9 \n",
      "Scraping page 10 \n",
      "Scraping page 11 \n",
      "Scraping page 12 \n",
      "Scraping page 13 \n",
      "Scraping page 14 \n",
      "Scraping page 15 \n",
      "Scraping page 16 \n",
      "Scraping page 17 \n",
      "Scraping page 18 \n",
      "Scraping page 19 \n",
      "Scraping page 20 \n",
      "Scraping page 21 \n",
      "Scraping page 22 \n",
      "Scraping page 23 \n",
      "Scraping page 24 \n",
      "Scraping page 25 \n",
      "Scraping page 26 \n",
      "Scraping page 27 \n",
      "Scraping page 28 \n",
      "Scraping page 29 \n",
      "Scraping page 30 \n",
      "\n"
     ]
    },
    {
     "data": {
      "application/vnd.jupyter.widget-view+json": {
       "model_id": "cddc8065cb6d4c61941f95fe42705646",
       "version_major": 2,
       "version_minor": 0
      },
      "text/plain": [
       "HBox(children=(FloatProgress(value=0.0, max=30.0), HTML(value='')))"
      ]
     },
     "metadata": {},
     "output_type": "display_data"
    },
    {
     "name": "stdout",
     "output_type": "stream",
     "text": [
      "Scraping page 1 \n",
      "Scraping page 2 \n",
      "Scraping page 3 \n",
      "Scraping page 4 \n",
      "Scraping page 5 \n",
      "Scraping page 6 \n",
      "Scraping page 7 \n",
      "Scraping page 8 \n",
      "Scraping page 9 \n",
      "Scraping page 10 \n",
      "Scraping page 11 \n",
      "Scraping page 12 \n",
      "Scraping page 13 \n",
      "Scraping page 14 \n",
      "Scraping page 15 \n",
      "Scraping page 16 \n",
      "Scraping page 17 \n",
      "Scraping page 18 \n",
      "Scraping page 19 \n",
      "Scraping page 20 \n",
      "Scraping page 21 \n",
      "Scraping page 22 \n",
      "Scraping page 23 \n",
      "Scraping page 24 \n",
      "Scraping page 25 \n",
      "Scraping page 26 \n",
      "Scraping page 27 \n",
      "Scraping page 28 \n",
      "Scraping page 29 \n",
      "Scraping page 30 \n",
      "\n"
     ]
    },
    {
     "data": {
      "application/vnd.jupyter.widget-view+json": {
       "model_id": "94e5d3f12ba54bb4858d3e9b8245a6ee",
       "version_major": 2,
       "version_minor": 0
      },
      "text/plain": [
       "HBox(children=(FloatProgress(value=0.0, max=30.0), HTML(value='')))"
      ]
     },
     "metadata": {},
     "output_type": "display_data"
    },
    {
     "name": "stdout",
     "output_type": "stream",
     "text": [
      "Scraping page 1 \n",
      "Scraping page 2 \n",
      "Scraping page 3 \n",
      "Scraping page 4 \n",
      "Scraping page 5 \n",
      "Scraping page 6 \n",
      "Scraping page 7 \n",
      "Scraping page 8 \n",
      "Scraping page 9 \n",
      "Scraping page 10 \n",
      "Scraping page 11 \n",
      "Scraping page 12 \n",
      "Scraping page 13 \n",
      "Scraping page 14 \n",
      "Scraping page 15 \n",
      "Scraping page 16 \n",
      "Scraping page 17 \n",
      "Scraping page 18 \n",
      "Scraping page 19 \n",
      "Scraping page 20 \n",
      "Scraping page 21 \n",
      "Scraping page 22 \n",
      "Scraping page 23 \n",
      "Scraping page 24 \n",
      "Scraping page 25 \n",
      "Scraping page 26 \n",
      "Scraping page 27 \n",
      "No more reviews\n",
      "Scraping page 28 \n",
      "No more reviews\n",
      "Scraping page 29 \n",
      "No more reviews\n",
      "Scraping page 30 \n",
      "No more reviews\n",
      "\n"
     ]
    },
    {
     "data": {
      "application/vnd.jupyter.widget-view+json": {
       "model_id": "7d5d859edb2e44728539d7ff37c2a0cd",
       "version_major": 2,
       "version_minor": 0
      },
      "text/plain": [
       "HBox(children=(FloatProgress(value=0.0, max=30.0), HTML(value='')))"
      ]
     },
     "metadata": {},
     "output_type": "display_data"
    },
    {
     "name": "stdout",
     "output_type": "stream",
     "text": [
      "Scraping page 1 \n",
      "Scraping page 2 \n",
      "Scraping page 3 \n",
      "Scraping page 4 \n",
      "Scraping page 5 \n",
      "Scraping page 6 \n",
      "Scraping page 7 \n",
      "Scraping page 8 \n",
      "Scraping page 9 \n",
      "Scraping page 10 \n",
      "Scraping page 11 \n",
      "Scraping page 12 \n",
      "Scraping page 13 \n",
      "Scraping page 14 \n",
      "Scraping page 15 \n",
      "Scraping page 16 \n",
      "Scraping page 17 \n",
      "Scraping page 18 \n",
      "\n",
      "\n"
     ]
    },
    {
     "ename": "StaleElementReferenceException",
     "evalue": "Message: stale element reference: element is not attached to the page document\n  (Session info: chrome=92.0.4515.107)\n",
     "output_type": "error",
     "traceback": [
      "\u001b[1;31m---------------------------------------------------------------------------\u001b[0m",
      "\u001b[1;31mStaleElementReferenceException\u001b[0m            Traceback (most recent call last)",
      "\u001b[1;32m<ipython-input-4-0b95614ca061>\u001b[0m in \u001b[0;36m<module>\u001b[1;34m\u001b[0m\n\u001b[0;32m     21\u001b[0m             \u001b[1;32mfor\u001b[0m \u001b[0mr\u001b[0m \u001b[1;32min\u001b[0m \u001b[0mRATINGS\u001b[0m\u001b[1;33m:\u001b[0m\u001b[1;33m\u001b[0m\u001b[1;33m\u001b[0m\u001b[0m\n\u001b[0;32m     22\u001b[0m                 \u001b[0mdriver\u001b[0m\u001b[1;33m.\u001b[0m\u001b[0mimplicitly_wait\u001b[0m\u001b[1;33m(\u001b[0m\u001b[1;36m2\u001b[0m\u001b[1;33m)\u001b[0m\u001b[1;33m\u001b[0m\u001b[1;33m\u001b[0m\u001b[0m\n\u001b[1;32m---> 23\u001b[1;33m                 \u001b[0mrate\u001b[0m\u001b[1;33m=\u001b[0m\u001b[0mr\u001b[0m\u001b[1;33m.\u001b[0m\u001b[0mget_attribute\u001b[0m\u001b[1;33m(\u001b[0m\u001b[1;34m'title'\u001b[0m\u001b[1;33m)\u001b[0m\u001b[1;33m\u001b[0m\u001b[1;33m\u001b[0m\u001b[0m\n\u001b[0m\u001b[0;32m     24\u001b[0m                 \u001b[0mratings\u001b[0m\u001b[1;33m.\u001b[0m\u001b[0mappend\u001b[0m\u001b[1;33m(\u001b[0m\u001b[0mrate\u001b[0m\u001b[1;33m[\u001b[0m\u001b[1;33m:\u001b[0m\u001b[1;36m3\u001b[0m\u001b[1;33m]\u001b[0m\u001b[1;33m)\u001b[0m\u001b[1;33m\u001b[0m\u001b[1;33m\u001b[0m\u001b[0m\n\u001b[0;32m     25\u001b[0m         \u001b[1;32mexcept\u001b[0m \u001b[0mNoSuchElementException\u001b[0m\u001b[1;33m:\u001b[0m\u001b[1;33m\u001b[0m\u001b[1;33m\u001b[0m\u001b[0m\n",
      "\u001b[1;32mC:\\ProgramData\\Anaconda3\\lib\\site-packages\\selenium\\webdriver\\remote\\webelement.py\u001b[0m in \u001b[0;36mget_attribute\u001b[1;34m(self, name)\u001b[0m\n\u001b[0;32m    137\u001b[0m         \u001b[0mattributeValue\u001b[0m \u001b[1;33m=\u001b[0m \u001b[1;34m''\u001b[0m\u001b[1;33m\u001b[0m\u001b[1;33m\u001b[0m\u001b[0m\n\u001b[0;32m    138\u001b[0m         \u001b[1;32mif\u001b[0m \u001b[0mself\u001b[0m\u001b[1;33m.\u001b[0m\u001b[0m_w3c\u001b[0m\u001b[1;33m:\u001b[0m\u001b[1;33m\u001b[0m\u001b[1;33m\u001b[0m\u001b[0m\n\u001b[1;32m--> 139\u001b[1;33m             attributeValue = self.parent.execute_script(\n\u001b[0m\u001b[0;32m    140\u001b[0m                 \u001b[1;34m\"return (%s).apply(null, arguments);\"\u001b[0m \u001b[1;33m%\u001b[0m \u001b[0mgetAttribute_js\u001b[0m\u001b[1;33m,\u001b[0m\u001b[1;33m\u001b[0m\u001b[1;33m\u001b[0m\u001b[0m\n\u001b[0;32m    141\u001b[0m                 self, name)\n",
      "\u001b[1;32mC:\\ProgramData\\Anaconda3\\lib\\site-packages\\selenium\\webdriver\\remote\\webdriver.py\u001b[0m in \u001b[0;36mexecute_script\u001b[1;34m(self, script, *args)\u001b[0m\n\u001b[0;32m    632\u001b[0m             \u001b[0mcommand\u001b[0m \u001b[1;33m=\u001b[0m \u001b[0mCommand\u001b[0m\u001b[1;33m.\u001b[0m\u001b[0mEXECUTE_SCRIPT\u001b[0m\u001b[1;33m\u001b[0m\u001b[1;33m\u001b[0m\u001b[0m\n\u001b[0;32m    633\u001b[0m \u001b[1;33m\u001b[0m\u001b[0m\n\u001b[1;32m--> 634\u001b[1;33m         return self.execute(command, {\n\u001b[0m\u001b[0;32m    635\u001b[0m             \u001b[1;34m'script'\u001b[0m\u001b[1;33m:\u001b[0m \u001b[0mscript\u001b[0m\u001b[1;33m,\u001b[0m\u001b[1;33m\u001b[0m\u001b[1;33m\u001b[0m\u001b[0m\n\u001b[0;32m    636\u001b[0m             'args': converted_args})['value']\n",
      "\u001b[1;32mC:\\ProgramData\\Anaconda3\\lib\\site-packages\\selenium\\webdriver\\remote\\webdriver.py\u001b[0m in \u001b[0;36mexecute\u001b[1;34m(self, driver_command, params)\u001b[0m\n\u001b[0;32m    319\u001b[0m         \u001b[0mresponse\u001b[0m \u001b[1;33m=\u001b[0m \u001b[0mself\u001b[0m\u001b[1;33m.\u001b[0m\u001b[0mcommand_executor\u001b[0m\u001b[1;33m.\u001b[0m\u001b[0mexecute\u001b[0m\u001b[1;33m(\u001b[0m\u001b[0mdriver_command\u001b[0m\u001b[1;33m,\u001b[0m \u001b[0mparams\u001b[0m\u001b[1;33m)\u001b[0m\u001b[1;33m\u001b[0m\u001b[1;33m\u001b[0m\u001b[0m\n\u001b[0;32m    320\u001b[0m         \u001b[1;32mif\u001b[0m \u001b[0mresponse\u001b[0m\u001b[1;33m:\u001b[0m\u001b[1;33m\u001b[0m\u001b[1;33m\u001b[0m\u001b[0m\n\u001b[1;32m--> 321\u001b[1;33m             \u001b[0mself\u001b[0m\u001b[1;33m.\u001b[0m\u001b[0merror_handler\u001b[0m\u001b[1;33m.\u001b[0m\u001b[0mcheck_response\u001b[0m\u001b[1;33m(\u001b[0m\u001b[0mresponse\u001b[0m\u001b[1;33m)\u001b[0m\u001b[1;33m\u001b[0m\u001b[1;33m\u001b[0m\u001b[0m\n\u001b[0m\u001b[0;32m    322\u001b[0m             response['value'] = self._unwrap_value(\n\u001b[0;32m    323\u001b[0m                 response.get('value', None))\n",
      "\u001b[1;32mC:\\ProgramData\\Anaconda3\\lib\\site-packages\\selenium\\webdriver\\remote\\errorhandler.py\u001b[0m in \u001b[0;36mcheck_response\u001b[1;34m(self, response)\u001b[0m\n\u001b[0;32m    240\u001b[0m                 \u001b[0malert_text\u001b[0m \u001b[1;33m=\u001b[0m \u001b[0mvalue\u001b[0m\u001b[1;33m[\u001b[0m\u001b[1;34m'alert'\u001b[0m\u001b[1;33m]\u001b[0m\u001b[1;33m.\u001b[0m\u001b[0mget\u001b[0m\u001b[1;33m(\u001b[0m\u001b[1;34m'text'\u001b[0m\u001b[1;33m)\u001b[0m\u001b[1;33m\u001b[0m\u001b[1;33m\u001b[0m\u001b[0m\n\u001b[0;32m    241\u001b[0m             \u001b[1;32mraise\u001b[0m \u001b[0mexception_class\u001b[0m\u001b[1;33m(\u001b[0m\u001b[0mmessage\u001b[0m\u001b[1;33m,\u001b[0m \u001b[0mscreen\u001b[0m\u001b[1;33m,\u001b[0m \u001b[0mstacktrace\u001b[0m\u001b[1;33m,\u001b[0m \u001b[0malert_text\u001b[0m\u001b[1;33m)\u001b[0m\u001b[1;33m\u001b[0m\u001b[1;33m\u001b[0m\u001b[0m\n\u001b[1;32m--> 242\u001b[1;33m         \u001b[1;32mraise\u001b[0m \u001b[0mexception_class\u001b[0m\u001b[1;33m(\u001b[0m\u001b[0mmessage\u001b[0m\u001b[1;33m,\u001b[0m \u001b[0mscreen\u001b[0m\u001b[1;33m,\u001b[0m \u001b[0mstacktrace\u001b[0m\u001b[1;33m)\u001b[0m\u001b[1;33m\u001b[0m\u001b[1;33m\u001b[0m\u001b[0m\n\u001b[0m\u001b[0;32m    243\u001b[0m \u001b[1;33m\u001b[0m\u001b[0m\n\u001b[0;32m    244\u001b[0m     \u001b[1;32mdef\u001b[0m \u001b[0m_value_or_default\u001b[0m\u001b[1;33m(\u001b[0m\u001b[0mself\u001b[0m\u001b[1;33m,\u001b[0m \u001b[0mobj\u001b[0m\u001b[1;33m,\u001b[0m \u001b[0mkey\u001b[0m\u001b[1;33m,\u001b[0m \u001b[0mdefault\u001b[0m\u001b[1;33m)\u001b[0m\u001b[1;33m:\u001b[0m\u001b[1;33m\u001b[0m\u001b[1;33m\u001b[0m\u001b[0m\n",
      "\u001b[1;31mStaleElementReferenceException\u001b[0m: Message: stale element reference: element is not attached to the page document\n  (Session info: chrome=92.0.4515.107)\n"
     ]
    }
   ],
   "source": [
    "# Using forloop to scrape the data from each product url\n",
    "for url in tqdm_notebook(product_url):\n",
    "    driver.get(url)\n",
    "    time.sleep(1.5)\n",
    "    \n",
    "    # going to ratings page\n",
    "    try:driver.find_element_by_xpath(\"//*[@id='acrCustomerReviewLink']\").click()\n",
    "    except NoSuchElementException:\n",
    "        print(cl(\"No ratings available\",color='blue',attrs=['dark']))\n",
    "        pass\n",
    "\n",
    "    # Click to see all reviews of product\n",
    "    try:driver.find_element_by_xpath('//*[@id=\"reviews-medley-footer\"]/div[2]/a').click()\n",
    "    except NoSuchElementException :\n",
    "        print(cl(\"No more reviews\",color='green',attrs=['dark']))\n",
    "        pass\n",
    "        \n",
    "    time.sleep(1.5)\n",
    "    for i in tqdm_notebook(range(0,30)):\n",
    "        time.sleep(1)\n",
    "        \n",
    "        # Fetch ratings of product from each review\n",
    "        try:\n",
    "            RATINGS = driver.find_elements_by_xpath('//div[@class=\"a-section celwidget\"]/div[2]/a[1]')\n",
    "            for r in RATINGS:\n",
    "                driver.implicitly_wait(2)\n",
    "                rate=r.get_attribute('title')\n",
    "                ratings.append(rate[:3])\n",
    "        except NoSuchElementException:\n",
    "            ratings.append(\"Not Availabel\")\n",
    "\n",
    "        # fetching reviews of product        \n",
    "        try:\n",
    "            REVIEWS = driver.find_elements_by_xpath('//div[@class=\"a-section celwidget\"]/div[4]')\n",
    "            for v in REVIEWS:\n",
    "                reviews.append(v.text.replace('\\n',''))\n",
    "        except NoSuchElementException:\n",
    "            reviews.append(\"Not Availabel\")\n",
    "        \n",
    "        #Printing the page scrapped\n",
    "        print(\"Scraping page {} \".format(i+1))\n",
    "        \n",
    "        # Going to next page of reviews\n",
    "        try:driver.find_element_by_xpath('//*[@id=\"cm_cr-pagination_bar\"]/ul/li[2]/a').click()\n",
    "       \n",
    "        except NoSuchElementException:\n",
    "            print(\"No more reviews\")\n",
    "            pass\n",
    "        "
   ]
  },
  {
   "cell_type": "code",
   "execution_count": 6,
   "metadata": {},
   "outputs": [
    {
     "data": {
      "text/plain": [
       "4472"
      ]
     },
     "execution_count": 6,
     "metadata": {},
     "output_type": "execute_result"
    }
   ],
   "source": [
    "len(reviews)"
   ]
  },
  {
   "cell_type": "code",
   "execution_count": 7,
   "metadata": {},
   "outputs": [
    {
     "data": {
      "text/html": [
       "<div>\n",
       "<style scoped>\n",
       "    .dataframe tbody tr th:only-of-type {\n",
       "        vertical-align: middle;\n",
       "    }\n",
       "\n",
       "    .dataframe tbody tr th {\n",
       "        vertical-align: top;\n",
       "    }\n",
       "\n",
       "    .dataframe thead th {\n",
       "        text-align: right;\n",
       "    }\n",
       "</style>\n",
       "<table border=\"1\" class=\"dataframe\">\n",
       "  <thead>\n",
       "    <tr style=\"text-align: right;\">\n",
       "      <th></th>\n",
       "      <th>Reviews</th>\n",
       "      <th>Ratings</th>\n",
       "    </tr>\n",
       "  </thead>\n",
       "  <tbody>\n",
       "    <tr>\n",
       "      <th>0</th>\n",
       "      <td>What makes LG think that people will buy their...</td>\n",
       "      <td>3.0</td>\n",
       "    </tr>\n",
       "    <tr>\n",
       "      <th>1</th>\n",
       "      <td>Price should be less,they are comparing them w...</td>\n",
       "      <td>5.0</td>\n",
       "    </tr>\n",
       "    <tr>\n",
       "      <th>2</th>\n",
       "      <td>Sound quality verrypoor</td>\n",
       "      <td>2.0</td>\n",
       "    </tr>\n",
       "    <tr>\n",
       "      <th>3</th>\n",
       "      <td>In Love with Music again!!! What a tws. So I a...</td>\n",
       "      <td>5.0</td>\n",
       "    </tr>\n",
       "    <tr>\n",
       "      <th>4</th>\n",
       "      <td>The sleek and minimal design makes it attracti...</td>\n",
       "      <td>5.0</td>\n",
       "    </tr>\n",
       "    <tr>\n",
       "      <th>...</th>\n",
       "      <td>...</td>\n",
       "      <td>...</td>\n",
       "    </tr>\n",
       "    <tr>\n",
       "      <th>4395</th>\n",
       "      <td>This is my experience i am sharing, your might...</td>\n",
       "      <td>2.0</td>\n",
       "    </tr>\n",
       "    <tr>\n",
       "      <th>4396</th>\n",
       "      <td>First of all I got the device up to the mark, ...</td>\n",
       "      <td>4.0</td>\n",
       "    </tr>\n",
       "    <tr>\n",
       "      <th>4397</th>\n",
       "      <td>I bought this for my I keyboard praying in chu...</td>\n",
       "      <td>4.0</td>\n",
       "    </tr>\n",
       "    <tr>\n",
       "      <th>4398</th>\n",
       "      <td>Okay! Thanks to Those IITians who are made thi...</td>\n",
       "      <td>5.0</td>\n",
       "    </tr>\n",
       "    <tr>\n",
       "      <th>4399</th>\n",
       "      <td>Worst headset I ever bought. Broke within one ...</td>\n",
       "      <td>1.0</td>\n",
       "    </tr>\n",
       "  </tbody>\n",
       "</table>\n",
       "<p>4400 rows × 2 columns</p>\n",
       "</div>"
      ],
      "text/plain": [
       "                                                Reviews Ratings\n",
       "0     What makes LG think that people will buy their...     3.0\n",
       "1     Price should be less,they are comparing them w...     5.0\n",
       "2                               Sound quality verrypoor     2.0\n",
       "3     In Love with Music again!!! What a tws. So I a...     5.0\n",
       "4     The sleek and minimal design makes it attracti...     5.0\n",
       "...                                                 ...     ...\n",
       "4395  This is my experience i am sharing, your might...     2.0\n",
       "4396  First of all I got the device up to the mark, ...     4.0\n",
       "4397  I bought this for my I keyboard praying in chu...     4.0\n",
       "4398  Okay! Thanks to Those IITians who are made thi...     5.0\n",
       "4399  Worst headset I ever bought. Broke within one ...     1.0\n",
       "\n",
       "[4400 rows x 2 columns]"
      ]
     },
     "execution_count": 7,
     "metadata": {},
     "output_type": "execute_result"
    }
   ],
   "source": [
    "# Storing reviews and rating data of headphones\n",
    "headphones=pd.DataFrame({'Reviews':reviews[:4400],'Ratings':ratings[:4400]})\n",
    "headphones"
   ]
  },
  {
   "cell_type": "code",
   "execution_count": 8,
   "metadata": {},
   "outputs": [],
   "source": [
    "# Saving data into csv file\n",
    "headphones.to_csv(\"headphones.csv\")"
   ]
  },
  {
   "cell_type": "markdown",
   "metadata": {},
   "source": [
    "### Collecting reviews and ratings data of refrigerators"
   ]
  },
  {
   "cell_type": "code",
   "execution_count": 12,
   "metadata": {},
   "outputs": [
    {
     "data": {
      "application/vnd.jupyter.widget-view+json": {
       "model_id": "34d952465d9f487c8db34125fc026b54",
       "version_major": 2,
       "version_minor": 0
      },
      "text/plain": [
       "HBox(children=(FloatProgress(value=0.0, max=2.0), HTML(value='')))"
      ]
     },
     "metadata": {},
     "output_type": "display_data"
    },
    {
     "name": "stdout",
     "output_type": "stream",
     "text": [
      "\n"
     ]
    }
   ],
   "source": [
    "# CAlling webdrive\n",
    "driver = webdriver.Chrome('chromedriver.exe')\n",
    "# Sending url to open the webpage\n",
    "driver.get('https://www.amazon.in/')\n",
    "\n",
    "# Using search bar sending our input to search desired data\n",
    "driver.find_element_by_xpath(\"//input[@id='twotabsearchtextbox']\").send_keys('refrigerators',Keys.ENTER)\n",
    "\n",
    "# Create empty list to store product url\n",
    "product_url = []\n",
    "for i in tqdm_notebook(range(0,2)):\n",
    "    URLS = driver.find_elements_by_xpath(\"//div[@class='a-section a-spacing-none']/div/h2/a\")\n",
    "    for u in URLS:\n",
    "        product_url.append(u.get_attribute(\"href\"))\n",
    "    \n",
    "    # Click the button to go to next page\n",
    "    try:driver.find_element_by_xpath(\"//*[@id='search']/div[1]/div/div[1]/div/span[3]/div[2]/div[28]/span/div/div/ul/li[7]/a\").click()\n",
    "    except NoSuchElementException:\n",
    "        pass\n",
    "# Creating empty list to store ratings and reviews\n",
    "reviews = []\n",
    "ratings = []"
   ]
  },
  {
   "cell_type": "code",
   "execution_count": 13,
   "metadata": {},
   "outputs": [
    {
     "data": {
      "application/vnd.jupyter.widget-view+json": {
       "model_id": "60da6f0008e143e7acd80dad6dbc62d1",
       "version_major": 2,
       "version_minor": 0
      },
      "text/plain": [
       "HBox(children=(FloatProgress(value=0.0, max=52.0), HTML(value='')))"
      ]
     },
     "metadata": {},
     "output_type": "display_data"
    },
    {
     "data": {
      "application/vnd.jupyter.widget-view+json": {
       "model_id": "d1617c28a3d8488a8f2cf8498864c297",
       "version_major": 2,
       "version_minor": 0
      },
      "text/plain": [
       "HBox(children=(FloatProgress(value=0.0, max=30.0), HTML(value='')))"
      ]
     },
     "metadata": {},
     "output_type": "display_data"
    },
    {
     "name": "stdout",
     "output_type": "stream",
     "text": [
      "Scraping page 1 \n",
      "Scraping page 2 \n",
      "Scraping page 3 \n",
      "Scraping page 4 \n",
      "Scraping page 5 \n",
      "Scraping page 6 \n",
      "Scraping page 7 \n",
      "Scraping page 8 \n",
      "Scraping page 9 \n",
      "Scraping page 10 \n",
      "Scraping page 11 \n",
      "Scraping page 12 \n",
      "Scraping page 13 \n",
      "Scraping page 14 \n",
      "No more reviews\n",
      "Scraping page 15 \n",
      "No more reviews\n",
      "Scraping page 16 \n",
      "No more reviews\n",
      "Scraping page 17 \n",
      "No more reviews\n",
      "Scraping page 18 \n",
      "No more reviews\n",
      "Scraping page 19 \n",
      "No more reviews\n",
      "Scraping page 20 \n",
      "No more reviews\n",
      "Scraping page 21 \n",
      "No more reviews\n",
      "Scraping page 22 \n",
      "No more reviews\n",
      "Scraping page 23 \n",
      "No more reviews\n",
      "Scraping page 24 \n",
      "No more reviews\n",
      "Scraping page 25 \n",
      "No more reviews\n",
      "Scraping page 26 \n",
      "No more reviews\n",
      "Scraping page 27 \n",
      "No more reviews\n",
      "Scraping page 28 \n",
      "No more reviews\n",
      "Scraping page 29 \n",
      "No more reviews\n",
      "Scraping page 30 \n",
      "No more reviews\n",
      "\n"
     ]
    },
    {
     "data": {
      "application/vnd.jupyter.widget-view+json": {
       "model_id": "ddd1d4081efb410b84b02d030623274b",
       "version_major": 2,
       "version_minor": 0
      },
      "text/plain": [
       "HBox(children=(FloatProgress(value=0.0, max=30.0), HTML(value='')))"
      ]
     },
     "metadata": {},
     "output_type": "display_data"
    },
    {
     "name": "stdout",
     "output_type": "stream",
     "text": [
      "Scraping page 1 \n",
      "Scraping page 2 \n",
      "Scraping page 3 \n",
      "Scraping page 4 \n",
      "Scraping page 5 \n",
      "Scraping page 6 \n",
      "Scraping page 7 \n",
      "Scraping page 8 \n",
      "Scraping page 9 \n",
      "Scraping page 10 \n",
      "Scraping page 11 \n",
      "Scraping page 12 \n",
      "Scraping page 13 \n",
      "Scraping page 14 \n",
      "Scraping page 15 \n",
      "Scraping page 16 \n",
      "Scraping page 17 \n",
      "Scraping page 18 \n",
      "Scraping page 19 \n",
      "Scraping page 20 \n",
      "Scraping page 21 \n",
      "Scraping page 22 \n",
      "Scraping page 23 \n",
      "Scraping page 24 \n",
      "Scraping page 25 \n",
      "Scraping page 26 \n",
      "Scraping page 27 \n",
      "Scraping page 28 \n",
      "Scraping page 29 \n",
      "Scraping page 30 \n",
      "\n"
     ]
    },
    {
     "data": {
      "application/vnd.jupyter.widget-view+json": {
       "model_id": "d971646bc1134207b69ef494a0c5c850",
       "version_major": 2,
       "version_minor": 0
      },
      "text/plain": [
       "HBox(children=(FloatProgress(value=0.0, max=30.0), HTML(value='')))"
      ]
     },
     "metadata": {},
     "output_type": "display_data"
    },
    {
     "name": "stdout",
     "output_type": "stream",
     "text": [
      "Scraping page 1 \n",
      "Scraping page 2 \n",
      "Scraping page 3 \n",
      "Scraping page 4 \n",
      "Scraping page 5 \n",
      "Scraping page 6 \n",
      "Scraping page 7 \n",
      "Scraping page 8 \n",
      "Scraping page 9 \n",
      "Scraping page 10 \n",
      "Scraping page 11 \n",
      "Scraping page 12 \n",
      "Scraping page 13 \n",
      "Scraping page 14 \n",
      "Scraping page 15 \n",
      "Scraping page 16 \n",
      "Scraping page 17 \n",
      "Scraping page 18 \n",
      "Scraping page 19 \n",
      "Scraping page 20 \n",
      "Scraping page 21 \n",
      "Scraping page 22 \n",
      "Scraping page 23 \n",
      "Scraping page 24 \n",
      "Scraping page 25 \n",
      "Scraping page 26 \n",
      "Scraping page 27 \n",
      "Scraping page 28 \n",
      "Scraping page 29 \n",
      "Scraping page 30 \n",
      "\n"
     ]
    },
    {
     "data": {
      "application/vnd.jupyter.widget-view+json": {
       "model_id": "9f4f10171e17486995c244ee68541e46",
       "version_major": 2,
       "version_minor": 0
      },
      "text/plain": [
       "HBox(children=(FloatProgress(value=0.0, max=30.0), HTML(value='')))"
      ]
     },
     "metadata": {},
     "output_type": "display_data"
    },
    {
     "name": "stdout",
     "output_type": "stream",
     "text": [
      "Scraping page 1 \n",
      "Scraping page 2 \n",
      "Scraping page 3 \n",
      "Scraping page 4 \n",
      "Scraping page 5 \n",
      "Scraping page 6 \n",
      "Scraping page 7 \n",
      "Scraping page 8 \n",
      "Scraping page 9 \n",
      "Scraping page 10 \n",
      "Scraping page 11 \n",
      "Scraping page 12 \n",
      "Scraping page 13 \n",
      "Scraping page 14 \n",
      "Scraping page 15 \n",
      "Scraping page 16 \n",
      "Scraping page 17 \n",
      "Scraping page 18 \n",
      "Scraping page 19 \n",
      "Scraping page 20 \n",
      "Scraping page 21 \n",
      "Scraping page 22 \n",
      "Scraping page 23 \n",
      "Scraping page 24 \n",
      "Scraping page 25 \n",
      "Scraping page 26 \n",
      "Scraping page 27 \n",
      "Scraping page 28 \n",
      "Scraping page 29 \n",
      "Scraping page 30 \n",
      "\n"
     ]
    },
    {
     "data": {
      "application/vnd.jupyter.widget-view+json": {
       "model_id": "836ed4098f2b4dda8a9c16d61f541f4f",
       "version_major": 2,
       "version_minor": 0
      },
      "text/plain": [
       "HBox(children=(FloatProgress(value=0.0, max=30.0), HTML(value='')))"
      ]
     },
     "metadata": {},
     "output_type": "display_data"
    },
    {
     "name": "stdout",
     "output_type": "stream",
     "text": [
      "Scraping page 1 \n",
      "Scraping page 2 \n",
      "Scraping page 3 \n",
      "Scraping page 4 \n",
      "Scraping page 5 \n",
      "Scraping page 6 \n",
      "Scraping page 7 \n",
      "Scraping page 8 \n",
      "Scraping page 9 \n",
      "Scraping page 10 \n",
      "Scraping page 11 \n",
      "Scraping page 12 \n",
      "Scraping page 13 \n",
      "Scraping page 14 \n",
      "Scraping page 15 \n",
      "Scraping page 16 \n",
      "Scraping page 17 \n",
      "No more reviews\n",
      "Scraping page 18 \n",
      "No more reviews\n",
      "Scraping page 19 \n",
      "No more reviews\n",
      "Scraping page 20 \n",
      "No more reviews\n",
      "Scraping page 21 \n",
      "No more reviews\n",
      "Scraping page 22 \n",
      "No more reviews\n",
      "Scraping page 23 \n",
      "No more reviews\n",
      "Scraping page 24 \n",
      "No more reviews\n",
      "Scraping page 25 \n",
      "No more reviews\n",
      "Scraping page 26 \n",
      "No more reviews\n",
      "Scraping page 27 \n",
      "No more reviews\n",
      "Scraping page 28 \n",
      "No more reviews\n",
      "Scraping page 29 \n",
      "No more reviews\n",
      "Scraping page 30 \n",
      "No more reviews\n",
      "\n"
     ]
    },
    {
     "data": {
      "application/vnd.jupyter.widget-view+json": {
       "model_id": "209e9d6469db49098d6cf297f0ccdb28",
       "version_major": 2,
       "version_minor": 0
      },
      "text/plain": [
       "HBox(children=(FloatProgress(value=0.0, max=30.0), HTML(value='')))"
      ]
     },
     "metadata": {},
     "output_type": "display_data"
    },
    {
     "name": "stdout",
     "output_type": "stream",
     "text": [
      "Scraping page 1 \n",
      "Scraping page 2 \n",
      "Scraping page 3 \n",
      "Scraping page 4 \n",
      "No more reviews\n",
      "Scraping page 5 \n",
      "No more reviews\n",
      "Scraping page 6 \n",
      "No more reviews\n",
      "Scraping page 7 \n",
      "No more reviews\n",
      "Scraping page 8 \n",
      "No more reviews\n",
      "Scraping page 9 \n",
      "No more reviews\n",
      "Scraping page 10 \n",
      "No more reviews\n",
      "Scraping page 11 \n",
      "No more reviews\n",
      "Scraping page 12 \n",
      "No more reviews\n",
      "Scraping page 13 \n",
      "No more reviews\n",
      "Scraping page 14 \n",
      "No more reviews\n",
      "Scraping page 15 \n",
      "No more reviews\n",
      "Scraping page 16 \n",
      "No more reviews\n",
      "Scraping page 17 \n",
      "No more reviews\n",
      "Scraping page 18 \n",
      "No more reviews\n",
      "Scraping page 19 \n",
      "No more reviews\n",
      "Scraping page 20 \n",
      "No more reviews\n",
      "Scraping page 21 \n",
      "No more reviews\n",
      "Scraping page 22 \n",
      "No more reviews\n",
      "Scraping page 23 \n",
      "No more reviews\n",
      "Scraping page 24 \n",
      "No more reviews\n",
      "Scraping page 25 \n",
      "No more reviews\n",
      "Scraping page 26 \n",
      "No more reviews\n",
      "Scraping page 27 \n",
      "No more reviews\n",
      "Scraping page 28 \n",
      "No more reviews\n",
      "Scraping page 29 \n",
      "No more reviews\n",
      "Scraping page 30 \n",
      "No more reviews\n",
      "\n"
     ]
    },
    {
     "data": {
      "application/vnd.jupyter.widget-view+json": {
       "model_id": "fe709ea96b304d33b707677ad4081bde",
       "version_major": 2,
       "version_minor": 0
      },
      "text/plain": [
       "HBox(children=(FloatProgress(value=0.0, max=30.0), HTML(value='')))"
      ]
     },
     "metadata": {},
     "output_type": "display_data"
    },
    {
     "name": "stdout",
     "output_type": "stream",
     "text": [
      "Scraping page 1 \n",
      "Scraping page 2 \n",
      "Scraping page 3 \n",
      "Scraping page 4 \n",
      "Scraping page 5 \n",
      "Scraping page 6 \n",
      "Scraping page 7 \n",
      "Scraping page 8 \n",
      "Scraping page 9 \n",
      "Scraping page 10 \n",
      "Scraping page 11 \n",
      "Scraping page 12 \n",
      "No more reviews\n",
      "Scraping page 13 \n",
      "No more reviews\n",
      "Scraping page 14 \n",
      "No more reviews\n",
      "Scraping page 15 \n",
      "No more reviews\n",
      "Scraping page 16 \n",
      "No more reviews\n",
      "Scraping page 17 \n",
      "No more reviews\n",
      "Scraping page 18 \n",
      "No more reviews\n",
      "Scraping page 19 \n",
      "No more reviews\n",
      "Scraping page 20 \n",
      "No more reviews\n",
      "Scraping page 21 \n",
      "No more reviews\n",
      "Scraping page 22 \n",
      "No more reviews\n",
      "Scraping page 23 \n",
      "No more reviews\n",
      "Scraping page 24 \n",
      "No more reviews\n",
      "Scraping page 25 \n",
      "No more reviews\n",
      "Scraping page 26 \n",
      "No more reviews\n",
      "Scraping page 27 \n",
      "No more reviews\n",
      "Scraping page 28 \n",
      "No more reviews\n",
      "Scraping page 29 \n",
      "No more reviews\n",
      "Scraping page 30 \n",
      "No more reviews\n",
      "\n"
     ]
    },
    {
     "data": {
      "application/vnd.jupyter.widget-view+json": {
       "model_id": "1c8fdc7e966f41308fb3133454629d4a",
       "version_major": 2,
       "version_minor": 0
      },
      "text/plain": [
       "HBox(children=(FloatProgress(value=0.0, max=30.0), HTML(value='')))"
      ]
     },
     "metadata": {},
     "output_type": "display_data"
    },
    {
     "name": "stdout",
     "output_type": "stream",
     "text": [
      "Scraping page 1 \n",
      "Scraping page 2 \n",
      "Scraping page 3 \n",
      "Scraping page 4 \n",
      "Scraping page 5 \n",
      "Scraping page 6 \n",
      "Scraping page 7 \n",
      "Scraping page 8 \n",
      "Scraping page 9 \n",
      "Scraping page 10 \n",
      "Scraping page 11 \n",
      "Scraping page 12 \n",
      "Scraping page 13 \n",
      "Scraping page 14 \n",
      "Scraping page 15 \n",
      "Scraping page 16 \n",
      "Scraping page 17 \n",
      "Scraping page 18 \n",
      "Scraping page 19 \n",
      "Scraping page 20 \n",
      "Scraping page 21 \n",
      "No more reviews\n",
      "Scraping page 22 \n",
      "No more reviews\n",
      "Scraping page 23 \n",
      "No more reviews\n",
      "Scraping page 24 \n",
      "No more reviews\n",
      "Scraping page 25 \n",
      "No more reviews\n",
      "Scraping page 26 \n",
      "No more reviews\n",
      "Scraping page 27 \n",
      "No more reviews\n",
      "Scraping page 28 \n",
      "No more reviews\n",
      "Scraping page 29 \n",
      "No more reviews\n",
      "Scraping page 30 \n",
      "No more reviews\n",
      "\n"
     ]
    },
    {
     "data": {
      "application/vnd.jupyter.widget-view+json": {
       "model_id": "dd82fde19f314a5aafbae21a8a6ace97",
       "version_major": 2,
       "version_minor": 0
      },
      "text/plain": [
       "HBox(children=(FloatProgress(value=0.0, max=30.0), HTML(value='')))"
      ]
     },
     "metadata": {},
     "output_type": "display_data"
    },
    {
     "name": "stdout",
     "output_type": "stream",
     "text": [
      "Scraping page 1 \n",
      "Scraping page 2 \n",
      "Scraping page 3 \n",
      "Scraping page 4 \n",
      "Scraping page 5 \n",
      "Scraping page 6 \n",
      "Scraping page 7 \n",
      "Scraping page 8 \n",
      "Scraping page 9 \n",
      "Scraping page 10 \n",
      "Scraping page 11 \n",
      "Scraping page 12 \n",
      "Scraping page 13 \n",
      "Scraping page 14 \n",
      "Scraping page 15 \n",
      "Scraping page 16 \n",
      "Scraping page 17 \n",
      "Scraping page 18 \n",
      "Scraping page 19 \n",
      "Scraping page 20 \n",
      "Scraping page 21 \n",
      "Scraping page 22 \n",
      "Scraping page 23 \n",
      "Scraping page 24 \n",
      "Scraping page 25 \n",
      "Scraping page 26 \n",
      "Scraping page 27 \n",
      "Scraping page 28 \n",
      "Scraping page 29 \n",
      "Scraping page 30 \n",
      "\n"
     ]
    },
    {
     "data": {
      "application/vnd.jupyter.widget-view+json": {
       "model_id": "f5ec8b310fa845199f28ccbeb62d12dc",
       "version_major": 2,
       "version_minor": 0
      },
      "text/plain": [
       "HBox(children=(FloatProgress(value=0.0, max=30.0), HTML(value='')))"
      ]
     },
     "metadata": {},
     "output_type": "display_data"
    },
    {
     "name": "stdout",
     "output_type": "stream",
     "text": [
      "Scraping page 1 \n",
      "Scraping page 2 \n",
      "Scraping page 3 \n",
      "Scraping page 4 \n",
      "Scraping page 5 \n",
      "Scraping page 6 \n",
      "Scraping page 7 \n",
      "Scraping page 8 \n",
      "Scraping page 9 \n",
      "Scraping page 10 \n",
      "Scraping page 11 \n",
      "Scraping page 12 \n",
      "Scraping page 13 \n",
      "Scraping page 14 \n",
      "Scraping page 15 \n",
      "Scraping page 16 \n",
      "Scraping page 17 \n",
      "Scraping page 18 \n",
      "Scraping page 19 \n",
      "Scraping page 20 \n",
      "Scraping page 21 \n",
      "Scraping page 22 \n",
      "Scraping page 23 \n",
      "Scraping page 24 \n",
      "Scraping page 25 \n",
      "Scraping page 26 \n",
      "Scraping page 27 \n",
      "Scraping page 28 \n",
      "Scraping page 29 \n",
      "Scraping page 30 \n",
      "\n"
     ]
    },
    {
     "data": {
      "application/vnd.jupyter.widget-view+json": {
       "model_id": "5e6e2c9a1a954e82a2d393e24dfe69c1",
       "version_major": 2,
       "version_minor": 0
      },
      "text/plain": [
       "HBox(children=(FloatProgress(value=0.0, max=30.0), HTML(value='')))"
      ]
     },
     "metadata": {},
     "output_type": "display_data"
    },
    {
     "name": "stdout",
     "output_type": "stream",
     "text": [
      "Scraping page 1 \n",
      "Scraping page 2 \n",
      "Scraping page 3 \n",
      "Scraping page 4 \n",
      "Scraping page 5 \n",
      "Scraping page 6 \n",
      "Scraping page 7 \n",
      "Scraping page 8 \n",
      "Scraping page 9 \n",
      "Scraping page 10 \n",
      "Scraping page 11 \n",
      "Scraping page 12 \n",
      "Scraping page 13 \n",
      "Scraping page 14 \n",
      "Scraping page 15 \n",
      "Scraping page 16 \n",
      "Scraping page 17 \n",
      "Scraping page 18 \n",
      "Scraping page 19 \n",
      "Scraping page 20 \n",
      "Scraping page 21 \n",
      "Scraping page 22 \n",
      "Scraping page 23 \n",
      "Scraping page 24 \n",
      "Scraping page 25 \n",
      "Scraping page 26 \n",
      "Scraping page 27 \n",
      "Scraping page 28 \n",
      "Scraping page 29 \n",
      "Scraping page 30 \n",
      "\n"
     ]
    },
    {
     "data": {
      "application/vnd.jupyter.widget-view+json": {
       "model_id": "4bc4fd5149c54caf892f7a006e3a1243",
       "version_major": 2,
       "version_minor": 0
      },
      "text/plain": [
       "HBox(children=(FloatProgress(value=0.0, max=30.0), HTML(value='')))"
      ]
     },
     "metadata": {},
     "output_type": "display_data"
    },
    {
     "name": "stdout",
     "output_type": "stream",
     "text": [
      "Scraping page 1 \n",
      "Scraping page 2 \n",
      "Scraping page 3 \n",
      "Scraping page 4 \n",
      "Scraping page 5 \n",
      "Scraping page 6 \n",
      "Scraping page 7 \n",
      "Scraping page 8 \n",
      "Scraping page 9 \n",
      "Scraping page 10 \n",
      "Scraping page 11 \n",
      "Scraping page 12 \n",
      "Scraping page 13 \n",
      "Scraping page 14 \n",
      "Scraping page 15 \n",
      "Scraping page 16 \n",
      "Scraping page 17 \n",
      "Scraping page 18 \n",
      "Scraping page 19 \n",
      "Scraping page 20 \n",
      "Scraping page 21 \n",
      "Scraping page 22 \n",
      "No more reviews\n",
      "Scraping page 23 \n",
      "No more reviews\n",
      "Scraping page 24 \n",
      "No more reviews\n",
      "Scraping page 25 \n",
      "No more reviews\n",
      "Scraping page 26 \n",
      "No more reviews\n",
      "Scraping page 27 \n",
      "No more reviews\n",
      "Scraping page 28 \n",
      "No more reviews\n",
      "Scraping page 29 \n",
      "No more reviews\n",
      "Scraping page 30 \n",
      "No more reviews\n",
      "\n"
     ]
    },
    {
     "data": {
      "application/vnd.jupyter.widget-view+json": {
       "model_id": "aaf9b44026864665b4d87cbf985bb225",
       "version_major": 2,
       "version_minor": 0
      },
      "text/plain": [
       "HBox(children=(FloatProgress(value=0.0, max=30.0), HTML(value='')))"
      ]
     },
     "metadata": {},
     "output_type": "display_data"
    },
    {
     "name": "stdout",
     "output_type": "stream",
     "text": [
      "Scraping page 1 \n",
      "Scraping page 2 \n",
      "Scraping page 3 \n",
      "Scraping page 4 \n",
      "Scraping page 5 \n",
      "Scraping page 6 \n",
      "Scraping page 7 \n",
      "No more reviews\n",
      "Scraping page 8 \n",
      "No more reviews\n",
      "Scraping page 9 \n",
      "No more reviews\n",
      "Scraping page 10 \n",
      "No more reviews\n",
      "Scraping page 11 \n",
      "No more reviews\n",
      "Scraping page 12 \n",
      "No more reviews\n",
      "Scraping page 13 \n",
      "No more reviews\n",
      "Scraping page 14 \n",
      "No more reviews\n",
      "Scraping page 15 \n",
      "No more reviews\n",
      "Scraping page 16 \n",
      "No more reviews\n",
      "Scraping page 17 \n",
      "No more reviews\n",
      "Scraping page 18 \n",
      "No more reviews\n",
      "Scraping page 19 \n",
      "No more reviews\n",
      "Scraping page 20 \n",
      "No more reviews\n",
      "Scraping page 21 \n",
      "No more reviews\n",
      "Scraping page 22 \n",
      "No more reviews\n",
      "Scraping page 23 \n",
      "No more reviews\n",
      "Scraping page 24 \n",
      "No more reviews\n",
      "Scraping page 25 \n",
      "No more reviews\n",
      "Scraping page 26 \n",
      "No more reviews\n",
      "Scraping page 27 \n",
      "No more reviews\n",
      "Scraping page 28 \n",
      "No more reviews\n",
      "Scraping page 29 \n",
      "No more reviews\n",
      "Scraping page 30 \n",
      "No more reviews\n",
      "\n"
     ]
    },
    {
     "data": {
      "application/vnd.jupyter.widget-view+json": {
       "model_id": "4d25fa4e7743458e8a75b9265a47db50",
       "version_major": 2,
       "version_minor": 0
      },
      "text/plain": [
       "HBox(children=(FloatProgress(value=0.0, max=30.0), HTML(value='')))"
      ]
     },
     "metadata": {},
     "output_type": "display_data"
    },
    {
     "name": "stdout",
     "output_type": "stream",
     "text": [
      "Scraping page 1 \n",
      "Scraping page 2 \n",
      "Scraping page 3 \n",
      "Scraping page 4 \n",
      "Scraping page 5 \n",
      "No more reviews\n",
      "Scraping page 6 \n",
      "No more reviews\n",
      "Scraping page 7 \n",
      "No more reviews\n",
      "Scraping page 8 \n",
      "No more reviews\n",
      "Scraping page 9 \n",
      "No more reviews\n",
      "Scraping page 10 \n",
      "No more reviews\n",
      "Scraping page 11 \n",
      "No more reviews\n",
      "Scraping page 12 \n",
      "No more reviews\n",
      "Scraping page 13 \n",
      "No more reviews\n",
      "Scraping page 14 \n",
      "No more reviews\n",
      "Scraping page 15 \n",
      "No more reviews\n",
      "Scraping page 16 \n",
      "No more reviews\n",
      "Scraping page 17 \n",
      "No more reviews\n",
      "Scraping page 18 \n",
      "No more reviews\n",
      "Scraping page 19 \n",
      "No more reviews\n",
      "Scraping page 20 \n",
      "No more reviews\n",
      "Scraping page 21 \n",
      "No more reviews\n",
      "Scraping page 22 \n",
      "No more reviews\n",
      "Scraping page 23 \n",
      "No more reviews\n",
      "Scraping page 24 \n",
      "No more reviews\n",
      "Scraping page 25 \n",
      "No more reviews\n",
      "Scraping page 26 \n",
      "No more reviews\n",
      "Scraping page 27 \n",
      "No more reviews\n",
      "Scraping page 28 \n",
      "No more reviews\n",
      "Scraping page 29 \n",
      "No more reviews\n",
      "Scraping page 30 \n",
      "No more reviews\n",
      "\n"
     ]
    },
    {
     "data": {
      "application/vnd.jupyter.widget-view+json": {
       "model_id": "9380d200a5ac446082babb049f57ba77",
       "version_major": 2,
       "version_minor": 0
      },
      "text/plain": [
       "HBox(children=(FloatProgress(value=0.0, max=30.0), HTML(value='')))"
      ]
     },
     "metadata": {},
     "output_type": "display_data"
    },
    {
     "name": "stdout",
     "output_type": "stream",
     "text": [
      "Scraping page 1 \n",
      "Scraping page 2 \n",
      "Scraping page 3 \n",
      "Scraping page 4 \n",
      "Scraping page 5 \n",
      "Scraping page 6 \n",
      "Scraping page 7 \n",
      "Scraping page 8 \n",
      "Scraping page 9 \n",
      "Scraping page 10 \n",
      "Scraping page 11 \n",
      "Scraping page 12 \n",
      "Scraping page 13 \n",
      "Scraping page 14 \n",
      "Scraping page 15 \n",
      "Scraping page 16 \n",
      "Scraping page 17 \n",
      "Scraping page 18 \n",
      "Scraping page 19 \n",
      "Scraping page 20 \n",
      "Scraping page 21 \n",
      "Scraping page 22 \n",
      "Scraping page 23 \n",
      "Scraping page 24 \n",
      "Scraping page 25 \n",
      "Scraping page 26 \n",
      "Scraping page 27 \n",
      "Scraping page 28 \n",
      "Scraping page 29 \n",
      "Scraping page 30 \n",
      "\n"
     ]
    },
    {
     "data": {
      "application/vnd.jupyter.widget-view+json": {
       "model_id": "c8d866aed7a14b2da5892b0e7ef8c9f7",
       "version_major": 2,
       "version_minor": 0
      },
      "text/plain": [
       "HBox(children=(FloatProgress(value=0.0, max=30.0), HTML(value='')))"
      ]
     },
     "metadata": {},
     "output_type": "display_data"
    },
    {
     "name": "stdout",
     "output_type": "stream",
     "text": [
      "Scraping page 1 \n",
      "Scraping page 2 \n",
      "Scraping page 3 \n",
      "Scraping page 4 \n",
      "Scraping page 5 \n",
      "Scraping page 6 \n",
      "Scraping page 7 \n",
      "Scraping page 8 \n",
      "Scraping page 9 \n",
      "Scraping page 10 \n",
      "Scraping page 11 \n",
      "Scraping page 12 \n",
      "Scraping page 13 \n",
      "Scraping page 14 \n",
      "Scraping page 15 \n",
      "Scraping page 16 \n",
      "Scraping page 17 \n",
      "Scraping page 18 \n",
      "Scraping page 19 \n",
      "Scraping page 20 \n",
      "Scraping page 21 \n",
      "Scraping page 22 \n",
      "Scraping page 23 \n",
      "Scraping page 24 \n",
      "Scraping page 25 \n",
      "Scraping page 26 \n",
      "Scraping page 27 \n",
      "Scraping page 28 \n",
      "Scraping page 29 \n",
      "Scraping page 30 \n",
      "\n"
     ]
    },
    {
     "data": {
      "application/vnd.jupyter.widget-view+json": {
       "model_id": "7b5d9496b686434dade7ca113300fcfe",
       "version_major": 2,
       "version_minor": 0
      },
      "text/plain": [
       "HBox(children=(FloatProgress(value=0.0, max=30.0), HTML(value='')))"
      ]
     },
     "metadata": {},
     "output_type": "display_data"
    },
    {
     "name": "stdout",
     "output_type": "stream",
     "text": [
      "Scraping page 1 \n",
      "Scraping page 2 \n",
      "Scraping page 3 \n",
      "Scraping page 4 \n",
      "Scraping page 5 \n",
      "Scraping page 6 \n",
      "Scraping page 7 \n",
      "Scraping page 8 \n",
      "Scraping page 9 \n",
      "Scraping page 10 \n",
      "Scraping page 11 \n",
      "Scraping page 12 \n",
      "Scraping page 13 \n",
      "Scraping page 14 \n",
      "Scraping page 15 \n",
      "Scraping page 16 \n",
      "Scraping page 17 \n",
      "Scraping page 18 \n",
      "Scraping page 19 \n",
      "Scraping page 20 \n",
      "Scraping page 21 \n",
      "Scraping page 22 \n",
      "Scraping page 23 \n",
      "Scraping page 24 \n",
      "Scraping page 25 \n",
      "Scraping page 26 \n",
      "Scraping page 27 \n",
      "Scraping page 28 \n",
      "Scraping page 29 \n",
      "Scraping page 30 \n",
      "\n",
      "\u001b[2m\u001b[34mNo ratings available\u001b[0m\n",
      "\u001b[2m\u001b[32mNo more reviews\u001b[0m\n"
     ]
    },
    {
     "data": {
      "application/vnd.jupyter.widget-view+json": {
       "model_id": "f9fe66bfa3b8437b83bee5a448d0365f",
       "version_major": 2,
       "version_minor": 0
      },
      "text/plain": [
       "HBox(children=(FloatProgress(value=0.0, max=30.0), HTML(value='')))"
      ]
     },
     "metadata": {},
     "output_type": "display_data"
    },
    {
     "name": "stdout",
     "output_type": "stream",
     "text": [
      "Scraping page 1 \n",
      "No more reviews\n",
      "Scraping page 2 \n",
      "No more reviews\n",
      "Scraping page 3 \n",
      "No more reviews\n",
      "Scraping page 4 \n",
      "No more reviews\n",
      "Scraping page 5 \n",
      "No more reviews\n",
      "Scraping page 6 \n",
      "No more reviews\n",
      "Scraping page 7 \n",
      "No more reviews\n",
      "Scraping page 8 \n",
      "No more reviews\n",
      "Scraping page 9 \n",
      "No more reviews\n",
      "Scraping page 10 \n",
      "No more reviews\n",
      "Scraping page 11 \n",
      "No more reviews\n",
      "Scraping page 12 \n",
      "No more reviews\n",
      "Scraping page 13 \n",
      "No more reviews\n",
      "Scraping page 14 \n",
      "No more reviews\n",
      "Scraping page 15 \n",
      "\n",
      "\n"
     ]
    },
    {
     "ename": "WebDriverException",
     "evalue": "Message: disconnected: not connected to DevTools\n  (Session info: chrome=92.0.4515.107)\n",
     "output_type": "error",
     "traceback": [
      "\u001b[1;31m---------------------------------------------------------------------------\u001b[0m",
      "\u001b[1;31mWebDriverException\u001b[0m                        Traceback (most recent call last)",
      "\u001b[1;32m<ipython-input-13-0b95614ca061>\u001b[0m in \u001b[0;36m<module>\u001b[1;34m\u001b[0m\n\u001b[0;32m     37\u001b[0m         \u001b[0mprint\u001b[0m\u001b[1;33m(\u001b[0m\u001b[1;34m\"Scraping page {} \"\u001b[0m\u001b[1;33m.\u001b[0m\u001b[0mformat\u001b[0m\u001b[1;33m(\u001b[0m\u001b[0mi\u001b[0m\u001b[1;33m+\u001b[0m\u001b[1;36m1\u001b[0m\u001b[1;33m)\u001b[0m\u001b[1;33m)\u001b[0m\u001b[1;33m\u001b[0m\u001b[1;33m\u001b[0m\u001b[0m\n\u001b[0;32m     38\u001b[0m \u001b[1;33m\u001b[0m\u001b[0m\n\u001b[1;32m---> 39\u001b[1;33m         \u001b[1;32mtry\u001b[0m\u001b[1;33m:\u001b[0m\u001b[0mdriver\u001b[0m\u001b[1;33m.\u001b[0m\u001b[0mfind_element_by_xpath\u001b[0m\u001b[1;33m(\u001b[0m\u001b[1;34m'//*[@id=\"cm_cr-pagination_bar\"]/ul/li[2]/a'\u001b[0m\u001b[1;33m)\u001b[0m\u001b[1;33m.\u001b[0m\u001b[0mclick\u001b[0m\u001b[1;33m(\u001b[0m\u001b[1;33m)\u001b[0m\u001b[1;33m\u001b[0m\u001b[1;33m\u001b[0m\u001b[0m\n\u001b[0m\u001b[0;32m     40\u001b[0m \u001b[1;33m\u001b[0m\u001b[0m\n\u001b[0;32m     41\u001b[0m         \u001b[1;32mexcept\u001b[0m \u001b[0mNoSuchElementException\u001b[0m\u001b[1;33m:\u001b[0m\u001b[1;33m\u001b[0m\u001b[1;33m\u001b[0m\u001b[0m\n",
      "\u001b[1;32mC:\\ProgramData\\Anaconda3\\lib\\site-packages\\selenium\\webdriver\\remote\\webdriver.py\u001b[0m in \u001b[0;36mfind_element_by_xpath\u001b[1;34m(self, xpath)\u001b[0m\n\u001b[0;32m    392\u001b[0m             \u001b[0melement\u001b[0m \u001b[1;33m=\u001b[0m \u001b[0mdriver\u001b[0m\u001b[1;33m.\u001b[0m\u001b[0mfind_element_by_xpath\u001b[0m\u001b[1;33m(\u001b[0m\u001b[1;34m'//div/td[1]'\u001b[0m\u001b[1;33m)\u001b[0m\u001b[1;33m\u001b[0m\u001b[1;33m\u001b[0m\u001b[0m\n\u001b[0;32m    393\u001b[0m         \"\"\"\n\u001b[1;32m--> 394\u001b[1;33m         \u001b[1;32mreturn\u001b[0m \u001b[0mself\u001b[0m\u001b[1;33m.\u001b[0m\u001b[0mfind_element\u001b[0m\u001b[1;33m(\u001b[0m\u001b[0mby\u001b[0m\u001b[1;33m=\u001b[0m\u001b[0mBy\u001b[0m\u001b[1;33m.\u001b[0m\u001b[0mXPATH\u001b[0m\u001b[1;33m,\u001b[0m \u001b[0mvalue\u001b[0m\u001b[1;33m=\u001b[0m\u001b[0mxpath\u001b[0m\u001b[1;33m)\u001b[0m\u001b[1;33m\u001b[0m\u001b[1;33m\u001b[0m\u001b[0m\n\u001b[0m\u001b[0;32m    395\u001b[0m \u001b[1;33m\u001b[0m\u001b[0m\n\u001b[0;32m    396\u001b[0m     \u001b[1;32mdef\u001b[0m \u001b[0mfind_elements_by_xpath\u001b[0m\u001b[1;33m(\u001b[0m\u001b[0mself\u001b[0m\u001b[1;33m,\u001b[0m \u001b[0mxpath\u001b[0m\u001b[1;33m)\u001b[0m\u001b[1;33m:\u001b[0m\u001b[1;33m\u001b[0m\u001b[1;33m\u001b[0m\u001b[0m\n",
      "\u001b[1;32mC:\\ProgramData\\Anaconda3\\lib\\site-packages\\selenium\\webdriver\\remote\\webdriver.py\u001b[0m in \u001b[0;36mfind_element\u001b[1;34m(self, by, value)\u001b[0m\n\u001b[0;32m    974\u001b[0m                 \u001b[0mby\u001b[0m \u001b[1;33m=\u001b[0m \u001b[0mBy\u001b[0m\u001b[1;33m.\u001b[0m\u001b[0mCSS_SELECTOR\u001b[0m\u001b[1;33m\u001b[0m\u001b[1;33m\u001b[0m\u001b[0m\n\u001b[0;32m    975\u001b[0m                 \u001b[0mvalue\u001b[0m \u001b[1;33m=\u001b[0m \u001b[1;34m'[name=\"%s\"]'\u001b[0m \u001b[1;33m%\u001b[0m \u001b[0mvalue\u001b[0m\u001b[1;33m\u001b[0m\u001b[1;33m\u001b[0m\u001b[0m\n\u001b[1;32m--> 976\u001b[1;33m         return self.execute(Command.FIND_ELEMENT, {\n\u001b[0m\u001b[0;32m    977\u001b[0m             \u001b[1;34m'using'\u001b[0m\u001b[1;33m:\u001b[0m \u001b[0mby\u001b[0m\u001b[1;33m,\u001b[0m\u001b[1;33m\u001b[0m\u001b[1;33m\u001b[0m\u001b[0m\n\u001b[0;32m    978\u001b[0m             'value': value})['value']\n",
      "\u001b[1;32mC:\\ProgramData\\Anaconda3\\lib\\site-packages\\selenium\\webdriver\\remote\\webdriver.py\u001b[0m in \u001b[0;36mexecute\u001b[1;34m(self, driver_command, params)\u001b[0m\n\u001b[0;32m    319\u001b[0m         \u001b[0mresponse\u001b[0m \u001b[1;33m=\u001b[0m \u001b[0mself\u001b[0m\u001b[1;33m.\u001b[0m\u001b[0mcommand_executor\u001b[0m\u001b[1;33m.\u001b[0m\u001b[0mexecute\u001b[0m\u001b[1;33m(\u001b[0m\u001b[0mdriver_command\u001b[0m\u001b[1;33m,\u001b[0m \u001b[0mparams\u001b[0m\u001b[1;33m)\u001b[0m\u001b[1;33m\u001b[0m\u001b[1;33m\u001b[0m\u001b[0m\n\u001b[0;32m    320\u001b[0m         \u001b[1;32mif\u001b[0m \u001b[0mresponse\u001b[0m\u001b[1;33m:\u001b[0m\u001b[1;33m\u001b[0m\u001b[1;33m\u001b[0m\u001b[0m\n\u001b[1;32m--> 321\u001b[1;33m             \u001b[0mself\u001b[0m\u001b[1;33m.\u001b[0m\u001b[0merror_handler\u001b[0m\u001b[1;33m.\u001b[0m\u001b[0mcheck_response\u001b[0m\u001b[1;33m(\u001b[0m\u001b[0mresponse\u001b[0m\u001b[1;33m)\u001b[0m\u001b[1;33m\u001b[0m\u001b[1;33m\u001b[0m\u001b[0m\n\u001b[0m\u001b[0;32m    322\u001b[0m             response['value'] = self._unwrap_value(\n\u001b[0;32m    323\u001b[0m                 response.get('value', None))\n",
      "\u001b[1;32mC:\\ProgramData\\Anaconda3\\lib\\site-packages\\selenium\\webdriver\\remote\\errorhandler.py\u001b[0m in \u001b[0;36mcheck_response\u001b[1;34m(self, response)\u001b[0m\n\u001b[0;32m    240\u001b[0m                 \u001b[0malert_text\u001b[0m \u001b[1;33m=\u001b[0m \u001b[0mvalue\u001b[0m\u001b[1;33m[\u001b[0m\u001b[1;34m'alert'\u001b[0m\u001b[1;33m]\u001b[0m\u001b[1;33m.\u001b[0m\u001b[0mget\u001b[0m\u001b[1;33m(\u001b[0m\u001b[1;34m'text'\u001b[0m\u001b[1;33m)\u001b[0m\u001b[1;33m\u001b[0m\u001b[1;33m\u001b[0m\u001b[0m\n\u001b[0;32m    241\u001b[0m             \u001b[1;32mraise\u001b[0m \u001b[0mexception_class\u001b[0m\u001b[1;33m(\u001b[0m\u001b[0mmessage\u001b[0m\u001b[1;33m,\u001b[0m \u001b[0mscreen\u001b[0m\u001b[1;33m,\u001b[0m \u001b[0mstacktrace\u001b[0m\u001b[1;33m,\u001b[0m \u001b[0malert_text\u001b[0m\u001b[1;33m)\u001b[0m\u001b[1;33m\u001b[0m\u001b[1;33m\u001b[0m\u001b[0m\n\u001b[1;32m--> 242\u001b[1;33m         \u001b[1;32mraise\u001b[0m \u001b[0mexception_class\u001b[0m\u001b[1;33m(\u001b[0m\u001b[0mmessage\u001b[0m\u001b[1;33m,\u001b[0m \u001b[0mscreen\u001b[0m\u001b[1;33m,\u001b[0m \u001b[0mstacktrace\u001b[0m\u001b[1;33m)\u001b[0m\u001b[1;33m\u001b[0m\u001b[1;33m\u001b[0m\u001b[0m\n\u001b[0m\u001b[0;32m    243\u001b[0m \u001b[1;33m\u001b[0m\u001b[0m\n\u001b[0;32m    244\u001b[0m     \u001b[1;32mdef\u001b[0m \u001b[0m_value_or_default\u001b[0m\u001b[1;33m(\u001b[0m\u001b[0mself\u001b[0m\u001b[1;33m,\u001b[0m \u001b[0mobj\u001b[0m\u001b[1;33m,\u001b[0m \u001b[0mkey\u001b[0m\u001b[1;33m,\u001b[0m \u001b[0mdefault\u001b[0m\u001b[1;33m)\u001b[0m\u001b[1;33m:\u001b[0m\u001b[1;33m\u001b[0m\u001b[1;33m\u001b[0m\u001b[0m\n",
      "\u001b[1;31mWebDriverException\u001b[0m: Message: disconnected: not connected to DevTools\n  (Session info: chrome=92.0.4515.107)\n"
     ]
    }
   ],
   "source": [
    "# Using forloop to scrape the data from each product url\n",
    "for url in tqdm_notebook(product_url):\n",
    "    driver.get(url)\n",
    "    time.sleep(1.5)\n",
    "    \n",
    "    # going to ratings page\n",
    "    try:driver.find_element_by_xpath(\"//*[@id='acrCustomerReviewLink']\").click()\n",
    "    except NoSuchElementException:\n",
    "        print(cl(\"No ratings available\",color='blue',attrs=['dark']))\n",
    "        pass\n",
    "\n",
    "    # Click to see all reviews of product\n",
    "    try:driver.find_element_by_xpath('//*[@id=\"reviews-medley-footer\"]/div[2]/a').click()\n",
    "    except NoSuchElementException :\n",
    "        print(cl(\"No more reviews\",color='green',attrs=['dark']))\n",
    "        pass\n",
    "        \n",
    "    time.sleep(1.5)\n",
    "    for i in tqdm_notebook(range(0,30)):\n",
    "        time.sleep(1)\n",
    "        \n",
    "        # Fetch ratings of product from each review\n",
    "        try:\n",
    "            RATINGS = driver.find_elements_by_xpath('//div[@class=\"a-section celwidget\"]/div[2]/a[1]')\n",
    "            for r in RATINGS:\n",
    "                driver.implicitly_wait(2)\n",
    "                rate=r.get_attribute('title')\n",
    "                ratings.append(rate[:3])\n",
    "        except NoSuchElementException:\n",
    "            ratings.append(\"Not Availabel\")\n",
    "\n",
    "        # fetching reviews of product        \n",
    "        try:\n",
    "            REVIEWS = driver.find_elements_by_xpath('//div[@class=\"a-section celwidget\"]/div[4]')\n",
    "            for v in REVIEWS:\n",
    "                reviews.append(v.text.replace('\\n',''))\n",
    "        except NoSuchElementException:\n",
    "            reviews.append(\"Not Availabel\")\n",
    "        \n",
    "        #Printing the page scrapped\n",
    "        print(\"Scraping page {} \".format(i+1))\n",
    "        \n",
    "        # Going to next page of reviews\n",
    "        try:driver.find_element_by_xpath('//*[@id=\"cm_cr-pagination_bar\"]/ul/li[2]/a').click()\n",
    "       \n",
    "        except NoSuchElementException:\n",
    "            print(\"No more reviews\")\n",
    "            pass\n",
    "        "
   ]
  },
  {
   "cell_type": "code",
   "execution_count": 15,
   "metadata": {},
   "outputs": [
    {
     "data": {
      "text/plain": [
       "4301"
      ]
     },
     "execution_count": 15,
     "metadata": {},
     "output_type": "execute_result"
    }
   ],
   "source": [
    "len(ratings)"
   ]
  },
  {
   "cell_type": "code",
   "execution_count": 16,
   "metadata": {},
   "outputs": [
    {
     "data": {
      "text/html": [
       "<div>\n",
       "<style scoped>\n",
       "    .dataframe tbody tr th:only-of-type {\n",
       "        vertical-align: middle;\n",
       "    }\n",
       "\n",
       "    .dataframe tbody tr th {\n",
       "        vertical-align: top;\n",
       "    }\n",
       "\n",
       "    .dataframe thead th {\n",
       "        text-align: right;\n",
       "    }\n",
       "</style>\n",
       "<table border=\"1\" class=\"dataframe\">\n",
       "  <thead>\n",
       "    <tr style=\"text-align: right;\">\n",
       "      <th></th>\n",
       "      <th>Reviews</th>\n",
       "      <th>Ratings</th>\n",
       "    </tr>\n",
       "  </thead>\n",
       "  <tbody>\n",
       "    <tr>\n",
       "      <th>0</th>\n",
       "      <td>Bought it at Rs. 20,990/- and got the delivery...</td>\n",
       "      <td>5.0</td>\n",
       "    </tr>\n",
       "    <tr>\n",
       "      <th>1</th>\n",
       "      <td>The piece is defective, the Haier technician w...</td>\n",
       "      <td>1.0</td>\n",
       "    </tr>\n",
       "    <tr>\n",
       "      <th>2</th>\n",
       "      <td>Been using it for two months, no frills fridge...</td>\n",
       "      <td>4.0</td>\n",
       "    </tr>\n",
       "    <tr>\n",
       "      <th>3</th>\n",
       "      <td>2020 model Initial 48 hours review.I love the ...</td>\n",
       "      <td>5.0</td>\n",
       "    </tr>\n",
       "    <tr>\n",
       "      <th>4</th>\n",
       "      <td>Fridge is alright feature-wise, but god help y...</td>\n",
       "      <td>1.0</td>\n",
       "    </tr>\n",
       "    <tr>\n",
       "      <th>...</th>\n",
       "      <td>...</td>\n",
       "      <td>...</td>\n",
       "    </tr>\n",
       "    <tr>\n",
       "      <th>4296</th>\n",
       "      <td>This product is mainly for the bachelors and i...</td>\n",
       "      <td>4.0</td>\n",
       "    </tr>\n",
       "    <tr>\n",
       "      <th>4297</th>\n",
       "      <td>Product seems to be good. But o have not recei...</td>\n",
       "      <td>5.0</td>\n",
       "    </tr>\n",
       "    <tr>\n",
       "      <th>4298</th>\n",
       "      <td>Everything is perfect..awsome.. It's amazing a...</td>\n",
       "      <td>4.0</td>\n",
       "    </tr>\n",
       "    <tr>\n",
       "      <th>4299</th>\n",
       "      <td>Good product but very small as compared to pri...</td>\n",
       "      <td>3.0</td>\n",
       "    </tr>\n",
       "    <tr>\n",
       "      <th>4300</th>\n",
       "      <td>Product received in damage condition</td>\n",
       "      <td>1.0</td>\n",
       "    </tr>\n",
       "  </tbody>\n",
       "</table>\n",
       "<p>4301 rows × 2 columns</p>\n",
       "</div>"
      ],
      "text/plain": [
       "                                                Reviews Ratings\n",
       "0     Bought it at Rs. 20,990/- and got the delivery...     5.0\n",
       "1     The piece is defective, the Haier technician w...     1.0\n",
       "2     Been using it for two months, no frills fridge...     4.0\n",
       "3     2020 model Initial 48 hours review.I love the ...     5.0\n",
       "4     Fridge is alright feature-wise, but god help y...     1.0\n",
       "...                                                 ...     ...\n",
       "4296  This product is mainly for the bachelors and i...     4.0\n",
       "4297  Product seems to be good. But o have not recei...     5.0\n",
       "4298  Everything is perfect..awsome.. It's amazing a...     4.0\n",
       "4299  Good product but very small as compared to pri...     3.0\n",
       "4300               Product received in damage condition     1.0\n",
       "\n",
       "[4301 rows x 2 columns]"
      ]
     },
     "execution_count": 16,
     "metadata": {},
     "output_type": "execute_result"
    }
   ],
   "source": [
    "# Storing refrigerators data into pandas dataframe\n",
    "refrigerators =pd.DataFrame({\"Reviews\":reviews,\"Ratings\":ratings})\n",
    "refrigerators"
   ]
  },
  {
   "cell_type": "code",
   "execution_count": 17,
   "metadata": {},
   "outputs": [],
   "source": [
    "# Saving the data into csv file\n",
    "refrigerators.to_csv(\"refrigerators.csv\")"
   ]
  },
  {
   "cell_type": "markdown",
   "metadata": {},
   "source": [
    "### Collecting data of monitors"
   ]
  },
  {
   "cell_type": "code",
   "execution_count": 18,
   "metadata": {},
   "outputs": [
    {
     "data": {
      "application/vnd.jupyter.widget-view+json": {
       "model_id": "97de2162ff834165811b0d5a09df60bd",
       "version_major": 2,
       "version_minor": 0
      },
      "text/plain": [
       "HBox(children=(FloatProgress(value=0.0, max=4.0), HTML(value='')))"
      ]
     },
     "metadata": {},
     "output_type": "display_data"
    },
    {
     "name": "stdout",
     "output_type": "stream",
     "text": [
      "\n"
     ]
    }
   ],
   "source": [
    "# CAlling webdrive\n",
    "driver = webdriver.Chrome('chromedriver.exe')\n",
    "# Sending url to open the webpage\n",
    "driver.get('https://www.amazon.in/')\n",
    "\n",
    "# Using search bar sending our input to search desired data\n",
    "driver.find_element_by_xpath(\"//input[@id='twotabsearchtextbox']\").send_keys('iphone12',Keys.ENTER)\n",
    "\n",
    "# Create empty list to store product url\n",
    "product_url = []\n",
    "for i in tqdm_notebook(range(0,4)):\n",
    "    URLS = driver.find_elements_by_xpath(\"//div[@class='a-section a-spacing-none']/div/h2/a\")\n",
    "    for u in URLS:\n",
    "        product_url.append(u.get_attribute(\"href\"))\n",
    "    \n",
    "    # Click the button to go to next page\n",
    "    try:driver.find_element_by_xpath(\"//*[@id='search']/div[1]/div/div[1]/div/span[3]/div[2]/div[28]/span/div/div/ul/li[7]/a\").click()\n",
    "    except NoSuchElementException:\n",
    "        pass\n",
    "# Creating empty list to store ratings and reviews\n",
    "reviews = []\n",
    "ratings = []"
   ]
  },
  {
   "cell_type": "code",
   "execution_count": 19,
   "metadata": {},
   "outputs": [
    {
     "data": {
      "application/vnd.jupyter.widget-view+json": {
       "model_id": "2866d10e79d74e5eb506ffeea7066722",
       "version_major": 2,
       "version_minor": 0
      },
      "text/plain": [
       "HBox(children=(FloatProgress(value=0.0, max=104.0), HTML(value='')))"
      ]
     },
     "metadata": {},
     "output_type": "display_data"
    },
    {
     "data": {
      "application/vnd.jupyter.widget-view+json": {
       "model_id": "c6b6117ccdc348afa616b27db6a94984",
       "version_major": 2,
       "version_minor": 0
      },
      "text/plain": [
       "HBox(children=(FloatProgress(value=0.0, max=5.0), HTML(value='')))"
      ]
     },
     "metadata": {},
     "output_type": "display_data"
    },
    {
     "name": "stdout",
     "output_type": "stream",
     "text": [
      "Scraping page 1 \n",
      "No more reviews\n",
      "Scraping page 2 \n",
      "No more reviews\n",
      "Scraping page 3 \n",
      "No more reviews\n",
      "Scraping page 4 \n",
      "No more reviews\n",
      "Scraping page 5 \n",
      "No more reviews\n",
      "\n"
     ]
    },
    {
     "data": {
      "application/vnd.jupyter.widget-view+json": {
       "model_id": "8db44e055d284fcdbc6388e9652ba77a",
       "version_major": 2,
       "version_minor": 0
      },
      "text/plain": [
       "HBox(children=(FloatProgress(value=0.0, max=5.0), HTML(value='')))"
      ]
     },
     "metadata": {},
     "output_type": "display_data"
    },
    {
     "name": "stdout",
     "output_type": "stream",
     "text": [
      "Scraping page 1 \n",
      "Scraping page 2 \n",
      "Scraping page 3 \n",
      "Scraping page 4 \n",
      "No more reviews\n",
      "Scraping page 5 \n",
      "No more reviews\n",
      "\n"
     ]
    },
    {
     "data": {
      "application/vnd.jupyter.widget-view+json": {
       "model_id": "3bc48368337749699034be19707b94a5",
       "version_major": 2,
       "version_minor": 0
      },
      "text/plain": [
       "HBox(children=(FloatProgress(value=0.0, max=5.0), HTML(value='')))"
      ]
     },
     "metadata": {},
     "output_type": "display_data"
    },
    {
     "name": "stdout",
     "output_type": "stream",
     "text": [
      "Scraping page 1 \n",
      "Scraping page 2 \n",
      "Scraping page 3 \n",
      "Scraping page 4 \n",
      "Scraping page 5 \n",
      "\n"
     ]
    },
    {
     "data": {
      "application/vnd.jupyter.widget-view+json": {
       "model_id": "ff48217ed4f24a9e8611500f77f56ab9",
       "version_major": 2,
       "version_minor": 0
      },
      "text/plain": [
       "HBox(children=(FloatProgress(value=0.0, max=5.0), HTML(value='')))"
      ]
     },
     "metadata": {},
     "output_type": "display_data"
    },
    {
     "name": "stdout",
     "output_type": "stream",
     "text": [
      "Scraping page 1 \n",
      "Scraping page 2 \n",
      "Scraping page 3 \n",
      "Scraping page 4 \n",
      "Scraping page 5 \n",
      "\n"
     ]
    },
    {
     "data": {
      "application/vnd.jupyter.widget-view+json": {
       "model_id": "3daa012df9a74e0e81080dec0688302b",
       "version_major": 2,
       "version_minor": 0
      },
      "text/plain": [
       "HBox(children=(FloatProgress(value=0.0, max=5.0), HTML(value='')))"
      ]
     },
     "metadata": {},
     "output_type": "display_data"
    },
    {
     "name": "stdout",
     "output_type": "stream",
     "text": [
      "Scraping page 1 \n",
      "Scraping page 2 \n",
      "Scraping page 3 \n",
      "Scraping page 4 \n",
      "Scraping page 5 \n",
      "\n"
     ]
    },
    {
     "data": {
      "application/vnd.jupyter.widget-view+json": {
       "model_id": "6ea2b20f93e44d21bfdca1280aa05ed7",
       "version_major": 2,
       "version_minor": 0
      },
      "text/plain": [
       "HBox(children=(FloatProgress(value=0.0, max=5.0), HTML(value='')))"
      ]
     },
     "metadata": {},
     "output_type": "display_data"
    },
    {
     "name": "stdout",
     "output_type": "stream",
     "text": [
      "Scraping page 1 \n",
      "Scraping page 2 \n",
      "Scraping page 3 \n",
      "Scraping page 4 \n",
      "Scraping page 5 \n",
      "\n"
     ]
    },
    {
     "data": {
      "application/vnd.jupyter.widget-view+json": {
       "model_id": "dc335e535cc049c3b324a63a12fee9d7",
       "version_major": 2,
       "version_minor": 0
      },
      "text/plain": [
       "HBox(children=(FloatProgress(value=0.0, max=5.0), HTML(value='')))"
      ]
     },
     "metadata": {},
     "output_type": "display_data"
    },
    {
     "name": "stdout",
     "output_type": "stream",
     "text": [
      "Scraping page 1 \n",
      "Scraping page 2 \n",
      "Scraping page 3 \n",
      "Scraping page 4 \n",
      "Scraping page 5 \n",
      "\n"
     ]
    },
    {
     "data": {
      "application/vnd.jupyter.widget-view+json": {
       "model_id": "23ecc940a3c54779a0b82f3587758fc0",
       "version_major": 2,
       "version_minor": 0
      },
      "text/plain": [
       "HBox(children=(FloatProgress(value=0.0, max=5.0), HTML(value='')))"
      ]
     },
     "metadata": {},
     "output_type": "display_data"
    },
    {
     "name": "stdout",
     "output_type": "stream",
     "text": [
      "Scraping page 1 \n",
      "Scraping page 2 \n",
      "Scraping page 3 \n",
      "Scraping page 4 \n",
      "Scraping page 5 \n",
      "\n"
     ]
    },
    {
     "data": {
      "application/vnd.jupyter.widget-view+json": {
       "model_id": "30b29171518b46cabefe819e137b614b",
       "version_major": 2,
       "version_minor": 0
      },
      "text/plain": [
       "HBox(children=(FloatProgress(value=0.0, max=5.0), HTML(value='')))"
      ]
     },
     "metadata": {},
     "output_type": "display_data"
    },
    {
     "name": "stdout",
     "output_type": "stream",
     "text": [
      "Scraping page 1 \n",
      "Scraping page 2 \n",
      "Scraping page 3 \n",
      "Scraping page 4 \n",
      "Scraping page 5 \n",
      "\n"
     ]
    },
    {
     "data": {
      "application/vnd.jupyter.widget-view+json": {
       "model_id": "7aaa4f96a33a46be812e4e818bf971bf",
       "version_major": 2,
       "version_minor": 0
      },
      "text/plain": [
       "HBox(children=(FloatProgress(value=0.0, max=5.0), HTML(value='')))"
      ]
     },
     "metadata": {},
     "output_type": "display_data"
    },
    {
     "name": "stdout",
     "output_type": "stream",
     "text": [
      "Scraping page 1 \n",
      "Scraping page 2 \n",
      "Scraping page 3 \n",
      "Scraping page 4 \n",
      "Scraping page 5 \n",
      "\n"
     ]
    },
    {
     "data": {
      "application/vnd.jupyter.widget-view+json": {
       "model_id": "98a2ece77b6541eb9bfcae38e2c21f49",
       "version_major": 2,
       "version_minor": 0
      },
      "text/plain": [
       "HBox(children=(FloatProgress(value=0.0, max=5.0), HTML(value='')))"
      ]
     },
     "metadata": {},
     "output_type": "display_data"
    },
    {
     "name": "stdout",
     "output_type": "stream",
     "text": [
      "Scraping page 1 \n",
      "Scraping page 2 \n",
      "Scraping page 3 \n",
      "Scraping page 4 \n",
      "No more reviews\n",
      "Scraping page 5 \n",
      "No more reviews\n",
      "\n"
     ]
    },
    {
     "data": {
      "application/vnd.jupyter.widget-view+json": {
       "model_id": "9a03d2c7233a4e0594ca999a82507c3a",
       "version_major": 2,
       "version_minor": 0
      },
      "text/plain": [
       "HBox(children=(FloatProgress(value=0.0, max=5.0), HTML(value='')))"
      ]
     },
     "metadata": {},
     "output_type": "display_data"
    },
    {
     "name": "stdout",
     "output_type": "stream",
     "text": [
      "Scraping page 1 \n",
      "Scraping page 2 \n",
      "Scraping page 3 \n",
      "Scraping page 4 \n",
      "Scraping page 5 \n",
      "\n"
     ]
    },
    {
     "data": {
      "application/vnd.jupyter.widget-view+json": {
       "model_id": "9f98ad8f280c41c4a4717af98826fb26",
       "version_major": 2,
       "version_minor": 0
      },
      "text/plain": [
       "HBox(children=(FloatProgress(value=0.0, max=5.0), HTML(value='')))"
      ]
     },
     "metadata": {},
     "output_type": "display_data"
    },
    {
     "name": "stdout",
     "output_type": "stream",
     "text": [
      "Scraping page 1 \n",
      "Scraping page 2 \n",
      "Scraping page 3 \n",
      "Scraping page 4 \n",
      "Scraping page 5 \n",
      "\n"
     ]
    },
    {
     "data": {
      "application/vnd.jupyter.widget-view+json": {
       "model_id": "93375a409f7749edaeda13c1b320009a",
       "version_major": 2,
       "version_minor": 0
      },
      "text/plain": [
       "HBox(children=(FloatProgress(value=0.0, max=5.0), HTML(value='')))"
      ]
     },
     "metadata": {},
     "output_type": "display_data"
    },
    {
     "name": "stdout",
     "output_type": "stream",
     "text": [
      "Scraping page 1 \n",
      "Scraping page 2 \n",
      "Scraping page 3 \n",
      "Scraping page 4 \n",
      "Scraping page 5 \n",
      "\n"
     ]
    },
    {
     "data": {
      "application/vnd.jupyter.widget-view+json": {
       "model_id": "61f2088507024112bcf4494861b26d5e",
       "version_major": 2,
       "version_minor": 0
      },
      "text/plain": [
       "HBox(children=(FloatProgress(value=0.0, max=5.0), HTML(value='')))"
      ]
     },
     "metadata": {},
     "output_type": "display_data"
    },
    {
     "name": "stdout",
     "output_type": "stream",
     "text": [
      "Scraping page 1 \n",
      "Scraping page 2 \n",
      "Scraping page 3 \n",
      "Scraping page 4 \n",
      "Scraping page 5 \n",
      "\n"
     ]
    },
    {
     "data": {
      "application/vnd.jupyter.widget-view+json": {
       "model_id": "c0fe7f1d3ba84e13ac109c7c51a29ed5",
       "version_major": 2,
       "version_minor": 0
      },
      "text/plain": [
       "HBox(children=(FloatProgress(value=0.0, max=5.0), HTML(value='')))"
      ]
     },
     "metadata": {},
     "output_type": "display_data"
    },
    {
     "name": "stdout",
     "output_type": "stream",
     "text": [
      "Scraping page 1 \n",
      "Scraping page 2 \n",
      "Scraping page 3 \n",
      "Scraping page 4 \n",
      "Scraping page 5 \n",
      "\n"
     ]
    },
    {
     "data": {
      "application/vnd.jupyter.widget-view+json": {
       "model_id": "3006e68927564a3eb87cd4422e791668",
       "version_major": 2,
       "version_minor": 0
      },
      "text/plain": [
       "HBox(children=(FloatProgress(value=0.0, max=5.0), HTML(value='')))"
      ]
     },
     "metadata": {},
     "output_type": "display_data"
    },
    {
     "name": "stdout",
     "output_type": "stream",
     "text": [
      "Scraping page 1 \n",
      "Scraping page 2 \n",
      "Scraping page 3 \n",
      "Scraping page 4 \n",
      "Scraping page 5 \n",
      "\n"
     ]
    },
    {
     "data": {
      "application/vnd.jupyter.widget-view+json": {
       "model_id": "6da43e98f17649b5be9895eb9ac4db99",
       "version_major": 2,
       "version_minor": 0
      },
      "text/plain": [
       "HBox(children=(FloatProgress(value=0.0, max=5.0), HTML(value='')))"
      ]
     },
     "metadata": {},
     "output_type": "display_data"
    },
    {
     "name": "stdout",
     "output_type": "stream",
     "text": [
      "Scraping page 1 \n",
      "Scraping page 2 \n",
      "Scraping page 3 \n",
      "Scraping page 4 \n",
      "Scraping page 5 \n",
      "\n"
     ]
    },
    {
     "data": {
      "application/vnd.jupyter.widget-view+json": {
       "model_id": "c05c5dc2765047d48eab01f87742f1f2",
       "version_major": 2,
       "version_minor": 0
      },
      "text/plain": [
       "HBox(children=(FloatProgress(value=0.0, max=5.0), HTML(value='')))"
      ]
     },
     "metadata": {},
     "output_type": "display_data"
    },
    {
     "name": "stdout",
     "output_type": "stream",
     "text": [
      "Scraping page 1 \n",
      "Scraping page 2 \n",
      "Scraping page 3 \n",
      "Scraping page 4 \n",
      "Scraping page 5 \n",
      "\n"
     ]
    },
    {
     "data": {
      "application/vnd.jupyter.widget-view+json": {
       "model_id": "0cf7ff7ca43142d4a629cdbfef7e4485",
       "version_major": 2,
       "version_minor": 0
      },
      "text/plain": [
       "HBox(children=(FloatProgress(value=0.0, max=5.0), HTML(value='')))"
      ]
     },
     "metadata": {},
     "output_type": "display_data"
    },
    {
     "name": "stdout",
     "output_type": "stream",
     "text": [
      "Scraping page 1 \n",
      "Scraping page 2 \n",
      "No more reviews\n",
      "Scraping page 3 \n",
      "No more reviews\n",
      "Scraping page 4 \n",
      "No more reviews\n",
      "Scraping page 5 \n",
      "No more reviews\n",
      "\n"
     ]
    },
    {
     "data": {
      "application/vnd.jupyter.widget-view+json": {
       "model_id": "8fe9a3a15a2d417895ae086eb7b4791f",
       "version_major": 2,
       "version_minor": 0
      },
      "text/plain": [
       "HBox(children=(FloatProgress(value=0.0, max=5.0), HTML(value='')))"
      ]
     },
     "metadata": {},
     "output_type": "display_data"
    },
    {
     "name": "stdout",
     "output_type": "stream",
     "text": [
      "Scraping page 1 \n",
      "No more reviews\n",
      "Scraping page 2 \n",
      "No more reviews\n",
      "Scraping page 3 \n",
      "No more reviews\n",
      "Scraping page 4 \n",
      "No more reviews\n",
      "Scraping page 5 \n",
      "No more reviews\n",
      "\n"
     ]
    },
    {
     "data": {
      "application/vnd.jupyter.widget-view+json": {
       "model_id": "7dac0111a31d4621a14099171db798df",
       "version_major": 2,
       "version_minor": 0
      },
      "text/plain": [
       "HBox(children=(FloatProgress(value=0.0, max=5.0), HTML(value='')))"
      ]
     },
     "metadata": {},
     "output_type": "display_data"
    },
    {
     "name": "stdout",
     "output_type": "stream",
     "text": [
      "Scraping page 1 \n",
      "Scraping page 2 \n",
      "Scraping page 3 \n",
      "Scraping page 4 \n",
      "Scraping page 5 \n",
      "No more reviews\n",
      "\n"
     ]
    },
    {
     "data": {
      "application/vnd.jupyter.widget-view+json": {
       "model_id": "9cdd13c80b244cb39df7928333b6cfdf",
       "version_major": 2,
       "version_minor": 0
      },
      "text/plain": [
       "HBox(children=(FloatProgress(value=0.0, max=5.0), HTML(value='')))"
      ]
     },
     "metadata": {},
     "output_type": "display_data"
    },
    {
     "name": "stdout",
     "output_type": "stream",
     "text": [
      "Scraping page 1 \n",
      "No more reviews\n",
      "Scraping page 2 \n",
      "No more reviews\n",
      "Scraping page 3 \n",
      "No more reviews\n",
      "Scraping page 4 \n",
      "No more reviews\n",
      "Scraping page 5 \n",
      "No more reviews\n",
      "\n"
     ]
    },
    {
     "data": {
      "application/vnd.jupyter.widget-view+json": {
       "model_id": "b908f5a80e53461e85ab2c4103748b9a",
       "version_major": 2,
       "version_minor": 0
      },
      "text/plain": [
       "HBox(children=(FloatProgress(value=0.0, max=5.0), HTML(value='')))"
      ]
     },
     "metadata": {},
     "output_type": "display_data"
    },
    {
     "name": "stdout",
     "output_type": "stream",
     "text": [
      "Scraping page 1 \n",
      "Scraping page 2 \n",
      "No more reviews\n",
      "Scraping page 3 \n",
      "No more reviews\n",
      "Scraping page 4 \n",
      "No more reviews\n",
      "Scraping page 5 \n",
      "No more reviews\n",
      "\n"
     ]
    },
    {
     "data": {
      "application/vnd.jupyter.widget-view+json": {
       "model_id": "88e48a067ebf4161b00946b896e9b77c",
       "version_major": 2,
       "version_minor": 0
      },
      "text/plain": [
       "HBox(children=(FloatProgress(value=0.0, max=5.0), HTML(value='')))"
      ]
     },
     "metadata": {},
     "output_type": "display_data"
    },
    {
     "name": "stdout",
     "output_type": "stream",
     "text": [
      "Scraping page 1 \n",
      "Scraping page 2 \n",
      "Scraping page 3 \n",
      "No more reviews\n",
      "Scraping page 4 \n",
      "No more reviews\n",
      "Scraping page 5 \n",
      "No more reviews\n",
      "\n"
     ]
    },
    {
     "data": {
      "application/vnd.jupyter.widget-view+json": {
       "model_id": "d773c26e16cb4debbe42a517308a106d",
       "version_major": 2,
       "version_minor": 0
      },
      "text/plain": [
       "HBox(children=(FloatProgress(value=0.0, max=5.0), HTML(value='')))"
      ]
     },
     "metadata": {},
     "output_type": "display_data"
    },
    {
     "name": "stdout",
     "output_type": "stream",
     "text": [
      "Scraping page 1 \n",
      "No more reviews\n",
      "Scraping page 2 \n",
      "No more reviews\n",
      "Scraping page 3 \n",
      "No more reviews\n",
      "Scraping page 4 \n",
      "No more reviews\n",
      "Scraping page 5 \n",
      "No more reviews\n",
      "\n"
     ]
    },
    {
     "data": {
      "application/vnd.jupyter.widget-view+json": {
       "model_id": "bcc133ef59ae43f3bd501f77c43bff2a",
       "version_major": 2,
       "version_minor": 0
      },
      "text/plain": [
       "HBox(children=(FloatProgress(value=0.0, max=5.0), HTML(value='')))"
      ]
     },
     "metadata": {},
     "output_type": "display_data"
    },
    {
     "name": "stdout",
     "output_type": "stream",
     "text": [
      "Scraping page 1 \n",
      "No more reviews\n",
      "Scraping page 2 \n",
      "No more reviews\n",
      "Scraping page 3 \n",
      "No more reviews\n",
      "Scraping page 4 \n",
      "No more reviews\n",
      "Scraping page 5 \n",
      "No more reviews\n",
      "\n"
     ]
    },
    {
     "data": {
      "application/vnd.jupyter.widget-view+json": {
       "model_id": "119b6a78e8a14383a6acccb6f55d021b",
       "version_major": 2,
       "version_minor": 0
      },
      "text/plain": [
       "HBox(children=(FloatProgress(value=0.0, max=5.0), HTML(value='')))"
      ]
     },
     "metadata": {},
     "output_type": "display_data"
    },
    {
     "name": "stdout",
     "output_type": "stream",
     "text": [
      "Scraping page 1 \n",
      "Scraping page 2 \n",
      "Scraping page 3 \n",
      "Scraping page 4 \n",
      "No more reviews\n",
      "Scraping page 5 \n",
      "No more reviews\n",
      "\n"
     ]
    },
    {
     "data": {
      "application/vnd.jupyter.widget-view+json": {
       "model_id": "7d96bd593d5a447886b8c959d7efe809",
       "version_major": 2,
       "version_minor": 0
      },
      "text/plain": [
       "HBox(children=(FloatProgress(value=0.0, max=5.0), HTML(value='')))"
      ]
     },
     "metadata": {},
     "output_type": "display_data"
    },
    {
     "name": "stdout",
     "output_type": "stream",
     "text": [
      "Scraping page 1 \n",
      "Scraping page 2 \n",
      "Scraping page 3 \n",
      "Scraping page 4 \n",
      "Scraping page 5 \n",
      "\n"
     ]
    },
    {
     "data": {
      "application/vnd.jupyter.widget-view+json": {
       "model_id": "d2625e7faf5c4a7c8e8eea23a5cd1fa7",
       "version_major": 2,
       "version_minor": 0
      },
      "text/plain": [
       "HBox(children=(FloatProgress(value=0.0, max=5.0), HTML(value='')))"
      ]
     },
     "metadata": {},
     "output_type": "display_data"
    },
    {
     "name": "stdout",
     "output_type": "stream",
     "text": [
      "Scraping page 1 \n",
      "Scraping page 2 \n",
      "Scraping page 3 \n",
      "Scraping page 4 \n",
      "Scraping page 5 \n",
      "\n"
     ]
    },
    {
     "data": {
      "application/vnd.jupyter.widget-view+json": {
       "model_id": "d7272325f6194daca609a641c397a822",
       "version_major": 2,
       "version_minor": 0
      },
      "text/plain": [
       "HBox(children=(FloatProgress(value=0.0, max=5.0), HTML(value='')))"
      ]
     },
     "metadata": {},
     "output_type": "display_data"
    },
    {
     "name": "stdout",
     "output_type": "stream",
     "text": [
      "Scraping page 1 \n",
      "Scraping page 2 \n",
      "Scraping page 3 \n",
      "Scraping page 4 \n",
      "Scraping page 5 \n",
      "\n"
     ]
    },
    {
     "data": {
      "application/vnd.jupyter.widget-view+json": {
       "model_id": "70ab71f4d0734e14ba589a6893a01675",
       "version_major": 2,
       "version_minor": 0
      },
      "text/plain": [
       "HBox(children=(FloatProgress(value=0.0, max=5.0), HTML(value='')))"
      ]
     },
     "metadata": {},
     "output_type": "display_data"
    },
    {
     "name": "stdout",
     "output_type": "stream",
     "text": [
      "Scraping page 1 \n",
      "Scraping page 2 \n",
      "Scraping page 3 \n",
      "Scraping page 4 \n",
      "Scraping page 5 \n",
      "\n"
     ]
    },
    {
     "data": {
      "application/vnd.jupyter.widget-view+json": {
       "model_id": "4de172d531e242a69c7f18dfe0bfca3d",
       "version_major": 2,
       "version_minor": 0
      },
      "text/plain": [
       "HBox(children=(FloatProgress(value=0.0, max=5.0), HTML(value='')))"
      ]
     },
     "metadata": {},
     "output_type": "display_data"
    },
    {
     "name": "stdout",
     "output_type": "stream",
     "text": [
      "Scraping page 1 \n",
      "Scraping page 2 \n",
      "Scraping page 3 \n",
      "Scraping page 4 \n",
      "Scraping page 5 \n",
      "\n"
     ]
    },
    {
     "data": {
      "application/vnd.jupyter.widget-view+json": {
       "model_id": "624578bfec9e4009b2263a1910039352",
       "version_major": 2,
       "version_minor": 0
      },
      "text/plain": [
       "HBox(children=(FloatProgress(value=0.0, max=5.0), HTML(value='')))"
      ]
     },
     "metadata": {},
     "output_type": "display_data"
    },
    {
     "name": "stdout",
     "output_type": "stream",
     "text": [
      "Scraping page 1 \n",
      "Scraping page 2 \n",
      "Scraping page 3 \n",
      "Scraping page 4 \n",
      "Scraping page 5 \n",
      "\n"
     ]
    },
    {
     "data": {
      "application/vnd.jupyter.widget-view+json": {
       "model_id": "11159e60820242f08f28b56a711e60a0",
       "version_major": 2,
       "version_minor": 0
      },
      "text/plain": [
       "HBox(children=(FloatProgress(value=0.0, max=5.0), HTML(value='')))"
      ]
     },
     "metadata": {},
     "output_type": "display_data"
    },
    {
     "name": "stdout",
     "output_type": "stream",
     "text": [
      "Scraping page 1 \n",
      "Scraping page 2 \n",
      "Scraping page 3 \n",
      "Scraping page 4 \n",
      "Scraping page 5 \n",
      "\n"
     ]
    },
    {
     "data": {
      "application/vnd.jupyter.widget-view+json": {
       "model_id": "8fc8f6027ab141faa1806d3411ddc362",
       "version_major": 2,
       "version_minor": 0
      },
      "text/plain": [
       "HBox(children=(FloatProgress(value=0.0, max=5.0), HTML(value='')))"
      ]
     },
     "metadata": {},
     "output_type": "display_data"
    },
    {
     "name": "stdout",
     "output_type": "stream",
     "text": [
      "Scraping page 1 \n",
      "Scraping page 2 \n",
      "Scraping page 3 \n",
      "Scraping page 4 \n",
      "Scraping page 5 \n",
      "\n"
     ]
    },
    {
     "data": {
      "application/vnd.jupyter.widget-view+json": {
       "model_id": "95d0f12261bb4acbbc84d11dbff1286f",
       "version_major": 2,
       "version_minor": 0
      },
      "text/plain": [
       "HBox(children=(FloatProgress(value=0.0, max=5.0), HTML(value='')))"
      ]
     },
     "metadata": {},
     "output_type": "display_data"
    },
    {
     "name": "stdout",
     "output_type": "stream",
     "text": [
      "Scraping page 1 \n",
      "Scraping page 2 \n",
      "Scraping page 3 \n",
      "Scraping page 4 \n",
      "No more reviews\n",
      "Scraping page 5 \n",
      "No more reviews\n",
      "\n"
     ]
    },
    {
     "data": {
      "application/vnd.jupyter.widget-view+json": {
       "model_id": "11b94896c8674c0aab56e2eb34bcad3e",
       "version_major": 2,
       "version_minor": 0
      },
      "text/plain": [
       "HBox(children=(FloatProgress(value=0.0, max=5.0), HTML(value='')))"
      ]
     },
     "metadata": {},
     "output_type": "display_data"
    },
    {
     "name": "stdout",
     "output_type": "stream",
     "text": [
      "Scraping page 1 \n",
      "Scraping page 2 \n",
      "Scraping page 3 \n",
      "Scraping page 4 \n",
      "Scraping page 5 \n",
      "\n"
     ]
    },
    {
     "data": {
      "application/vnd.jupyter.widget-view+json": {
       "model_id": "0a251174da574cbdb411314b153c98eb",
       "version_major": 2,
       "version_minor": 0
      },
      "text/plain": [
       "HBox(children=(FloatProgress(value=0.0, max=5.0), HTML(value='')))"
      ]
     },
     "metadata": {},
     "output_type": "display_data"
    },
    {
     "name": "stdout",
     "output_type": "stream",
     "text": [
      "Scraping page 1 \n",
      "Scraping page 2 \n",
      "Scraping page 3 \n",
      "Scraping page 4 \n",
      "Scraping page 5 \n",
      "\n"
     ]
    },
    {
     "data": {
      "application/vnd.jupyter.widget-view+json": {
       "model_id": "238c9c1d39ce41c3bb442b730db68417",
       "version_major": 2,
       "version_minor": 0
      },
      "text/plain": [
       "HBox(children=(FloatProgress(value=0.0, max=5.0), HTML(value='')))"
      ]
     },
     "metadata": {},
     "output_type": "display_data"
    },
    {
     "name": "stdout",
     "output_type": "stream",
     "text": [
      "Scraping page 1 \n",
      "Scraping page 2 \n",
      "Scraping page 3 \n",
      "Scraping page 4 \n",
      "Scraping page 5 \n",
      "\n"
     ]
    },
    {
     "data": {
      "application/vnd.jupyter.widget-view+json": {
       "model_id": "e2d93c6a47354413b280127b1ba6f614",
       "version_major": 2,
       "version_minor": 0
      },
      "text/plain": [
       "HBox(children=(FloatProgress(value=0.0, max=5.0), HTML(value='')))"
      ]
     },
     "metadata": {},
     "output_type": "display_data"
    },
    {
     "name": "stdout",
     "output_type": "stream",
     "text": [
      "Scraping page 1 \n",
      "Scraping page 2 \n",
      "Scraping page 3 \n",
      "Scraping page 4 \n",
      "Scraping page 5 \n",
      "\n"
     ]
    },
    {
     "data": {
      "application/vnd.jupyter.widget-view+json": {
       "model_id": "2bd5e92352824df3a070980fe1901f24",
       "version_major": 2,
       "version_minor": 0
      },
      "text/plain": [
       "HBox(children=(FloatProgress(value=0.0, max=5.0), HTML(value='')))"
      ]
     },
     "metadata": {},
     "output_type": "display_data"
    },
    {
     "name": "stdout",
     "output_type": "stream",
     "text": [
      "Scraping page 1 \n",
      "Scraping page 2 \n",
      "Scraping page 3 \n",
      "Scraping page 4 \n",
      "Scraping page 5 \n",
      "\n"
     ]
    },
    {
     "data": {
      "application/vnd.jupyter.widget-view+json": {
       "model_id": "dcabb854f7334cac9e7c4deeb2399c76",
       "version_major": 2,
       "version_minor": 0
      },
      "text/plain": [
       "HBox(children=(FloatProgress(value=0.0, max=5.0), HTML(value='')))"
      ]
     },
     "metadata": {},
     "output_type": "display_data"
    },
    {
     "name": "stdout",
     "output_type": "stream",
     "text": [
      "Scraping page 1 \n",
      "Scraping page 2 \n",
      "Scraping page 3 \n",
      "Scraping page 4 \n",
      "Scraping page 5 \n",
      "\n"
     ]
    },
    {
     "data": {
      "application/vnd.jupyter.widget-view+json": {
       "model_id": "fd97ab7e3b514c7db1adc25d3118c225",
       "version_major": 2,
       "version_minor": 0
      },
      "text/plain": [
       "HBox(children=(FloatProgress(value=0.0, max=5.0), HTML(value='')))"
      ]
     },
     "metadata": {},
     "output_type": "display_data"
    },
    {
     "name": "stdout",
     "output_type": "stream",
     "text": [
      "Scraping page 1 \n",
      "Scraping page 2 \n",
      "Scraping page 3 \n",
      "Scraping page 4 \n",
      "Scraping page 5 \n",
      "\n"
     ]
    },
    {
     "data": {
      "application/vnd.jupyter.widget-view+json": {
       "model_id": "16cd6d6ea72d4e0cb6ef748496a0211b",
       "version_major": 2,
       "version_minor": 0
      },
      "text/plain": [
       "HBox(children=(FloatProgress(value=0.0, max=5.0), HTML(value='')))"
      ]
     },
     "metadata": {},
     "output_type": "display_data"
    },
    {
     "name": "stdout",
     "output_type": "stream",
     "text": [
      "Scraping page 1 \n",
      "Scraping page 2 \n",
      "Scraping page 3 \n",
      "Scraping page 4 \n",
      "Scraping page 5 \n",
      "\n"
     ]
    },
    {
     "data": {
      "application/vnd.jupyter.widget-view+json": {
       "model_id": "4fefd522c144438cb898b9f0b4b9b17f",
       "version_major": 2,
       "version_minor": 0
      },
      "text/plain": [
       "HBox(children=(FloatProgress(value=0.0, max=5.0), HTML(value='')))"
      ]
     },
     "metadata": {},
     "output_type": "display_data"
    },
    {
     "name": "stdout",
     "output_type": "stream",
     "text": [
      "Scraping page 1 \n",
      "Scraping page 2 \n",
      "No more reviews\n",
      "Scraping page 3 \n",
      "No more reviews\n",
      "Scraping page 4 \n",
      "No more reviews\n",
      "Scraping page 5 \n",
      "No more reviews\n",
      "\n"
     ]
    },
    {
     "data": {
      "application/vnd.jupyter.widget-view+json": {
       "model_id": "451fa94f43c84b478cd2cc4c75ee3805",
       "version_major": 2,
       "version_minor": 0
      },
      "text/plain": [
       "HBox(children=(FloatProgress(value=0.0, max=5.0), HTML(value='')))"
      ]
     },
     "metadata": {},
     "output_type": "display_data"
    },
    {
     "name": "stdout",
     "output_type": "stream",
     "text": [
      "Scraping page 1 \n",
      "No more reviews\n",
      "Scraping page 2 \n",
      "No more reviews\n",
      "Scraping page 3 \n",
      "No more reviews\n",
      "Scraping page 4 \n",
      "No more reviews\n",
      "Scraping page 5 \n",
      "No more reviews\n",
      "\n"
     ]
    },
    {
     "data": {
      "application/vnd.jupyter.widget-view+json": {
       "model_id": "e73de274e6fe4323abe0c1a4808ab129",
       "version_major": 2,
       "version_minor": 0
      },
      "text/plain": [
       "HBox(children=(FloatProgress(value=0.0, max=5.0), HTML(value='')))"
      ]
     },
     "metadata": {},
     "output_type": "display_data"
    },
    {
     "name": "stdout",
     "output_type": "stream",
     "text": [
      "Scraping page 1 \n",
      "Scraping page 2 \n",
      "Scraping page 3 \n",
      "Scraping page 4 \n",
      "Scraping page 5 \n",
      "No more reviews\n",
      "\n"
     ]
    },
    {
     "data": {
      "application/vnd.jupyter.widget-view+json": {
       "model_id": "efe5fd23d96445108705737d53ad0940",
       "version_major": 2,
       "version_minor": 0
      },
      "text/plain": [
       "HBox(children=(FloatProgress(value=0.0, max=5.0), HTML(value='')))"
      ]
     },
     "metadata": {},
     "output_type": "display_data"
    },
    {
     "name": "stdout",
     "output_type": "stream",
     "text": [
      "Scraping page 1 \n",
      "No more reviews\n",
      "Scraping page 2 \n",
      "No more reviews\n",
      "Scraping page 3 \n",
      "No more reviews\n",
      "Scraping page 4 \n",
      "No more reviews\n",
      "Scraping page 5 \n",
      "No more reviews\n",
      "\n"
     ]
    },
    {
     "data": {
      "application/vnd.jupyter.widget-view+json": {
       "model_id": "b4e8727f6cb945abb1fa892b20312988",
       "version_major": 2,
       "version_minor": 0
      },
      "text/plain": [
       "HBox(children=(FloatProgress(value=0.0, max=5.0), HTML(value='')))"
      ]
     },
     "metadata": {},
     "output_type": "display_data"
    },
    {
     "name": "stdout",
     "output_type": "stream",
     "text": [
      "Scraping page 1 \n",
      "Scraping page 2 \n",
      "No more reviews\n",
      "Scraping page 3 \n",
      "No more reviews\n",
      "Scraping page 4 \n",
      "No more reviews\n",
      "Scraping page 5 \n",
      "No more reviews\n",
      "\n"
     ]
    },
    {
     "data": {
      "application/vnd.jupyter.widget-view+json": {
       "model_id": "ebf5dd63c6cf48b9b21fffa3ff122a41",
       "version_major": 2,
       "version_minor": 0
      },
      "text/plain": [
       "HBox(children=(FloatProgress(value=0.0, max=5.0), HTML(value='')))"
      ]
     },
     "metadata": {},
     "output_type": "display_data"
    },
    {
     "name": "stdout",
     "output_type": "stream",
     "text": [
      "Scraping page 1 \n",
      "Scraping page 2 \n",
      "Scraping page 3 \n",
      "No more reviews\n",
      "Scraping page 4 \n",
      "No more reviews\n",
      "Scraping page 5 \n",
      "No more reviews\n",
      "\n"
     ]
    },
    {
     "data": {
      "application/vnd.jupyter.widget-view+json": {
       "model_id": "0961e11d41034e2aaccb50eb81a4ed7b",
       "version_major": 2,
       "version_minor": 0
      },
      "text/plain": [
       "HBox(children=(FloatProgress(value=0.0, max=5.0), HTML(value='')))"
      ]
     },
     "metadata": {},
     "output_type": "display_data"
    },
    {
     "name": "stdout",
     "output_type": "stream",
     "text": [
      "Scraping page 1 \n",
      "No more reviews\n",
      "Scraping page 2 \n",
      "No more reviews\n",
      "Scraping page 3 \n",
      "No more reviews\n",
      "Scraping page 4 \n",
      "No more reviews\n",
      "Scraping page 5 \n",
      "No more reviews\n",
      "\n"
     ]
    },
    {
     "data": {
      "application/vnd.jupyter.widget-view+json": {
       "model_id": "f1ccf133e24249c890ad6f1c1c179614",
       "version_major": 2,
       "version_minor": 0
      },
      "text/plain": [
       "HBox(children=(FloatProgress(value=0.0, max=5.0), HTML(value='')))"
      ]
     },
     "metadata": {},
     "output_type": "display_data"
    },
    {
     "name": "stdout",
     "output_type": "stream",
     "text": [
      "Scraping page 1 \n",
      "No more reviews\n",
      "Scraping page 2 \n",
      "No more reviews\n",
      "Scraping page 3 \n",
      "No more reviews\n",
      "Scraping page 4 \n",
      "No more reviews\n",
      "Scraping page 5 \n",
      "No more reviews\n",
      "\n"
     ]
    },
    {
     "data": {
      "application/vnd.jupyter.widget-view+json": {
       "model_id": "681d75914b3244bca33d2cf28d1347ce",
       "version_major": 2,
       "version_minor": 0
      },
      "text/plain": [
       "HBox(children=(FloatProgress(value=0.0, max=5.0), HTML(value='')))"
      ]
     },
     "metadata": {},
     "output_type": "display_data"
    },
    {
     "name": "stdout",
     "output_type": "stream",
     "text": [
      "Scraping page 1 \n",
      "Scraping page 2 \n",
      "Scraping page 3 \n",
      "Scraping page 4 \n",
      "No more reviews\n",
      "Scraping page 5 \n",
      "No more reviews\n",
      "\n"
     ]
    },
    {
     "data": {
      "application/vnd.jupyter.widget-view+json": {
       "model_id": "984a931a72b24a2b8ae882f434d5125d",
       "version_major": 2,
       "version_minor": 0
      },
      "text/plain": [
       "HBox(children=(FloatProgress(value=0.0, max=5.0), HTML(value='')))"
      ]
     },
     "metadata": {},
     "output_type": "display_data"
    },
    {
     "name": "stdout",
     "output_type": "stream",
     "text": [
      "Scraping page 1 \n",
      "Scraping page 2 \n",
      "Scraping page 3 \n",
      "Scraping page 4 \n",
      "Scraping page 5 \n",
      "\n"
     ]
    },
    {
     "data": {
      "application/vnd.jupyter.widget-view+json": {
       "model_id": "09d6265fe1564e6a90b829718f6a724a",
       "version_major": 2,
       "version_minor": 0
      },
      "text/plain": [
       "HBox(children=(FloatProgress(value=0.0, max=5.0), HTML(value='')))"
      ]
     },
     "metadata": {},
     "output_type": "display_data"
    },
    {
     "name": "stdout",
     "output_type": "stream",
     "text": [
      "Scraping page 1 \n",
      "Scraping page 2 \n",
      "Scraping page 3 \n",
      "Scraping page 4 \n",
      "Scraping page 5 \n",
      "\n"
     ]
    },
    {
     "data": {
      "application/vnd.jupyter.widget-view+json": {
       "model_id": "5d5e16a562df4d2f8e7ed11a8dd1e8d4",
       "version_major": 2,
       "version_minor": 0
      },
      "text/plain": [
       "HBox(children=(FloatProgress(value=0.0, max=5.0), HTML(value='')))"
      ]
     },
     "metadata": {},
     "output_type": "display_data"
    },
    {
     "name": "stdout",
     "output_type": "stream",
     "text": [
      "Scraping page 1 \n",
      "Scraping page 2 \n",
      "Scraping page 3 \n",
      "Scraping page 4 \n",
      "Scraping page 5 \n",
      "\n"
     ]
    },
    {
     "data": {
      "application/vnd.jupyter.widget-view+json": {
       "model_id": "595292966c354ef3ad8c785d0b0622aa",
       "version_major": 2,
       "version_minor": 0
      },
      "text/plain": [
       "HBox(children=(FloatProgress(value=0.0, max=5.0), HTML(value='')))"
      ]
     },
     "metadata": {},
     "output_type": "display_data"
    },
    {
     "name": "stdout",
     "output_type": "stream",
     "text": [
      "Scraping page 1 \n",
      "Scraping page 2 \n",
      "Scraping page 3 \n",
      "Scraping page 4 \n",
      "Scraping page 5 \n",
      "\n"
     ]
    },
    {
     "data": {
      "application/vnd.jupyter.widget-view+json": {
       "model_id": "949064a4b755476db2d697b677e073d5",
       "version_major": 2,
       "version_minor": 0
      },
      "text/plain": [
       "HBox(children=(FloatProgress(value=0.0, max=5.0), HTML(value='')))"
      ]
     },
     "metadata": {},
     "output_type": "display_data"
    },
    {
     "name": "stdout",
     "output_type": "stream",
     "text": [
      "Scraping page 1 \n",
      "Scraping page 2 \n",
      "Scraping page 3 \n",
      "Scraping page 4 \n",
      "Scraping page 5 \n",
      "\n"
     ]
    },
    {
     "data": {
      "application/vnd.jupyter.widget-view+json": {
       "model_id": "a5996140317f4d55ac45b359f1a320b2",
       "version_major": 2,
       "version_minor": 0
      },
      "text/plain": [
       "HBox(children=(FloatProgress(value=0.0, max=5.0), HTML(value='')))"
      ]
     },
     "metadata": {},
     "output_type": "display_data"
    },
    {
     "name": "stdout",
     "output_type": "stream",
     "text": [
      "Scraping page 1 \n",
      "Scraping page 2 \n",
      "Scraping page 3 \n",
      "Scraping page 4 \n",
      "Scraping page 5 \n",
      "\n"
     ]
    },
    {
     "data": {
      "application/vnd.jupyter.widget-view+json": {
       "model_id": "10d8abd0ad844fd7a19952c145648e75",
       "version_major": 2,
       "version_minor": 0
      },
      "text/plain": [
       "HBox(children=(FloatProgress(value=0.0, max=5.0), HTML(value='')))"
      ]
     },
     "metadata": {},
     "output_type": "display_data"
    },
    {
     "name": "stdout",
     "output_type": "stream",
     "text": [
      "Scraping page 1 \n",
      "Scraping page 2 \n",
      "Scraping page 3 \n",
      "Scraping page 4 \n",
      "Scraping page 5 \n",
      "\n"
     ]
    },
    {
     "data": {
      "application/vnd.jupyter.widget-view+json": {
       "model_id": "8fcac0ffb1cd45d7af44f8522c17068a",
       "version_major": 2,
       "version_minor": 0
      },
      "text/plain": [
       "HBox(children=(FloatProgress(value=0.0, max=5.0), HTML(value='')))"
      ]
     },
     "metadata": {},
     "output_type": "display_data"
    },
    {
     "name": "stdout",
     "output_type": "stream",
     "text": [
      "Scraping page 1 \n",
      "Scraping page 2 \n",
      "Scraping page 3 \n",
      "Scraping page 4 \n",
      "Scraping page 5 \n",
      "\n"
     ]
    },
    {
     "data": {
      "application/vnd.jupyter.widget-view+json": {
       "model_id": "2e5797c9e9e045ba99a99ad45f0fdc17",
       "version_major": 2,
       "version_minor": 0
      },
      "text/plain": [
       "HBox(children=(FloatProgress(value=0.0, max=5.0), HTML(value='')))"
      ]
     },
     "metadata": {},
     "output_type": "display_data"
    },
    {
     "name": "stdout",
     "output_type": "stream",
     "text": [
      "Scraping page 1 \n",
      "Scraping page 2 \n",
      "Scraping page 3 \n",
      "Scraping page 4 \n",
      "No more reviews\n",
      "Scraping page 5 \n",
      "No more reviews\n",
      "\n"
     ]
    },
    {
     "data": {
      "application/vnd.jupyter.widget-view+json": {
       "model_id": "b8a8a0edb4c549a5b6dc86d3c8253d01",
       "version_major": 2,
       "version_minor": 0
      },
      "text/plain": [
       "HBox(children=(FloatProgress(value=0.0, max=5.0), HTML(value='')))"
      ]
     },
     "metadata": {},
     "output_type": "display_data"
    },
    {
     "name": "stdout",
     "output_type": "stream",
     "text": [
      "Scraping page 1 \n",
      "Scraping page 2 \n",
      "Scraping page 3 \n",
      "Scraping page 4 \n",
      "Scraping page 5 \n",
      "\n"
     ]
    },
    {
     "data": {
      "application/vnd.jupyter.widget-view+json": {
       "model_id": "ba6e224ba00545f2af53b9e3a8868fee",
       "version_major": 2,
       "version_minor": 0
      },
      "text/plain": [
       "HBox(children=(FloatProgress(value=0.0, max=5.0), HTML(value='')))"
      ]
     },
     "metadata": {},
     "output_type": "display_data"
    },
    {
     "name": "stdout",
     "output_type": "stream",
     "text": [
      "Scraping page 1 \n",
      "Scraping page 2 \n",
      "Scraping page 3 \n",
      "Scraping page 4 \n",
      "Scraping page 5 \n",
      "\n"
     ]
    },
    {
     "data": {
      "application/vnd.jupyter.widget-view+json": {
       "model_id": "a1db5458882a4ab1be4e95d7639f21ab",
       "version_major": 2,
       "version_minor": 0
      },
      "text/plain": [
       "HBox(children=(FloatProgress(value=0.0, max=5.0), HTML(value='')))"
      ]
     },
     "metadata": {},
     "output_type": "display_data"
    },
    {
     "name": "stdout",
     "output_type": "stream",
     "text": [
      "Scraping page 1 \n",
      "Scraping page 2 \n",
      "Scraping page 3 \n",
      "Scraping page 4 \n",
      "Scraping page 5 \n",
      "\n"
     ]
    },
    {
     "data": {
      "application/vnd.jupyter.widget-view+json": {
       "model_id": "e223f4358075455eb0c58e297dc44124",
       "version_major": 2,
       "version_minor": 0
      },
      "text/plain": [
       "HBox(children=(FloatProgress(value=0.0, max=5.0), HTML(value='')))"
      ]
     },
     "metadata": {},
     "output_type": "display_data"
    },
    {
     "name": "stdout",
     "output_type": "stream",
     "text": [
      "Scraping page 1 \n",
      "Scraping page 2 \n",
      "Scraping page 3 \n",
      "Scraping page 4 \n",
      "Scraping page 5 \n",
      "\n"
     ]
    },
    {
     "data": {
      "application/vnd.jupyter.widget-view+json": {
       "model_id": "85f2f65da3c141929af71c2d93f9a4bf",
       "version_major": 2,
       "version_minor": 0
      },
      "text/plain": [
       "HBox(children=(FloatProgress(value=0.0, max=5.0), HTML(value='')))"
      ]
     },
     "metadata": {},
     "output_type": "display_data"
    },
    {
     "name": "stdout",
     "output_type": "stream",
     "text": [
      "Scraping page 1 \n",
      "Scraping page 2 \n",
      "Scraping page 3 \n",
      "Scraping page 4 \n",
      "Scraping page 5 \n",
      "\n"
     ]
    },
    {
     "data": {
      "application/vnd.jupyter.widget-view+json": {
       "model_id": "64f32e5755824e879060e9b9bc4e77a8",
       "version_major": 2,
       "version_minor": 0
      },
      "text/plain": [
       "HBox(children=(FloatProgress(value=0.0, max=5.0), HTML(value='')))"
      ]
     },
     "metadata": {},
     "output_type": "display_data"
    },
    {
     "name": "stdout",
     "output_type": "stream",
     "text": [
      "Scraping page 1 \n",
      "Scraping page 2 \n",
      "Scraping page 3 \n",
      "Scraping page 4 \n",
      "Scraping page 5 \n",
      "\n"
     ]
    },
    {
     "data": {
      "application/vnd.jupyter.widget-view+json": {
       "model_id": "60d921f843a64aafb3272efc3b3877b8",
       "version_major": 2,
       "version_minor": 0
      },
      "text/plain": [
       "HBox(children=(FloatProgress(value=0.0, max=5.0), HTML(value='')))"
      ]
     },
     "metadata": {},
     "output_type": "display_data"
    },
    {
     "name": "stdout",
     "output_type": "stream",
     "text": [
      "Scraping page 1 \n",
      "Scraping page 2 \n",
      "Scraping page 3 \n",
      "Scraping page 4 \n",
      "Scraping page 5 \n",
      "\n"
     ]
    },
    {
     "data": {
      "application/vnd.jupyter.widget-view+json": {
       "model_id": "42a33cd31f3d4fd89336f07f482f9592",
       "version_major": 2,
       "version_minor": 0
      },
      "text/plain": [
       "HBox(children=(FloatProgress(value=0.0, max=5.0), HTML(value='')))"
      ]
     },
     "metadata": {},
     "output_type": "display_data"
    },
    {
     "name": "stdout",
     "output_type": "stream",
     "text": [
      "Scraping page 1 \n",
      "Scraping page 2 \n",
      "Scraping page 3 \n",
      "Scraping page 4 \n",
      "Scraping page 5 \n",
      "\n"
     ]
    },
    {
     "data": {
      "application/vnd.jupyter.widget-view+json": {
       "model_id": "4fec08225ea940749e5db351313b5a5f",
       "version_major": 2,
       "version_minor": 0
      },
      "text/plain": [
       "HBox(children=(FloatProgress(value=0.0, max=5.0), HTML(value='')))"
      ]
     },
     "metadata": {},
     "output_type": "display_data"
    },
    {
     "name": "stdout",
     "output_type": "stream",
     "text": [
      "Scraping page 1 \n",
      "Scraping page 2 \n",
      "No more reviews\n",
      "Scraping page 3 \n",
      "No more reviews\n",
      "Scraping page 4 \n",
      "No more reviews\n",
      "Scraping page 5 \n",
      "No more reviews\n",
      "\n"
     ]
    },
    {
     "data": {
      "application/vnd.jupyter.widget-view+json": {
       "model_id": "f30e2cc867ad431da19c6df9f0aaba55",
       "version_major": 2,
       "version_minor": 0
      },
      "text/plain": [
       "HBox(children=(FloatProgress(value=0.0, max=5.0), HTML(value='')))"
      ]
     },
     "metadata": {},
     "output_type": "display_data"
    },
    {
     "name": "stdout",
     "output_type": "stream",
     "text": [
      "Scraping page 1 \n",
      "No more reviews\n",
      "Scraping page 2 \n",
      "No more reviews\n",
      "Scraping page 3 \n",
      "No more reviews\n",
      "Scraping page 4 \n",
      "No more reviews\n",
      "Scraping page 5 \n",
      "No more reviews\n",
      "\n"
     ]
    },
    {
     "data": {
      "application/vnd.jupyter.widget-view+json": {
       "model_id": "8bbc62718853415498c3461aff7ae376",
       "version_major": 2,
       "version_minor": 0
      },
      "text/plain": [
       "HBox(children=(FloatProgress(value=0.0, max=5.0), HTML(value='')))"
      ]
     },
     "metadata": {},
     "output_type": "display_data"
    },
    {
     "name": "stdout",
     "output_type": "stream",
     "text": [
      "Scraping page 1 \n",
      "Scraping page 2 \n",
      "Scraping page 3 \n",
      "Scraping page 4 \n",
      "Scraping page 5 \n",
      "No more reviews\n",
      "\n"
     ]
    },
    {
     "data": {
      "application/vnd.jupyter.widget-view+json": {
       "model_id": "6678e21b160243bbb999df56957092cc",
       "version_major": 2,
       "version_minor": 0
      },
      "text/plain": [
       "HBox(children=(FloatProgress(value=0.0, max=5.0), HTML(value='')))"
      ]
     },
     "metadata": {},
     "output_type": "display_data"
    },
    {
     "name": "stdout",
     "output_type": "stream",
     "text": [
      "Scraping page 1 \n",
      "No more reviews\n",
      "Scraping page 2 \n",
      "No more reviews\n",
      "Scraping page 3 \n",
      "No more reviews\n",
      "Scraping page 4 \n",
      "No more reviews\n",
      "Scraping page 5 \n",
      "No more reviews\n",
      "\n"
     ]
    },
    {
     "data": {
      "application/vnd.jupyter.widget-view+json": {
       "model_id": "57546f19a8c544819a850296de1f1323",
       "version_major": 2,
       "version_minor": 0
      },
      "text/plain": [
       "HBox(children=(FloatProgress(value=0.0, max=5.0), HTML(value='')))"
      ]
     },
     "metadata": {},
     "output_type": "display_data"
    },
    {
     "name": "stdout",
     "output_type": "stream",
     "text": [
      "Scraping page 1 \n",
      "Scraping page 2 \n",
      "No more reviews\n",
      "Scraping page 3 \n",
      "No more reviews\n",
      "Scraping page 4 \n",
      "No more reviews\n",
      "Scraping page 5 \n",
      "No more reviews\n",
      "\n"
     ]
    },
    {
     "data": {
      "application/vnd.jupyter.widget-view+json": {
       "model_id": "a8196681c08b4d40bb2a347fbfc63a24",
       "version_major": 2,
       "version_minor": 0
      },
      "text/plain": [
       "HBox(children=(FloatProgress(value=0.0, max=5.0), HTML(value='')))"
      ]
     },
     "metadata": {},
     "output_type": "display_data"
    },
    {
     "name": "stdout",
     "output_type": "stream",
     "text": [
      "Scraping page 1 \n",
      "Scraping page 2 \n",
      "Scraping page 3 \n",
      "No more reviews\n",
      "Scraping page 4 \n",
      "No more reviews\n",
      "Scraping page 5 \n",
      "No more reviews\n",
      "\n"
     ]
    },
    {
     "data": {
      "application/vnd.jupyter.widget-view+json": {
       "model_id": "c8620dd6bc904e44bdb2185aab7211a2",
       "version_major": 2,
       "version_minor": 0
      },
      "text/plain": [
       "HBox(children=(FloatProgress(value=0.0, max=5.0), HTML(value='')))"
      ]
     },
     "metadata": {},
     "output_type": "display_data"
    },
    {
     "name": "stdout",
     "output_type": "stream",
     "text": [
      "Scraping page 1 \n",
      "No more reviews\n",
      "Scraping page 2 \n",
      "No more reviews\n",
      "Scraping page 3 \n",
      "No more reviews\n",
      "Scraping page 4 \n",
      "No more reviews\n",
      "Scraping page 5 \n",
      "No more reviews\n",
      "\n"
     ]
    },
    {
     "data": {
      "application/vnd.jupyter.widget-view+json": {
       "model_id": "d5d1906a8e8d4e8a9179c888d0b7d718",
       "version_major": 2,
       "version_minor": 0
      },
      "text/plain": [
       "HBox(children=(FloatProgress(value=0.0, max=5.0), HTML(value='')))"
      ]
     },
     "metadata": {},
     "output_type": "display_data"
    },
    {
     "name": "stdout",
     "output_type": "stream",
     "text": [
      "Scraping page 1 \n",
      "No more reviews\n",
      "Scraping page 2 \n",
      "No more reviews\n",
      "Scraping page 3 \n",
      "No more reviews\n",
      "Scraping page 4 \n",
      "No more reviews\n",
      "Scraping page 5 \n",
      "No more reviews\n",
      "\n"
     ]
    },
    {
     "data": {
      "application/vnd.jupyter.widget-view+json": {
       "model_id": "cd242f933e9a4ad0b2b93746c1919f26",
       "version_major": 2,
       "version_minor": 0
      },
      "text/plain": [
       "HBox(children=(FloatProgress(value=0.0, max=5.0), HTML(value='')))"
      ]
     },
     "metadata": {},
     "output_type": "display_data"
    },
    {
     "name": "stdout",
     "output_type": "stream",
     "text": [
      "Scraping page 1 \n",
      "Scraping page 2 \n",
      "Scraping page 3 \n",
      "Scraping page 4 \n",
      "No more reviews\n",
      "Scraping page 5 \n",
      "No more reviews\n",
      "\n"
     ]
    },
    {
     "data": {
      "application/vnd.jupyter.widget-view+json": {
       "model_id": "333f930fdc364a879a16de0d8e417ba7",
       "version_major": 2,
       "version_minor": 0
      },
      "text/plain": [
       "HBox(children=(FloatProgress(value=0.0, max=5.0), HTML(value='')))"
      ]
     },
     "metadata": {},
     "output_type": "display_data"
    },
    {
     "name": "stdout",
     "output_type": "stream",
     "text": [
      "Scraping page 1 \n",
      "Scraping page 2 \n",
      "Scraping page 3 \n",
      "Scraping page 4 \n",
      "Scraping page 5 \n",
      "\n"
     ]
    },
    {
     "data": {
      "application/vnd.jupyter.widget-view+json": {
       "model_id": "8b838657a4b645a6bad88016974c6ac3",
       "version_major": 2,
       "version_minor": 0
      },
      "text/plain": [
       "HBox(children=(FloatProgress(value=0.0, max=5.0), HTML(value='')))"
      ]
     },
     "metadata": {},
     "output_type": "display_data"
    },
    {
     "name": "stdout",
     "output_type": "stream",
     "text": [
      "Scraping page 1 \n",
      "Scraping page 2 \n",
      "Scraping page 3 \n",
      "Scraping page 4 \n",
      "Scraping page 5 \n",
      "\n"
     ]
    },
    {
     "data": {
      "application/vnd.jupyter.widget-view+json": {
       "model_id": "94471d92ff024cd9a633cef9cbd8097d",
       "version_major": 2,
       "version_minor": 0
      },
      "text/plain": [
       "HBox(children=(FloatProgress(value=0.0, max=5.0), HTML(value='')))"
      ]
     },
     "metadata": {},
     "output_type": "display_data"
    },
    {
     "name": "stdout",
     "output_type": "stream",
     "text": [
      "Scraping page 1 \n",
      "Scraping page 2 \n",
      "Scraping page 3 \n",
      "Scraping page 4 \n",
      "Scraping page 5 \n",
      "\n"
     ]
    },
    {
     "data": {
      "application/vnd.jupyter.widget-view+json": {
       "model_id": "c5355f07e19e4d80b74549f1325e79cb",
       "version_major": 2,
       "version_minor": 0
      },
      "text/plain": [
       "HBox(children=(FloatProgress(value=0.0, max=5.0), HTML(value='')))"
      ]
     },
     "metadata": {},
     "output_type": "display_data"
    },
    {
     "name": "stdout",
     "output_type": "stream",
     "text": [
      "Scraping page 1 \n",
      "Scraping page 2 \n",
      "Scraping page 3 \n",
      "Scraping page 4 \n",
      "Scraping page 5 \n",
      "\n"
     ]
    },
    {
     "data": {
      "application/vnd.jupyter.widget-view+json": {
       "model_id": "d90ea0edaef6417ca86f1a0fb646a631",
       "version_major": 2,
       "version_minor": 0
      },
      "text/plain": [
       "HBox(children=(FloatProgress(value=0.0, max=5.0), HTML(value='')))"
      ]
     },
     "metadata": {},
     "output_type": "display_data"
    },
    {
     "name": "stdout",
     "output_type": "stream",
     "text": [
      "Scraping page 1 \n",
      "Scraping page 2 \n",
      "Scraping page 3 \n",
      "Scraping page 4 \n",
      "Scraping page 5 \n",
      "\n"
     ]
    },
    {
     "data": {
      "application/vnd.jupyter.widget-view+json": {
       "model_id": "ca0e7fbb858b4828bcf0937b9989cc1c",
       "version_major": 2,
       "version_minor": 0
      },
      "text/plain": [
       "HBox(children=(FloatProgress(value=0.0, max=5.0), HTML(value='')))"
      ]
     },
     "metadata": {},
     "output_type": "display_data"
    },
    {
     "name": "stdout",
     "output_type": "stream",
     "text": [
      "Scraping page 1 \n",
      "Scraping page 2 \n",
      "Scraping page 3 \n",
      "Scraping page 4 \n",
      "Scraping page 5 \n",
      "\n"
     ]
    },
    {
     "data": {
      "application/vnd.jupyter.widget-view+json": {
       "model_id": "5dc92590ac0644af8cbc0c0971cc4494",
       "version_major": 2,
       "version_minor": 0
      },
      "text/plain": [
       "HBox(children=(FloatProgress(value=0.0, max=5.0), HTML(value='')))"
      ]
     },
     "metadata": {},
     "output_type": "display_data"
    },
    {
     "name": "stdout",
     "output_type": "stream",
     "text": [
      "Scraping page 1 \n",
      "Scraping page 2 \n",
      "Scraping page 3 \n",
      "Scraping page 4 \n",
      "Scraping page 5 \n",
      "\n"
     ]
    },
    {
     "data": {
      "application/vnd.jupyter.widget-view+json": {
       "model_id": "90dc312b811e4df9a56559fde4504f30",
       "version_major": 2,
       "version_minor": 0
      },
      "text/plain": [
       "HBox(children=(FloatProgress(value=0.0, max=5.0), HTML(value='')))"
      ]
     },
     "metadata": {},
     "output_type": "display_data"
    },
    {
     "name": "stdout",
     "output_type": "stream",
     "text": [
      "Scraping page 1 \n",
      "Scraping page 2 \n",
      "Scraping page 3 \n",
      "Scraping page 4 \n",
      "Scraping page 5 \n",
      "\n"
     ]
    },
    {
     "data": {
      "application/vnd.jupyter.widget-view+json": {
       "model_id": "19b389cf35764abf83097ca68346b151",
       "version_major": 2,
       "version_minor": 0
      },
      "text/plain": [
       "HBox(children=(FloatProgress(value=0.0, max=5.0), HTML(value='')))"
      ]
     },
     "metadata": {},
     "output_type": "display_data"
    },
    {
     "name": "stdout",
     "output_type": "stream",
     "text": [
      "Scraping page 1 \n",
      "Scraping page 2 \n",
      "Scraping page 3 \n",
      "Scraping page 4 \n",
      "No more reviews\n",
      "Scraping page 5 \n",
      "No more reviews\n",
      "\n"
     ]
    },
    {
     "data": {
      "application/vnd.jupyter.widget-view+json": {
       "model_id": "f659c51068414505808e8d9d4b77e4c1",
       "version_major": 2,
       "version_minor": 0
      },
      "text/plain": [
       "HBox(children=(FloatProgress(value=0.0, max=5.0), HTML(value='')))"
      ]
     },
     "metadata": {},
     "output_type": "display_data"
    },
    {
     "name": "stdout",
     "output_type": "stream",
     "text": [
      "Scraping page 1 \n",
      "Scraping page 2 \n",
      "Scraping page 3 \n",
      "Scraping page 4 \n",
      "Scraping page 5 \n",
      "\n"
     ]
    },
    {
     "data": {
      "application/vnd.jupyter.widget-view+json": {
       "model_id": "26ee88cebbe642c9bd7b3e4b9efc3fb7",
       "version_major": 2,
       "version_minor": 0
      },
      "text/plain": [
       "HBox(children=(FloatProgress(value=0.0, max=5.0), HTML(value='')))"
      ]
     },
     "metadata": {},
     "output_type": "display_data"
    },
    {
     "name": "stdout",
     "output_type": "stream",
     "text": [
      "Scraping page 1 \n",
      "Scraping page 2 \n",
      "Scraping page 3 \n",
      "Scraping page 4 \n",
      "Scraping page 5 \n",
      "\n"
     ]
    },
    {
     "data": {
      "application/vnd.jupyter.widget-view+json": {
       "model_id": "0e437442566c4806abab599edbb4c9b6",
       "version_major": 2,
       "version_minor": 0
      },
      "text/plain": [
       "HBox(children=(FloatProgress(value=0.0, max=5.0), HTML(value='')))"
      ]
     },
     "metadata": {},
     "output_type": "display_data"
    },
    {
     "name": "stdout",
     "output_type": "stream",
     "text": [
      "Scraping page 1 \n",
      "Scraping page 2 \n",
      "Scraping page 3 \n",
      "Scraping page 4 \n",
      "Scraping page 5 \n",
      "\n"
     ]
    },
    {
     "data": {
      "application/vnd.jupyter.widget-view+json": {
       "model_id": "056a6f61a70c41d89beda8961119971b",
       "version_major": 2,
       "version_minor": 0
      },
      "text/plain": [
       "HBox(children=(FloatProgress(value=0.0, max=5.0), HTML(value='')))"
      ]
     },
     "metadata": {},
     "output_type": "display_data"
    },
    {
     "name": "stdout",
     "output_type": "stream",
     "text": [
      "Scraping page 1 \n",
      "Scraping page 2 \n",
      "Scraping page 3 \n",
      "Scraping page 4 \n",
      "Scraping page 5 \n",
      "\n"
     ]
    },
    {
     "data": {
      "application/vnd.jupyter.widget-view+json": {
       "model_id": "dbdf092abdbc49f6ab67bec5110251a8",
       "version_major": 2,
       "version_minor": 0
      },
      "text/plain": [
       "HBox(children=(FloatProgress(value=0.0, max=5.0), HTML(value='')))"
      ]
     },
     "metadata": {},
     "output_type": "display_data"
    },
    {
     "name": "stdout",
     "output_type": "stream",
     "text": [
      "Scraping page 1 \n",
      "Scraping page 2 \n",
      "Scraping page 3 \n",
      "Scraping page 4 \n",
      "Scraping page 5 \n",
      "\n"
     ]
    },
    {
     "data": {
      "application/vnd.jupyter.widget-view+json": {
       "model_id": "ee83a7f60ca94c1a8000df61d558a5ea",
       "version_major": 2,
       "version_minor": 0
      },
      "text/plain": [
       "HBox(children=(FloatProgress(value=0.0, max=5.0), HTML(value='')))"
      ]
     },
     "metadata": {},
     "output_type": "display_data"
    },
    {
     "name": "stdout",
     "output_type": "stream",
     "text": [
      "Scraping page 1 \n",
      "Scraping page 2 \n",
      "Scraping page 3 \n",
      "Scraping page 4 \n",
      "Scraping page 5 \n",
      "\n"
     ]
    },
    {
     "data": {
      "application/vnd.jupyter.widget-view+json": {
       "model_id": "30e39048283449258de2c460b1f832e1",
       "version_major": 2,
       "version_minor": 0
      },
      "text/plain": [
       "HBox(children=(FloatProgress(value=0.0, max=5.0), HTML(value='')))"
      ]
     },
     "metadata": {},
     "output_type": "display_data"
    },
    {
     "name": "stdout",
     "output_type": "stream",
     "text": [
      "Scraping page 1 \n",
      "Scraping page 2 \n",
      "Scraping page 3 \n",
      "Scraping page 4 \n",
      "Scraping page 5 \n",
      "\n"
     ]
    },
    {
     "data": {
      "application/vnd.jupyter.widget-view+json": {
       "model_id": "9ad8a9c5d30341c2b8dc85cc572dde61",
       "version_major": 2,
       "version_minor": 0
      },
      "text/plain": [
       "HBox(children=(FloatProgress(value=0.0, max=5.0), HTML(value='')))"
      ]
     },
     "metadata": {},
     "output_type": "display_data"
    },
    {
     "name": "stdout",
     "output_type": "stream",
     "text": [
      "Scraping page 1 \n",
      "Scraping page 2 \n",
      "Scraping page 3 \n",
      "Scraping page 4 \n",
      "Scraping page 5 \n",
      "\n"
     ]
    },
    {
     "data": {
      "application/vnd.jupyter.widget-view+json": {
       "model_id": "9d01d2d54fa24fbc9bf38bae827c419b",
       "version_major": 2,
       "version_minor": 0
      },
      "text/plain": [
       "HBox(children=(FloatProgress(value=0.0, max=5.0), HTML(value='')))"
      ]
     },
     "metadata": {},
     "output_type": "display_data"
    },
    {
     "name": "stdout",
     "output_type": "stream",
     "text": [
      "Scraping page 1 \n",
      "Scraping page 2 \n",
      "No more reviews\n",
      "Scraping page 3 \n",
      "No more reviews\n",
      "Scraping page 4 \n",
      "No more reviews\n",
      "Scraping page 5 \n",
      "No more reviews\n",
      "\n"
     ]
    },
    {
     "data": {
      "application/vnd.jupyter.widget-view+json": {
       "model_id": "1e245ccf427b4342bae63e4cdbc0366e",
       "version_major": 2,
       "version_minor": 0
      },
      "text/plain": [
       "HBox(children=(FloatProgress(value=0.0, max=5.0), HTML(value='')))"
      ]
     },
     "metadata": {},
     "output_type": "display_data"
    },
    {
     "name": "stdout",
     "output_type": "stream",
     "text": [
      "Scraping page 1 \n",
      "No more reviews\n",
      "Scraping page 2 \n",
      "No more reviews\n",
      "Scraping page 3 \n",
      "No more reviews\n",
      "Scraping page 4 \n",
      "No more reviews\n",
      "Scraping page 5 \n",
      "No more reviews\n",
      "\n"
     ]
    },
    {
     "data": {
      "application/vnd.jupyter.widget-view+json": {
       "model_id": "863c022f5ef74432b39cc07d1633b511",
       "version_major": 2,
       "version_minor": 0
      },
      "text/plain": [
       "HBox(children=(FloatProgress(value=0.0, max=5.0), HTML(value='')))"
      ]
     },
     "metadata": {},
     "output_type": "display_data"
    },
    {
     "name": "stdout",
     "output_type": "stream",
     "text": [
      "Scraping page 1 \n",
      "Scraping page 2 \n",
      "Scraping page 3 \n",
      "Scraping page 4 \n",
      "Scraping page 5 \n",
      "No more reviews\n",
      "\n"
     ]
    },
    {
     "data": {
      "application/vnd.jupyter.widget-view+json": {
       "model_id": "ab5fead0b51f40e1b8bb642afdd94bd5",
       "version_major": 2,
       "version_minor": 0
      },
      "text/plain": [
       "HBox(children=(FloatProgress(value=0.0, max=5.0), HTML(value='')))"
      ]
     },
     "metadata": {},
     "output_type": "display_data"
    },
    {
     "name": "stdout",
     "output_type": "stream",
     "text": [
      "Scraping page 1 \n",
      "No more reviews\n",
      "Scraping page 2 \n",
      "No more reviews\n",
      "Scraping page 3 \n",
      "No more reviews\n",
      "Scraping page 4 \n",
      "No more reviews\n",
      "Scraping page 5 \n",
      "No more reviews\n",
      "\n"
     ]
    },
    {
     "data": {
      "application/vnd.jupyter.widget-view+json": {
       "model_id": "398cca3e67de4aa686fd83b5c9ba8e42",
       "version_major": 2,
       "version_minor": 0
      },
      "text/plain": [
       "HBox(children=(FloatProgress(value=0.0, max=5.0), HTML(value='')))"
      ]
     },
     "metadata": {},
     "output_type": "display_data"
    },
    {
     "name": "stdout",
     "output_type": "stream",
     "text": [
      "Scraping page 1 \n",
      "Scraping page 2 \n",
      "No more reviews\n",
      "Scraping page 3 \n",
      "No more reviews\n",
      "Scraping page 4 \n",
      "No more reviews\n",
      "Scraping page 5 \n",
      "No more reviews\n",
      "\n"
     ]
    },
    {
     "data": {
      "application/vnd.jupyter.widget-view+json": {
       "model_id": "f3122d8f5c4e420288f876ef3a745adb",
       "version_major": 2,
       "version_minor": 0
      },
      "text/plain": [
       "HBox(children=(FloatProgress(value=0.0, max=5.0), HTML(value='')))"
      ]
     },
     "metadata": {},
     "output_type": "display_data"
    },
    {
     "name": "stdout",
     "output_type": "stream",
     "text": [
      "Scraping page 1 \n",
      "Scraping page 2 \n",
      "Scraping page 3 \n",
      "No more reviews\n",
      "Scraping page 4 \n",
      "No more reviews\n",
      "Scraping page 5 \n",
      "No more reviews\n",
      "\n"
     ]
    },
    {
     "data": {
      "application/vnd.jupyter.widget-view+json": {
       "model_id": "4b73bd6ead3e4d449c7bcea2466250aa",
       "version_major": 2,
       "version_minor": 0
      },
      "text/plain": [
       "HBox(children=(FloatProgress(value=0.0, max=5.0), HTML(value='')))"
      ]
     },
     "metadata": {},
     "output_type": "display_data"
    },
    {
     "name": "stdout",
     "output_type": "stream",
     "text": [
      "Scraping page 1 \n",
      "No more reviews\n",
      "Scraping page 2 \n",
      "No more reviews\n",
      "Scraping page 3 \n",
      "No more reviews\n",
      "Scraping page 4 \n",
      "No more reviews\n",
      "Scraping page 5 \n",
      "No more reviews\n",
      "\n",
      "\n"
     ]
    }
   ],
   "source": [
    "# Using forloop to scrape the data from each product url\n",
    "for url in tqdm_notebook(product_url):\n",
    "    driver.get(url)\n",
    "    time.sleep(1.5)\n",
    "    \n",
    "    # going to ratings page\n",
    "    try:driver.find_element_by_xpath(\"//*[@id='acrCustomerReviewLink']\").click()\n",
    "    except NoSuchElementException:\n",
    "        print(cl(\"No ratings available\",color='blue',attrs=['dark']))\n",
    "        pass\n",
    "\n",
    "    # Click to see all reviews of product\n",
    "    try:driver.find_element_by_xpath('//*[@id=\"reviews-medley-footer\"]/div[2]/a').click()\n",
    "    except NoSuchElementException :\n",
    "        print(cl(\"No more reviews\",color='green',attrs=['dark']))\n",
    "        pass\n",
    "        \n",
    "    time.sleep(1.5)\n",
    "    for i in tqdm_notebook(range(0,5)):\n",
    "        time.sleep(1)\n",
    "        \n",
    "        # Fetch ratings of product from each review\n",
    "        try:\n",
    "            RATINGS = driver.find_elements_by_xpath('//div[@class=\"a-section celwidget\"]/div[2]/a[1]')\n",
    "            for r in RATINGS:\n",
    "                driver.implicitly_wait(2)\n",
    "                rate=r.get_attribute('title')\n",
    "                ratings.append(rate[:3])\n",
    "        except NoSuchElementException:\n",
    "            ratings.append(\"Not Availabel\")\n",
    "\n",
    "        # fetching reviews of product        \n",
    "        try:\n",
    "            REVIEWS = driver.find_elements_by_xpath('//div[@class=\"a-section celwidget\"]/div[4]')\n",
    "            for v in REVIEWS:\n",
    "                reviews.append(v.text.replace('\\n',''))\n",
    "        except NoSuchElementException:\n",
    "            reviews.append(\"Not Availabel\")\n",
    "        \n",
    "        #Printing the page scrapped\n",
    "        print(\"Scraping page {} \".format(i+1))\n",
    "        \n",
    "        # Going to next page of reviews\n",
    "        try:driver.find_element_by_xpath('//*[@id=\"cm_cr-pagination_bar\"]/ul/li[2]/a').click()\n",
    "       \n",
    "        except NoSuchElementException:\n",
    "            print(\"No more reviews\")\n",
    "            pass\n",
    "        "
   ]
  },
  {
   "cell_type": "code",
   "execution_count": 24,
   "metadata": {},
   "outputs": [
    {
     "data": {
      "text/plain": [
       "4144"
      ]
     },
     "execution_count": 24,
     "metadata": {},
     "output_type": "execute_result"
    }
   ],
   "source": [
    "len(ratings)"
   ]
  },
  {
   "cell_type": "code",
   "execution_count": 25,
   "metadata": {},
   "outputs": [
    {
     "data": {
      "text/html": [
       "<div>\n",
       "<style scoped>\n",
       "    .dataframe tbody tr th:only-of-type {\n",
       "        vertical-align: middle;\n",
       "    }\n",
       "\n",
       "    .dataframe tbody tr th {\n",
       "        vertical-align: top;\n",
       "    }\n",
       "\n",
       "    .dataframe thead th {\n",
       "        text-align: right;\n",
       "    }\n",
       "</style>\n",
       "<table border=\"1\" class=\"dataframe\">\n",
       "  <thead>\n",
       "    <tr style=\"text-align: right;\">\n",
       "      <th></th>\n",
       "      <th>Reviews</th>\n",
       "      <th>Ratings</th>\n",
       "    </tr>\n",
       "  </thead>\n",
       "  <tbody>\n",
       "    <tr>\n",
       "      <th>0</th>\n",
       "      <td>Super For PriceWas thinking to get LG 650F but...</td>\n",
       "      <td>4.0</td>\n",
       "    </tr>\n",
       "    <tr>\n",
       "      <th>1</th>\n",
       "      <td>I was one of the first customers to buy this m...</td>\n",
       "      <td>4.0</td>\n",
       "    </tr>\n",
       "    <tr>\n",
       "      <th>2</th>\n",
       "      <td>This display has bleeding issues on all four c...</td>\n",
       "      <td>3.0</td>\n",
       "    </tr>\n",
       "    <tr>\n",
       "      <th>3</th>\n",
       "      <td>Overall a good product but there's backlight b...</td>\n",
       "      <td>4.0</td>\n",
       "    </tr>\n",
       "    <tr>\n",
       "      <th>4</th>\n",
       "      <td>Super For PriceWas thinking to get LG 650F but...</td>\n",
       "      <td>4.0</td>\n",
       "    </tr>\n",
       "    <tr>\n",
       "      <th>...</th>\n",
       "      <td>...</td>\n",
       "      <td>...</td>\n",
       "    </tr>\n",
       "    <tr>\n",
       "      <th>3995</th>\n",
       "      <td>I must say . The best monitor at this price . ...</td>\n",
       "      <td>5.0</td>\n",
       "    </tr>\n",
       "    <tr>\n",
       "      <th>3996</th>\n",
       "      <td>Best in price. Quality is ok according to price.</td>\n",
       "      <td>1.0</td>\n",
       "    </tr>\n",
       "    <tr>\n",
       "      <th>3997</th>\n",
       "      <td>Awesome and good looking</td>\n",
       "      <td>3.0</td>\n",
       "    </tr>\n",
       "    <tr>\n",
       "      <th>3998</th>\n",
       "      <td>Best monitor</td>\n",
       "      <td>5.0</td>\n",
       "    </tr>\n",
       "    <tr>\n",
       "      <th>3999</th>\n",
       "      <td>Worth the money and good quality. The stand is...</td>\n",
       "      <td>1.0</td>\n",
       "    </tr>\n",
       "  </tbody>\n",
       "</table>\n",
       "<p>4000 rows × 2 columns</p>\n",
       "</div>"
      ],
      "text/plain": [
       "                                                Reviews Ratings\n",
       "0     Super For PriceWas thinking to get LG 650F but...     4.0\n",
       "1     I was one of the first customers to buy this m...     4.0\n",
       "2     This display has bleeding issues on all four c...     3.0\n",
       "3     Overall a good product but there's backlight b...     4.0\n",
       "4     Super For PriceWas thinking to get LG 650F but...     4.0\n",
       "...                                                 ...     ...\n",
       "3995  I must say . The best monitor at this price . ...     5.0\n",
       "3996   Best in price. Quality is ok according to price.     1.0\n",
       "3997                           Awesome and good looking     3.0\n",
       "3998                                       Best monitor     5.0\n",
       "3999  Worth the money and good quality. The stand is...     1.0\n",
       "\n",
       "[4000 rows x 2 columns]"
      ]
     },
     "execution_count": 25,
     "metadata": {},
     "output_type": "execute_result"
    }
   ],
   "source": [
    "# Storing into pandas dataframe\n",
    "monitors = pd.DataFrame({\"Reviews\":reviews[:4000],\"Ratings\":ratings[:4000]})\n",
    "monitors"
   ]
  },
  {
   "cell_type": "code",
   "execution_count": 26,
   "metadata": {},
   "outputs": [],
   "source": [
    "# Saving data into csv file\n",
    "monitors.to_csv(\"monitors\")"
   ]
  },
  {
   "cell_type": "markdown",
   "metadata": {},
   "source": [
    "### Collecting data of watches"
   ]
  },
  {
   "cell_type": "code",
   "execution_count": 27,
   "metadata": {},
   "outputs": [
    {
     "data": {
      "application/vnd.jupyter.widget-view+json": {
       "model_id": "959300c344d648b89cad49619c51e539",
       "version_major": 2,
       "version_minor": 0
      },
      "text/plain": [
       "HBox(children=(FloatProgress(value=0.0, max=2.0), HTML(value='')))"
      ]
     },
     "metadata": {},
     "output_type": "display_data"
    },
    {
     "name": "stdout",
     "output_type": "stream",
     "text": [
      "\n"
     ]
    }
   ],
   "source": [
    "# CAlling webdrive\n",
    "driver = webdriver.Chrome('chromedriver.exe')\n",
    "# Sending url to open the webpage\n",
    "driver.get('https://www.amazon.in/')\n",
    "\n",
    "# Using search bar sending our input to search desired data\n",
    "driver.find_element_by_xpath(\"//input[@id='twotabsearchtextbox']\").send_keys('watches',Keys.ENTER)\n",
    "\n",
    "# Create empty list to store product url\n",
    "product_url = []\n",
    "for i in tqdm_notebook(range(0,2)):\n",
    "    URLS = driver.find_elements_by_xpath(\"//div[@class='a-section a-spacing-none']/div/h2/a\")\n",
    "    for u in URLS:\n",
    "        product_url.append(u.get_attribute(\"href\"))\n",
    "    \n",
    "    # Click the button to go to next page\n",
    "    try:driver.find_element_by_xpath(\"//*[@id='search']/div[1]/div/div[1]/div/span[3]/div[2]/div[28]/span/div/div/ul/li[7]/a\").click()\n",
    "    except NoSuchElementException:\n",
    "        pass\n",
    "# Creating empty list to store ratings and reviews\n",
    "reviews = []\n",
    "ratings = []"
   ]
  },
  {
   "cell_type": "code",
   "execution_count": 28,
   "metadata": {},
   "outputs": [
    {
     "data": {
      "application/vnd.jupyter.widget-view+json": {
       "model_id": "153e16c08ba249dfaf4a2f0c0b91d45f",
       "version_major": 2,
       "version_minor": 0
      },
      "text/plain": [
       "HBox(children=(FloatProgress(value=0.0, max=120.0), HTML(value='')))"
      ]
     },
     "metadata": {},
     "output_type": "display_data"
    },
    {
     "data": {
      "application/vnd.jupyter.widget-view+json": {
       "model_id": "9173482594a44e2da5c3ef298ca79693",
       "version_major": 2,
       "version_minor": 0
      },
      "text/plain": [
       "HBox(children=(FloatProgress(value=0.0, max=2.0), HTML(value='')))"
      ]
     },
     "metadata": {},
     "output_type": "display_data"
    },
    {
     "name": "stdout",
     "output_type": "stream",
     "text": [
      "Scraping page 1 \n",
      "Scraping page 2 \n",
      "No more reviews\n",
      "\n",
      "\u001b[2m\u001b[34mNo ratings available\u001b[0m\n",
      "\u001b[2m\u001b[32mNo more reviews\u001b[0m\n"
     ]
    },
    {
     "data": {
      "application/vnd.jupyter.widget-view+json": {
       "model_id": "68edabd22a85426ab43907004502077f",
       "version_major": 2,
       "version_minor": 0
      },
      "text/plain": [
       "HBox(children=(FloatProgress(value=0.0, max=2.0), HTML(value='')))"
      ]
     },
     "metadata": {},
     "output_type": "display_data"
    },
    {
     "name": "stdout",
     "output_type": "stream",
     "text": [
      "Scraping page 1 \n",
      "No more reviews\n",
      "Scraping page 2 \n",
      "No more reviews\n",
      "\n",
      "\u001b[2m\u001b[32mNo more reviews\u001b[0m\n"
     ]
    },
    {
     "data": {
      "application/vnd.jupyter.widget-view+json": {
       "model_id": "fb00e9f81de34914aac00885143f2560",
       "version_major": 2,
       "version_minor": 0
      },
      "text/plain": [
       "HBox(children=(FloatProgress(value=0.0, max=2.0), HTML(value='')))"
      ]
     },
     "metadata": {},
     "output_type": "display_data"
    },
    {
     "name": "stdout",
     "output_type": "stream",
     "text": [
      "Scraping page 1 \n",
      "No more reviews\n",
      "Scraping page 2 \n",
      "No more reviews\n",
      "\n",
      "\u001b[2m\u001b[32mNo more reviews\u001b[0m\n"
     ]
    },
    {
     "data": {
      "application/vnd.jupyter.widget-view+json": {
       "model_id": "90c235b04c7e4ed7beae8a46d6b497e5",
       "version_major": 2,
       "version_minor": 0
      },
      "text/plain": [
       "HBox(children=(FloatProgress(value=0.0, max=2.0), HTML(value='')))"
      ]
     },
     "metadata": {},
     "output_type": "display_data"
    },
    {
     "name": "stdout",
     "output_type": "stream",
     "text": [
      "Scraping page 1 \n",
      "No more reviews\n",
      "Scraping page 2 \n",
      "No more reviews\n",
      "\n"
     ]
    },
    {
     "data": {
      "application/vnd.jupyter.widget-view+json": {
       "model_id": "a35e5592ffc84553a55f0a0bf017f82a",
       "version_major": 2,
       "version_minor": 0
      },
      "text/plain": [
       "HBox(children=(FloatProgress(value=0.0, max=2.0), HTML(value='')))"
      ]
     },
     "metadata": {},
     "output_type": "display_data"
    },
    {
     "name": "stdout",
     "output_type": "stream",
     "text": [
      "Scraping page 1 \n",
      "Scraping page 2 \n",
      "\n"
     ]
    },
    {
     "data": {
      "application/vnd.jupyter.widget-view+json": {
       "model_id": "da2347e5217c474897f50ab16fd4c776",
       "version_major": 2,
       "version_minor": 0
      },
      "text/plain": [
       "HBox(children=(FloatProgress(value=0.0, max=2.0), HTML(value='')))"
      ]
     },
     "metadata": {},
     "output_type": "display_data"
    },
    {
     "name": "stdout",
     "output_type": "stream",
     "text": [
      "Scraping page 1 \n",
      "Scraping page 2 \n",
      "\n"
     ]
    },
    {
     "data": {
      "application/vnd.jupyter.widget-view+json": {
       "model_id": "8f0958dff55c47cc8b2a7f28b7999d5d",
       "version_major": 2,
       "version_minor": 0
      },
      "text/plain": [
       "HBox(children=(FloatProgress(value=0.0, max=2.0), HTML(value='')))"
      ]
     },
     "metadata": {},
     "output_type": "display_data"
    },
    {
     "name": "stdout",
     "output_type": "stream",
     "text": [
      "Scraping page 1 \n",
      "Scraping page 2 \n",
      "\n"
     ]
    },
    {
     "data": {
      "application/vnd.jupyter.widget-view+json": {
       "model_id": "49b0bd255e3a4d8789b1da0e55664c4d",
       "version_major": 2,
       "version_minor": 0
      },
      "text/plain": [
       "HBox(children=(FloatProgress(value=0.0, max=2.0), HTML(value='')))"
      ]
     },
     "metadata": {},
     "output_type": "display_data"
    },
    {
     "name": "stdout",
     "output_type": "stream",
     "text": [
      "Scraping page 1 \n",
      "Scraping page 2 \n",
      "\n"
     ]
    },
    {
     "data": {
      "application/vnd.jupyter.widget-view+json": {
       "model_id": "a7700a00129b47888ca007f20c8c6fe2",
       "version_major": 2,
       "version_minor": 0
      },
      "text/plain": [
       "HBox(children=(FloatProgress(value=0.0, max=2.0), HTML(value='')))"
      ]
     },
     "metadata": {},
     "output_type": "display_data"
    },
    {
     "name": "stdout",
     "output_type": "stream",
     "text": [
      "Scraping page 1 \n",
      "Scraping page 2 \n",
      "\n"
     ]
    },
    {
     "data": {
      "application/vnd.jupyter.widget-view+json": {
       "model_id": "9743b003146547a8973232b30ef27087",
       "version_major": 2,
       "version_minor": 0
      },
      "text/plain": [
       "HBox(children=(FloatProgress(value=0.0, max=2.0), HTML(value='')))"
      ]
     },
     "metadata": {},
     "output_type": "display_data"
    },
    {
     "name": "stdout",
     "output_type": "stream",
     "text": [
      "Scraping page 1 \n",
      "Scraping page 2 \n",
      "\n"
     ]
    },
    {
     "data": {
      "application/vnd.jupyter.widget-view+json": {
       "model_id": "09b0840417c64c1eb11c58b91ec2747d",
       "version_major": 2,
       "version_minor": 0
      },
      "text/plain": [
       "HBox(children=(FloatProgress(value=0.0, max=2.0), HTML(value='')))"
      ]
     },
     "metadata": {},
     "output_type": "display_data"
    },
    {
     "name": "stdout",
     "output_type": "stream",
     "text": [
      "Scraping page 1 \n",
      "Scraping page 2 \n",
      "\n"
     ]
    },
    {
     "data": {
      "application/vnd.jupyter.widget-view+json": {
       "model_id": "50fd9b7ead7e462f8a954fb925442fc5",
       "version_major": 2,
       "version_minor": 0
      },
      "text/plain": [
       "HBox(children=(FloatProgress(value=0.0, max=2.0), HTML(value='')))"
      ]
     },
     "metadata": {},
     "output_type": "display_data"
    },
    {
     "name": "stdout",
     "output_type": "stream",
     "text": [
      "Scraping page 1 \n",
      "Scraping page 2 \n",
      "\n"
     ]
    },
    {
     "data": {
      "application/vnd.jupyter.widget-view+json": {
       "model_id": "cb6124dc9557434eac85450f26426a5d",
       "version_major": 2,
       "version_minor": 0
      },
      "text/plain": [
       "HBox(children=(FloatProgress(value=0.0, max=2.0), HTML(value='')))"
      ]
     },
     "metadata": {},
     "output_type": "display_data"
    },
    {
     "name": "stdout",
     "output_type": "stream",
     "text": [
      "Scraping page 1 \n",
      "Scraping page 2 \n",
      "\n"
     ]
    },
    {
     "data": {
      "application/vnd.jupyter.widget-view+json": {
       "model_id": "e4628eae8ab74505bca95821f6e7be47",
       "version_major": 2,
       "version_minor": 0
      },
      "text/plain": [
       "HBox(children=(FloatProgress(value=0.0, max=2.0), HTML(value='')))"
      ]
     },
     "metadata": {},
     "output_type": "display_data"
    },
    {
     "name": "stdout",
     "output_type": "stream",
     "text": [
      "Scraping page 1 \n",
      "No more reviews\n",
      "Scraping page 2 \n",
      "No more reviews\n",
      "\n"
     ]
    },
    {
     "data": {
      "application/vnd.jupyter.widget-view+json": {
       "model_id": "3a9aa0bbd0364475a8ca74e58d52ba1c",
       "version_major": 2,
       "version_minor": 0
      },
      "text/plain": [
       "HBox(children=(FloatProgress(value=0.0, max=2.0), HTML(value='')))"
      ]
     },
     "metadata": {},
     "output_type": "display_data"
    },
    {
     "name": "stdout",
     "output_type": "stream",
     "text": [
      "Scraping page 1 \n",
      "Scraping page 2 \n",
      "\n"
     ]
    },
    {
     "data": {
      "application/vnd.jupyter.widget-view+json": {
       "model_id": "9b8375f16a2744e8b959c78e3915180b",
       "version_major": 2,
       "version_minor": 0
      },
      "text/plain": [
       "HBox(children=(FloatProgress(value=0.0, max=2.0), HTML(value='')))"
      ]
     },
     "metadata": {},
     "output_type": "display_data"
    },
    {
     "name": "stdout",
     "output_type": "stream",
     "text": [
      "Scraping page 1 \n",
      "Scraping page 2 \n",
      "\n"
     ]
    },
    {
     "data": {
      "application/vnd.jupyter.widget-view+json": {
       "model_id": "bf3d10320eed4a5eb29ac667daf7e0a6",
       "version_major": 2,
       "version_minor": 0
      },
      "text/plain": [
       "HBox(children=(FloatProgress(value=0.0, max=2.0), HTML(value='')))"
      ]
     },
     "metadata": {},
     "output_type": "display_data"
    },
    {
     "name": "stdout",
     "output_type": "stream",
     "text": [
      "Scraping page 1 \n",
      "Scraping page 2 \n",
      "\n"
     ]
    },
    {
     "data": {
      "application/vnd.jupyter.widget-view+json": {
       "model_id": "ec0bf1f4486c47a69d2c856ad1a129bf",
       "version_major": 2,
       "version_minor": 0
      },
      "text/plain": [
       "HBox(children=(FloatProgress(value=0.0, max=2.0), HTML(value='')))"
      ]
     },
     "metadata": {},
     "output_type": "display_data"
    },
    {
     "name": "stdout",
     "output_type": "stream",
     "text": [
      "Scraping page 1 \n",
      "Scraping page 2 \n",
      "\n"
     ]
    },
    {
     "data": {
      "application/vnd.jupyter.widget-view+json": {
       "model_id": "8d1faefaf6c14f659abf831f916758e7",
       "version_major": 2,
       "version_minor": 0
      },
      "text/plain": [
       "HBox(children=(FloatProgress(value=0.0, max=2.0), HTML(value='')))"
      ]
     },
     "metadata": {},
     "output_type": "display_data"
    },
    {
     "name": "stdout",
     "output_type": "stream",
     "text": [
      "Scraping page 1 \n",
      "Scraping page 2 \n",
      "\n"
     ]
    },
    {
     "data": {
      "application/vnd.jupyter.widget-view+json": {
       "model_id": "65f6c89fdc184445822efe5f74b48933",
       "version_major": 2,
       "version_minor": 0
      },
      "text/plain": [
       "HBox(children=(FloatProgress(value=0.0, max=2.0), HTML(value='')))"
      ]
     },
     "metadata": {},
     "output_type": "display_data"
    },
    {
     "name": "stdout",
     "output_type": "stream",
     "text": [
      "Scraping page 1 \n",
      "Scraping page 2 \n",
      "\n",
      "\u001b[2m\u001b[32mNo more reviews\u001b[0m\n"
     ]
    },
    {
     "data": {
      "application/vnd.jupyter.widget-view+json": {
       "model_id": "36e09175c6c2430d8b82680981b46d67",
       "version_major": 2,
       "version_minor": 0
      },
      "text/plain": [
       "HBox(children=(FloatProgress(value=0.0, max=2.0), HTML(value='')))"
      ]
     },
     "metadata": {},
     "output_type": "display_data"
    },
    {
     "name": "stdout",
     "output_type": "stream",
     "text": [
      "Scraping page 1 \n",
      "No more reviews\n",
      "Scraping page 2 \n",
      "No more reviews\n",
      "\n"
     ]
    },
    {
     "data": {
      "application/vnd.jupyter.widget-view+json": {
       "model_id": "e01d61338772436e9e19c12de6a50257",
       "version_major": 2,
       "version_minor": 0
      },
      "text/plain": [
       "HBox(children=(FloatProgress(value=0.0, max=2.0), HTML(value='')))"
      ]
     },
     "metadata": {},
     "output_type": "display_data"
    },
    {
     "name": "stdout",
     "output_type": "stream",
     "text": [
      "Scraping page 1 \n",
      "Scraping page 2 \n",
      "\n"
     ]
    },
    {
     "data": {
      "application/vnd.jupyter.widget-view+json": {
       "model_id": "fd714297e4164a56a52b6361982df3a9",
       "version_major": 2,
       "version_minor": 0
      },
      "text/plain": [
       "HBox(children=(FloatProgress(value=0.0, max=2.0), HTML(value='')))"
      ]
     },
     "metadata": {},
     "output_type": "display_data"
    },
    {
     "name": "stdout",
     "output_type": "stream",
     "text": [
      "Scraping page 1 \n",
      "Scraping page 2 \n",
      "\n",
      "\u001b[2m\u001b[32mNo more reviews\u001b[0m\n"
     ]
    },
    {
     "data": {
      "application/vnd.jupyter.widget-view+json": {
       "model_id": "9808891bcb244d31bf06074bb38e5a8a",
       "version_major": 2,
       "version_minor": 0
      },
      "text/plain": [
       "HBox(children=(FloatProgress(value=0.0, max=2.0), HTML(value='')))"
      ]
     },
     "metadata": {},
     "output_type": "display_data"
    },
    {
     "name": "stdout",
     "output_type": "stream",
     "text": [
      "Scraping page 1 \n",
      "No more reviews\n",
      "Scraping page 2 \n",
      "No more reviews\n",
      "\n"
     ]
    },
    {
     "data": {
      "application/vnd.jupyter.widget-view+json": {
       "model_id": "8f7e2448b9b745a68afaca4a44e96bdb",
       "version_major": 2,
       "version_minor": 0
      },
      "text/plain": [
       "HBox(children=(FloatProgress(value=0.0, max=2.0), HTML(value='')))"
      ]
     },
     "metadata": {},
     "output_type": "display_data"
    },
    {
     "name": "stdout",
     "output_type": "stream",
     "text": [
      "Scraping page 1 \n",
      "Scraping page 2 \n",
      "No more reviews\n",
      "\n"
     ]
    },
    {
     "data": {
      "application/vnd.jupyter.widget-view+json": {
       "model_id": "6091c3c9724748db82e2f0f91bc0df4a",
       "version_major": 2,
       "version_minor": 0
      },
      "text/plain": [
       "HBox(children=(FloatProgress(value=0.0, max=2.0), HTML(value='')))"
      ]
     },
     "metadata": {},
     "output_type": "display_data"
    },
    {
     "name": "stdout",
     "output_type": "stream",
     "text": [
      "Scraping page 1 \n",
      "Scraping page 2 \n",
      "\n"
     ]
    },
    {
     "data": {
      "application/vnd.jupyter.widget-view+json": {
       "model_id": "42f041ad97d24d03b7b7118243655cf1",
       "version_major": 2,
       "version_minor": 0
      },
      "text/plain": [
       "HBox(children=(FloatProgress(value=0.0, max=2.0), HTML(value='')))"
      ]
     },
     "metadata": {},
     "output_type": "display_data"
    },
    {
     "name": "stdout",
     "output_type": "stream",
     "text": [
      "Scraping page 1 \n",
      "Scraping page 2 \n",
      "\n"
     ]
    },
    {
     "data": {
      "application/vnd.jupyter.widget-view+json": {
       "model_id": "a11e609ee05a4ac1abad2cc53e1caf17",
       "version_major": 2,
       "version_minor": 0
      },
      "text/plain": [
       "HBox(children=(FloatProgress(value=0.0, max=2.0), HTML(value='')))"
      ]
     },
     "metadata": {},
     "output_type": "display_data"
    },
    {
     "name": "stdout",
     "output_type": "stream",
     "text": [
      "Scraping page 1 \n",
      "Scraping page 2 \n",
      "\n"
     ]
    },
    {
     "data": {
      "application/vnd.jupyter.widget-view+json": {
       "model_id": "a856afbf60dd431fac48bebe95f61b42",
       "version_major": 2,
       "version_minor": 0
      },
      "text/plain": [
       "HBox(children=(FloatProgress(value=0.0, max=2.0), HTML(value='')))"
      ]
     },
     "metadata": {},
     "output_type": "display_data"
    },
    {
     "name": "stdout",
     "output_type": "stream",
     "text": [
      "Scraping page 1 \n",
      "Scraping page 2 \n",
      "\n"
     ]
    },
    {
     "data": {
      "application/vnd.jupyter.widget-view+json": {
       "model_id": "8bf3e00a1143489da1ea86f801c805c2",
       "version_major": 2,
       "version_minor": 0
      },
      "text/plain": [
       "HBox(children=(FloatProgress(value=0.0, max=2.0), HTML(value='')))"
      ]
     },
     "metadata": {},
     "output_type": "display_data"
    },
    {
     "name": "stdout",
     "output_type": "stream",
     "text": [
      "Scraping page 1 \n",
      "No more reviews\n",
      "Scraping page 2 \n",
      "No more reviews\n",
      "\n"
     ]
    },
    {
     "data": {
      "application/vnd.jupyter.widget-view+json": {
       "model_id": "649f031927bb4287a4eaa083d27d765d",
       "version_major": 2,
       "version_minor": 0
      },
      "text/plain": [
       "HBox(children=(FloatProgress(value=0.0, max=2.0), HTML(value='')))"
      ]
     },
     "metadata": {},
     "output_type": "display_data"
    },
    {
     "name": "stdout",
     "output_type": "stream",
     "text": [
      "Scraping page 1 \n",
      "Scraping page 2 \n",
      "\n"
     ]
    },
    {
     "data": {
      "application/vnd.jupyter.widget-view+json": {
       "model_id": "d247ac5e981b43f3955ea1e049385389",
       "version_major": 2,
       "version_minor": 0
      },
      "text/plain": [
       "HBox(children=(FloatProgress(value=0.0, max=2.0), HTML(value='')))"
      ]
     },
     "metadata": {},
     "output_type": "display_data"
    },
    {
     "name": "stdout",
     "output_type": "stream",
     "text": [
      "Scraping page 1 \n",
      "Scraping page 2 \n",
      "\n"
     ]
    },
    {
     "data": {
      "application/vnd.jupyter.widget-view+json": {
       "model_id": "e16cb878cc924affa3de34497e2117c3",
       "version_major": 2,
       "version_minor": 0
      },
      "text/plain": [
       "HBox(children=(FloatProgress(value=0.0, max=2.0), HTML(value='')))"
      ]
     },
     "metadata": {},
     "output_type": "display_data"
    },
    {
     "name": "stdout",
     "output_type": "stream",
     "text": [
      "Scraping page 1 \n",
      "Scraping page 2 \n",
      "\n"
     ]
    },
    {
     "data": {
      "application/vnd.jupyter.widget-view+json": {
       "model_id": "8cf6c32a29244fa9a96003efc9c4945f",
       "version_major": 2,
       "version_minor": 0
      },
      "text/plain": [
       "HBox(children=(FloatProgress(value=0.0, max=2.0), HTML(value='')))"
      ]
     },
     "metadata": {},
     "output_type": "display_data"
    },
    {
     "name": "stdout",
     "output_type": "stream",
     "text": [
      "Scraping page 1 \n",
      "Scraping page 2 \n",
      "\n"
     ]
    },
    {
     "data": {
      "application/vnd.jupyter.widget-view+json": {
       "model_id": "5bf5166ed4b049a1b1ac08bfe7e33dfd",
       "version_major": 2,
       "version_minor": 0
      },
      "text/plain": [
       "HBox(children=(FloatProgress(value=0.0, max=2.0), HTML(value='')))"
      ]
     },
     "metadata": {},
     "output_type": "display_data"
    },
    {
     "name": "stdout",
     "output_type": "stream",
     "text": [
      "Scraping page 1 \n",
      "No more reviews\n",
      "Scraping page 2 \n",
      "No more reviews\n",
      "\n",
      "\u001b[2m\u001b[34mNo ratings available\u001b[0m\n",
      "\u001b[2m\u001b[32mNo more reviews\u001b[0m\n"
     ]
    },
    {
     "data": {
      "application/vnd.jupyter.widget-view+json": {
       "model_id": "67ca7c38e35f47ceb7cb55d3feb66756",
       "version_major": 2,
       "version_minor": 0
      },
      "text/plain": [
       "HBox(children=(FloatProgress(value=0.0, max=2.0), HTML(value='')))"
      ]
     },
     "metadata": {},
     "output_type": "display_data"
    },
    {
     "name": "stdout",
     "output_type": "stream",
     "text": [
      "Scraping page 1 \n",
      "No more reviews\n",
      "Scraping page 2 \n",
      "No more reviews\n",
      "\n"
     ]
    },
    {
     "data": {
      "application/vnd.jupyter.widget-view+json": {
       "model_id": "5a2a9bc928134494b083dfa7695c2164",
       "version_major": 2,
       "version_minor": 0
      },
      "text/plain": [
       "HBox(children=(FloatProgress(value=0.0, max=2.0), HTML(value='')))"
      ]
     },
     "metadata": {},
     "output_type": "display_data"
    },
    {
     "name": "stdout",
     "output_type": "stream",
     "text": [
      "Scraping page 1 \n",
      "Scraping page 2 \n",
      "\n"
     ]
    },
    {
     "data": {
      "application/vnd.jupyter.widget-view+json": {
       "model_id": "de486a1ff9a0406ab33683a446c73436",
       "version_major": 2,
       "version_minor": 0
      },
      "text/plain": [
       "HBox(children=(FloatProgress(value=0.0, max=2.0), HTML(value='')))"
      ]
     },
     "metadata": {},
     "output_type": "display_data"
    },
    {
     "name": "stdout",
     "output_type": "stream",
     "text": [
      "Scraping page 1 \n",
      "Scraping page 2 \n",
      "No more reviews\n",
      "\n"
     ]
    },
    {
     "data": {
      "application/vnd.jupyter.widget-view+json": {
       "model_id": "6441df1b1b184b64bccac8ac53885707",
       "version_major": 2,
       "version_minor": 0
      },
      "text/plain": [
       "HBox(children=(FloatProgress(value=0.0, max=2.0), HTML(value='')))"
      ]
     },
     "metadata": {},
     "output_type": "display_data"
    },
    {
     "name": "stdout",
     "output_type": "stream",
     "text": [
      "Scraping page 1 \n",
      "Scraping page 2 \n",
      "\n"
     ]
    },
    {
     "data": {
      "application/vnd.jupyter.widget-view+json": {
       "model_id": "00d1e15c3a72450b8845c26df50a396f",
       "version_major": 2,
       "version_minor": 0
      },
      "text/plain": [
       "HBox(children=(FloatProgress(value=0.0, max=2.0), HTML(value='')))"
      ]
     },
     "metadata": {},
     "output_type": "display_data"
    },
    {
     "name": "stdout",
     "output_type": "stream",
     "text": [
      "Scraping page 1 \n",
      "Scraping page 2 \n",
      "\n"
     ]
    },
    {
     "data": {
      "application/vnd.jupyter.widget-view+json": {
       "model_id": "7d926ff97d784f3aac9b917883b25c65",
       "version_major": 2,
       "version_minor": 0
      },
      "text/plain": [
       "HBox(children=(FloatProgress(value=0.0, max=2.0), HTML(value='')))"
      ]
     },
     "metadata": {},
     "output_type": "display_data"
    },
    {
     "name": "stdout",
     "output_type": "stream",
     "text": [
      "Scraping page 1 \n",
      "Scraping page 2 \n",
      "\n"
     ]
    },
    {
     "data": {
      "application/vnd.jupyter.widget-view+json": {
       "model_id": "5b0c8703348947818a35b809433c68c6",
       "version_major": 2,
       "version_minor": 0
      },
      "text/plain": [
       "HBox(children=(FloatProgress(value=0.0, max=2.0), HTML(value='')))"
      ]
     },
     "metadata": {},
     "output_type": "display_data"
    },
    {
     "name": "stdout",
     "output_type": "stream",
     "text": [
      "Scraping page 1 \n",
      "Scraping page 2 \n",
      "\n"
     ]
    },
    {
     "data": {
      "application/vnd.jupyter.widget-view+json": {
       "model_id": "402c71f69d1747ce9c47779ef36aaf19",
       "version_major": 2,
       "version_minor": 0
      },
      "text/plain": [
       "HBox(children=(FloatProgress(value=0.0, max=2.0), HTML(value='')))"
      ]
     },
     "metadata": {},
     "output_type": "display_data"
    },
    {
     "name": "stdout",
     "output_type": "stream",
     "text": [
      "Scraping page 1 \n",
      "Scraping page 2 \n",
      "\n"
     ]
    },
    {
     "data": {
      "application/vnd.jupyter.widget-view+json": {
       "model_id": "88242091c72b447183c96824c04bf93b",
       "version_major": 2,
       "version_minor": 0
      },
      "text/plain": [
       "HBox(children=(FloatProgress(value=0.0, max=2.0), HTML(value='')))"
      ]
     },
     "metadata": {},
     "output_type": "display_data"
    },
    {
     "name": "stdout",
     "output_type": "stream",
     "text": [
      "Scraping page 1 \n",
      "Scraping page 2 \n",
      "\n"
     ]
    },
    {
     "data": {
      "application/vnd.jupyter.widget-view+json": {
       "model_id": "2c527aa980ce4de393b1a8c008a70a7b",
       "version_major": 2,
       "version_minor": 0
      },
      "text/plain": [
       "HBox(children=(FloatProgress(value=0.0, max=2.0), HTML(value='')))"
      ]
     },
     "metadata": {},
     "output_type": "display_data"
    },
    {
     "name": "stdout",
     "output_type": "stream",
     "text": [
      "Scraping page 1 \n",
      "Scraping page 2 \n",
      "\n"
     ]
    },
    {
     "data": {
      "application/vnd.jupyter.widget-view+json": {
       "model_id": "d52ed62df07c4f69a8ee66365369f92e",
       "version_major": 2,
       "version_minor": 0
      },
      "text/plain": [
       "HBox(children=(FloatProgress(value=0.0, max=2.0), HTML(value='')))"
      ]
     },
     "metadata": {},
     "output_type": "display_data"
    },
    {
     "name": "stdout",
     "output_type": "stream",
     "text": [
      "Scraping page 1 \n",
      "Scraping page 2 \n",
      "\n"
     ]
    },
    {
     "data": {
      "application/vnd.jupyter.widget-view+json": {
       "model_id": "b347cdf566ee476ebd36cde48f424a53",
       "version_major": 2,
       "version_minor": 0
      },
      "text/plain": [
       "HBox(children=(FloatProgress(value=0.0, max=2.0), HTML(value='')))"
      ]
     },
     "metadata": {},
     "output_type": "display_data"
    },
    {
     "name": "stdout",
     "output_type": "stream",
     "text": [
      "Scraping page 1 \n",
      "Scraping page 2 \n",
      "\n"
     ]
    },
    {
     "data": {
      "application/vnd.jupyter.widget-view+json": {
       "model_id": "afea08aca0cd4e629879dbc4a591d67b",
       "version_major": 2,
       "version_minor": 0
      },
      "text/plain": [
       "HBox(children=(FloatProgress(value=0.0, max=2.0), HTML(value='')))"
      ]
     },
     "metadata": {},
     "output_type": "display_data"
    },
    {
     "name": "stdout",
     "output_type": "stream",
     "text": [
      "Scraping page 1 \n",
      "Scraping page 2 \n",
      "\n"
     ]
    },
    {
     "data": {
      "application/vnd.jupyter.widget-view+json": {
       "model_id": "1face91236544308bdacad4a7febe96d",
       "version_major": 2,
       "version_minor": 0
      },
      "text/plain": [
       "HBox(children=(FloatProgress(value=0.0, max=2.0), HTML(value='')))"
      ]
     },
     "metadata": {},
     "output_type": "display_data"
    },
    {
     "name": "stdout",
     "output_type": "stream",
     "text": [
      "Scraping page 1 \n",
      "No more reviews\n",
      "Scraping page 2 \n",
      "No more reviews\n",
      "\n"
     ]
    },
    {
     "data": {
      "application/vnd.jupyter.widget-view+json": {
       "model_id": "13f0c984ed9a462886f450e81445fe49",
       "version_major": 2,
       "version_minor": 0
      },
      "text/plain": [
       "HBox(children=(FloatProgress(value=0.0, max=2.0), HTML(value='')))"
      ]
     },
     "metadata": {},
     "output_type": "display_data"
    },
    {
     "name": "stdout",
     "output_type": "stream",
     "text": [
      "Scraping page 1 \n",
      "Scraping page 2 \n",
      "\n"
     ]
    },
    {
     "data": {
      "application/vnd.jupyter.widget-view+json": {
       "model_id": "7f5319e041804a69be8e0f11727cbebf",
       "version_major": 2,
       "version_minor": 0
      },
      "text/plain": [
       "HBox(children=(FloatProgress(value=0.0, max=2.0), HTML(value='')))"
      ]
     },
     "metadata": {},
     "output_type": "display_data"
    },
    {
     "name": "stdout",
     "output_type": "stream",
     "text": [
      "Scraping page 1 \n",
      "Scraping page 2 \n",
      "\n"
     ]
    },
    {
     "data": {
      "application/vnd.jupyter.widget-view+json": {
       "model_id": "983296bc2de94b99805b31afb2807a4a",
       "version_major": 2,
       "version_minor": 0
      },
      "text/plain": [
       "HBox(children=(FloatProgress(value=0.0, max=2.0), HTML(value='')))"
      ]
     },
     "metadata": {},
     "output_type": "display_data"
    },
    {
     "name": "stdout",
     "output_type": "stream",
     "text": [
      "Scraping page 1 \n",
      "Scraping page 2 \n",
      "\n"
     ]
    },
    {
     "data": {
      "application/vnd.jupyter.widget-view+json": {
       "model_id": "d11e38435660477b97661f5bc3cf39c1",
       "version_major": 2,
       "version_minor": 0
      },
      "text/plain": [
       "HBox(children=(FloatProgress(value=0.0, max=2.0), HTML(value='')))"
      ]
     },
     "metadata": {},
     "output_type": "display_data"
    },
    {
     "name": "stdout",
     "output_type": "stream",
     "text": [
      "Scraping page 1 \n",
      "Scraping page 2 \n",
      "\n"
     ]
    },
    {
     "data": {
      "application/vnd.jupyter.widget-view+json": {
       "model_id": "a10a3d5128604ec7ac012fb761bb35e2",
       "version_major": 2,
       "version_minor": 0
      },
      "text/plain": [
       "HBox(children=(FloatProgress(value=0.0, max=2.0), HTML(value='')))"
      ]
     },
     "metadata": {},
     "output_type": "display_data"
    },
    {
     "name": "stdout",
     "output_type": "stream",
     "text": [
      "Scraping page 1 \n",
      "Scraping page 2 \n",
      "\n"
     ]
    },
    {
     "data": {
      "application/vnd.jupyter.widget-view+json": {
       "model_id": "9ad6314fb76f4e979c875538b78a9ddf",
       "version_major": 2,
       "version_minor": 0
      },
      "text/plain": [
       "HBox(children=(FloatProgress(value=0.0, max=2.0), HTML(value='')))"
      ]
     },
     "metadata": {},
     "output_type": "display_data"
    },
    {
     "name": "stdout",
     "output_type": "stream",
     "text": [
      "Scraping page 1 \n",
      "Scraping page 2 \n",
      "\n"
     ]
    },
    {
     "data": {
      "application/vnd.jupyter.widget-view+json": {
       "model_id": "e7891c1cf7574487bd9abb19bb029d53",
       "version_major": 2,
       "version_minor": 0
      },
      "text/plain": [
       "HBox(children=(FloatProgress(value=0.0, max=2.0), HTML(value='')))"
      ]
     },
     "metadata": {},
     "output_type": "display_data"
    },
    {
     "name": "stdout",
     "output_type": "stream",
     "text": [
      "Scraping page 1 \n",
      "Scraping page 2 \n",
      "\n",
      "\u001b[2m\u001b[32mNo more reviews\u001b[0m\n"
     ]
    },
    {
     "data": {
      "application/vnd.jupyter.widget-view+json": {
       "model_id": "d10ebc26bc574ea085859c580d8b0455",
       "version_major": 2,
       "version_minor": 0
      },
      "text/plain": [
       "HBox(children=(FloatProgress(value=0.0, max=2.0), HTML(value='')))"
      ]
     },
     "metadata": {},
     "output_type": "display_data"
    },
    {
     "name": "stdout",
     "output_type": "stream",
     "text": [
      "Scraping page 1 \n",
      "No more reviews\n",
      "Scraping page 2 \n",
      "No more reviews\n",
      "\n",
      "\u001b[2m\u001b[32mNo more reviews\u001b[0m\n"
     ]
    },
    {
     "data": {
      "application/vnd.jupyter.widget-view+json": {
       "model_id": "ac538eb1511944d780dada07299b45a4",
       "version_major": 2,
       "version_minor": 0
      },
      "text/plain": [
       "HBox(children=(FloatProgress(value=0.0, max=2.0), HTML(value='')))"
      ]
     },
     "metadata": {},
     "output_type": "display_data"
    },
    {
     "name": "stdout",
     "output_type": "stream",
     "text": [
      "Scraping page 1 \n",
      "No more reviews\n",
      "Scraping page 2 \n",
      "No more reviews\n",
      "\n",
      "\u001b[2m\u001b[34mNo ratings available\u001b[0m\n",
      "\u001b[2m\u001b[32mNo more reviews\u001b[0m\n"
     ]
    },
    {
     "data": {
      "application/vnd.jupyter.widget-view+json": {
       "model_id": "e64e6a64e7b0472a80baa8684da89d8f",
       "version_major": 2,
       "version_minor": 0
      },
      "text/plain": [
       "HBox(children=(FloatProgress(value=0.0, max=2.0), HTML(value='')))"
      ]
     },
     "metadata": {},
     "output_type": "display_data"
    },
    {
     "name": "stdout",
     "output_type": "stream",
     "text": [
      "Scraping page 1 \n",
      "No more reviews\n",
      "Scraping page 2 \n",
      "No more reviews\n",
      "\n"
     ]
    },
    {
     "data": {
      "application/vnd.jupyter.widget-view+json": {
       "model_id": "0acf61faf2e64f58932c4dd65f4deabc",
       "version_major": 2,
       "version_minor": 0
      },
      "text/plain": [
       "HBox(children=(FloatProgress(value=0.0, max=2.0), HTML(value='')))"
      ]
     },
     "metadata": {},
     "output_type": "display_data"
    },
    {
     "name": "stdout",
     "output_type": "stream",
     "text": [
      "Scraping page 1 \n",
      "Scraping page 2 \n",
      "\n"
     ]
    },
    {
     "data": {
      "application/vnd.jupyter.widget-view+json": {
       "model_id": "80f87862b739452c80b5281ca9d032ef",
       "version_major": 2,
       "version_minor": 0
      },
      "text/plain": [
       "HBox(children=(FloatProgress(value=0.0, max=2.0), HTML(value='')))"
      ]
     },
     "metadata": {},
     "output_type": "display_data"
    },
    {
     "name": "stdout",
     "output_type": "stream",
     "text": [
      "Scraping page 1 \n",
      "Scraping page 2 \n",
      "No more reviews\n",
      "\n",
      "\u001b[2m\u001b[34mNo ratings available\u001b[0m\n",
      "\u001b[2m\u001b[32mNo more reviews\u001b[0m\n"
     ]
    },
    {
     "data": {
      "application/vnd.jupyter.widget-view+json": {
       "model_id": "d12fa6486a60416c8292b2121a4de1e2",
       "version_major": 2,
       "version_minor": 0
      },
      "text/plain": [
       "HBox(children=(FloatProgress(value=0.0, max=2.0), HTML(value='')))"
      ]
     },
     "metadata": {},
     "output_type": "display_data"
    },
    {
     "name": "stdout",
     "output_type": "stream",
     "text": [
      "Scraping page 1 \n",
      "No more reviews\n",
      "Scraping page 2 \n",
      "No more reviews\n",
      "\n",
      "\u001b[2m\u001b[32mNo more reviews\u001b[0m\n"
     ]
    },
    {
     "data": {
      "application/vnd.jupyter.widget-view+json": {
       "model_id": "2b1906b3cbf947d5bfff9ba2eafa6734",
       "version_major": 2,
       "version_minor": 0
      },
      "text/plain": [
       "HBox(children=(FloatProgress(value=0.0, max=2.0), HTML(value='')))"
      ]
     },
     "metadata": {},
     "output_type": "display_data"
    },
    {
     "name": "stdout",
     "output_type": "stream",
     "text": [
      "Scraping page 1 \n",
      "No more reviews\n",
      "Scraping page 2 \n",
      "No more reviews\n",
      "\n",
      "\u001b[2m\u001b[32mNo more reviews\u001b[0m\n"
     ]
    },
    {
     "data": {
      "application/vnd.jupyter.widget-view+json": {
       "model_id": "712384beb1c4422d8e6ab122402a3851",
       "version_major": 2,
       "version_minor": 0
      },
      "text/plain": [
       "HBox(children=(FloatProgress(value=0.0, max=2.0), HTML(value='')))"
      ]
     },
     "metadata": {},
     "output_type": "display_data"
    },
    {
     "name": "stdout",
     "output_type": "stream",
     "text": [
      "Scraping page 1 \n",
      "No more reviews\n",
      "Scraping page 2 \n",
      "No more reviews\n",
      "\n"
     ]
    },
    {
     "data": {
      "application/vnd.jupyter.widget-view+json": {
       "model_id": "d7f594de978948deabf2918c523c3af5",
       "version_major": 2,
       "version_minor": 0
      },
      "text/plain": [
       "HBox(children=(FloatProgress(value=0.0, max=2.0), HTML(value='')))"
      ]
     },
     "metadata": {},
     "output_type": "display_data"
    },
    {
     "name": "stdout",
     "output_type": "stream",
     "text": [
      "Scraping page 1 \n",
      "Scraping page 2 \n",
      "\n"
     ]
    },
    {
     "data": {
      "application/vnd.jupyter.widget-view+json": {
       "model_id": "2c0a2d9446b44e958acd7139b1f6305a",
       "version_major": 2,
       "version_minor": 0
      },
      "text/plain": [
       "HBox(children=(FloatProgress(value=0.0, max=2.0), HTML(value='')))"
      ]
     },
     "metadata": {},
     "output_type": "display_data"
    },
    {
     "name": "stdout",
     "output_type": "stream",
     "text": [
      "Scraping page 1 \n",
      "Scraping page 2 \n",
      "\n"
     ]
    },
    {
     "data": {
      "application/vnd.jupyter.widget-view+json": {
       "model_id": "000c70890ec3405a954a0713a31ab751",
       "version_major": 2,
       "version_minor": 0
      },
      "text/plain": [
       "HBox(children=(FloatProgress(value=0.0, max=2.0), HTML(value='')))"
      ]
     },
     "metadata": {},
     "output_type": "display_data"
    },
    {
     "name": "stdout",
     "output_type": "stream",
     "text": [
      "Scraping page 1 \n",
      "Scraping page 2 \n",
      "\n"
     ]
    },
    {
     "data": {
      "application/vnd.jupyter.widget-view+json": {
       "model_id": "a39250c36cc9438b978f40b7168347ec",
       "version_major": 2,
       "version_minor": 0
      },
      "text/plain": [
       "HBox(children=(FloatProgress(value=0.0, max=2.0), HTML(value='')))"
      ]
     },
     "metadata": {},
     "output_type": "display_data"
    },
    {
     "name": "stdout",
     "output_type": "stream",
     "text": [
      "Scraping page 1 \n",
      "Scraping page 2 \n",
      "\n"
     ]
    },
    {
     "data": {
      "application/vnd.jupyter.widget-view+json": {
       "model_id": "78aa706cf5934931a8fe0314e3a35c70",
       "version_major": 2,
       "version_minor": 0
      },
      "text/plain": [
       "HBox(children=(FloatProgress(value=0.0, max=2.0), HTML(value='')))"
      ]
     },
     "metadata": {},
     "output_type": "display_data"
    },
    {
     "name": "stdout",
     "output_type": "stream",
     "text": [
      "Scraping page 1 \n",
      "Scraping page 2 \n",
      "\n"
     ]
    },
    {
     "data": {
      "application/vnd.jupyter.widget-view+json": {
       "model_id": "ee7414f1ff284072a9f8a3e9a92d6bca",
       "version_major": 2,
       "version_minor": 0
      },
      "text/plain": [
       "HBox(children=(FloatProgress(value=0.0, max=2.0), HTML(value='')))"
      ]
     },
     "metadata": {},
     "output_type": "display_data"
    },
    {
     "name": "stdout",
     "output_type": "stream",
     "text": [
      "Scraping page 1 \n",
      "Scraping page 2 \n",
      "\n"
     ]
    },
    {
     "data": {
      "application/vnd.jupyter.widget-view+json": {
       "model_id": "38628a8e95ee4b14a6f93868dd7dee66",
       "version_major": 2,
       "version_minor": 0
      },
      "text/plain": [
       "HBox(children=(FloatProgress(value=0.0, max=2.0), HTML(value='')))"
      ]
     },
     "metadata": {},
     "output_type": "display_data"
    },
    {
     "name": "stdout",
     "output_type": "stream",
     "text": [
      "Scraping page 1 \n",
      "Scraping page 2 \n",
      "\n"
     ]
    },
    {
     "data": {
      "application/vnd.jupyter.widget-view+json": {
       "model_id": "257ffb5e633d4c23abf20a9c44028bcf",
       "version_major": 2,
       "version_minor": 0
      },
      "text/plain": [
       "HBox(children=(FloatProgress(value=0.0, max=2.0), HTML(value='')))"
      ]
     },
     "metadata": {},
     "output_type": "display_data"
    },
    {
     "name": "stdout",
     "output_type": "stream",
     "text": [
      "Scraping page 1 \n",
      "Scraping page 2 \n",
      "\n"
     ]
    },
    {
     "data": {
      "application/vnd.jupyter.widget-view+json": {
       "model_id": "1e5696b4022b4950b37b72272f79880e",
       "version_major": 2,
       "version_minor": 0
      },
      "text/plain": [
       "HBox(children=(FloatProgress(value=0.0, max=2.0), HTML(value='')))"
      ]
     },
     "metadata": {},
     "output_type": "display_data"
    },
    {
     "name": "stdout",
     "output_type": "stream",
     "text": [
      "Scraping page 1 \n",
      "Scraping page 2 \n",
      "\n"
     ]
    },
    {
     "data": {
      "application/vnd.jupyter.widget-view+json": {
       "model_id": "6f928b577cee4f21b52bba54a7f23fdd",
       "version_major": 2,
       "version_minor": 0
      },
      "text/plain": [
       "HBox(children=(FloatProgress(value=0.0, max=2.0), HTML(value='')))"
      ]
     },
     "metadata": {},
     "output_type": "display_data"
    },
    {
     "name": "stdout",
     "output_type": "stream",
     "text": [
      "Scraping page 1 \n",
      "No more reviews\n",
      "Scraping page 2 \n",
      "No more reviews\n",
      "\n"
     ]
    },
    {
     "data": {
      "application/vnd.jupyter.widget-view+json": {
       "model_id": "e2c478a15f894ea8a095feadc8361ae9",
       "version_major": 2,
       "version_minor": 0
      },
      "text/plain": [
       "HBox(children=(FloatProgress(value=0.0, max=2.0), HTML(value='')))"
      ]
     },
     "metadata": {},
     "output_type": "display_data"
    },
    {
     "name": "stdout",
     "output_type": "stream",
     "text": [
      "Scraping page 1 \n",
      "Scraping page 2 \n",
      "\n"
     ]
    },
    {
     "data": {
      "application/vnd.jupyter.widget-view+json": {
       "model_id": "e28f3af9d3f24c4d97ce920b969cce3c",
       "version_major": 2,
       "version_minor": 0
      },
      "text/plain": [
       "HBox(children=(FloatProgress(value=0.0, max=2.0), HTML(value='')))"
      ]
     },
     "metadata": {},
     "output_type": "display_data"
    },
    {
     "name": "stdout",
     "output_type": "stream",
     "text": [
      "Scraping page 1 \n",
      "Scraping page 2 \n",
      "\n"
     ]
    },
    {
     "data": {
      "application/vnd.jupyter.widget-view+json": {
       "model_id": "934c4df734d940e09185b67b23a29b97",
       "version_major": 2,
       "version_minor": 0
      },
      "text/plain": [
       "HBox(children=(FloatProgress(value=0.0, max=2.0), HTML(value='')))"
      ]
     },
     "metadata": {},
     "output_type": "display_data"
    },
    {
     "name": "stdout",
     "output_type": "stream",
     "text": [
      "Scraping page 1 \n",
      "Scraping page 2 \n",
      "\n"
     ]
    },
    {
     "data": {
      "application/vnd.jupyter.widget-view+json": {
       "model_id": "eed683a4bcbc4d8494b7a6de7727a6e2",
       "version_major": 2,
       "version_minor": 0
      },
      "text/plain": [
       "HBox(children=(FloatProgress(value=0.0, max=2.0), HTML(value='')))"
      ]
     },
     "metadata": {},
     "output_type": "display_data"
    },
    {
     "name": "stdout",
     "output_type": "stream",
     "text": [
      "Scraping page 1 \n",
      "Scraping page 2 \n",
      "\n"
     ]
    },
    {
     "data": {
      "application/vnd.jupyter.widget-view+json": {
       "model_id": "87797617a9284d488c2f67a20e2efc6a",
       "version_major": 2,
       "version_minor": 0
      },
      "text/plain": [
       "HBox(children=(FloatProgress(value=0.0, max=2.0), HTML(value='')))"
      ]
     },
     "metadata": {},
     "output_type": "display_data"
    },
    {
     "name": "stdout",
     "output_type": "stream",
     "text": [
      "Scraping page 1 \n",
      "Scraping page 2 \n",
      "\n"
     ]
    },
    {
     "data": {
      "application/vnd.jupyter.widget-view+json": {
       "model_id": "cdd347030f0b4d91b31fa116af780522",
       "version_major": 2,
       "version_minor": 0
      },
      "text/plain": [
       "HBox(children=(FloatProgress(value=0.0, max=2.0), HTML(value='')))"
      ]
     },
     "metadata": {},
     "output_type": "display_data"
    },
    {
     "name": "stdout",
     "output_type": "stream",
     "text": [
      "Scraping page 1 \n",
      "Scraping page 2 \n",
      "\n",
      "\u001b[2m\u001b[32mNo more reviews\u001b[0m\n"
     ]
    },
    {
     "data": {
      "application/vnd.jupyter.widget-view+json": {
       "model_id": "aa105f90c4ae44d9bf890a8b5ab8a4ba",
       "version_major": 2,
       "version_minor": 0
      },
      "text/plain": [
       "HBox(children=(FloatProgress(value=0.0, max=2.0), HTML(value='')))"
      ]
     },
     "metadata": {},
     "output_type": "display_data"
    },
    {
     "name": "stdout",
     "output_type": "stream",
     "text": [
      "Scraping page 1 \n",
      "No more reviews\n",
      "Scraping page 2 \n",
      "No more reviews\n",
      "\n"
     ]
    },
    {
     "data": {
      "application/vnd.jupyter.widget-view+json": {
       "model_id": "73f8167e1ad14184b8e5b2703954f15f",
       "version_major": 2,
       "version_minor": 0
      },
      "text/plain": [
       "HBox(children=(FloatProgress(value=0.0, max=2.0), HTML(value='')))"
      ]
     },
     "metadata": {},
     "output_type": "display_data"
    },
    {
     "name": "stdout",
     "output_type": "stream",
     "text": [
      "Scraping page 1 \n",
      "Scraping page 2 \n",
      "\n"
     ]
    },
    {
     "data": {
      "application/vnd.jupyter.widget-view+json": {
       "model_id": "8a91fb5b1e014c04ac9a48bf003a76f0",
       "version_major": 2,
       "version_minor": 0
      },
      "text/plain": [
       "HBox(children=(FloatProgress(value=0.0, max=2.0), HTML(value='')))"
      ]
     },
     "metadata": {},
     "output_type": "display_data"
    },
    {
     "name": "stdout",
     "output_type": "stream",
     "text": [
      "Scraping page 1 \n",
      "Scraping page 2 \n",
      "\n",
      "\u001b[2m\u001b[32mNo more reviews\u001b[0m\n"
     ]
    },
    {
     "data": {
      "application/vnd.jupyter.widget-view+json": {
       "model_id": "f33b9028caa1445188f08e91ec244c75",
       "version_major": 2,
       "version_minor": 0
      },
      "text/plain": [
       "HBox(children=(FloatProgress(value=0.0, max=2.0), HTML(value='')))"
      ]
     },
     "metadata": {},
     "output_type": "display_data"
    },
    {
     "name": "stdout",
     "output_type": "stream",
     "text": [
      "Scraping page 1 \n",
      "No more reviews\n",
      "Scraping page 2 \n",
      "No more reviews\n",
      "\n"
     ]
    },
    {
     "data": {
      "application/vnd.jupyter.widget-view+json": {
       "model_id": "ffe822582bea4e9ba53bf0501b16cc32",
       "version_major": 2,
       "version_minor": 0
      },
      "text/plain": [
       "HBox(children=(FloatProgress(value=0.0, max=2.0), HTML(value='')))"
      ]
     },
     "metadata": {},
     "output_type": "display_data"
    },
    {
     "name": "stdout",
     "output_type": "stream",
     "text": [
      "Scraping page 1 \n",
      "Scraping page 2 \n",
      "No more reviews\n",
      "\n"
     ]
    },
    {
     "data": {
      "application/vnd.jupyter.widget-view+json": {
       "model_id": "08d5225d643f42219438c26d3d60f106",
       "version_major": 2,
       "version_minor": 0
      },
      "text/plain": [
       "HBox(children=(FloatProgress(value=0.0, max=2.0), HTML(value='')))"
      ]
     },
     "metadata": {},
     "output_type": "display_data"
    },
    {
     "name": "stdout",
     "output_type": "stream",
     "text": [
      "Scraping page 1 \n",
      "Scraping page 2 \n",
      "\n"
     ]
    },
    {
     "data": {
      "application/vnd.jupyter.widget-view+json": {
       "model_id": "ba16d36feb934336a5a7398b63cc7e01",
       "version_major": 2,
       "version_minor": 0
      },
      "text/plain": [
       "HBox(children=(FloatProgress(value=0.0, max=2.0), HTML(value='')))"
      ]
     },
     "metadata": {},
     "output_type": "display_data"
    },
    {
     "name": "stdout",
     "output_type": "stream",
     "text": [
      "Scraping page 1 \n",
      "Scraping page 2 \n",
      "\n"
     ]
    },
    {
     "data": {
      "application/vnd.jupyter.widget-view+json": {
       "model_id": "4b78f3c5cd26435c816cf85498916f32",
       "version_major": 2,
       "version_minor": 0
      },
      "text/plain": [
       "HBox(children=(FloatProgress(value=0.0, max=2.0), HTML(value='')))"
      ]
     },
     "metadata": {},
     "output_type": "display_data"
    },
    {
     "name": "stdout",
     "output_type": "stream",
     "text": [
      "Scraping page 1 \n",
      "Scraping page 2 \n",
      "\n"
     ]
    },
    {
     "data": {
      "application/vnd.jupyter.widget-view+json": {
       "model_id": "66da8b61e3bf4d2682a31ffacdfd4270",
       "version_major": 2,
       "version_minor": 0
      },
      "text/plain": [
       "HBox(children=(FloatProgress(value=0.0, max=2.0), HTML(value='')))"
      ]
     },
     "metadata": {},
     "output_type": "display_data"
    },
    {
     "name": "stdout",
     "output_type": "stream",
     "text": [
      "Scraping page 1 \n",
      "Scraping page 2 \n",
      "\n"
     ]
    },
    {
     "data": {
      "application/vnd.jupyter.widget-view+json": {
       "model_id": "760aa02a0e2e4160b864044ccc4d5c3c",
       "version_major": 2,
       "version_minor": 0
      },
      "text/plain": [
       "HBox(children=(FloatProgress(value=0.0, max=2.0), HTML(value='')))"
      ]
     },
     "metadata": {},
     "output_type": "display_data"
    },
    {
     "name": "stdout",
     "output_type": "stream",
     "text": [
      "Scraping page 1 \n",
      "No more reviews\n",
      "Scraping page 2 \n",
      "No more reviews\n",
      "\n"
     ]
    },
    {
     "data": {
      "application/vnd.jupyter.widget-view+json": {
       "model_id": "f9643d89c31540fc9dd7d019a1492f69",
       "version_major": 2,
       "version_minor": 0
      },
      "text/plain": [
       "HBox(children=(FloatProgress(value=0.0, max=2.0), HTML(value='')))"
      ]
     },
     "metadata": {},
     "output_type": "display_data"
    },
    {
     "name": "stdout",
     "output_type": "stream",
     "text": [
      "Scraping page 1 \n",
      "Scraping page 2 \n",
      "\n"
     ]
    },
    {
     "data": {
      "application/vnd.jupyter.widget-view+json": {
       "model_id": "0125547cf4cf4646803928813fa87cd2",
       "version_major": 2,
       "version_minor": 0
      },
      "text/plain": [
       "HBox(children=(FloatProgress(value=0.0, max=2.0), HTML(value='')))"
      ]
     },
     "metadata": {},
     "output_type": "display_data"
    },
    {
     "name": "stdout",
     "output_type": "stream",
     "text": [
      "Scraping page 1 \n",
      "Scraping page 2 \n",
      "\n"
     ]
    },
    {
     "data": {
      "application/vnd.jupyter.widget-view+json": {
       "model_id": "1aaf82048e7a428185f2890d6a565d48",
       "version_major": 2,
       "version_minor": 0
      },
      "text/plain": [
       "HBox(children=(FloatProgress(value=0.0, max=2.0), HTML(value='')))"
      ]
     },
     "metadata": {},
     "output_type": "display_data"
    },
    {
     "name": "stdout",
     "output_type": "stream",
     "text": [
      "Scraping page 1 \n",
      "Scraping page 2 \n",
      "\n"
     ]
    },
    {
     "data": {
      "application/vnd.jupyter.widget-view+json": {
       "model_id": "3642d30688bb466c9b41130d953703a8",
       "version_major": 2,
       "version_minor": 0
      },
      "text/plain": [
       "HBox(children=(FloatProgress(value=0.0, max=2.0), HTML(value='')))"
      ]
     },
     "metadata": {},
     "output_type": "display_data"
    },
    {
     "name": "stdout",
     "output_type": "stream",
     "text": [
      "Scraping page 1 \n",
      "Scraping page 2 \n",
      "\n"
     ]
    },
    {
     "data": {
      "application/vnd.jupyter.widget-view+json": {
       "model_id": "b4d42962d63b49078fb7a1f23a0ec030",
       "version_major": 2,
       "version_minor": 0
      },
      "text/plain": [
       "HBox(children=(FloatProgress(value=0.0, max=2.0), HTML(value='')))"
      ]
     },
     "metadata": {},
     "output_type": "display_data"
    },
    {
     "name": "stdout",
     "output_type": "stream",
     "text": [
      "Scraping page 1 \n",
      "No more reviews\n",
      "Scraping page 2 \n",
      "No more reviews\n",
      "\n",
      "\u001b[2m\u001b[34mNo ratings available\u001b[0m\n",
      "\u001b[2m\u001b[32mNo more reviews\u001b[0m\n"
     ]
    },
    {
     "data": {
      "application/vnd.jupyter.widget-view+json": {
       "model_id": "68198bc365714483ae3df8cc3efe183f",
       "version_major": 2,
       "version_minor": 0
      },
      "text/plain": [
       "HBox(children=(FloatProgress(value=0.0, max=2.0), HTML(value='')))"
      ]
     },
     "metadata": {},
     "output_type": "display_data"
    },
    {
     "name": "stdout",
     "output_type": "stream",
     "text": [
      "Scraping page 1 \n",
      "No more reviews\n",
      "Scraping page 2 \n",
      "No more reviews\n",
      "\n"
     ]
    },
    {
     "data": {
      "application/vnd.jupyter.widget-view+json": {
       "model_id": "d66dff714de64ceabb4a8dafeaef74c6",
       "version_major": 2,
       "version_minor": 0
      },
      "text/plain": [
       "HBox(children=(FloatProgress(value=0.0, max=2.0), HTML(value='')))"
      ]
     },
     "metadata": {},
     "output_type": "display_data"
    },
    {
     "name": "stdout",
     "output_type": "stream",
     "text": [
      "Scraping page 1 \n",
      "Scraping page 2 \n",
      "\n"
     ]
    },
    {
     "data": {
      "application/vnd.jupyter.widget-view+json": {
       "model_id": "adf2a192a19c413baf6f8348ef986a85",
       "version_major": 2,
       "version_minor": 0
      },
      "text/plain": [
       "HBox(children=(FloatProgress(value=0.0, max=2.0), HTML(value='')))"
      ]
     },
     "metadata": {},
     "output_type": "display_data"
    },
    {
     "name": "stdout",
     "output_type": "stream",
     "text": [
      "Scraping page 1 \n",
      "Scraping page 2 \n",
      "No more reviews\n",
      "\n"
     ]
    },
    {
     "data": {
      "application/vnd.jupyter.widget-view+json": {
       "model_id": "66cc67d965e3443593f772fb62643613",
       "version_major": 2,
       "version_minor": 0
      },
      "text/plain": [
       "HBox(children=(FloatProgress(value=0.0, max=2.0), HTML(value='')))"
      ]
     },
     "metadata": {},
     "output_type": "display_data"
    },
    {
     "name": "stdout",
     "output_type": "stream",
     "text": [
      "Scraping page 1 \n",
      "Scraping page 2 \n",
      "\n"
     ]
    },
    {
     "data": {
      "application/vnd.jupyter.widget-view+json": {
       "model_id": "01b91bc049f247a59e4e80559e3a3dbf",
       "version_major": 2,
       "version_minor": 0
      },
      "text/plain": [
       "HBox(children=(FloatProgress(value=0.0, max=2.0), HTML(value='')))"
      ]
     },
     "metadata": {},
     "output_type": "display_data"
    },
    {
     "name": "stdout",
     "output_type": "stream",
     "text": [
      "Scraping page 1 \n",
      "Scraping page 2 \n",
      "\n"
     ]
    },
    {
     "data": {
      "application/vnd.jupyter.widget-view+json": {
       "model_id": "2ff2267f09a1475891efb44f0eeaeee4",
       "version_major": 2,
       "version_minor": 0
      },
      "text/plain": [
       "HBox(children=(FloatProgress(value=0.0, max=2.0), HTML(value='')))"
      ]
     },
     "metadata": {},
     "output_type": "display_data"
    },
    {
     "name": "stdout",
     "output_type": "stream",
     "text": [
      "Scraping page 1 \n",
      "Scraping page 2 \n",
      "\n"
     ]
    },
    {
     "data": {
      "application/vnd.jupyter.widget-view+json": {
       "model_id": "e8c9d4c2d88941999f02faec774ef614",
       "version_major": 2,
       "version_minor": 0
      },
      "text/plain": [
       "HBox(children=(FloatProgress(value=0.0, max=2.0), HTML(value='')))"
      ]
     },
     "metadata": {},
     "output_type": "display_data"
    },
    {
     "name": "stdout",
     "output_type": "stream",
     "text": [
      "Scraping page 1 \n",
      "Scraping page 2 \n",
      "\n"
     ]
    },
    {
     "data": {
      "application/vnd.jupyter.widget-view+json": {
       "model_id": "9376573afd0f4287b2406efd1cb62d4d",
       "version_major": 2,
       "version_minor": 0
      },
      "text/plain": [
       "HBox(children=(FloatProgress(value=0.0, max=2.0), HTML(value='')))"
      ]
     },
     "metadata": {},
     "output_type": "display_data"
    },
    {
     "name": "stdout",
     "output_type": "stream",
     "text": [
      "Scraping page 1 \n",
      "Scraping page 2 \n",
      "\n"
     ]
    },
    {
     "data": {
      "application/vnd.jupyter.widget-view+json": {
       "model_id": "43c290078df34f999305e3926a1ca280",
       "version_major": 2,
       "version_minor": 0
      },
      "text/plain": [
       "HBox(children=(FloatProgress(value=0.0, max=2.0), HTML(value='')))"
      ]
     },
     "metadata": {},
     "output_type": "display_data"
    },
    {
     "name": "stdout",
     "output_type": "stream",
     "text": [
      "Scraping page 1 \n",
      "Scraping page 2 \n",
      "\n"
     ]
    },
    {
     "data": {
      "application/vnd.jupyter.widget-view+json": {
       "model_id": "540fdb975daf4c48bb0b2bdf8b0e4716",
       "version_major": 2,
       "version_minor": 0
      },
      "text/plain": [
       "HBox(children=(FloatProgress(value=0.0, max=2.0), HTML(value='')))"
      ]
     },
     "metadata": {},
     "output_type": "display_data"
    },
    {
     "name": "stdout",
     "output_type": "stream",
     "text": [
      "Scraping page 1 \n",
      "Scraping page 2 \n",
      "\n"
     ]
    },
    {
     "data": {
      "application/vnd.jupyter.widget-view+json": {
       "model_id": "2fa707e9cd60482fb7e088b29de53b2d",
       "version_major": 2,
       "version_minor": 0
      },
      "text/plain": [
       "HBox(children=(FloatProgress(value=0.0, max=2.0), HTML(value='')))"
      ]
     },
     "metadata": {},
     "output_type": "display_data"
    },
    {
     "name": "stdout",
     "output_type": "stream",
     "text": [
      "Scraping page 1 \n",
      "Scraping page 2 \n",
      "\n"
     ]
    },
    {
     "data": {
      "application/vnd.jupyter.widget-view+json": {
       "model_id": "71026fe2feaa4d5d9527f9f4451cd386",
       "version_major": 2,
       "version_minor": 0
      },
      "text/plain": [
       "HBox(children=(FloatProgress(value=0.0, max=2.0), HTML(value='')))"
      ]
     },
     "metadata": {},
     "output_type": "display_data"
    },
    {
     "name": "stdout",
     "output_type": "stream",
     "text": [
      "Scraping page 1 \n",
      "Scraping page 2 \n",
      "\n"
     ]
    },
    {
     "data": {
      "application/vnd.jupyter.widget-view+json": {
       "model_id": "f8a044f17d4f4e92a49f8e1c8c6da27e",
       "version_major": 2,
       "version_minor": 0
      },
      "text/plain": [
       "HBox(children=(FloatProgress(value=0.0, max=2.0), HTML(value='')))"
      ]
     },
     "metadata": {},
     "output_type": "display_data"
    },
    {
     "name": "stdout",
     "output_type": "stream",
     "text": [
      "Scraping page 1 \n",
      "Scraping page 2 \n",
      "\n"
     ]
    },
    {
     "data": {
      "application/vnd.jupyter.widget-view+json": {
       "model_id": "bdb4aea5a9aa4804b4034d07d3d99eb3",
       "version_major": 2,
       "version_minor": 0
      },
      "text/plain": [
       "HBox(children=(FloatProgress(value=0.0, max=2.0), HTML(value='')))"
      ]
     },
     "metadata": {},
     "output_type": "display_data"
    },
    {
     "name": "stdout",
     "output_type": "stream",
     "text": [
      "Scraping page 1 \n",
      "No more reviews\n",
      "Scraping page 2 \n",
      "No more reviews\n",
      "\n"
     ]
    },
    {
     "data": {
      "application/vnd.jupyter.widget-view+json": {
       "model_id": "3758dccfed6b4bcebd41dae85d661440",
       "version_major": 2,
       "version_minor": 0
      },
      "text/plain": [
       "HBox(children=(FloatProgress(value=0.0, max=2.0), HTML(value='')))"
      ]
     },
     "metadata": {},
     "output_type": "display_data"
    },
    {
     "name": "stdout",
     "output_type": "stream",
     "text": [
      "Scraping page 1 \n",
      "Scraping page 2 \n",
      "\n"
     ]
    },
    {
     "data": {
      "application/vnd.jupyter.widget-view+json": {
       "model_id": "26557b04bac04cf1829b07e6fb76b8c0",
       "version_major": 2,
       "version_minor": 0
      },
      "text/plain": [
       "HBox(children=(FloatProgress(value=0.0, max=2.0), HTML(value='')))"
      ]
     },
     "metadata": {},
     "output_type": "display_data"
    },
    {
     "name": "stdout",
     "output_type": "stream",
     "text": [
      "Scraping page 1 \n",
      "Scraping page 2 \n",
      "\n"
     ]
    },
    {
     "data": {
      "application/vnd.jupyter.widget-view+json": {
       "model_id": "6f572172583a4709bfbadae4c99a96d7",
       "version_major": 2,
       "version_minor": 0
      },
      "text/plain": [
       "HBox(children=(FloatProgress(value=0.0, max=2.0), HTML(value='')))"
      ]
     },
     "metadata": {},
     "output_type": "display_data"
    },
    {
     "name": "stdout",
     "output_type": "stream",
     "text": [
      "Scraping page 1 \n",
      "Scraping page 2 \n",
      "\n"
     ]
    },
    {
     "data": {
      "application/vnd.jupyter.widget-view+json": {
       "model_id": "f7c2c8ee22814491bfb9abec997a6c8e",
       "version_major": 2,
       "version_minor": 0
      },
      "text/plain": [
       "HBox(children=(FloatProgress(value=0.0, max=2.0), HTML(value='')))"
      ]
     },
     "metadata": {},
     "output_type": "display_data"
    },
    {
     "name": "stdout",
     "output_type": "stream",
     "text": [
      "Scraping page 1 \n",
      "Scraping page 2 \n",
      "\n"
     ]
    },
    {
     "data": {
      "application/vnd.jupyter.widget-view+json": {
       "model_id": "fa14249e77ba44149edda52adc1e8e8d",
       "version_major": 2,
       "version_minor": 0
      },
      "text/plain": [
       "HBox(children=(FloatProgress(value=0.0, max=2.0), HTML(value='')))"
      ]
     },
     "metadata": {},
     "output_type": "display_data"
    },
    {
     "name": "stdout",
     "output_type": "stream",
     "text": [
      "Scraping page 1 \n",
      "Scraping page 2 \n",
      "\n"
     ]
    },
    {
     "data": {
      "application/vnd.jupyter.widget-view+json": {
       "model_id": "7ed8d089765d48d790dde68e3876f116",
       "version_major": 2,
       "version_minor": 0
      },
      "text/plain": [
       "HBox(children=(FloatProgress(value=0.0, max=2.0), HTML(value='')))"
      ]
     },
     "metadata": {},
     "output_type": "display_data"
    },
    {
     "name": "stdout",
     "output_type": "stream",
     "text": [
      "Scraping page 1 \n",
      "Scraping page 2 \n",
      "\n"
     ]
    },
    {
     "data": {
      "application/vnd.jupyter.widget-view+json": {
       "model_id": "a755c4c33f284af388bb5c83b52b2f25",
       "version_major": 2,
       "version_minor": 0
      },
      "text/plain": [
       "HBox(children=(FloatProgress(value=0.0, max=2.0), HTML(value='')))"
      ]
     },
     "metadata": {},
     "output_type": "display_data"
    },
    {
     "name": "stdout",
     "output_type": "stream",
     "text": [
      "Scraping page 1 \n",
      "Scraping page 2 \n",
      "\n",
      "\u001b[2m\u001b[32mNo more reviews\u001b[0m\n"
     ]
    },
    {
     "data": {
      "application/vnd.jupyter.widget-view+json": {
       "model_id": "1352c849df3d40a2962f96cbf7100a0f",
       "version_major": 2,
       "version_minor": 0
      },
      "text/plain": [
       "HBox(children=(FloatProgress(value=0.0, max=2.0), HTML(value='')))"
      ]
     },
     "metadata": {},
     "output_type": "display_data"
    },
    {
     "name": "stdout",
     "output_type": "stream",
     "text": [
      "Scraping page 1 \n",
      "No more reviews\n",
      "Scraping page 2 \n",
      "No more reviews\n",
      "\n",
      "\u001b[2m\u001b[32mNo more reviews\u001b[0m\n"
     ]
    },
    {
     "data": {
      "application/vnd.jupyter.widget-view+json": {
       "model_id": "95bb1daa510d4b1f83edbce52e66c5bc",
       "version_major": 2,
       "version_minor": 0
      },
      "text/plain": [
       "HBox(children=(FloatProgress(value=0.0, max=2.0), HTML(value='')))"
      ]
     },
     "metadata": {},
     "output_type": "display_data"
    },
    {
     "name": "stdout",
     "output_type": "stream",
     "text": [
      "Scraping page 1 \n",
      "No more reviews\n",
      "Scraping page 2 \n",
      "No more reviews\n",
      "\n",
      "\u001b[2m\u001b[34mNo ratings available\u001b[0m\n",
      "\u001b[2m\u001b[32mNo more reviews\u001b[0m\n"
     ]
    },
    {
     "data": {
      "application/vnd.jupyter.widget-view+json": {
       "model_id": "dac843ecab8948c7abd7615cdaa71ea1",
       "version_major": 2,
       "version_minor": 0
      },
      "text/plain": [
       "HBox(children=(FloatProgress(value=0.0, max=2.0), HTML(value='')))"
      ]
     },
     "metadata": {},
     "output_type": "display_data"
    },
    {
     "name": "stdout",
     "output_type": "stream",
     "text": [
      "Scraping page 1 \n",
      "No more reviews\n",
      "Scraping page 2 \n",
      "No more reviews\n",
      "\n"
     ]
    },
    {
     "data": {
      "application/vnd.jupyter.widget-view+json": {
       "model_id": "080df8eced164107b62a050f05d62eef",
       "version_major": 2,
       "version_minor": 0
      },
      "text/plain": [
       "HBox(children=(FloatProgress(value=0.0, max=2.0), HTML(value='')))"
      ]
     },
     "metadata": {},
     "output_type": "display_data"
    },
    {
     "name": "stdout",
     "output_type": "stream",
     "text": [
      "Scraping page 1 \n",
      "Scraping page 2 \n",
      "\n",
      "\n"
     ]
    }
   ],
   "source": [
    "# Using forloop to scrape the data from each product url\n",
    "for url in tqdm_notebook(product_url):\n",
    "    driver.get(url)\n",
    "    time.sleep(1.5)\n",
    "    \n",
    "    # going to ratings page\n",
    "    try:driver.find_element_by_xpath(\"//*[@id='acrCustomerReviewLink']\").click()\n",
    "    except NoSuchElementException:\n",
    "        print(cl(\"No ratings available\",color='blue',attrs=['dark']))\n",
    "        pass\n",
    "\n",
    "    # Click to see all reviews of product\n",
    "    try:driver.find_element_by_xpath('//*[@id=\"reviews-medley-footer\"]/div[2]/a').click()\n",
    "    except NoSuchElementException :\n",
    "        print(cl(\"No more reviews\",color='green',attrs=['dark']))\n",
    "        pass\n",
    "        \n",
    "    time.sleep(1.5)\n",
    "    for i in tqdm_notebook(range(0,2)):\n",
    "        time.sleep(1)\n",
    "        \n",
    "        # Fetch ratings of product from each review\n",
    "        try:\n",
    "            RATINGS = driver.find_elements_by_xpath('//div[@class=\"a-section celwidget\"]/div[2]/a[1]')\n",
    "            for r in RATINGS:\n",
    "                driver.implicitly_wait(2)\n",
    "                rate=r.get_attribute('title')\n",
    "                ratings.append(rate[:3])\n",
    "        except NoSuchElementException:\n",
    "            ratings.append(\"Not Availabel\")\n",
    "\n",
    "        # fetching reviews of product        \n",
    "        try:\n",
    "            REVIEWS = driver.find_elements_by_xpath('//div[@class=\"a-section celwidget\"]/div[4]')\n",
    "            for v in REVIEWS:\n",
    "                reviews.append(v.text.replace('\\n',''))\n",
    "        except NoSuchElementException:\n",
    "            reviews.append(\"Not Availabel\")\n",
    "        \n",
    "        #Printing the page scrapped\n",
    "        print(\"Scraping page {} \".format(i+1))\n",
    "        \n",
    "        # Going to next page of reviews\n",
    "        try:driver.find_element_by_xpath('//*[@id=\"cm_cr-pagination_bar\"]/ul/li[2]/a').click()\n",
    "       \n",
    "        except NoSuchElementException:\n",
    "            print(\"No more reviews\")\n",
    "            pass\n",
    "        "
   ]
  },
  {
   "cell_type": "code",
   "execution_count": 30,
   "metadata": {},
   "outputs": [
    {
     "data": {
      "text/plain": [
       "1920"
      ]
     },
     "execution_count": 30,
     "metadata": {},
     "output_type": "execute_result"
    }
   ],
   "source": [
    "len(reviews)"
   ]
  },
  {
   "cell_type": "code",
   "execution_count": 31,
   "metadata": {},
   "outputs": [
    {
     "data": {
      "text/html": [
       "<div>\n",
       "<style scoped>\n",
       "    .dataframe tbody tr th:only-of-type {\n",
       "        vertical-align: middle;\n",
       "    }\n",
       "\n",
       "    .dataframe tbody tr th {\n",
       "        vertical-align: top;\n",
       "    }\n",
       "\n",
       "    .dataframe thead th {\n",
       "        text-align: right;\n",
       "    }\n",
       "</style>\n",
       "<table border=\"1\" class=\"dataframe\">\n",
       "  <thead>\n",
       "    <tr style=\"text-align: right;\">\n",
       "      <th></th>\n",
       "      <th>Reviews</th>\n",
       "      <th>Ratings</th>\n",
       "    </tr>\n",
       "  </thead>\n",
       "  <tbody>\n",
       "    <tr>\n",
       "      <th>0</th>\n",
       "      <td>I bought it for ₹2097 and I found it really be...</td>\n",
       "      <td>5.0</td>\n",
       "    </tr>\n",
       "    <tr>\n",
       "      <th>1</th>\n",
       "      <td>Very sturdy watch perfect for daily useHave be...</td>\n",
       "      <td>5.0</td>\n",
       "    </tr>\n",
       "    <tr>\n",
       "      <th>2</th>\n",
       "      <td>Good quality and trendy watch</td>\n",
       "      <td>4.0</td>\n",
       "    </tr>\n",
       "    <tr>\n",
       "      <th>3</th>\n",
       "      <td>Nothing has disappointed me about purchasing t...</td>\n",
       "      <td>5.0</td>\n",
       "    </tr>\n",
       "    <tr>\n",
       "      <th>4</th>\n",
       "      <td>Ok</td>\n",
       "      <td>4.0</td>\n",
       "    </tr>\n",
       "    <tr>\n",
       "      <th>...</th>\n",
       "      <td>...</td>\n",
       "      <td>...</td>\n",
       "    </tr>\n",
       "    <tr>\n",
       "      <th>1795</th>\n",
       "      <td>I won’t recommend this . Bought this to gift i...</td>\n",
       "      <td>3.0</td>\n",
       "    </tr>\n",
       "    <tr>\n",
       "      <th>1796</th>\n",
       "      <td>This is a very poor quality product. It is sup...</td>\n",
       "      <td>4.0</td>\n",
       "    </tr>\n",
       "    <tr>\n",
       "      <th>1797</th>\n",
       "      <td>The features Like monitor blood pressure, hear...</td>\n",
       "      <td>1.0</td>\n",
       "    </tr>\n",
       "    <tr>\n",
       "      <th>1798</th>\n",
       "      <td>Cost effective and really east to use.This can...</td>\n",
       "      <td>1.0</td>\n",
       "    </tr>\n",
       "    <tr>\n",
       "      <th>1799</th>\n",
       "      <td>I am writing this review to alert you that in ...</td>\n",
       "      <td>4.0</td>\n",
       "    </tr>\n",
       "  </tbody>\n",
       "</table>\n",
       "<p>1800 rows × 2 columns</p>\n",
       "</div>"
      ],
      "text/plain": [
       "                                                Reviews Ratings\n",
       "0     I bought it for ₹2097 and I found it really be...     5.0\n",
       "1     Very sturdy watch perfect for daily useHave be...     5.0\n",
       "2                         Good quality and trendy watch     4.0\n",
       "3     Nothing has disappointed me about purchasing t...     5.0\n",
       "4                                                    Ok     4.0\n",
       "...                                                 ...     ...\n",
       "1795  I won’t recommend this . Bought this to gift i...     3.0\n",
       "1796  This is a very poor quality product. It is sup...     4.0\n",
       "1797  The features Like monitor blood pressure, hear...     1.0\n",
       "1798  Cost effective and really east to use.This can...     1.0\n",
       "1799  I am writing this review to alert you that in ...     4.0\n",
       "\n",
       "[1800 rows x 2 columns]"
      ]
     },
     "execution_count": 31,
     "metadata": {},
     "output_type": "execute_result"
    }
   ],
   "source": [
    "# Storing into pandas dataframe\n",
    "watches = pd.DataFrame({'Reviews':reviews[:1800],'Ratings':ratings[:1800]})\n",
    "watches"
   ]
  },
  {
   "cell_type": "code",
   "execution_count": 32,
   "metadata": {},
   "outputs": [],
   "source": [
    "# Saving in csv file\n",
    "watches.to_csv(\"watches.csv\")"
   ]
  },
  {
   "cell_type": "markdown",
   "metadata": {},
   "source": [
    "\n",
    "### Collecting data of Microwaves\n"
   ]
  },
  {
   "cell_type": "code",
   "execution_count": 33,
   "metadata": {
    "scrolled": true
   },
   "outputs": [
    {
     "data": {
      "application/vnd.jupyter.widget-view+json": {
       "model_id": "8f3bc402b4524aaa9c2d177e9a226db8",
       "version_major": 2,
       "version_minor": 0
      },
      "text/plain": [
       "HBox(children=(FloatProgress(value=0.0, description='Appending urls...', max=3.0, style=ProgressStyle(descript…"
      ]
     },
     "metadata": {},
     "output_type": "display_data"
    },
    {
     "name": "stdout",
     "output_type": "stream",
     "text": [
      "\n",
      "75\n"
     ]
    },
    {
     "data": {
      "application/vnd.jupyter.widget-view+json": {
       "model_id": "a7f76fc1718943bcbec48277286912ce",
       "version_major": 2,
       "version_minor": 0
      },
      "text/plain": [
       "HBox(children=(FloatProgress(value=0.0, description='Scraping from url...', max=75.0, style=ProgressStyle(desc…"
      ]
     },
     "metadata": {},
     "output_type": "display_data"
    },
    {
     "data": {
      "application/vnd.jupyter.widget-view+json": {
       "model_id": "8b7ff13a0d794d26ae30c71094b5b9a6",
       "version_major": 2,
       "version_minor": 0
      },
      "text/plain": [
       "HBox(children=(FloatProgress(value=0.0, description='Scraping pages...', max=5.0, style=ProgressStyle(descript…"
      ]
     },
     "metadata": {},
     "output_type": "display_data"
    },
    {
     "name": "stdout",
     "output_type": "stream",
     "text": [
      "Scraping page 1 \n",
      "Scraping page 2 \n",
      "Scraping page 3 \n",
      "Scraping page 4 \n",
      "Scraping page 5 \n",
      "\n",
      "40 reviews and 33 ratings.\n"
     ]
    },
    {
     "data": {
      "application/vnd.jupyter.widget-view+json": {
       "model_id": "f31ddfe6f7c14e67bcf324216cf65729",
       "version_major": 2,
       "version_minor": 0
      },
      "text/plain": [
       "HBox(children=(FloatProgress(value=0.0, description='Scraping pages...', max=5.0, style=ProgressStyle(descript…"
      ]
     },
     "metadata": {},
     "output_type": "display_data"
    },
    {
     "name": "stdout",
     "output_type": "stream",
     "text": [
      "Scraping page 1 \n",
      "Scraping page 2 \n",
      "Scraping page 3 \n",
      "Scraping page 4 \n",
      "Scraping page 5 \n",
      "\n",
      "80 reviews and 73 ratings.\n"
     ]
    },
    {
     "data": {
      "application/vnd.jupyter.widget-view+json": {
       "model_id": "20c15ee9841a4f0ab7600192f5a00991",
       "version_major": 2,
       "version_minor": 0
      },
      "text/plain": [
       "HBox(children=(FloatProgress(value=0.0, description='Scraping pages...', max=5.0, style=ProgressStyle(descript…"
      ]
     },
     "metadata": {},
     "output_type": "display_data"
    },
    {
     "name": "stdout",
     "output_type": "stream",
     "text": [
      "Scraping page 1 \n",
      "Scraping page 2 \n",
      "Scraping page 3 \n",
      "Scraping page 4 \n",
      "Scraping page 5 \n",
      "\n",
      "120 reviews and 113 ratings.\n"
     ]
    },
    {
     "data": {
      "application/vnd.jupyter.widget-view+json": {
       "model_id": "ebba2e4075ce4396a8959d8ab8d04a27",
       "version_major": 2,
       "version_minor": 0
      },
      "text/plain": [
       "HBox(children=(FloatProgress(value=0.0, description='Scraping pages...', max=5.0, style=ProgressStyle(descript…"
      ]
     },
     "metadata": {},
     "output_type": "display_data"
    },
    {
     "name": "stdout",
     "output_type": "stream",
     "text": [
      "Scraping page 1 \n",
      "Scraping page 2 \n",
      "Scraping page 3 \n",
      "Scraping page 4 \n",
      "Scraping page 5 \n",
      "\n",
      "160 reviews and 153 ratings.\n"
     ]
    },
    {
     "data": {
      "application/vnd.jupyter.widget-view+json": {
       "model_id": "5a038df0c0cb4da091138f080600c8f8",
       "version_major": 2,
       "version_minor": 0
      },
      "text/plain": [
       "HBox(children=(FloatProgress(value=0.0, description='Scraping pages...', max=5.0, style=ProgressStyle(descript…"
      ]
     },
     "metadata": {},
     "output_type": "display_data"
    },
    {
     "name": "stdout",
     "output_type": "stream",
     "text": [
      "Scraping page 1 \n",
      "Scraping page 2 \n",
      "Scraping page 3 \n",
      "Scraping page 4 \n",
      "Scraping page 5 \n",
      "\n",
      "200 reviews and 184 ratings.\n"
     ]
    },
    {
     "data": {
      "application/vnd.jupyter.widget-view+json": {
       "model_id": "761e06aa3db24d6aa7e6475381ce0db4",
       "version_major": 2,
       "version_minor": 0
      },
      "text/plain": [
       "HBox(children=(FloatProgress(value=0.0, description='Scraping pages...', max=5.0, style=ProgressStyle(descript…"
      ]
     },
     "metadata": {},
     "output_type": "display_data"
    },
    {
     "name": "stdout",
     "output_type": "stream",
     "text": [
      "Scraping page 1 \n",
      "Scraping page 2 \n",
      "Scraping page 3 \n",
      "Scraping page 4 \n",
      "Scraping page 5 \n",
      "\n",
      "240 reviews and 224 ratings.\n"
     ]
    },
    {
     "data": {
      "application/vnd.jupyter.widget-view+json": {
       "model_id": "0946030cdac34678ab3022ceea025461",
       "version_major": 2,
       "version_minor": 0
      },
      "text/plain": [
       "HBox(children=(FloatProgress(value=0.0, description='Scraping pages...', max=5.0, style=ProgressStyle(descript…"
      ]
     },
     "metadata": {},
     "output_type": "display_data"
    },
    {
     "name": "stdout",
     "output_type": "stream",
     "text": [
      "Scraping page 1 \n",
      "Scraping page 2 \n",
      "Scraping page 3 \n",
      "Scraping page 4 \n",
      "Scraping page 5 \n",
      "\n",
      "280 reviews and 264 ratings.\n"
     ]
    },
    {
     "data": {
      "application/vnd.jupyter.widget-view+json": {
       "model_id": "ffd9865b3a6d4c0eb9190ff73d9cae06",
       "version_major": 2,
       "version_minor": 0
      },
      "text/plain": [
       "HBox(children=(FloatProgress(value=0.0, description='Scraping pages...', max=5.0, style=ProgressStyle(descript…"
      ]
     },
     "metadata": {},
     "output_type": "display_data"
    },
    {
     "name": "stdout",
     "output_type": "stream",
     "text": [
      "Scraping page 1 \n",
      "Scraping page 2 \n",
      "Scraping page 3 \n",
      "Scraping page 4 \n",
      "Scraping page 5 \n",
      "\n",
      "320 reviews and 304 ratings.\n"
     ]
    },
    {
     "data": {
      "application/vnd.jupyter.widget-view+json": {
       "model_id": "ab85c593c27d49149ec8bfb94f560074",
       "version_major": 2,
       "version_minor": 0
      },
      "text/plain": [
       "HBox(children=(FloatProgress(value=0.0, description='Scraping pages...', max=5.0, style=ProgressStyle(descript…"
      ]
     },
     "metadata": {},
     "output_type": "display_data"
    },
    {
     "name": "stdout",
     "output_type": "stream",
     "text": [
      "Scraping page 1 \n",
      "Scraping page 2 \n",
      "Scraping page 3 \n",
      "Scraping page 4 \n",
      "Scraping page 5 \n",
      "\n",
      "360 reviews and 335 ratings.\n"
     ]
    },
    {
     "data": {
      "application/vnd.jupyter.widget-view+json": {
       "model_id": "dfcaa520f4f946b59243d170d4b722dc",
       "version_major": 2,
       "version_minor": 0
      },
      "text/plain": [
       "HBox(children=(FloatProgress(value=0.0, description='Scraping pages...', max=5.0, style=ProgressStyle(descript…"
      ]
     },
     "metadata": {},
     "output_type": "display_data"
    },
    {
     "name": "stdout",
     "output_type": "stream",
     "text": [
      "Scraping page 1 \n",
      "Scraping page 2 \n",
      "Scraping page 3 \n",
      "Scraping page 4 \n",
      "Scraping page 5 \n",
      "\n",
      "400 reviews and 374 ratings.\n"
     ]
    },
    {
     "data": {
      "application/vnd.jupyter.widget-view+json": {
       "model_id": "e56489f198a74840babc9dfbf05eb151",
       "version_major": 2,
       "version_minor": 0
      },
      "text/plain": [
       "HBox(children=(FloatProgress(value=0.0, description='Scraping pages...', max=5.0, style=ProgressStyle(descript…"
      ]
     },
     "metadata": {},
     "output_type": "display_data"
    },
    {
     "name": "stdout",
     "output_type": "stream",
     "text": [
      "Scraping page 1 \n",
      "Scraping page 2 \n",
      "Scraping page 3 \n",
      "Scraping page 4 \n",
      "Scraping page 5 \n",
      "\n",
      "440 reviews and 410 ratings.\n"
     ]
    },
    {
     "data": {
      "application/vnd.jupyter.widget-view+json": {
       "model_id": "e6671734dbaf4d43aa7a015cf5d8801e",
       "version_major": 2,
       "version_minor": 0
      },
      "text/plain": [
       "HBox(children=(FloatProgress(value=0.0, description='Scraping pages...', max=5.0, style=ProgressStyle(descript…"
      ]
     },
     "metadata": {},
     "output_type": "display_data"
    },
    {
     "name": "stdout",
     "output_type": "stream",
     "text": [
      "Scraping page 1 \n",
      "Scraping page 2 \n",
      "Scraping page 3 \n",
      "Scraping page 4 \n",
      "Scraping page 5 \n",
      "\n",
      "480 reviews and 450 ratings.\n"
     ]
    },
    {
     "data": {
      "application/vnd.jupyter.widget-view+json": {
       "model_id": "b848a39fcd714651946ed8ae17bdf15c",
       "version_major": 2,
       "version_minor": 0
      },
      "text/plain": [
       "HBox(children=(FloatProgress(value=0.0, description='Scraping pages...', max=5.0, style=ProgressStyle(descript…"
      ]
     },
     "metadata": {},
     "output_type": "display_data"
    },
    {
     "name": "stdout",
     "output_type": "stream",
     "text": [
      "Scraping page 1 \n",
      "Scraping page 2 \n",
      "Scraping page 3 \n",
      "Scraping page 4 \n",
      "Scraping page 5 \n",
      "\n",
      "520 reviews and 490 ratings.\n"
     ]
    },
    {
     "data": {
      "application/vnd.jupyter.widget-view+json": {
       "model_id": "e3932fad83d643a1baf6916c49eab1d8",
       "version_major": 2,
       "version_minor": 0
      },
      "text/plain": [
       "HBox(children=(FloatProgress(value=0.0, description='Scraping pages...', max=5.0, style=ProgressStyle(descript…"
      ]
     },
     "metadata": {},
     "output_type": "display_data"
    },
    {
     "name": "stdout",
     "output_type": "stream",
     "text": [
      "Scraping page 1 \n",
      "Scraping page 2 \n",
      "Scraping page 3 \n",
      "Scraping page 4 \n",
      "Scraping page 5 \n",
      "\n",
      "560 reviews and 530 ratings.\n"
     ]
    },
    {
     "data": {
      "application/vnd.jupyter.widget-view+json": {
       "model_id": "0ee3518cb40d4d239a2c145a3f362f69",
       "version_major": 2,
       "version_minor": 0
      },
      "text/plain": [
       "HBox(children=(FloatProgress(value=0.0, description='Scraping pages...', max=5.0, style=ProgressStyle(descript…"
      ]
     },
     "metadata": {},
     "output_type": "display_data"
    },
    {
     "name": "stdout",
     "output_type": "stream",
     "text": [
      "Scraping page 1 \n",
      "Scraping page 2 \n",
      "Scraping page 3 \n",
      "Scraping page 4 \n",
      "Scraping page 5 \n",
      "\n",
      "600 reviews and 570 ratings.\n"
     ]
    },
    {
     "data": {
      "application/vnd.jupyter.widget-view+json": {
       "model_id": "b703b9895e17448f9dc555ed778136ea",
       "version_major": 2,
       "version_minor": 0
      },
      "text/plain": [
       "HBox(children=(FloatProgress(value=0.0, description='Scraping pages...', max=5.0, style=ProgressStyle(descript…"
      ]
     },
     "metadata": {},
     "output_type": "display_data"
    },
    {
     "name": "stdout",
     "output_type": "stream",
     "text": [
      "Scraping page 1 \n",
      "Scraping page 2 \n",
      "Scraping page 3 \n",
      "Scraping page 4 \n",
      "Scraping page 5 \n",
      "\n",
      "640 reviews and 610 ratings.\n"
     ]
    },
    {
     "data": {
      "application/vnd.jupyter.widget-view+json": {
       "model_id": "2eb287cf10c64ae280ece3adf9d7d406",
       "version_major": 2,
       "version_minor": 0
      },
      "text/plain": [
       "HBox(children=(FloatProgress(value=0.0, description='Scraping pages...', max=5.0, style=ProgressStyle(descript…"
      ]
     },
     "metadata": {},
     "output_type": "display_data"
    },
    {
     "name": "stdout",
     "output_type": "stream",
     "text": [
      "Scraping page 1 \n",
      "Scraping page 2 \n",
      "Scraping page 3 \n",
      "Scraping page 4 \n",
      "Scraping page 5 \n",
      "\n",
      "680 reviews and 650 ratings.\n"
     ]
    },
    {
     "data": {
      "application/vnd.jupyter.widget-view+json": {
       "model_id": "f7fada3de1c8428e97b31914037692cd",
       "version_major": 2,
       "version_minor": 0
      },
      "text/plain": [
       "HBox(children=(FloatProgress(value=0.0, description='Scraping pages...', max=5.0, style=ProgressStyle(descript…"
      ]
     },
     "metadata": {},
     "output_type": "display_data"
    },
    {
     "name": "stdout",
     "output_type": "stream",
     "text": [
      "Scraping page 1 \n",
      "Scraping page 2 \n",
      "Scraping page 3 \n",
      "Scraping page 4 \n",
      "Scraping page 5 \n",
      "\n",
      "720 reviews and 690 ratings.\n"
     ]
    },
    {
     "data": {
      "application/vnd.jupyter.widget-view+json": {
       "model_id": "3c1819ed303f4704a5d05df7468e6dc2",
       "version_major": 2,
       "version_minor": 0
      },
      "text/plain": [
       "HBox(children=(FloatProgress(value=0.0, description='Scraping pages...', max=5.0, style=ProgressStyle(descript…"
      ]
     },
     "metadata": {},
     "output_type": "display_data"
    },
    {
     "name": "stdout",
     "output_type": "stream",
     "text": [
      "Scraping page 1 \n",
      "Scraping page 2 \n",
      "Scraping page 3 \n",
      "Scraping page 4 \n",
      "No more reviews\n",
      "Scraping page 5 \n",
      "No more reviews\n",
      "\n",
      "758 reviews and 728 ratings.\n"
     ]
    },
    {
     "data": {
      "application/vnd.jupyter.widget-view+json": {
       "model_id": "a28fafc7a5544c0a953385d66f6dde2f",
       "version_major": 2,
       "version_minor": 0
      },
      "text/plain": [
       "HBox(children=(FloatProgress(value=0.0, description='Scraping pages...', max=5.0, style=ProgressStyle(descript…"
      ]
     },
     "metadata": {},
     "output_type": "display_data"
    },
    {
     "name": "stdout",
     "output_type": "stream",
     "text": [
      "Scraping page 1 \n",
      "Scraping page 2 \n",
      "Scraping page 3 \n",
      "Scraping page 4 \n",
      "Scraping page 5 \n",
      "\n",
      "798 reviews and 768 ratings.\n"
     ]
    },
    {
     "data": {
      "application/vnd.jupyter.widget-view+json": {
       "model_id": "5e4013f8cd514ea08baf6a0c05539dd8",
       "version_major": 2,
       "version_minor": 0
      },
      "text/plain": [
       "HBox(children=(FloatProgress(value=0.0, description='Scraping pages...', max=5.0, style=ProgressStyle(descript…"
      ]
     },
     "metadata": {},
     "output_type": "display_data"
    },
    {
     "name": "stdout",
     "output_type": "stream",
     "text": [
      "Scraping page 1 \n",
      "Scraping page 2 \n",
      "Scraping page 3 \n",
      "Scraping page 4 \n",
      "Scraping page 5 \n",
      "\n",
      "838 reviews and 808 ratings.\n"
     ]
    },
    {
     "data": {
      "application/vnd.jupyter.widget-view+json": {
       "model_id": "da407bb8721443ee861b0a84a4484d01",
       "version_major": 2,
       "version_minor": 0
      },
      "text/plain": [
       "HBox(children=(FloatProgress(value=0.0, description='Scraping pages...', max=5.0, style=ProgressStyle(descript…"
      ]
     },
     "metadata": {},
     "output_type": "display_data"
    },
    {
     "name": "stdout",
     "output_type": "stream",
     "text": [
      "Scraping page 1 \n",
      "Scraping page 2 \n",
      "Scraping page 3 \n",
      "Scraping page 4 \n",
      "Scraping page 5 \n",
      "\n",
      "878 reviews and 846 ratings.\n",
      "\u001b[2m\u001b[32mNo more reviews\u001b[0m\n"
     ]
    },
    {
     "data": {
      "application/vnd.jupyter.widget-view+json": {
       "model_id": "5632639a867646a4aa34ae5cfb9ffee8",
       "version_major": 2,
       "version_minor": 0
      },
      "text/plain": [
       "HBox(children=(FloatProgress(value=0.0, description='Scraping pages...', max=5.0, style=ProgressStyle(descript…"
      ]
     },
     "metadata": {},
     "output_type": "display_data"
    },
    {
     "name": "stdout",
     "output_type": "stream",
     "text": [
      "Scraping page 1 \n",
      "No more reviews\n",
      "Scraping page 2 \n",
      "No more reviews\n",
      "Scraping page 3 \n",
      "No more reviews\n",
      "Scraping page 4 \n",
      "No more reviews\n",
      "Scraping page 5 \n",
      "No more reviews\n",
      "\n",
      "878 reviews and 846 ratings.\n"
     ]
    },
    {
     "data": {
      "application/vnd.jupyter.widget-view+json": {
       "model_id": "24dcfd7dbd084e40b04b7eff4727aa2a",
       "version_major": 2,
       "version_minor": 0
      },
      "text/plain": [
       "HBox(children=(FloatProgress(value=0.0, description='Scraping pages...', max=5.0, style=ProgressStyle(descript…"
      ]
     },
     "metadata": {},
     "output_type": "display_data"
    },
    {
     "name": "stdout",
     "output_type": "stream",
     "text": [
      "Scraping page 1 \n",
      "No more reviews\n",
      "Scraping page 2 \n",
      "No more reviews\n",
      "Scraping page 3 \n",
      "No more reviews\n",
      "Scraping page 4 \n",
      "No more reviews\n",
      "Scraping page 5 \n",
      "No more reviews\n",
      "\n",
      "908 reviews and 876 ratings.\n"
     ]
    },
    {
     "data": {
      "application/vnd.jupyter.widget-view+json": {
       "model_id": "c110277aaf594e04ab960e5f921afc1b",
       "version_major": 2,
       "version_minor": 0
      },
      "text/plain": [
       "HBox(children=(FloatProgress(value=0.0, description='Scraping pages...', max=5.0, style=ProgressStyle(descript…"
      ]
     },
     "metadata": {},
     "output_type": "display_data"
    },
    {
     "name": "stdout",
     "output_type": "stream",
     "text": [
      "Scraping page 1 \n",
      "Scraping page 2 \n",
      "Scraping page 3 \n",
      "Scraping page 4 \n",
      "No more reviews\n",
      "Scraping page 5 \n",
      "No more reviews\n",
      "\n",
      "936 reviews and 904 ratings.\n"
     ]
    },
    {
     "data": {
      "application/vnd.jupyter.widget-view+json": {
       "model_id": "c045256bc2154f85a0786a1edbf9d8c0",
       "version_major": 2,
       "version_minor": 0
      },
      "text/plain": [
       "HBox(children=(FloatProgress(value=0.0, description='Scraping pages...', max=5.0, style=ProgressStyle(descript…"
      ]
     },
     "metadata": {},
     "output_type": "display_data"
    },
    {
     "name": "stdout",
     "output_type": "stream",
     "text": [
      "Scraping page 1 \n",
      "Scraping page 2 \n",
      "Scraping page 3 \n",
      "Scraping page 4 \n",
      "Scraping page 5 \n",
      "\n",
      "976 reviews and 939 ratings.\n"
     ]
    },
    {
     "data": {
      "application/vnd.jupyter.widget-view+json": {
       "model_id": "32ab21d66a5d455b931c93ab6951377d",
       "version_major": 2,
       "version_minor": 0
      },
      "text/plain": [
       "HBox(children=(FloatProgress(value=0.0, description='Scraping pages...', max=5.0, style=ProgressStyle(descript…"
      ]
     },
     "metadata": {},
     "output_type": "display_data"
    },
    {
     "name": "stdout",
     "output_type": "stream",
     "text": [
      "Scraping page 1 \n",
      "Scraping page 2 \n",
      "Scraping page 3 \n",
      "Scraping page 4 \n",
      "Scraping page 5 \n",
      "\n",
      "1016 reviews and 979 ratings.\n"
     ]
    },
    {
     "data": {
      "application/vnd.jupyter.widget-view+json": {
       "model_id": "1720de164c324a7b981a086d46d18785",
       "version_major": 2,
       "version_minor": 0
      },
      "text/plain": [
       "HBox(children=(FloatProgress(value=0.0, description='Scraping pages...', max=5.0, style=ProgressStyle(descript…"
      ]
     },
     "metadata": {},
     "output_type": "display_data"
    },
    {
     "name": "stdout",
     "output_type": "stream",
     "text": [
      "Scraping page 1 \n",
      "Scraping page 2 \n",
      "Scraping page 3 \n",
      "Scraping page 4 \n",
      "Scraping page 5 \n",
      "\n",
      "1056 reviews and 1019 ratings.\n"
     ]
    },
    {
     "data": {
      "application/vnd.jupyter.widget-view+json": {
       "model_id": "7190eda993874929819e188578b93f0c",
       "version_major": 2,
       "version_minor": 0
      },
      "text/plain": [
       "HBox(children=(FloatProgress(value=0.0, description='Scraping pages...', max=5.0, style=ProgressStyle(descript…"
      ]
     },
     "metadata": {},
     "output_type": "display_data"
    },
    {
     "name": "stdout",
     "output_type": "stream",
     "text": [
      "Scraping page 1 \n",
      "Scraping page 2 \n",
      "Scraping page 3 \n",
      "Scraping page 4 \n",
      "Scraping page 5 \n",
      "\n",
      "1096 reviews and 1059 ratings.\n"
     ]
    },
    {
     "data": {
      "application/vnd.jupyter.widget-view+json": {
       "model_id": "98052614b51f4e019798d9c2a2a962db",
       "version_major": 2,
       "version_minor": 0
      },
      "text/plain": [
       "HBox(children=(FloatProgress(value=0.0, description='Scraping pages...', max=5.0, style=ProgressStyle(descript…"
      ]
     },
     "metadata": {},
     "output_type": "display_data"
    },
    {
     "name": "stdout",
     "output_type": "stream",
     "text": [
      "Scraping page 1 \n",
      "Scraping page 2 \n",
      "Scraping page 3 \n",
      "Scraping page 4 \n",
      "Scraping page 5 \n",
      "\n",
      "1136 reviews and 1099 ratings.\n"
     ]
    },
    {
     "data": {
      "application/vnd.jupyter.widget-view+json": {
       "model_id": "8adcd7c551ba475e998f4eba68d324ee",
       "version_major": 2,
       "version_minor": 0
      },
      "text/plain": [
       "HBox(children=(FloatProgress(value=0.0, description='Scraping pages...', max=5.0, style=ProgressStyle(descript…"
      ]
     },
     "metadata": {},
     "output_type": "display_data"
    },
    {
     "name": "stdout",
     "output_type": "stream",
     "text": [
      "Scraping page 1 \n",
      "Scraping page 2 \n",
      "Scraping page 3 \n",
      "Scraping page 4 \n",
      "Scraping page 5 \n",
      "\n",
      "1176 reviews and 1139 ratings.\n"
     ]
    },
    {
     "data": {
      "application/vnd.jupyter.widget-view+json": {
       "model_id": "1ff3ecc380f2492a9251aaff822a18c5",
       "version_major": 2,
       "version_minor": 0
      },
      "text/plain": [
       "HBox(children=(FloatProgress(value=0.0, description='Scraping pages...', max=5.0, style=ProgressStyle(descript…"
      ]
     },
     "metadata": {},
     "output_type": "display_data"
    },
    {
     "name": "stdout",
     "output_type": "stream",
     "text": [
      "Scraping page 1 \n",
      "Scraping page 2 \n",
      "Scraping page 3 \n",
      "Scraping page 4 \n",
      "Scraping page 5 \n",
      "\n",
      "1216 reviews and 1179 ratings.\n"
     ]
    },
    {
     "data": {
      "application/vnd.jupyter.widget-view+json": {
       "model_id": "746d86276af9445687e001bf43fb2026",
       "version_major": 2,
       "version_minor": 0
      },
      "text/plain": [
       "HBox(children=(FloatProgress(value=0.0, description='Scraping pages...', max=5.0, style=ProgressStyle(descript…"
      ]
     },
     "metadata": {},
     "output_type": "display_data"
    },
    {
     "name": "stdout",
     "output_type": "stream",
     "text": [
      "Scraping page 1 \n",
      "Scraping page 2 \n",
      "Scraping page 3 \n",
      "Scraping page 4 \n",
      "Scraping page 5 \n",
      "\n",
      "1256 reviews and 1219 ratings.\n"
     ]
    },
    {
     "data": {
      "application/vnd.jupyter.widget-view+json": {
       "model_id": "33bfd29c592340a2bd1ee1b6aa49a61b",
       "version_major": 2,
       "version_minor": 0
      },
      "text/plain": [
       "HBox(children=(FloatProgress(value=0.0, description='Scraping pages...', max=5.0, style=ProgressStyle(descript…"
      ]
     },
     "metadata": {},
     "output_type": "display_data"
    },
    {
     "name": "stdout",
     "output_type": "stream",
     "text": [
      "Scraping page 1 \n",
      "Scraping page 2 \n",
      "Scraping page 3 \n",
      "Scraping page 4 \n",
      "Scraping page 5 \n",
      "\n",
      "1296 reviews and 1259 ratings.\n"
     ]
    },
    {
     "data": {
      "application/vnd.jupyter.widget-view+json": {
       "model_id": "46b47fc808b244e3bf8d86db1722a7ec",
       "version_major": 2,
       "version_minor": 0
      },
      "text/plain": [
       "HBox(children=(FloatProgress(value=0.0, description='Scraping pages...', max=5.0, style=ProgressStyle(descript…"
      ]
     },
     "metadata": {},
     "output_type": "display_data"
    },
    {
     "name": "stdout",
     "output_type": "stream",
     "text": [
      "Scraping page 1 \n",
      "Scraping page 2 \n",
      "Scraping page 3 \n",
      "Scraping page 4 \n",
      "Scraping page 5 \n",
      "\n",
      "1336 reviews and 1299 ratings.\n"
     ]
    },
    {
     "data": {
      "application/vnd.jupyter.widget-view+json": {
       "model_id": "39dec3333f89446494a18f1c11dfe85a",
       "version_major": 2,
       "version_minor": 0
      },
      "text/plain": [
       "HBox(children=(FloatProgress(value=0.0, description='Scraping pages...', max=5.0, style=ProgressStyle(descript…"
      ]
     },
     "metadata": {},
     "output_type": "display_data"
    },
    {
     "name": "stdout",
     "output_type": "stream",
     "text": [
      "Scraping page 1 \n",
      "Scraping page 2 \n",
      "Scraping page 3 \n",
      "Scraping page 4 \n",
      "Scraping page 5 \n",
      "\n",
      "1376 reviews and 1338 ratings.\n"
     ]
    },
    {
     "data": {
      "application/vnd.jupyter.widget-view+json": {
       "model_id": "4569b372362647719a5826c5b89a2048",
       "version_major": 2,
       "version_minor": 0
      },
      "text/plain": [
       "HBox(children=(FloatProgress(value=0.0, description='Scraping pages...', max=5.0, style=ProgressStyle(descript…"
      ]
     },
     "metadata": {},
     "output_type": "display_data"
    },
    {
     "name": "stdout",
     "output_type": "stream",
     "text": [
      "Scraping page 1 \n",
      "Scraping page 2 \n",
      "Scraping page 3 \n",
      "Scraping page 4 \n",
      "Scraping page 5 \n",
      "\n",
      "1416 reviews and 1378 ratings.\n"
     ]
    },
    {
     "data": {
      "application/vnd.jupyter.widget-view+json": {
       "model_id": "256b695b234242a396ef5df0e520123a",
       "version_major": 2,
       "version_minor": 0
      },
      "text/plain": [
       "HBox(children=(FloatProgress(value=0.0, description='Scraping pages...', max=5.0, style=ProgressStyle(descript…"
      ]
     },
     "metadata": {},
     "output_type": "display_data"
    },
    {
     "name": "stdout",
     "output_type": "stream",
     "text": [
      "Scraping page 1 \n",
      "Scraping page 2 \n",
      "Scraping page 3 \n",
      "Scraping page 4 \n",
      "Scraping page 5 \n",
      "\n",
      "1456 reviews and 1418 ratings.\n"
     ]
    },
    {
     "data": {
      "application/vnd.jupyter.widget-view+json": {
       "model_id": "305494cbf62f4ca5812c8cdf8a00f0a1",
       "version_major": 2,
       "version_minor": 0
      },
      "text/plain": [
       "HBox(children=(FloatProgress(value=0.0, description='Scraping pages...', max=5.0, style=ProgressStyle(descript…"
      ]
     },
     "metadata": {},
     "output_type": "display_data"
    },
    {
     "name": "stdout",
     "output_type": "stream",
     "text": [
      "Scraping page 1 \n",
      "Scraping page 2 \n",
      "Scraping page 3 \n",
      "Scraping page 4 \n",
      "Scraping page 5 \n",
      "\n",
      "1496 reviews and 1458 ratings.\n"
     ]
    },
    {
     "data": {
      "application/vnd.jupyter.widget-view+json": {
       "model_id": "5775bcc98dde42c5847fbdfcdba1f59c",
       "version_major": 2,
       "version_minor": 0
      },
      "text/plain": [
       "HBox(children=(FloatProgress(value=0.0, description='Scraping pages...', max=5.0, style=ProgressStyle(descript…"
      ]
     },
     "metadata": {},
     "output_type": "display_data"
    },
    {
     "name": "stdout",
     "output_type": "stream",
     "text": [
      "Scraping page 1 \n",
      "Scraping page 2 \n",
      "Scraping page 3 \n",
      "Scraping page 4 \n",
      "Scraping page 5 \n",
      "\n",
      "1536 reviews and 1498 ratings.\n"
     ]
    },
    {
     "data": {
      "application/vnd.jupyter.widget-view+json": {
       "model_id": "a3fa654cf9d642eaa71becb3b0fb4764",
       "version_major": 2,
       "version_minor": 0
      },
      "text/plain": [
       "HBox(children=(FloatProgress(value=0.0, description='Scraping pages...', max=5.0, style=ProgressStyle(descript…"
      ]
     },
     "metadata": {},
     "output_type": "display_data"
    },
    {
     "name": "stdout",
     "output_type": "stream",
     "text": [
      "Scraping page 1 \n",
      "Scraping page 2 \n",
      "Scraping page 3 \n",
      "Scraping page 4 \n",
      "Scraping page 5 \n",
      "\n",
      "1576 reviews and 1538 ratings.\n"
     ]
    },
    {
     "data": {
      "application/vnd.jupyter.widget-view+json": {
       "model_id": "340f1c04532d4ba3a872f93cba095692",
       "version_major": 2,
       "version_minor": 0
      },
      "text/plain": [
       "HBox(children=(FloatProgress(value=0.0, description='Scraping pages...', max=5.0, style=ProgressStyle(descript…"
      ]
     },
     "metadata": {},
     "output_type": "display_data"
    },
    {
     "name": "stdout",
     "output_type": "stream",
     "text": [
      "Scraping page 1 \n",
      "Scraping page 2 \n",
      "Scraping page 3 \n",
      "Scraping page 4 \n",
      "Scraping page 5 \n",
      "\n",
      "1616 reviews and 1575 ratings.\n"
     ]
    },
    {
     "data": {
      "application/vnd.jupyter.widget-view+json": {
       "model_id": "88c6d20638a941a59ace388cfb37307d",
       "version_major": 2,
       "version_minor": 0
      },
      "text/plain": [
       "HBox(children=(FloatProgress(value=0.0, description='Scraping pages...', max=5.0, style=ProgressStyle(descript…"
      ]
     },
     "metadata": {},
     "output_type": "display_data"
    },
    {
     "name": "stdout",
     "output_type": "stream",
     "text": [
      "Scraping page 1 \n",
      "Scraping page 2 \n",
      "Scraping page 3 \n",
      "Scraping page 4 \n",
      "Scraping page 5 \n",
      "\n",
      "1656 reviews and 1615 ratings.\n"
     ]
    },
    {
     "data": {
      "application/vnd.jupyter.widget-view+json": {
       "model_id": "d33db7058ce9429eb64249c91b163ee7",
       "version_major": 2,
       "version_minor": 0
      },
      "text/plain": [
       "HBox(children=(FloatProgress(value=0.0, description='Scraping pages...', max=5.0, style=ProgressStyle(descript…"
      ]
     },
     "metadata": {},
     "output_type": "display_data"
    },
    {
     "name": "stdout",
     "output_type": "stream",
     "text": [
      "Scraping page 1 \n",
      "Scraping page 2 \n",
      "Scraping page 3 \n",
      "Scraping page 4 \n",
      "No more reviews\n",
      "Scraping page 5 \n",
      "No more reviews\n",
      "\n",
      "1694 reviews and 1653 ratings.\n"
     ]
    },
    {
     "data": {
      "application/vnd.jupyter.widget-view+json": {
       "model_id": "2e52eae1cc9c4d91b10a83730e08c4b6",
       "version_major": 2,
       "version_minor": 0
      },
      "text/plain": [
       "HBox(children=(FloatProgress(value=0.0, description='Scraping pages...', max=5.0, style=ProgressStyle(descript…"
      ]
     },
     "metadata": {},
     "output_type": "display_data"
    },
    {
     "name": "stdout",
     "output_type": "stream",
     "text": [
      "Scraping page 1 \n",
      "Scraping page 2 \n",
      "Scraping page 3 \n",
      "Scraping page 4 \n",
      "Scraping page 5 \n",
      "\n",
      "1734 reviews and 1683 ratings.\n"
     ]
    },
    {
     "data": {
      "application/vnd.jupyter.widget-view+json": {
       "model_id": "6df45438276a441395420e617796a7b7",
       "version_major": 2,
       "version_minor": 0
      },
      "text/plain": [
       "HBox(children=(FloatProgress(value=0.0, description='Scraping pages...', max=5.0, style=ProgressStyle(descript…"
      ]
     },
     "metadata": {},
     "output_type": "display_data"
    },
    {
     "name": "stdout",
     "output_type": "stream",
     "text": [
      "Scraping page 1 \n",
      "Scraping page 2 \n",
      "Scraping page 3 \n",
      "Scraping page 4 \n",
      "Scraping page 5 \n",
      "\n",
      "1774 reviews and 1718 ratings.\n"
     ]
    },
    {
     "data": {
      "application/vnd.jupyter.widget-view+json": {
       "model_id": "085bad848adc479f806ae7d7c2c4453b",
       "version_major": 2,
       "version_minor": 0
      },
      "text/plain": [
       "HBox(children=(FloatProgress(value=0.0, description='Scraping pages...', max=5.0, style=ProgressStyle(descript…"
      ]
     },
     "metadata": {},
     "output_type": "display_data"
    },
    {
     "name": "stdout",
     "output_type": "stream",
     "text": [
      "Scraping page 1 \n",
      "Scraping page 2 \n",
      "Scraping page 3 \n",
      "Scraping page 4 \n",
      "Scraping page 5 \n",
      "\n",
      "1809 reviews and 1751 ratings.\n",
      "\u001b[2m\u001b[32mNo more reviews\u001b[0m\n"
     ]
    },
    {
     "data": {
      "application/vnd.jupyter.widget-view+json": {
       "model_id": "e9d6824975984f33850e180ebb5a9b49",
       "version_major": 2,
       "version_minor": 0
      },
      "text/plain": [
       "HBox(children=(FloatProgress(value=0.0, description='Scraping pages...', max=5.0, style=ProgressStyle(descript…"
      ]
     },
     "metadata": {},
     "output_type": "display_data"
    },
    {
     "name": "stdout",
     "output_type": "stream",
     "text": [
      "Scraping page 1 \n",
      "No more reviews\n",
      "Scraping page 2 \n",
      "No more reviews\n",
      "Scraping page 3 \n",
      "No more reviews\n",
      "Scraping page 4 \n",
      "No more reviews\n",
      "Scraping page 5 \n",
      "No more reviews\n",
      "\n",
      "1809 reviews and 1751 ratings.\n"
     ]
    },
    {
     "data": {
      "application/vnd.jupyter.widget-view+json": {
       "model_id": "c719735cc3614f79aa9774918d08453e",
       "version_major": 2,
       "version_minor": 0
      },
      "text/plain": [
       "HBox(children=(FloatProgress(value=0.0, description='Scraping pages...', max=5.0, style=ProgressStyle(descript…"
      ]
     },
     "metadata": {},
     "output_type": "display_data"
    },
    {
     "name": "stdout",
     "output_type": "stream",
     "text": [
      "Scraping page 1 \n",
      "No more reviews\n",
      "Scraping page 2 \n",
      "No more reviews\n",
      "Scraping page 3 \n",
      "No more reviews\n",
      "Scraping page 4 \n",
      "No more reviews\n",
      "Scraping page 5 \n",
      "No more reviews\n",
      "\n",
      "1839 reviews and 1781 ratings.\n"
     ]
    },
    {
     "data": {
      "application/vnd.jupyter.widget-view+json": {
       "model_id": "8253621204ef46089d48d0250ddc4469",
       "version_major": 2,
       "version_minor": 0
      },
      "text/plain": [
       "HBox(children=(FloatProgress(value=0.0, description='Scraping pages...', max=5.0, style=ProgressStyle(descript…"
      ]
     },
     "metadata": {},
     "output_type": "display_data"
    },
    {
     "name": "stdout",
     "output_type": "stream",
     "text": [
      "Scraping page 1 \n",
      "Scraping page 2 \n",
      "Scraping page 3 \n",
      "Scraping page 4 \n",
      "No more reviews\n",
      "Scraping page 5 \n",
      "No more reviews\n",
      "\n",
      "1867 reviews and 1809 ratings.\n"
     ]
    },
    {
     "data": {
      "application/vnd.jupyter.widget-view+json": {
       "model_id": "5e2092f977fa4f7ea9d13806a70a76c7",
       "version_major": 2,
       "version_minor": 0
      },
      "text/plain": [
       "HBox(children=(FloatProgress(value=0.0, description='Scraping pages...', max=5.0, style=ProgressStyle(descript…"
      ]
     },
     "metadata": {},
     "output_type": "display_data"
    },
    {
     "name": "stdout",
     "output_type": "stream",
     "text": [
      "Scraping page 1 \n",
      "Scraping page 2 \n",
      "Scraping page 3 \n",
      "Scraping page 4 \n",
      "Scraping page 5 \n",
      "\n",
      "1907 reviews and 1849 ratings.\n"
     ]
    },
    {
     "data": {
      "application/vnd.jupyter.widget-view+json": {
       "model_id": "92bec9f4c04942e7a47c93fc0c3fe120",
       "version_major": 2,
       "version_minor": 0
      },
      "text/plain": [
       "HBox(children=(FloatProgress(value=0.0, description='Scraping pages...', max=5.0, style=ProgressStyle(descript…"
      ]
     },
     "metadata": {},
     "output_type": "display_data"
    },
    {
     "name": "stdout",
     "output_type": "stream",
     "text": [
      "Scraping page 1 \n",
      "Scraping page 2 \n",
      "Scraping page 3 \n",
      "Scraping page 4 \n",
      "Scraping page 5 \n",
      "\n",
      "1947 reviews and 1889 ratings.\n"
     ]
    },
    {
     "data": {
      "application/vnd.jupyter.widget-view+json": {
       "model_id": "bfa7aa4da8024555a0fa16e278f5284f",
       "version_major": 2,
       "version_minor": 0
      },
      "text/plain": [
       "HBox(children=(FloatProgress(value=0.0, description='Scraping pages...', max=5.0, style=ProgressStyle(descript…"
      ]
     },
     "metadata": {},
     "output_type": "display_data"
    },
    {
     "name": "stdout",
     "output_type": "stream",
     "text": [
      "Scraping page 1 \n",
      "Scraping page 2 \n",
      "Scraping page 3 \n",
      "Scraping page 4 \n",
      "Scraping page 5 \n",
      "\n",
      "1987 reviews and 1929 ratings.\n"
     ]
    },
    {
     "data": {
      "application/vnd.jupyter.widget-view+json": {
       "model_id": "70e1e3720f2f45a2aa2f1225f20a15c4",
       "version_major": 2,
       "version_minor": 0
      },
      "text/plain": [
       "HBox(children=(FloatProgress(value=0.0, description='Scraping pages...', max=5.0, style=ProgressStyle(descript…"
      ]
     },
     "metadata": {},
     "output_type": "display_data"
    },
    {
     "name": "stdout",
     "output_type": "stream",
     "text": [
      "Scraping page 1 \n",
      "Scraping page 2 \n",
      "Scraping page 3 \n",
      "Scraping page 4 \n",
      "Scraping page 5 \n",
      "\n",
      "2027 reviews and 1964 ratings.\n"
     ]
    },
    {
     "data": {
      "application/vnd.jupyter.widget-view+json": {
       "model_id": "a55f948f6f564989824c7acdf1c669a9",
       "version_major": 2,
       "version_minor": 0
      },
      "text/plain": [
       "HBox(children=(FloatProgress(value=0.0, description='Scraping pages...', max=5.0, style=ProgressStyle(descript…"
      ]
     },
     "metadata": {},
     "output_type": "display_data"
    },
    {
     "name": "stdout",
     "output_type": "stream",
     "text": [
      "Scraping page 1 \n",
      "Scraping page 2 \n",
      "Scraping page 3 \n",
      "Scraping page 4 \n",
      "Scraping page 5 \n",
      "\n",
      "2067 reviews and 1999 ratings.\n"
     ]
    },
    {
     "data": {
      "application/vnd.jupyter.widget-view+json": {
       "model_id": "8b1b23be207b4426a50be9f380b5ac92",
       "version_major": 2,
       "version_minor": 0
      },
      "text/plain": [
       "HBox(children=(FloatProgress(value=0.0, description='Scraping pages...', max=5.0, style=ProgressStyle(descript…"
      ]
     },
     "metadata": {},
     "output_type": "display_data"
    },
    {
     "name": "stdout",
     "output_type": "stream",
     "text": [
      "Scraping page 1 \n",
      "Scraping page 2 \n",
      "Scraping page 3 \n",
      "Scraping page 4 \n",
      "Scraping page 5 \n",
      "\n",
      "2107 reviews and 2039 ratings.\n"
     ]
    },
    {
     "data": {
      "application/vnd.jupyter.widget-view+json": {
       "model_id": "92a9434638bb46ccba1566e0b8cb763b",
       "version_major": 2,
       "version_minor": 0
      },
      "text/plain": [
       "HBox(children=(FloatProgress(value=0.0, description='Scraping pages...', max=5.0, style=ProgressStyle(descript…"
      ]
     },
     "metadata": {},
     "output_type": "display_data"
    },
    {
     "name": "stdout",
     "output_type": "stream",
     "text": [
      "Scraping page 1 \n",
      "Scraping page 2 \n",
      "Scraping page 3 \n",
      "Scraping page 4 \n",
      "Scraping page 5 \n",
      "\n",
      "2147 reviews and 2079 ratings.\n"
     ]
    },
    {
     "data": {
      "application/vnd.jupyter.widget-view+json": {
       "model_id": "cc88c0c6a9dd42c0a90ca5764dcd9761",
       "version_major": 2,
       "version_minor": 0
      },
      "text/plain": [
       "HBox(children=(FloatProgress(value=0.0, description='Scraping pages...', max=5.0, style=ProgressStyle(descript…"
      ]
     },
     "metadata": {},
     "output_type": "display_data"
    },
    {
     "name": "stdout",
     "output_type": "stream",
     "text": [
      "Scraping page 1 \n",
      "Scraping page 2 \n",
      "Scraping page 3 \n",
      "Scraping page 4 \n",
      "Scraping page 5 \n",
      "\n",
      "2187 reviews and 2119 ratings.\n"
     ]
    },
    {
     "data": {
      "application/vnd.jupyter.widget-view+json": {
       "model_id": "cdfcf9e684b846179d4f5446af6d7ff9",
       "version_major": 2,
       "version_minor": 0
      },
      "text/plain": [
       "HBox(children=(FloatProgress(value=0.0, description='Scraping pages...', max=5.0, style=ProgressStyle(descript…"
      ]
     },
     "metadata": {},
     "output_type": "display_data"
    },
    {
     "name": "stdout",
     "output_type": "stream",
     "text": [
      "Scraping page 1 \n",
      "Scraping page 2 \n",
      "Scraping page 3 \n",
      "Scraping page 4 \n",
      "Scraping page 5 \n",
      "\n",
      "2227 reviews and 2159 ratings.\n"
     ]
    },
    {
     "data": {
      "application/vnd.jupyter.widget-view+json": {
       "model_id": "d6255da637924181a874e56a94707214",
       "version_major": 2,
       "version_minor": 0
      },
      "text/plain": [
       "HBox(children=(FloatProgress(value=0.0, description='Scraping pages...', max=5.0, style=ProgressStyle(descript…"
      ]
     },
     "metadata": {},
     "output_type": "display_data"
    },
    {
     "name": "stdout",
     "output_type": "stream",
     "text": [
      "Scraping page 1 \n",
      "Scraping page 2 \n",
      "Scraping page 3 \n",
      "Scraping page 4 \n",
      "Scraping page 5 \n",
      "\n",
      "2267 reviews and 2199 ratings.\n"
     ]
    },
    {
     "data": {
      "application/vnd.jupyter.widget-view+json": {
       "model_id": "bb66f8d3c72244e693f15aebe6cf9151",
       "version_major": 2,
       "version_minor": 0
      },
      "text/plain": [
       "HBox(children=(FloatProgress(value=0.0, description='Scraping pages...', max=5.0, style=ProgressStyle(descript…"
      ]
     },
     "metadata": {},
     "output_type": "display_data"
    },
    {
     "name": "stdout",
     "output_type": "stream",
     "text": [
      "Scraping page 1 \n",
      "Scraping page 2 \n",
      "Scraping page 3 \n",
      "Scraping page 4 \n",
      "Scraping page 5 \n",
      "\n",
      "2307 reviews and 2239 ratings.\n"
     ]
    },
    {
     "data": {
      "application/vnd.jupyter.widget-view+json": {
       "model_id": "438e5b660d0b4a989b489d2fe8aa72a3",
       "version_major": 2,
       "version_minor": 0
      },
      "text/plain": [
       "HBox(children=(FloatProgress(value=0.0, description='Scraping pages...', max=5.0, style=ProgressStyle(descript…"
      ]
     },
     "metadata": {},
     "output_type": "display_data"
    },
    {
     "name": "stdout",
     "output_type": "stream",
     "text": [
      "Scraping page 1 \n",
      "Scraping page 2 \n",
      "Scraping page 3 \n",
      "Scraping page 4 \n",
      "Scraping page 5 \n",
      "\n",
      "2347 reviews and 2279 ratings.\n"
     ]
    },
    {
     "data": {
      "application/vnd.jupyter.widget-view+json": {
       "model_id": "2f547cb4c8e14e9f8ae3c31c364afae5",
       "version_major": 2,
       "version_minor": 0
      },
      "text/plain": [
       "HBox(children=(FloatProgress(value=0.0, description='Scraping pages...', max=5.0, style=ProgressStyle(descript…"
      ]
     },
     "metadata": {},
     "output_type": "display_data"
    },
    {
     "name": "stdout",
     "output_type": "stream",
     "text": [
      "Scraping page 1 \n",
      "Scraping page 2 \n",
      "Scraping page 3 \n",
      "Scraping page 4 \n",
      "Scraping page 5 \n",
      "\n",
      "2387 reviews and 2319 ratings.\n"
     ]
    },
    {
     "data": {
      "application/vnd.jupyter.widget-view+json": {
       "model_id": "757a70e8e25a4a41ac9201a05ade49de",
       "version_major": 2,
       "version_minor": 0
      },
      "text/plain": [
       "HBox(children=(FloatProgress(value=0.0, description='Scraping pages...', max=5.0, style=ProgressStyle(descript…"
      ]
     },
     "metadata": {},
     "output_type": "display_data"
    },
    {
     "name": "stdout",
     "output_type": "stream",
     "text": [
      "Scraping page 1 \n",
      "Scraping page 2 \n",
      "Scraping page 3 \n",
      "Scraping page 4 \n",
      "Scraping page 5 \n",
      "\n",
      "2427 reviews and 2359 ratings.\n"
     ]
    },
    {
     "data": {
      "application/vnd.jupyter.widget-view+json": {
       "model_id": "54300f3a582a447dbb730b03f152333c",
       "version_major": 2,
       "version_minor": 0
      },
      "text/plain": [
       "HBox(children=(FloatProgress(value=0.0, description='Scraping pages...', max=5.0, style=ProgressStyle(descript…"
      ]
     },
     "metadata": {},
     "output_type": "display_data"
    },
    {
     "name": "stdout",
     "output_type": "stream",
     "text": [
      "Scraping page 1 \n",
      "Scraping page 2 \n",
      "Scraping page 3 \n",
      "Scraping page 4 \n",
      "Scraping page 5 \n",
      "\n",
      "2467 reviews and 2399 ratings.\n"
     ]
    },
    {
     "data": {
      "application/vnd.jupyter.widget-view+json": {
       "model_id": "45ad4cc5e4c742388c86f4cd73fd84dc",
       "version_major": 2,
       "version_minor": 0
      },
      "text/plain": [
       "HBox(children=(FloatProgress(value=0.0, description='Scraping pages...', max=5.0, style=ProgressStyle(descript…"
      ]
     },
     "metadata": {},
     "output_type": "display_data"
    },
    {
     "name": "stdout",
     "output_type": "stream",
     "text": [
      "Scraping page 1 \n",
      "Scraping page 2 \n",
      "Scraping page 3 \n",
      "Scraping page 4 \n",
      "Scraping page 5 \n",
      "\n",
      "2507 reviews and 2439 ratings.\n"
     ]
    },
    {
     "data": {
      "application/vnd.jupyter.widget-view+json": {
       "model_id": "8dfe00d36b1d4534818d3557d68a5779",
       "version_major": 2,
       "version_minor": 0
      },
      "text/plain": [
       "HBox(children=(FloatProgress(value=0.0, description='Scraping pages...', max=5.0, style=ProgressStyle(descript…"
      ]
     },
     "metadata": {},
     "output_type": "display_data"
    },
    {
     "name": "stdout",
     "output_type": "stream",
     "text": [
      "Scraping page 1 \n",
      "Scraping page 2 \n",
      "Scraping page 3 \n",
      "Scraping page 4 \n",
      "Scraping page 5 \n",
      "\n",
      "2547 reviews and 2475 ratings.\n"
     ]
    },
    {
     "data": {
      "application/vnd.jupyter.widget-view+json": {
       "model_id": "28a70d68b1e34786a80820e5d2832bd6",
       "version_major": 2,
       "version_minor": 0
      },
      "text/plain": [
       "HBox(children=(FloatProgress(value=0.0, description='Scraping pages...', max=5.0, style=ProgressStyle(descript…"
      ]
     },
     "metadata": {},
     "output_type": "display_data"
    },
    {
     "name": "stdout",
     "output_type": "stream",
     "text": [
      "Scraping page 1 \n",
      "Scraping page 2 \n",
      "Scraping page 3 \n",
      "Scraping page 4 \n",
      "Scraping page 5 \n",
      "\n",
      "2587 reviews and 2515 ratings.\n"
     ]
    },
    {
     "data": {
      "application/vnd.jupyter.widget-view+json": {
       "model_id": "9f1e6d7e44b4418f893c40d3a71cfac6",
       "version_major": 2,
       "version_minor": 0
      },
      "text/plain": [
       "HBox(children=(FloatProgress(value=0.0, description='Scraping pages...', max=5.0, style=ProgressStyle(descript…"
      ]
     },
     "metadata": {},
     "output_type": "display_data"
    },
    {
     "name": "stdout",
     "output_type": "stream",
     "text": [
      "Scraping page 1 \n",
      "Scraping page 2 \n",
      "Scraping page 3 \n",
      "Scraping page 4 \n",
      "No more reviews\n",
      "Scraping page 5 \n",
      "No more reviews\n",
      "\n",
      "2625 reviews and 2553 ratings.\n"
     ]
    },
    {
     "data": {
      "application/vnd.jupyter.widget-view+json": {
       "model_id": "178d0c2b0b22443095616ecb27b1b248",
       "version_major": 2,
       "version_minor": 0
      },
      "text/plain": [
       "HBox(children=(FloatProgress(value=0.0, description='Scraping pages...', max=5.0, style=ProgressStyle(descript…"
      ]
     },
     "metadata": {},
     "output_type": "display_data"
    },
    {
     "name": "stdout",
     "output_type": "stream",
     "text": [
      "Scraping page 1 \n",
      "Scraping page 2 \n",
      "Scraping page 3 \n",
      "Scraping page 4 \n",
      "Scraping page 5 \n",
      "\n",
      "2665 reviews and 2589 ratings.\n"
     ]
    },
    {
     "data": {
      "application/vnd.jupyter.widget-view+json": {
       "model_id": "00ae7762974448cbb017c1c96ab0aea4",
       "version_major": 2,
       "version_minor": 0
      },
      "text/plain": [
       "HBox(children=(FloatProgress(value=0.0, description='Scraping pages...', max=5.0, style=ProgressStyle(descript…"
      ]
     },
     "metadata": {},
     "output_type": "display_data"
    },
    {
     "name": "stdout",
     "output_type": "stream",
     "text": [
      "Scraping page 1 \n",
      "Scraping page 2 \n",
      "Scraping page 3 \n",
      "Scraping page 4 \n",
      "Scraping page 5 \n",
      "\n",
      "2705 reviews and 2625 ratings.\n"
     ]
    },
    {
     "data": {
      "application/vnd.jupyter.widget-view+json": {
       "model_id": "c570075326794ec3acfa7e6ad7c7c306",
       "version_major": 2,
       "version_minor": 0
      },
      "text/plain": [
       "HBox(children=(FloatProgress(value=0.0, description='Scraping pages...', max=5.0, style=ProgressStyle(descript…"
      ]
     },
     "metadata": {},
     "output_type": "display_data"
    },
    {
     "name": "stdout",
     "output_type": "stream",
     "text": [
      "Scraping page 1 \n",
      "Scraping page 2 \n",
      "Scraping page 3 \n",
      "Scraping page 4 \n",
      "Scraping page 5 \n",
      "\n",
      "2745 reviews and 2665 ratings.\n",
      "\u001b[2m\u001b[32mNo more reviews\u001b[0m\n"
     ]
    },
    {
     "data": {
      "application/vnd.jupyter.widget-view+json": {
       "model_id": "bd2390aaaf1c44729a127b43d6d002e4",
       "version_major": 2,
       "version_minor": 0
      },
      "text/plain": [
       "HBox(children=(FloatProgress(value=0.0, description='Scraping pages...', max=5.0, style=ProgressStyle(descript…"
      ]
     },
     "metadata": {},
     "output_type": "display_data"
    },
    {
     "name": "stdout",
     "output_type": "stream",
     "text": [
      "Scraping page 1 \n",
      "No more reviews\n",
      "Scraping page 2 \n",
      "No more reviews\n",
      "Scraping page 3 \n",
      "No more reviews\n",
      "Scraping page 4 \n",
      "No more reviews\n",
      "Scraping page 5 \n",
      "No more reviews\n",
      "\n",
      "2745 reviews and 2665 ratings.\n"
     ]
    },
    {
     "data": {
      "application/vnd.jupyter.widget-view+json": {
       "model_id": "55c4c4532bcd451a9ae5a320316db8f0",
       "version_major": 2,
       "version_minor": 0
      },
      "text/plain": [
       "HBox(children=(FloatProgress(value=0.0, description='Scraping pages...', max=5.0, style=ProgressStyle(descript…"
      ]
     },
     "metadata": {},
     "output_type": "display_data"
    },
    {
     "name": "stdout",
     "output_type": "stream",
     "text": [
      "Scraping page 1 \n",
      "No more reviews\n",
      "Scraping page 2 \n",
      "No more reviews\n",
      "Scraping page 3 \n",
      "No more reviews\n",
      "Scraping page 4 \n",
      "No more reviews\n",
      "Scraping page 5 \n",
      "No more reviews\n",
      "\n",
      "2775 reviews and 2695 ratings.\n"
     ]
    },
    {
     "data": {
      "application/vnd.jupyter.widget-view+json": {
       "model_id": "bfe9ef46ff5f4216b0ef94d2d88f1dcc",
       "version_major": 2,
       "version_minor": 0
      },
      "text/plain": [
       "HBox(children=(FloatProgress(value=0.0, description='Scraping pages...', max=5.0, style=ProgressStyle(descript…"
      ]
     },
     "metadata": {},
     "output_type": "display_data"
    },
    {
     "name": "stdout",
     "output_type": "stream",
     "text": [
      "Scraping page 1 \n",
      "Scraping page 2 \n",
      "Scraping page 3 \n",
      "Scraping page 4 \n",
      "No more reviews\n",
      "Scraping page 5 \n",
      "No more reviews\n",
      "\n",
      "2803 reviews and 2723 ratings.\n",
      "\n"
     ]
    }
   ],
   "source": [
    "driver = webdriver.Chrome('chromedriver.exe')\n",
    "\n",
    "driver.get('https://www.amazon.in/')\n",
    "\n",
    "driver.find_element_by_xpath(\"//input[@id='twotabsearchtextbox']\").send_keys('Microwaves',Keys.ENTER)\n",
    "product_url = []\n",
    "for i in tqdm_notebook(range(0,3),desc=\"Appending urls...\"):\n",
    "    URLS = driver.find_elements_by_xpath(\"//div[@class='a-section a-spacing-none']/div/h2/a\")\n",
    "    for u in URLS:\n",
    "        product_url.append(u.get_attribute(\"href\"))\n",
    "        \n",
    "    try:driver.find_element_by_xpath(\"//*[@id='search']/div[1]/div/div[1]/div/span[3]/div[2]/div[28]/span/div/div/ul/li[7]/a\").click()\n",
    "    except NoSuchElementException:\n",
    "        pass\n",
    "    \n",
    "print(len(product_url))\n",
    "\n",
    "reviews = []\n",
    "ratings = []\n",
    "\n",
    "for url in tqdm_notebook(product_url,desc='Scraping from url...'):\n",
    "    driver.get(url)\n",
    "    time.sleep(1.5)\n",
    "    \n",
    "    # going to ratings page\n",
    "    try:driver.find_element_by_xpath(\"//*[@id='acrCustomerReviewLink']\").click()\n",
    "    except NoSuchElementException:\n",
    "        print(cl(\"No ratings available\",color='blue',attrs=['dark']))\n",
    "        pass\n",
    "\n",
    "    try:driver.find_element_by_xpath('//*[@id=\"reviews-medley-footer\"]/div[2]/a').click()\n",
    "    except NoSuchElementException :\n",
    "        print(cl(\"No more reviews\",color='green',attrs=['dark']))\n",
    "        pass\n",
    "        \n",
    "    time.sleep(1.5)\n",
    "    for i in tqdm_notebook(range(0,5),desc='Scraping pages...'):\n",
    "        driver.implicitly_wait(2)\n",
    "        driver.refresh()\n",
    "        try:\n",
    "            RATINGS = driver.find_elements_by_xpath('//div[@class=\"a-section celwidget\"]/div[2]/a[1]')\n",
    "            for r in RATINGS[:8]:\n",
    "                driver.implicitly_wait(2)\n",
    "                rate=r.get_attribute('title')\n",
    "                ratings.append(rate[:3])\n",
    "        \n",
    "        except NoSuchElementException:\n",
    "            ratings.append(\"Not Availabel\")\n",
    "\n",
    "              \n",
    "        try:\n",
    "            driver.implicitly_wait(2)\n",
    "            REVIEWS = driver.find_elements_by_xpath('//div[@class=\"a-section celwidget\"]/div[4]')\n",
    "            for v in REVIEWS[:8]:\n",
    "                reviews.append(v.text)\n",
    "        except NoSuchElementException:\n",
    "            reviews.append(\"Not Availabel\")\n",
    "        driver.implicitly_wait(2)\n",
    "        \n",
    "        #Printing the page scrapped\n",
    "        print(\"Scraping page {} \".format(i+1))\n",
    "        time.sleep(1.5)\n",
    "        \n",
    "        driver.refresh()\n",
    "        \n",
    "        try:\n",
    "            driver.find_element_by_xpath(\"//div[@id='cm_cr-pagination_bar']/ul/li[2]/a\").click()\n",
    "            \n",
    "        except NoSuchElementException:\n",
    "            print(\"No more reviews\")\n",
    "            pass\n",
    "        driver.implicitly_wait(2)\n",
    "    print(\"{} reviews and {} ratings.\".format(len(reviews),len(ratings)))\n",
    "        "
   ]
  },
  {
   "cell_type": "code",
   "execution_count": 36,
   "metadata": {},
   "outputs": [
    {
     "data": {
      "text/plain": [
       "2723"
      ]
     },
     "execution_count": 36,
     "metadata": {},
     "output_type": "execute_result"
    }
   ],
   "source": [
    "len(ratings)"
   ]
  },
  {
   "cell_type": "code",
   "execution_count": 37,
   "metadata": {},
   "outputs": [
    {
     "data": {
      "text/html": [
       "<div>\n",
       "<style scoped>\n",
       "    .dataframe tbody tr th:only-of-type {\n",
       "        vertical-align: middle;\n",
       "    }\n",
       "\n",
       "    .dataframe tbody tr th {\n",
       "        vertical-align: top;\n",
       "    }\n",
       "\n",
       "    .dataframe thead th {\n",
       "        text-align: right;\n",
       "    }\n",
       "</style>\n",
       "<table border=\"1\" class=\"dataframe\">\n",
       "  <thead>\n",
       "    <tr style=\"text-align: right;\">\n",
       "      <th></th>\n",
       "      <th>Reviews</th>\n",
       "      <th>Ratings</th>\n",
       "    </tr>\n",
       "  </thead>\n",
       "  <tbody>\n",
       "    <tr>\n",
       "      <th>0</th>\n",
       "      <td>First the person who came to give installation...</td>\n",
       "      <td>1.0</td>\n",
       "    </tr>\n",
       "    <tr>\n",
       "      <th>1</th>\n",
       "      <td>Got conked off after 2 months and had a horrib...</td>\n",
       "      <td>1.0</td>\n",
       "    </tr>\n",
       "    <tr>\n",
       "      <th>2</th>\n",
       "      <td>Demo guy was persistent that new product demo ...</td>\n",
       "      <td>5.0</td>\n",
       "    </tr>\n",
       "    <tr>\n",
       "      <th>3</th>\n",
       "      <td>My last National Microwave oven lasted &amp; worke...</td>\n",
       "      <td>5.0</td>\n",
       "    </tr>\n",
       "    <tr>\n",
       "      <th>4</th>\n",
       "      <td>I ordered , got a Panasonic 27L Convection Mic...</td>\n",
       "      <td>2.0</td>\n",
       "    </tr>\n",
       "    <tr>\n",
       "      <th>...</th>\n",
       "      <td>...</td>\n",
       "      <td>...</td>\n",
       "    </tr>\n",
       "    <tr>\n",
       "      <th>2495</th>\n",
       "      <td>There no support from costumer care or any tec...</td>\n",
       "      <td>5.0</td>\n",
       "    </tr>\n",
       "    <tr>\n",
       "      <th>2496</th>\n",
       "      <td>Your browser does not support HTML5 video.\\n L...</td>\n",
       "      <td>5.0</td>\n",
       "    </tr>\n",
       "    <tr>\n",
       "      <th>2497</th>\n",
       "      <td>Looking beautiful. Heavy duty. Design nice. Ea...</td>\n",
       "      <td>5.0</td>\n",
       "    </tr>\n",
       "    <tr>\n",
       "      <th>2498</th>\n",
       "      <td>I am happy with the product. Decent product.</td>\n",
       "      <td>1.0</td>\n",
       "    </tr>\n",
       "    <tr>\n",
       "      <th>2499</th>\n",
       "      <td>I appreciate the samsung company as well as am...</td>\n",
       "      <td>5.0</td>\n",
       "    </tr>\n",
       "  </tbody>\n",
       "</table>\n",
       "<p>2500 rows × 2 columns</p>\n",
       "</div>"
      ],
      "text/plain": [
       "                                                Reviews Ratings\n",
       "0     First the person who came to give installation...     1.0\n",
       "1     Got conked off after 2 months and had a horrib...     1.0\n",
       "2     Demo guy was persistent that new product demo ...     5.0\n",
       "3     My last National Microwave oven lasted & worke...     5.0\n",
       "4     I ordered , got a Panasonic 27L Convection Mic...     2.0\n",
       "...                                                 ...     ...\n",
       "2495  There no support from costumer care or any tec...     5.0\n",
       "2496  Your browser does not support HTML5 video.\\n L...     5.0\n",
       "2497  Looking beautiful. Heavy duty. Design nice. Ea...     5.0\n",
       "2498       I am happy with the product. Decent product.     1.0\n",
       "2499  I appreciate the samsung company as well as am...     5.0\n",
       "\n",
       "[2500 rows x 2 columns]"
      ]
     },
     "execution_count": 37,
     "metadata": {},
     "output_type": "execute_result"
    }
   ],
   "source": [
    "# Creating dataframe of scraped data\n",
    "microwaves=pd.DataFrame({'Reviews':reviews[:2500],'Ratings':ratings[:2500]})\n",
    "microwaves"
   ]
  },
  {
   "cell_type": "code",
   "execution_count": 38,
   "metadata": {},
   "outputs": [],
   "source": [
    "# Saving into csv file \n",
    "microwaves.to_csv(\"microwaves.csv\")"
   ]
  },
  {
   "cell_type": "code",
   "execution_count": null,
   "metadata": {},
   "outputs": [],
   "source": []
  }
 ],
 "metadata": {
  "kernelspec": {
   "display_name": "Python 3",
   "language": "python",
   "name": "python3"
  },
  "language_info": {
   "codemirror_mode": {
    "name": "ipython",
    "version": 3
   },
   "file_extension": ".py",
   "mimetype": "text/x-python",
   "name": "python",
   "nbconvert_exporter": "python",
   "pygments_lexer": "ipython3",
   "version": "3.8.3"
  }
 },
 "nbformat": 4,
 "nbformat_minor": 4
}
